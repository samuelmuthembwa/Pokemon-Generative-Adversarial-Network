{
  "nbformat": 4,
  "nbformat_minor": 0,
  "metadata": {
    "colab": {
      "provenance": [],
      "collapsed_sections": [],
      "authorship_tag": "ABX9TyOxScgGkf/tWQDyjPY2mtTc"
    },
    "kernelspec": {
      "name": "python3",
      "display_name": "Python 3"
    },
    "language_info": {
      "name": "python"
    },
    "accelerator": "GPU"
  },
  "cells": [
    {
      "cell_type": "code",
      "execution_count": 11,
      "metadata": {
        "colab": {
          "base_uri": "https://localhost:8080/"
        },
        "id": "waAEFwDk8_Fs",
        "outputId": "76c16c4a-30b7-4560-d0da-5b28ad220ae3"
      },
      "outputs": [
        {
          "output_type": "stream",
          "name": "stdout",
          "text": [
            "Looking in indexes: https://pypi.org/simple, https://us-python.pkg.dev/colab-wheels/public/simple/\n",
            "Requirement already satisfied: kaggle in /usr/local/lib/python3.7/dist-packages (1.5.12)\n",
            "Requirement already satisfied: requests in /usr/local/lib/python3.7/dist-packages (from kaggle) (2.23.0)\n",
            "Requirement already satisfied: certifi in /usr/local/lib/python3.7/dist-packages (from kaggle) (2022.9.24)\n",
            "Requirement already satisfied: python-slugify in /usr/local/lib/python3.7/dist-packages (from kaggle) (6.1.2)\n",
            "Requirement already satisfied: tqdm in /usr/local/lib/python3.7/dist-packages (from kaggle) (4.64.1)\n",
            "Requirement already satisfied: python-dateutil in /usr/local/lib/python3.7/dist-packages (from kaggle) (2.8.2)\n",
            "Requirement already satisfied: six>=1.10 in /usr/local/lib/python3.7/dist-packages (from kaggle) (1.15.0)\n",
            "Requirement already satisfied: urllib3 in /usr/local/lib/python3.7/dist-packages (from kaggle) (1.24.3)\n",
            "Requirement already satisfied: text-unidecode>=1.3 in /usr/local/lib/python3.7/dist-packages (from python-slugify->kaggle) (1.3)\n",
            "Requirement already satisfied: idna<3,>=2.5 in /usr/local/lib/python3.7/dist-packages (from requests->kaggle) (2.10)\n",
            "Requirement already satisfied: chardet<4,>=3.0.2 in /usr/local/lib/python3.7/dist-packages (from requests->kaggle) (3.0.4)\n"
          ]
        }
      ],
      "source": [
        "!pip install kaggle"
      ]
    },
    {
      "cell_type": "code",
      "source": [
        "!kaggle datasets download -d kvpratama/pokemon-images-dataset"
      ],
      "metadata": {
        "colab": {
          "base_uri": "https://localhost:8080/"
        },
        "id": "lgQzYfOL_iBh",
        "outputId": "ea10d4de-27f0-4df7-d0c2-e0d83b25ad41"
      },
      "execution_count": 12,
      "outputs": [
        {
          "output_type": "stream",
          "name": "stdout",
          "text": [
            "Warning: Your Kaggle API key is readable by other users on this system! To fix this, you can run 'chmod 600 /root/.kaggle/kaggle.json'\n",
            "Downloading pokemon-images-dataset.zip to /content\n",
            " 76% 54.0M/70.9M [00:00<00:00, 295MB/s]\n",
            "100% 70.9M/70.9M [00:00<00:00, 299MB/s]\n"
          ]
        }
      ]
    },
    {
      "cell_type": "code",
      "source": [
        "!pip install tensorflow"
      ],
      "metadata": {
        "colab": {
          "base_uri": "https://localhost:8080/"
        },
        "id": "umARAK8CJmYk",
        "outputId": "25386d22-9182-44a9-9176-15df9fbf85c0"
      },
      "execution_count": 13,
      "outputs": [
        {
          "output_type": "stream",
          "name": "stdout",
          "text": [
            "Looking in indexes: https://pypi.org/simple, https://us-python.pkg.dev/colab-wheels/public/simple/\n",
            "Requirement already satisfied: tensorflow in /usr/local/lib/python3.7/dist-packages (2.9.2)\n",
            "Requirement already satisfied: grpcio<2.0,>=1.24.3 in /usr/local/lib/python3.7/dist-packages (from tensorflow) (1.49.1)\n",
            "Requirement already satisfied: wrapt>=1.11.0 in /usr/local/lib/python3.7/dist-packages (from tensorflow) (1.14.1)\n",
            "Requirement already satisfied: keras-preprocessing>=1.1.1 in /usr/local/lib/python3.7/dist-packages (from tensorflow) (1.1.2)\n",
            "Requirement already satisfied: typing-extensions>=3.6.6 in /usr/local/lib/python3.7/dist-packages (from tensorflow) (4.1.1)\n",
            "Requirement already satisfied: opt-einsum>=2.3.2 in /usr/local/lib/python3.7/dist-packages (from tensorflow) (3.3.0)\n",
            "Requirement already satisfied: gast<=0.4.0,>=0.2.1 in /usr/local/lib/python3.7/dist-packages (from tensorflow) (0.4.0)\n",
            "Requirement already satisfied: packaging in /usr/local/lib/python3.7/dist-packages (from tensorflow) (21.3)\n",
            "Requirement already satisfied: setuptools in /usr/local/lib/python3.7/dist-packages (from tensorflow) (57.4.0)\n",
            "Requirement already satisfied: astunparse>=1.6.0 in /usr/local/lib/python3.7/dist-packages (from tensorflow) (1.6.3)\n",
            "Requirement already satisfied: keras<2.10.0,>=2.9.0rc0 in /usr/local/lib/python3.7/dist-packages (from tensorflow) (2.9.0)\n",
            "Requirement already satisfied: h5py>=2.9.0 in /usr/local/lib/python3.7/dist-packages (from tensorflow) (3.1.0)\n",
            "Requirement already satisfied: numpy>=1.20 in /usr/local/lib/python3.7/dist-packages (from tensorflow) (1.21.6)\n",
            "Requirement already satisfied: tensorflow-io-gcs-filesystem>=0.23.1 in /usr/local/lib/python3.7/dist-packages (from tensorflow) (0.27.0)\n",
            "Requirement already satisfied: termcolor>=1.1.0 in /usr/local/lib/python3.7/dist-packages (from tensorflow) (2.0.1)\n",
            "Requirement already satisfied: protobuf<3.20,>=3.9.2 in /usr/local/lib/python3.7/dist-packages (from tensorflow) (3.17.3)\n",
            "Requirement already satisfied: libclang>=13.0.0 in /usr/local/lib/python3.7/dist-packages (from tensorflow) (14.0.6)\n",
            "Requirement already satisfied: six>=1.12.0 in /usr/local/lib/python3.7/dist-packages (from tensorflow) (1.15.0)\n",
            "Requirement already satisfied: flatbuffers<2,>=1.12 in /usr/local/lib/python3.7/dist-packages (from tensorflow) (1.12)\n",
            "Requirement already satisfied: google-pasta>=0.1.1 in /usr/local/lib/python3.7/dist-packages (from tensorflow) (0.2.0)\n",
            "Requirement already satisfied: absl-py>=1.0.0 in /usr/local/lib/python3.7/dist-packages (from tensorflow) (1.2.0)\n",
            "Requirement already satisfied: tensorflow-estimator<2.10.0,>=2.9.0rc0 in /usr/local/lib/python3.7/dist-packages (from tensorflow) (2.9.0)\n",
            "Requirement already satisfied: tensorboard<2.10,>=2.9 in /usr/local/lib/python3.7/dist-packages (from tensorflow) (2.9.1)\n",
            "Requirement already satisfied: wheel<1.0,>=0.23.0 in /usr/local/lib/python3.7/dist-packages (from astunparse>=1.6.0->tensorflow) (0.37.1)\n",
            "Requirement already satisfied: cached-property in /usr/local/lib/python3.7/dist-packages (from h5py>=2.9.0->tensorflow) (1.5.2)\n",
            "Requirement already satisfied: werkzeug>=1.0.1 in /usr/local/lib/python3.7/dist-packages (from tensorboard<2.10,>=2.9->tensorflow) (1.0.1)\n",
            "Requirement already satisfied: markdown>=2.6.8 in /usr/local/lib/python3.7/dist-packages (from tensorboard<2.10,>=2.9->tensorflow) (3.4.1)\n",
            "Requirement already satisfied: google-auth<3,>=1.6.3 in /usr/local/lib/python3.7/dist-packages (from tensorboard<2.10,>=2.9->tensorflow) (1.35.0)\n",
            "Requirement already satisfied: tensorboard-data-server<0.7.0,>=0.6.0 in /usr/local/lib/python3.7/dist-packages (from tensorboard<2.10,>=2.9->tensorflow) (0.6.1)\n",
            "Requirement already satisfied: requests<3,>=2.21.0 in /usr/local/lib/python3.7/dist-packages (from tensorboard<2.10,>=2.9->tensorflow) (2.23.0)\n",
            "Requirement already satisfied: google-auth-oauthlib<0.5,>=0.4.1 in /usr/local/lib/python3.7/dist-packages (from tensorboard<2.10,>=2.9->tensorflow) (0.4.6)\n",
            "Requirement already satisfied: tensorboard-plugin-wit>=1.6.0 in /usr/local/lib/python3.7/dist-packages (from tensorboard<2.10,>=2.9->tensorflow) (1.8.1)\n",
            "Requirement already satisfied: rsa<5,>=3.1.4 in /usr/local/lib/python3.7/dist-packages (from google-auth<3,>=1.6.3->tensorboard<2.10,>=2.9->tensorflow) (4.9)\n",
            "Requirement already satisfied: pyasn1-modules>=0.2.1 in /usr/local/lib/python3.7/dist-packages (from google-auth<3,>=1.6.3->tensorboard<2.10,>=2.9->tensorflow) (0.2.8)\n",
            "Requirement already satisfied: cachetools<5.0,>=2.0.0 in /usr/local/lib/python3.7/dist-packages (from google-auth<3,>=1.6.3->tensorboard<2.10,>=2.9->tensorflow) (4.2.4)\n",
            "Requirement already satisfied: requests-oauthlib>=0.7.0 in /usr/local/lib/python3.7/dist-packages (from google-auth-oauthlib<0.5,>=0.4.1->tensorboard<2.10,>=2.9->tensorflow) (1.3.1)\n",
            "Requirement already satisfied: importlib-metadata>=4.4 in /usr/local/lib/python3.7/dist-packages (from markdown>=2.6.8->tensorboard<2.10,>=2.9->tensorflow) (5.0.0)\n",
            "Requirement already satisfied: zipp>=0.5 in /usr/local/lib/python3.7/dist-packages (from importlib-metadata>=4.4->markdown>=2.6.8->tensorboard<2.10,>=2.9->tensorflow) (3.9.0)\n",
            "Requirement already satisfied: pyasn1<0.5.0,>=0.4.6 in /usr/local/lib/python3.7/dist-packages (from pyasn1-modules>=0.2.1->google-auth<3,>=1.6.3->tensorboard<2.10,>=2.9->tensorflow) (0.4.8)\n",
            "Requirement already satisfied: certifi>=2017.4.17 in /usr/local/lib/python3.7/dist-packages (from requests<3,>=2.21.0->tensorboard<2.10,>=2.9->tensorflow) (2022.9.24)\n",
            "Requirement already satisfied: chardet<4,>=3.0.2 in /usr/local/lib/python3.7/dist-packages (from requests<3,>=2.21.0->tensorboard<2.10,>=2.9->tensorflow) (3.0.4)\n",
            "Requirement already satisfied: urllib3!=1.25.0,!=1.25.1,<1.26,>=1.21.1 in /usr/local/lib/python3.7/dist-packages (from requests<3,>=2.21.0->tensorboard<2.10,>=2.9->tensorflow) (1.24.3)\n",
            "Requirement already satisfied: idna<3,>=2.5 in /usr/local/lib/python3.7/dist-packages (from requests<3,>=2.21.0->tensorboard<2.10,>=2.9->tensorflow) (2.10)\n",
            "Requirement already satisfied: oauthlib>=3.0.0 in /usr/local/lib/python3.7/dist-packages (from requests-oauthlib>=0.7.0->google-auth-oauthlib<0.5,>=0.4.1->tensorboard<2.10,>=2.9->tensorflow) (3.2.1)\n",
            "Requirement already satisfied: pyparsing!=3.0.5,>=2.0.2 in /usr/local/lib/python3.7/dist-packages (from packaging->tensorflow) (3.0.9)\n"
          ]
        }
      ]
    },
    {
      "cell_type": "code",
      "source": [
        "!unzip pokemon-images-dataset.zip -d train"
      ],
      "metadata": {
        "colab": {
          "base_uri": "https://localhost:8080/"
        },
        "id": "gCfqZBZ9_-bo",
        "outputId": "b85a6459-f451-4718-a66e-6bfd640eefc9"
      },
      "execution_count": 14,
      "outputs": [
        {
          "output_type": "stream",
          "name": "stdout",
          "text": [
            "Archive:  pokemon-images-dataset.zip\n",
            "  inflating: train/pokemon/pokemon/1.png  \n",
            "  inflating: train/pokemon/pokemon/10.png  \n",
            "  inflating: train/pokemon/pokemon/100.png  \n",
            "  inflating: train/pokemon/pokemon/101.png  \n",
            "  inflating: train/pokemon/pokemon/102.png  \n",
            "  inflating: train/pokemon/pokemon/103.png  \n",
            "  inflating: train/pokemon/pokemon/104.png  \n",
            "  inflating: train/pokemon/pokemon/105.png  \n",
            "  inflating: train/pokemon/pokemon/106.png  \n",
            "  inflating: train/pokemon/pokemon/107.png  \n",
            "  inflating: train/pokemon/pokemon/108.png  \n",
            "  inflating: train/pokemon/pokemon/109.png  \n",
            "  inflating: train/pokemon/pokemon/11.png  \n",
            "  inflating: train/pokemon/pokemon/110.png  \n",
            "  inflating: train/pokemon/pokemon/111.png  \n",
            "  inflating: train/pokemon/pokemon/112.png  \n",
            "  inflating: train/pokemon/pokemon/113.png  \n",
            "  inflating: train/pokemon/pokemon/114.png  \n",
            "  inflating: train/pokemon/pokemon/115-mega.png  \n",
            "  inflating: train/pokemon/pokemon/115.png  \n",
            "  inflating: train/pokemon/pokemon/116.png  \n",
            "  inflating: train/pokemon/pokemon/117.png  \n",
            "  inflating: train/pokemon/pokemon/118.png  \n",
            "  inflating: train/pokemon/pokemon/119.png  \n",
            "  inflating: train/pokemon/pokemon/12.png  \n",
            "  inflating: train/pokemon/pokemon/120.png  \n",
            "  inflating: train/pokemon/pokemon/121.png  \n",
            "  inflating: train/pokemon/pokemon/122.png  \n",
            "  inflating: train/pokemon/pokemon/123.png  \n",
            "  inflating: train/pokemon/pokemon/124.png  \n",
            "  inflating: train/pokemon/pokemon/125.png  \n",
            "  inflating: train/pokemon/pokemon/126.png  \n",
            "  inflating: train/pokemon/pokemon/127-mega.png  \n",
            "  inflating: train/pokemon/pokemon/127.png  \n",
            "  inflating: train/pokemon/pokemon/128.png  \n",
            "  inflating: train/pokemon/pokemon/129.png  \n",
            "  inflating: train/pokemon/pokemon/13.png  \n",
            "  inflating: train/pokemon/pokemon/130-mega.png  \n",
            "  inflating: train/pokemon/pokemon/130.png  \n",
            "  inflating: train/pokemon/pokemon/131.png  \n",
            "  inflating: train/pokemon/pokemon/132.png  \n",
            "  inflating: train/pokemon/pokemon/133.png  \n",
            "  inflating: train/pokemon/pokemon/134.png  \n",
            "  inflating: train/pokemon/pokemon/135.png  \n",
            "  inflating: train/pokemon/pokemon/136.png  \n",
            "  inflating: train/pokemon/pokemon/137.png  \n",
            "  inflating: train/pokemon/pokemon/138.png  \n",
            "  inflating: train/pokemon/pokemon/139.png  \n",
            "  inflating: train/pokemon/pokemon/14.png  \n",
            "  inflating: train/pokemon/pokemon/140.png  \n",
            "  inflating: train/pokemon/pokemon/141.png  \n",
            "  inflating: train/pokemon/pokemon/142-mega.png  \n",
            "  inflating: train/pokemon/pokemon/142.png  \n",
            "  inflating: train/pokemon/pokemon/143.png  \n",
            "  inflating: train/pokemon/pokemon/144.png  \n",
            "  inflating: train/pokemon/pokemon/145.png  \n",
            "  inflating: train/pokemon/pokemon/146.png  \n",
            "  inflating: train/pokemon/pokemon/147.png  \n",
            "  inflating: train/pokemon/pokemon/148.png  \n",
            "  inflating: train/pokemon/pokemon/149.png  \n",
            "  inflating: train/pokemon/pokemon/15-mega.png  \n",
            "  inflating: train/pokemon/pokemon/15.png  \n",
            "  inflating: train/pokemon/pokemon/150-mega-x.png  \n",
            "  inflating: train/pokemon/pokemon/150-mega-y.png  \n",
            "  inflating: train/pokemon/pokemon/150.png  \n",
            "  inflating: train/pokemon/pokemon/151.png  \n",
            "  inflating: train/pokemon/pokemon/152.png  \n",
            "  inflating: train/pokemon/pokemon/153.png  \n",
            "  inflating: train/pokemon/pokemon/154.png  \n",
            "  inflating: train/pokemon/pokemon/155.png  \n",
            "  inflating: train/pokemon/pokemon/156.png  \n",
            "  inflating: train/pokemon/pokemon/157.png  \n",
            "  inflating: train/pokemon/pokemon/158.png  \n",
            "  inflating: train/pokemon/pokemon/159.png  \n",
            "  inflating: train/pokemon/pokemon/16.png  \n",
            "  inflating: train/pokemon/pokemon/160.png  \n",
            "  inflating: train/pokemon/pokemon/161.png  \n",
            "  inflating: train/pokemon/pokemon/162.png  \n",
            "  inflating: train/pokemon/pokemon/163.png  \n",
            "  inflating: train/pokemon/pokemon/164.png  \n",
            "  inflating: train/pokemon/pokemon/165.png  \n",
            "  inflating: train/pokemon/pokemon/166.png  \n",
            "  inflating: train/pokemon/pokemon/167.png  \n",
            "  inflating: train/pokemon/pokemon/168.png  \n",
            "  inflating: train/pokemon/pokemon/169.png  \n",
            "  inflating: train/pokemon/pokemon/17.png  \n",
            "  inflating: train/pokemon/pokemon/170.png  \n",
            "  inflating: train/pokemon/pokemon/171.png  \n",
            "  inflating: train/pokemon/pokemon/172.png  \n",
            "  inflating: train/pokemon/pokemon/173.png  \n",
            "  inflating: train/pokemon/pokemon/174.png  \n",
            "  inflating: train/pokemon/pokemon/175.png  \n",
            "  inflating: train/pokemon/pokemon/176.png  \n",
            "  inflating: train/pokemon/pokemon/177.png  \n",
            "  inflating: train/pokemon/pokemon/178.png  \n",
            "  inflating: train/pokemon/pokemon/179.png  \n",
            "  inflating: train/pokemon/pokemon/18-mega.png  \n",
            "  inflating: train/pokemon/pokemon/18.png  \n",
            "  inflating: train/pokemon/pokemon/180.png  \n",
            "  inflating: train/pokemon/pokemon/181-mega.png  \n",
            "  inflating: train/pokemon/pokemon/181.png  \n",
            "  inflating: train/pokemon/pokemon/182.png  \n",
            "  inflating: train/pokemon/pokemon/183.png  \n",
            "  inflating: train/pokemon/pokemon/184.png  \n",
            "  inflating: train/pokemon/pokemon/185.png  \n",
            "  inflating: train/pokemon/pokemon/186.png  \n",
            "  inflating: train/pokemon/pokemon/187.png  \n",
            "  inflating: train/pokemon/pokemon/188.png  \n",
            "  inflating: train/pokemon/pokemon/189.png  \n",
            "  inflating: train/pokemon/pokemon/19.png  \n",
            "  inflating: train/pokemon/pokemon/190.png  \n",
            "  inflating: train/pokemon/pokemon/191.png  \n",
            "  inflating: train/pokemon/pokemon/192.png  \n",
            "  inflating: train/pokemon/pokemon/193.png  \n",
            "  inflating: train/pokemon/pokemon/194.png  \n",
            "  inflating: train/pokemon/pokemon/195.png  \n",
            "  inflating: train/pokemon/pokemon/196.png  \n",
            "  inflating: train/pokemon/pokemon/197.png  \n",
            "  inflating: train/pokemon/pokemon/198.png  \n",
            "  inflating: train/pokemon/pokemon/199.png  \n",
            "  inflating: train/pokemon/pokemon/2.png  \n",
            "  inflating: train/pokemon/pokemon/20.png  \n",
            "  inflating: train/pokemon/pokemon/200.png  \n",
            "  inflating: train/pokemon/pokemon/201-f.png  \n",
            "  inflating: train/pokemon/pokemon/202.png  \n",
            "  inflating: train/pokemon/pokemon/203.png  \n",
            "  inflating: train/pokemon/pokemon/204.png  \n",
            "  inflating: train/pokemon/pokemon/205.png  \n",
            "  inflating: train/pokemon/pokemon/206.png  \n",
            "  inflating: train/pokemon/pokemon/207.png  \n",
            "  inflating: train/pokemon/pokemon/208-mega.png  \n",
            "  inflating: train/pokemon/pokemon/208.png  \n",
            "  inflating: train/pokemon/pokemon/209.png  \n",
            "  inflating: train/pokemon/pokemon/21.png  \n",
            "  inflating: train/pokemon/pokemon/210.png  \n",
            "  inflating: train/pokemon/pokemon/211.png  \n",
            "  inflating: train/pokemon/pokemon/212-mega.png  \n",
            "  inflating: train/pokemon/pokemon/212.png  \n",
            "  inflating: train/pokemon/pokemon/213.png  \n",
            "  inflating: train/pokemon/pokemon/214-mega.png  \n",
            "  inflating: train/pokemon/pokemon/214.png  \n",
            "  inflating: train/pokemon/pokemon/215.png  \n",
            "  inflating: train/pokemon/pokemon/216.png  \n",
            "  inflating: train/pokemon/pokemon/217.png  \n",
            "  inflating: train/pokemon/pokemon/218.png  \n",
            "  inflating: train/pokemon/pokemon/219.png  \n",
            "  inflating: train/pokemon/pokemon/22.png  \n",
            "  inflating: train/pokemon/pokemon/220.png  \n",
            "  inflating: train/pokemon/pokemon/221.png  \n",
            "  inflating: train/pokemon/pokemon/222.png  \n",
            "  inflating: train/pokemon/pokemon/223.png  \n",
            "  inflating: train/pokemon/pokemon/224.png  \n",
            "  inflating: train/pokemon/pokemon/225.png  \n",
            "  inflating: train/pokemon/pokemon/226.png  \n",
            "  inflating: train/pokemon/pokemon/227.png  \n",
            "  inflating: train/pokemon/pokemon/228.png  \n",
            "  inflating: train/pokemon/pokemon/229-mega.png  \n",
            "  inflating: train/pokemon/pokemon/229.png  \n",
            "  inflating: train/pokemon/pokemon/23.png  \n",
            "  inflating: train/pokemon/pokemon/230.png  \n",
            "  inflating: train/pokemon/pokemon/231.png  \n",
            "  inflating: train/pokemon/pokemon/232.png  \n",
            "  inflating: train/pokemon/pokemon/233.png  \n",
            "  inflating: train/pokemon/pokemon/234.png  \n",
            "  inflating: train/pokemon/pokemon/235.png  \n",
            "  inflating: train/pokemon/pokemon/236.png  \n",
            "  inflating: train/pokemon/pokemon/237.png  \n",
            "  inflating: train/pokemon/pokemon/238.png  \n",
            "  inflating: train/pokemon/pokemon/239.png  \n",
            "  inflating: train/pokemon/pokemon/24.png  \n",
            "  inflating: train/pokemon/pokemon/240.png  \n",
            "  inflating: train/pokemon/pokemon/241.png  \n",
            "  inflating: train/pokemon/pokemon/242.png  \n",
            "  inflating: train/pokemon/pokemon/243.png  \n",
            "  inflating: train/pokemon/pokemon/244.png  \n",
            "  inflating: train/pokemon/pokemon/245.png  \n",
            "  inflating: train/pokemon/pokemon/246.png  \n",
            "  inflating: train/pokemon/pokemon/247.png  \n",
            "  inflating: train/pokemon/pokemon/248-mega.png  \n",
            "  inflating: train/pokemon/pokemon/248.png  \n",
            "  inflating: train/pokemon/pokemon/249.png  \n",
            "  inflating: train/pokemon/pokemon/25-belle.png  \n",
            "  inflating: train/pokemon/pokemon/25-libre.png  \n",
            "  inflating: train/pokemon/pokemon/25-phd.png  \n",
            "  inflating: train/pokemon/pokemon/25-pop-star.png  \n",
            "  inflating: train/pokemon/pokemon/25-rock-star.png  \n",
            "  inflating: train/pokemon/pokemon/25.png  \n",
            "  inflating: train/pokemon/pokemon/250.png  \n",
            "  inflating: train/pokemon/pokemon/251.png  \n",
            "  inflating: train/pokemon/pokemon/252.png  \n",
            "  inflating: train/pokemon/pokemon/253.png  \n",
            "  inflating: train/pokemon/pokemon/254-mega.png  \n",
            "  inflating: train/pokemon/pokemon/254.png  \n",
            "  inflating: train/pokemon/pokemon/255.png  \n",
            "  inflating: train/pokemon/pokemon/256.png  \n",
            "  inflating: train/pokemon/pokemon/257-mega.png  \n",
            "  inflating: train/pokemon/pokemon/257.png  \n",
            "  inflating: train/pokemon/pokemon/258.png  \n",
            "  inflating: train/pokemon/pokemon/259.png  \n",
            "  inflating: train/pokemon/pokemon/26.png  \n",
            "  inflating: train/pokemon/pokemon/260-mega.png  \n",
            "  inflating: train/pokemon/pokemon/260.png  \n",
            "  inflating: train/pokemon/pokemon/261.png  \n",
            "  inflating: train/pokemon/pokemon/262.png  \n",
            "  inflating: train/pokemon/pokemon/263.png  \n",
            "  inflating: train/pokemon/pokemon/264.png  \n",
            "  inflating: train/pokemon/pokemon/265.png  \n",
            "  inflating: train/pokemon/pokemon/266.png  \n",
            "  inflating: train/pokemon/pokemon/267.png  \n",
            "  inflating: train/pokemon/pokemon/268.png  \n",
            "  inflating: train/pokemon/pokemon/269.png  \n",
            "  inflating: train/pokemon/pokemon/27.png  \n",
            "  inflating: train/pokemon/pokemon/270.png  \n",
            "  inflating: train/pokemon/pokemon/271.png  \n",
            "  inflating: train/pokemon/pokemon/272.png  \n",
            "  inflating: train/pokemon/pokemon/273.png  \n",
            "  inflating: train/pokemon/pokemon/274.png  \n",
            "  inflating: train/pokemon/pokemon/275.png  \n",
            "  inflating: train/pokemon/pokemon/276.png  \n",
            "  inflating: train/pokemon/pokemon/277.png  \n",
            "  inflating: train/pokemon/pokemon/278.png  \n",
            "  inflating: train/pokemon/pokemon/279.png  \n",
            "  inflating: train/pokemon/pokemon/28.png  \n",
            "  inflating: train/pokemon/pokemon/280.png  \n",
            "  inflating: train/pokemon/pokemon/281.png  \n",
            "  inflating: train/pokemon/pokemon/282-mega.png  \n",
            "  inflating: train/pokemon/pokemon/282.png  \n",
            "  inflating: train/pokemon/pokemon/283.png  \n",
            "  inflating: train/pokemon/pokemon/284.png  \n",
            "  inflating: train/pokemon/pokemon/285.png  \n",
            "  inflating: train/pokemon/pokemon/286.png  \n",
            "  inflating: train/pokemon/pokemon/287.png  \n",
            "  inflating: train/pokemon/pokemon/288.png  \n",
            "  inflating: train/pokemon/pokemon/289.png  \n",
            "  inflating: train/pokemon/pokemon/29.png  \n",
            "  inflating: train/pokemon/pokemon/290.png  \n",
            "  inflating: train/pokemon/pokemon/291.png  \n",
            "  inflating: train/pokemon/pokemon/292.png  \n",
            "  inflating: train/pokemon/pokemon/293.png  \n",
            "  inflating: train/pokemon/pokemon/294.png  \n",
            "  inflating: train/pokemon/pokemon/295.png  \n",
            "  inflating: train/pokemon/pokemon/296.png  \n",
            "  inflating: train/pokemon/pokemon/297.png  \n",
            "  inflating: train/pokemon/pokemon/298.png  \n",
            "  inflating: train/pokemon/pokemon/299.png  \n",
            "  inflating: train/pokemon/pokemon/3-mega.png  \n",
            "  inflating: train/pokemon/pokemon/3.png  \n",
            "  inflating: train/pokemon/pokemon/30.png  \n",
            "  inflating: train/pokemon/pokemon/300.png  \n",
            "  inflating: train/pokemon/pokemon/301.png  \n",
            "  inflating: train/pokemon/pokemon/302-mega.png  \n",
            "  inflating: train/pokemon/pokemon/302.png  \n",
            "  inflating: train/pokemon/pokemon/303-mega.png  \n",
            "  inflating: train/pokemon/pokemon/303.png  \n",
            "  inflating: train/pokemon/pokemon/304.png  \n",
            "  inflating: train/pokemon/pokemon/305.png  \n",
            "  inflating: train/pokemon/pokemon/306-mega.png  \n",
            "  inflating: train/pokemon/pokemon/306.png  \n",
            "  inflating: train/pokemon/pokemon/307.png  \n",
            "  inflating: train/pokemon/pokemon/308-mega.png  \n",
            "  inflating: train/pokemon/pokemon/308.png  \n",
            "  inflating: train/pokemon/pokemon/309.png  \n",
            "  inflating: train/pokemon/pokemon/31.png  \n",
            "  inflating: train/pokemon/pokemon/310-mega.png  \n",
            "  inflating: train/pokemon/pokemon/310.png  \n",
            "  inflating: train/pokemon/pokemon/311.png  \n",
            "  inflating: train/pokemon/pokemon/312.png  \n",
            "  inflating: train/pokemon/pokemon/313.png  \n",
            "  inflating: train/pokemon/pokemon/314.png  \n",
            "  inflating: train/pokemon/pokemon/315.png  \n",
            "  inflating: train/pokemon/pokemon/316.png  \n",
            "  inflating: train/pokemon/pokemon/317.png  \n",
            "  inflating: train/pokemon/pokemon/318.png  \n",
            "  inflating: train/pokemon/pokemon/319-mega.png  \n",
            "  inflating: train/pokemon/pokemon/319.png  \n",
            "  inflating: train/pokemon/pokemon/32.png  \n",
            "  inflating: train/pokemon/pokemon/320.png  \n",
            "  inflating: train/pokemon/pokemon/321.png  \n",
            "  inflating: train/pokemon/pokemon/322.png  \n",
            "  inflating: train/pokemon/pokemon/323-mega.png  \n",
            "  inflating: train/pokemon/pokemon/323.png  \n",
            "  inflating: train/pokemon/pokemon/324.png  \n",
            "  inflating: train/pokemon/pokemon/325.png  \n",
            "  inflating: train/pokemon/pokemon/326.png  \n",
            "  inflating: train/pokemon/pokemon/327.png  \n",
            "  inflating: train/pokemon/pokemon/328.png  \n",
            "  inflating: train/pokemon/pokemon/329.png  \n",
            "  inflating: train/pokemon/pokemon/33.png  \n",
            "  inflating: train/pokemon/pokemon/330.png  \n",
            "  inflating: train/pokemon/pokemon/331.png  \n",
            "  inflating: train/pokemon/pokemon/332.png  \n",
            "  inflating: train/pokemon/pokemon/333.png  \n",
            "  inflating: train/pokemon/pokemon/334-mega.png  \n",
            "  inflating: train/pokemon/pokemon/334.png  \n",
            "  inflating: train/pokemon/pokemon/335.png  \n",
            "  inflating: train/pokemon/pokemon/336.png  \n",
            "  inflating: train/pokemon/pokemon/337.png  \n",
            "  inflating: train/pokemon/pokemon/338.png  \n",
            "  inflating: train/pokemon/pokemon/339.png  \n",
            "  inflating: train/pokemon/pokemon/34.png  \n",
            "  inflating: train/pokemon/pokemon/340.png  \n",
            "  inflating: train/pokemon/pokemon/341.png  \n",
            "  inflating: train/pokemon/pokemon/342.png  \n",
            "  inflating: train/pokemon/pokemon/343.png  \n",
            "  inflating: train/pokemon/pokemon/344.png  \n",
            "  inflating: train/pokemon/pokemon/345.png  \n",
            "  inflating: train/pokemon/pokemon/346.png  \n",
            "  inflating: train/pokemon/pokemon/347.png  \n",
            "  inflating: train/pokemon/pokemon/348.png  \n",
            "  inflating: train/pokemon/pokemon/349.png  \n",
            "  inflating: train/pokemon/pokemon/35.png  \n",
            "  inflating: train/pokemon/pokemon/350.png  \n",
            "  inflating: train/pokemon/pokemon/351.png  \n",
            "  inflating: train/pokemon/pokemon/352.png  \n",
            "  inflating: train/pokemon/pokemon/353.png  \n",
            "  inflating: train/pokemon/pokemon/354-mega.png  \n",
            "  inflating: train/pokemon/pokemon/354.png  \n",
            "  inflating: train/pokemon/pokemon/355.png  \n",
            "  inflating: train/pokemon/pokemon/356.png  \n",
            "  inflating: train/pokemon/pokemon/357.png  \n",
            "  inflating: train/pokemon/pokemon/358.png  \n",
            "  inflating: train/pokemon/pokemon/359-mega.png  \n",
            "  inflating: train/pokemon/pokemon/359.png  \n",
            "  inflating: train/pokemon/pokemon/36.png  \n",
            "  inflating: train/pokemon/pokemon/360.png  \n",
            "  inflating: train/pokemon/pokemon/361.png  \n",
            "  inflating: train/pokemon/pokemon/362-mega.png  \n",
            "  inflating: train/pokemon/pokemon/362.png  \n",
            "  inflating: train/pokemon/pokemon/363.png  \n",
            "  inflating: train/pokemon/pokemon/364.png  \n",
            "  inflating: train/pokemon/pokemon/365.png  \n",
            "  inflating: train/pokemon/pokemon/366.png  \n",
            "  inflating: train/pokemon/pokemon/367.png  \n",
            "  inflating: train/pokemon/pokemon/368.png  \n",
            "  inflating: train/pokemon/pokemon/369.png  \n",
            "  inflating: train/pokemon/pokemon/37.png  \n",
            "  inflating: train/pokemon/pokemon/370.png  \n",
            "  inflating: train/pokemon/pokemon/371.png  \n",
            "  inflating: train/pokemon/pokemon/372.png  \n",
            "  inflating: train/pokemon/pokemon/373-mega.png  \n",
            "  inflating: train/pokemon/pokemon/373.png  \n",
            "  inflating: train/pokemon/pokemon/374.png  \n",
            "  inflating: train/pokemon/pokemon/375.png  \n",
            "  inflating: train/pokemon/pokemon/376-mega.png  \n",
            "  inflating: train/pokemon/pokemon/376.png  \n",
            "  inflating: train/pokemon/pokemon/377.png  \n",
            "  inflating: train/pokemon/pokemon/378.png  \n",
            "  inflating: train/pokemon/pokemon/379.png  \n",
            "  inflating: train/pokemon/pokemon/38.png  \n",
            "  inflating: train/pokemon/pokemon/380-mega.png  \n",
            "  inflating: train/pokemon/pokemon/380.png  \n",
            "  inflating: train/pokemon/pokemon/381-mega.png  \n",
            "  inflating: train/pokemon/pokemon/381.png  \n",
            "  inflating: train/pokemon/pokemon/382-primal.png  \n",
            "  inflating: train/pokemon/pokemon/382.png  \n",
            "  inflating: train/pokemon/pokemon/383-primal.png  \n",
            "  inflating: train/pokemon/pokemon/383.png  \n",
            "  inflating: train/pokemon/pokemon/384-mega.png  \n",
            "  inflating: train/pokemon/pokemon/384.png  \n",
            "  inflating: train/pokemon/pokemon/385.png  \n",
            "  inflating: train/pokemon/pokemon/386-attack.png  \n",
            "  inflating: train/pokemon/pokemon/386-defense.png  \n",
            "  inflating: train/pokemon/pokemon/386-normal.png  \n",
            "  inflating: train/pokemon/pokemon/386-speed.png  \n",
            "  inflating: train/pokemon/pokemon/387.png  \n",
            "  inflating: train/pokemon/pokemon/388.png  \n",
            "  inflating: train/pokemon/pokemon/389.png  \n",
            "  inflating: train/pokemon/pokemon/39.png  \n",
            "  inflating: train/pokemon/pokemon/390.png  \n",
            "  inflating: train/pokemon/pokemon/391.png  \n",
            "  inflating: train/pokemon/pokemon/392.png  \n",
            "  inflating: train/pokemon/pokemon/393.png  \n",
            "  inflating: train/pokemon/pokemon/394.png  \n",
            "  inflating: train/pokemon/pokemon/395.png  \n",
            "  inflating: train/pokemon/pokemon/396.png  \n",
            "  inflating: train/pokemon/pokemon/397.png  \n",
            "  inflating: train/pokemon/pokemon/398.png  \n",
            "  inflating: train/pokemon/pokemon/399.png  \n",
            "  inflating: train/pokemon/pokemon/4.png  \n",
            "  inflating: train/pokemon/pokemon/40.png  \n",
            "  inflating: train/pokemon/pokemon/400.png  \n",
            "  inflating: train/pokemon/pokemon/401.png  \n",
            "  inflating: train/pokemon/pokemon/402.png  \n",
            "  inflating: train/pokemon/pokemon/403.png  \n",
            "  inflating: train/pokemon/pokemon/404.png  \n",
            "  inflating: train/pokemon/pokemon/405.png  \n",
            "  inflating: train/pokemon/pokemon/406.png  \n",
            "  inflating: train/pokemon/pokemon/407.png  \n",
            "  inflating: train/pokemon/pokemon/408.png  \n",
            "  inflating: train/pokemon/pokemon/409.png  \n",
            "  inflating: train/pokemon/pokemon/41.png  \n",
            "  inflating: train/pokemon/pokemon/410.png  \n",
            "  inflating: train/pokemon/pokemon/411.png  \n",
            "  inflating: train/pokemon/pokemon/412-plant.png  \n",
            "  inflating: train/pokemon/pokemon/412-sandy.png  \n",
            "  inflating: train/pokemon/pokemon/412-trash.png  \n",
            "  inflating: train/pokemon/pokemon/413-plant.png  \n",
            "  inflating: train/pokemon/pokemon/413-sandy.png  \n",
            "  inflating: train/pokemon/pokemon/413-trash.png  \n",
            "  inflating: train/pokemon/pokemon/414.png  \n",
            "  inflating: train/pokemon/pokemon/415.png  \n",
            "  inflating: train/pokemon/pokemon/416.png  \n",
            "  inflating: train/pokemon/pokemon/417.png  \n",
            "  inflating: train/pokemon/pokemon/418.png  \n",
            "  inflating: train/pokemon/pokemon/419.png  \n",
            "  inflating: train/pokemon/pokemon/42.png  \n",
            "  inflating: train/pokemon/pokemon/420.png  \n",
            "  inflating: train/pokemon/pokemon/421-overcast.png  \n",
            "  inflating: train/pokemon/pokemon/421-sunshine.png  \n",
            "  inflating: train/pokemon/pokemon/422-east.png  \n",
            "  inflating: train/pokemon/pokemon/422-west.png  \n",
            "  inflating: train/pokemon/pokemon/423-east.png  \n",
            "  inflating: train/pokemon/pokemon/423-west.png  \n",
            "  inflating: train/pokemon/pokemon/424.png  \n",
            "  inflating: train/pokemon/pokemon/425.png  \n",
            "  inflating: train/pokemon/pokemon/426.png  \n",
            "  inflating: train/pokemon/pokemon/427.png  \n",
            "  inflating: train/pokemon/pokemon/428-mega.png  \n",
            "  inflating: train/pokemon/pokemon/428.png  \n",
            "  inflating: train/pokemon/pokemon/429.png  \n",
            "  inflating: train/pokemon/pokemon/43.png  \n",
            "  inflating: train/pokemon/pokemon/430.png  \n",
            "  inflating: train/pokemon/pokemon/431.png  \n",
            "  inflating: train/pokemon/pokemon/432.png  \n",
            "  inflating: train/pokemon/pokemon/433.png  \n",
            "  inflating: train/pokemon/pokemon/434.png  \n",
            "  inflating: train/pokemon/pokemon/435.png  \n",
            "  inflating: train/pokemon/pokemon/436.png  \n",
            "  inflating: train/pokemon/pokemon/437.png  \n",
            "  inflating: train/pokemon/pokemon/438.png  \n",
            "  inflating: train/pokemon/pokemon/439.png  \n",
            "  inflating: train/pokemon/pokemon/44.png  \n",
            "  inflating: train/pokemon/pokemon/440.png  \n",
            "  inflating: train/pokemon/pokemon/441.png  \n",
            "  inflating: train/pokemon/pokemon/442.png  \n",
            "  inflating: train/pokemon/pokemon/443.png  \n",
            "  inflating: train/pokemon/pokemon/444.png  \n",
            "  inflating: train/pokemon/pokemon/445-mega.png  \n",
            "  inflating: train/pokemon/pokemon/445.png  \n",
            "  inflating: train/pokemon/pokemon/446.png  \n",
            "  inflating: train/pokemon/pokemon/447.png  \n",
            "  inflating: train/pokemon/pokemon/448-mega.png  \n",
            "  inflating: train/pokemon/pokemon/448.png  \n",
            "  inflating: train/pokemon/pokemon/449.png  \n",
            "  inflating: train/pokemon/pokemon/45.png  \n",
            "  inflating: train/pokemon/pokemon/450.png  \n",
            "  inflating: train/pokemon/pokemon/451.png  \n",
            "  inflating: train/pokemon/pokemon/452.png  \n",
            "  inflating: train/pokemon/pokemon/453.png  \n",
            "  inflating: train/pokemon/pokemon/454.png  \n",
            "  inflating: train/pokemon/pokemon/455.png  \n",
            "  inflating: train/pokemon/pokemon/456.png  \n",
            "  inflating: train/pokemon/pokemon/457.png  \n",
            "  inflating: train/pokemon/pokemon/458.png  \n",
            "  inflating: train/pokemon/pokemon/459.png  \n",
            "  inflating: train/pokemon/pokemon/46.png  \n",
            "  inflating: train/pokemon/pokemon/460-mega.png  \n",
            "  inflating: train/pokemon/pokemon/460.png  \n",
            "  inflating: train/pokemon/pokemon/461.png  \n",
            "  inflating: train/pokemon/pokemon/462.png  \n",
            "  inflating: train/pokemon/pokemon/463.png  \n",
            "  inflating: train/pokemon/pokemon/464.png  \n",
            "  inflating: train/pokemon/pokemon/465.png  \n",
            "  inflating: train/pokemon/pokemon/466.png  \n",
            "  inflating: train/pokemon/pokemon/467.png  \n",
            "  inflating: train/pokemon/pokemon/468.png  \n",
            "  inflating: train/pokemon/pokemon/469.png  \n",
            "  inflating: train/pokemon/pokemon/47.png  \n",
            "  inflating: train/pokemon/pokemon/470.png  \n",
            "  inflating: train/pokemon/pokemon/471.png  \n",
            "  inflating: train/pokemon/pokemon/472.png  \n",
            "  inflating: train/pokemon/pokemon/473.png  \n",
            "  inflating: train/pokemon/pokemon/474.png  \n",
            "  inflating: train/pokemon/pokemon/475-mega.png  \n",
            "  inflating: train/pokemon/pokemon/475.png  \n",
            "  inflating: train/pokemon/pokemon/476.png  \n",
            "  inflating: train/pokemon/pokemon/477.png  \n",
            "  inflating: train/pokemon/pokemon/478.png  \n",
            "  inflating: train/pokemon/pokemon/479-fan.png  \n",
            "  inflating: train/pokemon/pokemon/479-frost.png  \n",
            "  inflating: train/pokemon/pokemon/479-heat.png  \n",
            "  inflating: train/pokemon/pokemon/479-mow.png  \n",
            "  inflating: train/pokemon/pokemon/479-wash.png  \n",
            "  inflating: train/pokemon/pokemon/479.png  \n",
            "  inflating: train/pokemon/pokemon/48.png  \n",
            "  inflating: train/pokemon/pokemon/480.png  \n",
            "  inflating: train/pokemon/pokemon/481.png  \n",
            "  inflating: train/pokemon/pokemon/482.png  \n",
            "  inflating: train/pokemon/pokemon/483.png  \n",
            "  inflating: train/pokemon/pokemon/484.png  \n",
            "  inflating: train/pokemon/pokemon/485.png  \n",
            "  inflating: train/pokemon/pokemon/486.png  \n",
            "  inflating: train/pokemon/pokemon/487-altered.png  \n",
            "  inflating: train/pokemon/pokemon/487-origin.png  \n",
            "  inflating: train/pokemon/pokemon/488.png  \n",
            "  inflating: train/pokemon/pokemon/489.png  \n",
            "  inflating: train/pokemon/pokemon/49.png  \n",
            "  inflating: train/pokemon/pokemon/490.png  \n",
            "  inflating: train/pokemon/pokemon/491.png  \n",
            "  inflating: train/pokemon/pokemon/492-land.png  \n",
            "  inflating: train/pokemon/pokemon/492-sky.png  \n",
            "  inflating: train/pokemon/pokemon/493-normal.png  \n",
            "  inflating: train/pokemon/pokemon/494.png  \n",
            "  inflating: train/pokemon/pokemon/495.png  \n",
            "  inflating: train/pokemon/pokemon/496.png  \n",
            "  inflating: train/pokemon/pokemon/497.png  \n",
            "  inflating: train/pokemon/pokemon/498.png  \n",
            "  inflating: train/pokemon/pokemon/499.png  \n",
            "  inflating: train/pokemon/pokemon/5.png  \n",
            "  inflating: train/pokemon/pokemon/50.png  \n",
            "  inflating: train/pokemon/pokemon/500.png  \n",
            "  inflating: train/pokemon/pokemon/501.png  \n",
            "  inflating: train/pokemon/pokemon/502.png  \n",
            "  inflating: train/pokemon/pokemon/503.png  \n",
            "  inflating: train/pokemon/pokemon/504.png  \n",
            "  inflating: train/pokemon/pokemon/505.png  \n",
            "  inflating: train/pokemon/pokemon/506.png  \n",
            "  inflating: train/pokemon/pokemon/507.png  \n",
            "  inflating: train/pokemon/pokemon/508.png  \n",
            "  inflating: train/pokemon/pokemon/509.png  \n",
            "  inflating: train/pokemon/pokemon/51.png  \n",
            "  inflating: train/pokemon/pokemon/510.png  \n",
            "  inflating: train/pokemon/pokemon/511.png  \n",
            "  inflating: train/pokemon/pokemon/512.png  \n",
            "  inflating: train/pokemon/pokemon/513.png  \n",
            "  inflating: train/pokemon/pokemon/514.png  \n",
            "  inflating: train/pokemon/pokemon/515.png  \n",
            "  inflating: train/pokemon/pokemon/516.png  \n",
            "  inflating: train/pokemon/pokemon/517.png  \n",
            "  inflating: train/pokemon/pokemon/518.png  \n",
            "  inflating: train/pokemon/pokemon/519.png  \n",
            "  inflating: train/pokemon/pokemon/52.png  \n",
            "  inflating: train/pokemon/pokemon/520.png  \n",
            "  inflating: train/pokemon/pokemon/521.png  \n",
            "  inflating: train/pokemon/pokemon/521f.png  \n",
            "  inflating: train/pokemon/pokemon/522.png  \n",
            "  inflating: train/pokemon/pokemon/523.png  \n",
            "  inflating: train/pokemon/pokemon/524.png  \n",
            "  inflating: train/pokemon/pokemon/525.png  \n",
            "  inflating: train/pokemon/pokemon/526.png  \n",
            "  inflating: train/pokemon/pokemon/527.png  \n",
            "  inflating: train/pokemon/pokemon/528.png  \n",
            "  inflating: train/pokemon/pokemon/529.png  \n",
            "  inflating: train/pokemon/pokemon/53.png  \n",
            "  inflating: train/pokemon/pokemon/530.png  \n",
            "  inflating: train/pokemon/pokemon/531-mega.png  \n",
            "  inflating: train/pokemon/pokemon/531.png  \n",
            "  inflating: train/pokemon/pokemon/532.png  \n",
            "  inflating: train/pokemon/pokemon/533.png  \n",
            "  inflating: train/pokemon/pokemon/534.png  \n",
            "  inflating: train/pokemon/pokemon/535.png  \n",
            "  inflating: train/pokemon/pokemon/536.png  \n",
            "  inflating: train/pokemon/pokemon/537.png  \n",
            "  inflating: train/pokemon/pokemon/538.png  \n",
            "  inflating: train/pokemon/pokemon/539.png  \n",
            "  inflating: train/pokemon/pokemon/54.png  \n",
            "  inflating: train/pokemon/pokemon/540.png  \n",
            "  inflating: train/pokemon/pokemon/541.png  \n",
            "  inflating: train/pokemon/pokemon/542.png  \n",
            "  inflating: train/pokemon/pokemon/543.png  \n",
            "  inflating: train/pokemon/pokemon/544.png  \n",
            "  inflating: train/pokemon/pokemon/545.png  \n",
            "  inflating: train/pokemon/pokemon/546.png  \n",
            "  inflating: train/pokemon/pokemon/547.png  \n",
            "  inflating: train/pokemon/pokemon/548.png  \n",
            "  inflating: train/pokemon/pokemon/549.png  \n",
            "  inflating: train/pokemon/pokemon/55.png  \n",
            "  inflating: train/pokemon/pokemon/550-blue-striped.png  \n",
            "  inflating: train/pokemon/pokemon/550-red-striped.png  \n",
            "  inflating: train/pokemon/pokemon/551.png  \n",
            "  inflating: train/pokemon/pokemon/552.png  \n",
            "  inflating: train/pokemon/pokemon/553.png  \n",
            "  inflating: train/pokemon/pokemon/554.png  \n",
            "  inflating: train/pokemon/pokemon/555-standard.png  \n",
            "  inflating: train/pokemon/pokemon/556.png  \n",
            "  inflating: train/pokemon/pokemon/557.png  \n",
            "  inflating: train/pokemon/pokemon/558.png  \n",
            "  inflating: train/pokemon/pokemon/559.png  \n",
            "  inflating: train/pokemon/pokemon/56.png  \n",
            "  inflating: train/pokemon/pokemon/560.png  \n",
            "  inflating: train/pokemon/pokemon/561.png  \n",
            "  inflating: train/pokemon/pokemon/562.png  \n",
            "  inflating: train/pokemon/pokemon/563.png  \n",
            "  inflating: train/pokemon/pokemon/564.png  \n",
            "  inflating: train/pokemon/pokemon/565.png  \n",
            "  inflating: train/pokemon/pokemon/566.png  \n",
            "  inflating: train/pokemon/pokemon/567.png  \n",
            "  inflating: train/pokemon/pokemon/568.png  \n",
            "  inflating: train/pokemon/pokemon/569.png  \n",
            "  inflating: train/pokemon/pokemon/57.png  \n",
            "  inflating: train/pokemon/pokemon/570.png  \n",
            "  inflating: train/pokemon/pokemon/571.png  \n",
            "  inflating: train/pokemon/pokemon/572.png  \n",
            "  inflating: train/pokemon/pokemon/573.png  \n",
            "  inflating: train/pokemon/pokemon/574.png  \n",
            "  inflating: train/pokemon/pokemon/575.png  \n",
            "  inflating: train/pokemon/pokemon/576.png  \n",
            "  inflating: train/pokemon/pokemon/577.png  \n",
            "  inflating: train/pokemon/pokemon/578.png  \n",
            "  inflating: train/pokemon/pokemon/579.png  \n",
            "  inflating: train/pokemon/pokemon/58.png  \n",
            "  inflating: train/pokemon/pokemon/580.png  \n",
            "  inflating: train/pokemon/pokemon/581.png  \n",
            "  inflating: train/pokemon/pokemon/582.png  \n",
            "  inflating: train/pokemon/pokemon/583.png  \n",
            "  inflating: train/pokemon/pokemon/584.png  \n",
            "  inflating: train/pokemon/pokemon/585-autumn.png  \n",
            "  inflating: train/pokemon/pokemon/585-spring.png  \n",
            "  inflating: train/pokemon/pokemon/585-summer.png  \n",
            "  inflating: train/pokemon/pokemon/585-winter.png  \n",
            "  inflating: train/pokemon/pokemon/586-autumn.png  \n",
            "  inflating: train/pokemon/pokemon/586-spring.png  \n",
            "  inflating: train/pokemon/pokemon/586-summer.png  \n",
            "  inflating: train/pokemon/pokemon/586-winter.png  \n",
            "  inflating: train/pokemon/pokemon/587.png  \n",
            "  inflating: train/pokemon/pokemon/588.png  \n",
            "  inflating: train/pokemon/pokemon/589.png  \n",
            "  inflating: train/pokemon/pokemon/59.png  \n",
            "  inflating: train/pokemon/pokemon/590.png  \n",
            "  inflating: train/pokemon/pokemon/591.png  \n",
            "  inflating: train/pokemon/pokemon/592.png  \n",
            "  inflating: train/pokemon/pokemon/592f.png  \n",
            "  inflating: train/pokemon/pokemon/593.png  \n",
            "  inflating: train/pokemon/pokemon/593f.png  \n",
            "  inflating: train/pokemon/pokemon/594.png  \n",
            "  inflating: train/pokemon/pokemon/595.png  \n",
            "  inflating: train/pokemon/pokemon/596.png  \n",
            "  inflating: train/pokemon/pokemon/597.png  \n",
            "  inflating: train/pokemon/pokemon/598.png  \n",
            "  inflating: train/pokemon/pokemon/599.png  \n",
            "  inflating: train/pokemon/pokemon/6-mega-x.png  \n",
            "  inflating: train/pokemon/pokemon/6-mega-y.png  \n",
            "  inflating: train/pokemon/pokemon/6.png  \n",
            "  inflating: train/pokemon/pokemon/60.png  \n",
            "  inflating: train/pokemon/pokemon/600.png  \n",
            "  inflating: train/pokemon/pokemon/601.png  \n",
            "  inflating: train/pokemon/pokemon/602.png  \n",
            "  inflating: train/pokemon/pokemon/603.png  \n",
            "  inflating: train/pokemon/pokemon/604.png  \n",
            "  inflating: train/pokemon/pokemon/605.png  \n",
            "  inflating: train/pokemon/pokemon/606.png  \n",
            "  inflating: train/pokemon/pokemon/607.png  \n",
            "  inflating: train/pokemon/pokemon/608.png  \n",
            "  inflating: train/pokemon/pokemon/609.png  \n",
            "  inflating: train/pokemon/pokemon/61.png  \n",
            "  inflating: train/pokemon/pokemon/610.png  \n",
            "  inflating: train/pokemon/pokemon/611.png  \n",
            "  inflating: train/pokemon/pokemon/612.png  \n",
            "  inflating: train/pokemon/pokemon/613.png  \n",
            "  inflating: train/pokemon/pokemon/614.png  \n",
            "  inflating: train/pokemon/pokemon/615.png  \n",
            "  inflating: train/pokemon/pokemon/616.png  \n",
            "  inflating: train/pokemon/pokemon/617.png  \n",
            "  inflating: train/pokemon/pokemon/618.png  \n",
            "  inflating: train/pokemon/pokemon/619.png  \n",
            "  inflating: train/pokemon/pokemon/62.png  \n",
            "  inflating: train/pokemon/pokemon/620.png  \n",
            "  inflating: train/pokemon/pokemon/621.png  \n",
            "  inflating: train/pokemon/pokemon/622.png  \n",
            "  inflating: train/pokemon/pokemon/623.png  \n",
            "  inflating: train/pokemon/pokemon/624.png  \n",
            "  inflating: train/pokemon/pokemon/625.png  \n",
            "  inflating: train/pokemon/pokemon/626.png  \n",
            "  inflating: train/pokemon/pokemon/627.png  \n",
            "  inflating: train/pokemon/pokemon/628.png  \n",
            "  inflating: train/pokemon/pokemon/629.png  \n",
            "  inflating: train/pokemon/pokemon/63.png  \n",
            "  inflating: train/pokemon/pokemon/630.png  \n",
            "  inflating: train/pokemon/pokemon/631.png  \n",
            "  inflating: train/pokemon/pokemon/632.png  \n",
            "  inflating: train/pokemon/pokemon/633.png  \n",
            "  inflating: train/pokemon/pokemon/634.png  \n",
            "  inflating: train/pokemon/pokemon/635.png  \n",
            "  inflating: train/pokemon/pokemon/636.png  \n",
            "  inflating: train/pokemon/pokemon/637.png  \n",
            "  inflating: train/pokemon/pokemon/638.png  \n",
            "  inflating: train/pokemon/pokemon/639.png  \n",
            "  inflating: train/pokemon/pokemon/64.png  \n",
            "  inflating: train/pokemon/pokemon/640.png  \n",
            "  inflating: train/pokemon/pokemon/641-incarnate.png  \n",
            "  inflating: train/pokemon/pokemon/641-therian.png  \n",
            "  inflating: train/pokemon/pokemon/642-incarnate.png  \n",
            "  inflating: train/pokemon/pokemon/642-therian.png  \n",
            "  inflating: train/pokemon/pokemon/643.png  \n",
            "  inflating: train/pokemon/pokemon/644.png  \n",
            "  inflating: train/pokemon/pokemon/645-incarnate.png  \n",
            "  inflating: train/pokemon/pokemon/645-therian.png  \n",
            "  inflating: train/pokemon/pokemon/646-black.png  \n",
            "  inflating: train/pokemon/pokemon/646-white.png  \n",
            "  inflating: train/pokemon/pokemon/646.png  \n",
            "  inflating: train/pokemon/pokemon/647-ordinary.png  \n",
            "  inflating: train/pokemon/pokemon/647-resolute.png  \n",
            "  inflating: train/pokemon/pokemon/648-pirouette.png  \n",
            "  inflating: train/pokemon/pokemon/648.png  \n",
            "  inflating: train/pokemon/pokemon/649.png  \n",
            "  inflating: train/pokemon/pokemon/65-mega.png  \n",
            "  inflating: train/pokemon/pokemon/65.png  \n",
            "  inflating: train/pokemon/pokemon/650.png  \n",
            "  inflating: train/pokemon/pokemon/651.png  \n",
            "  inflating: train/pokemon/pokemon/652.png  \n",
            "  inflating: train/pokemon/pokemon/653.png  \n",
            "  inflating: train/pokemon/pokemon/654.png  \n",
            "  inflating: train/pokemon/pokemon/655.png  \n",
            "  inflating: train/pokemon/pokemon/656.png  \n",
            "  inflating: train/pokemon/pokemon/657.png  \n",
            "  inflating: train/pokemon/pokemon/658.png  \n",
            "  inflating: train/pokemon/pokemon/659.png  \n",
            "  inflating: train/pokemon/pokemon/66.png  \n",
            "  inflating: train/pokemon/pokemon/660.png  \n",
            "  inflating: train/pokemon/pokemon/661.png  \n",
            "  inflating: train/pokemon/pokemon/662.png  \n",
            "  inflating: train/pokemon/pokemon/663.png  \n",
            "  inflating: train/pokemon/pokemon/664.png  \n",
            "  inflating: train/pokemon/pokemon/665.png  \n",
            "  inflating: train/pokemon/pokemon/666-elegant.png  \n",
            "  inflating: train/pokemon/pokemon/666.png  \n",
            "  inflating: train/pokemon/pokemon/667.png  \n",
            "  inflating: train/pokemon/pokemon/668.png  \n",
            "  inflating: train/pokemon/pokemon/668f.png  \n",
            "  inflating: train/pokemon/pokemon/669.png  \n",
            "  inflating: train/pokemon/pokemon/67.png  \n",
            "  inflating: train/pokemon/pokemon/670.png  \n",
            "  inflating: train/pokemon/pokemon/671.png  \n",
            "  inflating: train/pokemon/pokemon/672.png  \n",
            "  inflating: train/pokemon/pokemon/673.png  \n",
            "  inflating: train/pokemon/pokemon/674.png  \n",
            "  inflating: train/pokemon/pokemon/675.png  \n",
            "  inflating: train/pokemon/pokemon/676-diamond.png  \n",
            "  inflating: train/pokemon/pokemon/676-heart.png  \n",
            "  inflating: train/pokemon/pokemon/676-star.png  \n",
            "  inflating: train/pokemon/pokemon/676.png  \n",
            "  inflating: train/pokemon/pokemon/677.png  \n",
            "  inflating: train/pokemon/pokemon/678.png  \n",
            "  inflating: train/pokemon/pokemon/678f.png  \n",
            "  inflating: train/pokemon/pokemon/679.png  \n",
            "  inflating: train/pokemon/pokemon/68.png  \n",
            "  inflating: train/pokemon/pokemon/680.png  \n",
            "  inflating: train/pokemon/pokemon/681-blade.png  \n",
            "  inflating: train/pokemon/pokemon/681-shield.png  \n",
            "  inflating: train/pokemon/pokemon/681.png  \n",
            "  inflating: train/pokemon/pokemon/682.png  \n",
            "  inflating: train/pokemon/pokemon/683.png  \n",
            "  inflating: train/pokemon/pokemon/684.png  \n",
            "  inflating: train/pokemon/pokemon/685.png  \n",
            "  inflating: train/pokemon/pokemon/686.png  \n",
            "  inflating: train/pokemon/pokemon/687.png  \n",
            "  inflating: train/pokemon/pokemon/688.png  \n",
            "  inflating: train/pokemon/pokemon/689.png  \n",
            "  inflating: train/pokemon/pokemon/69.png  \n",
            "  inflating: train/pokemon/pokemon/690.png  \n",
            "  inflating: train/pokemon/pokemon/691.png  \n",
            "  inflating: train/pokemon/pokemon/692.png  \n",
            "  inflating: train/pokemon/pokemon/693.png  \n",
            "  inflating: train/pokemon/pokemon/694.png  \n",
            "  inflating: train/pokemon/pokemon/695.png  \n",
            "  inflating: train/pokemon/pokemon/696.png  \n",
            "  inflating: train/pokemon/pokemon/697.png  \n",
            "  inflating: train/pokemon/pokemon/698.png  \n",
            "  inflating: train/pokemon/pokemon/699.png  \n",
            "  inflating: train/pokemon/pokemon/7.png  \n",
            "  inflating: train/pokemon/pokemon/70.png  \n",
            "  inflating: train/pokemon/pokemon/700.png  \n",
            "  inflating: train/pokemon/pokemon/701.png  \n",
            "  inflating: train/pokemon/pokemon/702.png  \n",
            "  inflating: train/pokemon/pokemon/703.png  \n",
            "  inflating: train/pokemon/pokemon/704.png  \n",
            "  inflating: train/pokemon/pokemon/705.png  \n",
            "  inflating: train/pokemon/pokemon/706.png  \n",
            "  inflating: train/pokemon/pokemon/707.png  \n",
            "  inflating: train/pokemon/pokemon/708.png  \n",
            "  inflating: train/pokemon/pokemon/709.png  \n",
            "  inflating: train/pokemon/pokemon/71.png  \n",
            "  inflating: train/pokemon/pokemon/710.png  \n",
            "  inflating: train/pokemon/pokemon/711.png  \n",
            "  inflating: train/pokemon/pokemon/712.png  \n",
            "  inflating: train/pokemon/pokemon/713.png  \n",
            "  inflating: train/pokemon/pokemon/714.png  \n",
            "  inflating: train/pokemon/pokemon/715.png  \n",
            "  inflating: train/pokemon/pokemon/716.png  \n",
            "  inflating: train/pokemon/pokemon/717.png  \n",
            "  inflating: train/pokemon/pokemon/718.png  \n",
            "  inflating: train/pokemon/pokemon/719-mega.png  \n",
            "  inflating: train/pokemon/pokemon/719.png  \n",
            "  inflating: train/pokemon/pokemon/72.png  \n",
            "  inflating: train/pokemon/pokemon/720-unbound.png  \n",
            "  inflating: train/pokemon/pokemon/720.png  \n",
            "  inflating: train/pokemon/pokemon/721.png  \n",
            "  inflating: train/pokemon/pokemon/73.png  \n",
            "  inflating: train/pokemon/pokemon/74.png  \n",
            "  inflating: train/pokemon/pokemon/75.png  \n",
            "  inflating: train/pokemon/pokemon/76.png  \n",
            "  inflating: train/pokemon/pokemon/77.png  \n",
            "  inflating: train/pokemon/pokemon/78.png  \n",
            "  inflating: train/pokemon/pokemon/79.png  \n",
            "  inflating: train/pokemon/pokemon/8.png  \n",
            "  inflating: train/pokemon/pokemon/80-mega.png  \n",
            "  inflating: train/pokemon/pokemon/80.png  \n",
            "  inflating: train/pokemon/pokemon/81.png  \n",
            "  inflating: train/pokemon/pokemon/82.png  \n",
            "  inflating: train/pokemon/pokemon/83.png  \n",
            "  inflating: train/pokemon/pokemon/84.png  \n",
            "  inflating: train/pokemon/pokemon/85.png  \n",
            "  inflating: train/pokemon/pokemon/86.png  \n",
            "  inflating: train/pokemon/pokemon/87.png  \n",
            "  inflating: train/pokemon/pokemon/88.png  \n",
            "  inflating: train/pokemon/pokemon/89.png  \n",
            "  inflating: train/pokemon/pokemon/9-mega.png  \n",
            "  inflating: train/pokemon/pokemon/9.png  \n",
            "  inflating: train/pokemon/pokemon/90.png  \n",
            "  inflating: train/pokemon/pokemon/91.png  \n",
            "  inflating: train/pokemon/pokemon/92.png  \n",
            "  inflating: train/pokemon/pokemon/93.png  \n",
            "  inflating: train/pokemon/pokemon/94-mega.png  \n",
            "  inflating: train/pokemon/pokemon/94.png  \n",
            "  inflating: train/pokemon/pokemon/95.png  \n",
            "  inflating: train/pokemon/pokemon/96.png  \n",
            "  inflating: train/pokemon/pokemon/97.png  \n",
            "  inflating: train/pokemon/pokemon/98.png  \n",
            "  inflating: train/pokemon/pokemon/99.png  \n",
            "  inflating: train/pokemon_jpg/pokemon_jpg/1.jpg  \n",
            "  inflating: train/pokemon_jpg/pokemon_jpg/10.jpg  \n",
            "  inflating: train/pokemon_jpg/pokemon_jpg/100.jpg  \n",
            "  inflating: train/pokemon_jpg/pokemon_jpg/101.jpg  \n",
            "  inflating: train/pokemon_jpg/pokemon_jpg/102.jpg  \n",
            "  inflating: train/pokemon_jpg/pokemon_jpg/103.jpg  \n",
            "  inflating: train/pokemon_jpg/pokemon_jpg/104.jpg  \n",
            "  inflating: train/pokemon_jpg/pokemon_jpg/105.jpg  \n",
            "  inflating: train/pokemon_jpg/pokemon_jpg/106.jpg  \n",
            "  inflating: train/pokemon_jpg/pokemon_jpg/107.jpg  \n",
            "  inflating: train/pokemon_jpg/pokemon_jpg/108.jpg  \n",
            "  inflating: train/pokemon_jpg/pokemon_jpg/109.jpg  \n",
            "  inflating: train/pokemon_jpg/pokemon_jpg/11.jpg  \n",
            "  inflating: train/pokemon_jpg/pokemon_jpg/110.jpg  \n",
            "  inflating: train/pokemon_jpg/pokemon_jpg/111.jpg  \n",
            "  inflating: train/pokemon_jpg/pokemon_jpg/112.jpg  \n",
            "  inflating: train/pokemon_jpg/pokemon_jpg/113.jpg  \n",
            "  inflating: train/pokemon_jpg/pokemon_jpg/114.jpg  \n",
            "  inflating: train/pokemon_jpg/pokemon_jpg/115-mega.jpg  \n",
            "  inflating: train/pokemon_jpg/pokemon_jpg/115.jpg  \n",
            "  inflating: train/pokemon_jpg/pokemon_jpg/116.jpg  \n",
            "  inflating: train/pokemon_jpg/pokemon_jpg/117.jpg  \n",
            "  inflating: train/pokemon_jpg/pokemon_jpg/118.jpg  \n",
            "  inflating: train/pokemon_jpg/pokemon_jpg/119.jpg  \n",
            "  inflating: train/pokemon_jpg/pokemon_jpg/12.jpg  \n",
            "  inflating: train/pokemon_jpg/pokemon_jpg/120.jpg  \n",
            "  inflating: train/pokemon_jpg/pokemon_jpg/121.jpg  \n",
            "  inflating: train/pokemon_jpg/pokemon_jpg/122.jpg  \n",
            "  inflating: train/pokemon_jpg/pokemon_jpg/123.jpg  \n",
            "  inflating: train/pokemon_jpg/pokemon_jpg/124.jpg  \n",
            "  inflating: train/pokemon_jpg/pokemon_jpg/125.jpg  \n",
            "  inflating: train/pokemon_jpg/pokemon_jpg/126.jpg  \n",
            "  inflating: train/pokemon_jpg/pokemon_jpg/127-mega.jpg  \n",
            "  inflating: train/pokemon_jpg/pokemon_jpg/127.jpg  \n",
            "  inflating: train/pokemon_jpg/pokemon_jpg/128.jpg  \n",
            "  inflating: train/pokemon_jpg/pokemon_jpg/129.jpg  \n",
            "  inflating: train/pokemon_jpg/pokemon_jpg/13.jpg  \n",
            "  inflating: train/pokemon_jpg/pokemon_jpg/130-mega.jpg  \n",
            "  inflating: train/pokemon_jpg/pokemon_jpg/130.jpg  \n",
            "  inflating: train/pokemon_jpg/pokemon_jpg/131.jpg  \n",
            "  inflating: train/pokemon_jpg/pokemon_jpg/132.jpg  \n",
            "  inflating: train/pokemon_jpg/pokemon_jpg/133.jpg  \n",
            "  inflating: train/pokemon_jpg/pokemon_jpg/134.jpg  \n",
            "  inflating: train/pokemon_jpg/pokemon_jpg/135.jpg  \n",
            "  inflating: train/pokemon_jpg/pokemon_jpg/136.jpg  \n",
            "  inflating: train/pokemon_jpg/pokemon_jpg/137.jpg  \n",
            "  inflating: train/pokemon_jpg/pokemon_jpg/138.jpg  \n",
            "  inflating: train/pokemon_jpg/pokemon_jpg/139.jpg  \n",
            "  inflating: train/pokemon_jpg/pokemon_jpg/14.jpg  \n",
            "  inflating: train/pokemon_jpg/pokemon_jpg/140.jpg  \n",
            "  inflating: train/pokemon_jpg/pokemon_jpg/141.jpg  \n",
            "  inflating: train/pokemon_jpg/pokemon_jpg/142-mega.jpg  \n",
            "  inflating: train/pokemon_jpg/pokemon_jpg/142.jpg  \n",
            "  inflating: train/pokemon_jpg/pokemon_jpg/143.jpg  \n",
            "  inflating: train/pokemon_jpg/pokemon_jpg/144.jpg  \n",
            "  inflating: train/pokemon_jpg/pokemon_jpg/145.jpg  \n",
            "  inflating: train/pokemon_jpg/pokemon_jpg/146.jpg  \n",
            "  inflating: train/pokemon_jpg/pokemon_jpg/147.jpg  \n",
            "  inflating: train/pokemon_jpg/pokemon_jpg/148.jpg  \n",
            "  inflating: train/pokemon_jpg/pokemon_jpg/149.jpg  \n",
            "  inflating: train/pokemon_jpg/pokemon_jpg/15-mega.jpg  \n",
            "  inflating: train/pokemon_jpg/pokemon_jpg/15.jpg  \n",
            "  inflating: train/pokemon_jpg/pokemon_jpg/150-mega-x.jpg  \n",
            "  inflating: train/pokemon_jpg/pokemon_jpg/150-mega-y.jpg  \n",
            "  inflating: train/pokemon_jpg/pokemon_jpg/150.jpg  \n",
            "  inflating: train/pokemon_jpg/pokemon_jpg/151.jpg  \n",
            "  inflating: train/pokemon_jpg/pokemon_jpg/152.jpg  \n",
            "  inflating: train/pokemon_jpg/pokemon_jpg/153.jpg  \n",
            "  inflating: train/pokemon_jpg/pokemon_jpg/154.jpg  \n",
            "  inflating: train/pokemon_jpg/pokemon_jpg/155.jpg  \n",
            "  inflating: train/pokemon_jpg/pokemon_jpg/156.jpg  \n",
            "  inflating: train/pokemon_jpg/pokemon_jpg/157.jpg  \n",
            "  inflating: train/pokemon_jpg/pokemon_jpg/158.jpg  \n",
            "  inflating: train/pokemon_jpg/pokemon_jpg/159.jpg  \n",
            "  inflating: train/pokemon_jpg/pokemon_jpg/16.jpg  \n",
            "  inflating: train/pokemon_jpg/pokemon_jpg/160.jpg  \n",
            "  inflating: train/pokemon_jpg/pokemon_jpg/161.jpg  \n",
            "  inflating: train/pokemon_jpg/pokemon_jpg/162.jpg  \n",
            "  inflating: train/pokemon_jpg/pokemon_jpg/163.jpg  \n",
            "  inflating: train/pokemon_jpg/pokemon_jpg/164.jpg  \n",
            "  inflating: train/pokemon_jpg/pokemon_jpg/165.jpg  \n",
            "  inflating: train/pokemon_jpg/pokemon_jpg/166.jpg  \n",
            "  inflating: train/pokemon_jpg/pokemon_jpg/167.jpg  \n",
            "  inflating: train/pokemon_jpg/pokemon_jpg/168.jpg  \n",
            "  inflating: train/pokemon_jpg/pokemon_jpg/169.jpg  \n",
            "  inflating: train/pokemon_jpg/pokemon_jpg/17.jpg  \n",
            "  inflating: train/pokemon_jpg/pokemon_jpg/170.jpg  \n",
            "  inflating: train/pokemon_jpg/pokemon_jpg/171.jpg  \n",
            "  inflating: train/pokemon_jpg/pokemon_jpg/172.jpg  \n",
            "  inflating: train/pokemon_jpg/pokemon_jpg/173.jpg  \n",
            "  inflating: train/pokemon_jpg/pokemon_jpg/174.jpg  \n",
            "  inflating: train/pokemon_jpg/pokemon_jpg/175.jpg  \n",
            "  inflating: train/pokemon_jpg/pokemon_jpg/176.jpg  \n",
            "  inflating: train/pokemon_jpg/pokemon_jpg/177.jpg  \n",
            "  inflating: train/pokemon_jpg/pokemon_jpg/178.jpg  \n",
            "  inflating: train/pokemon_jpg/pokemon_jpg/179.jpg  \n",
            "  inflating: train/pokemon_jpg/pokemon_jpg/18-mega.jpg  \n",
            "  inflating: train/pokemon_jpg/pokemon_jpg/18.jpg  \n",
            "  inflating: train/pokemon_jpg/pokemon_jpg/180.jpg  \n",
            "  inflating: train/pokemon_jpg/pokemon_jpg/181-mega.jpg  \n",
            "  inflating: train/pokemon_jpg/pokemon_jpg/181.jpg  \n",
            "  inflating: train/pokemon_jpg/pokemon_jpg/182.jpg  \n",
            "  inflating: train/pokemon_jpg/pokemon_jpg/183.jpg  \n",
            "  inflating: train/pokemon_jpg/pokemon_jpg/184.jpg  \n",
            "  inflating: train/pokemon_jpg/pokemon_jpg/185.jpg  \n",
            "  inflating: train/pokemon_jpg/pokemon_jpg/186.jpg  \n",
            "  inflating: train/pokemon_jpg/pokemon_jpg/187.jpg  \n",
            "  inflating: train/pokemon_jpg/pokemon_jpg/188.jpg  \n",
            "  inflating: train/pokemon_jpg/pokemon_jpg/189.jpg  \n",
            "  inflating: train/pokemon_jpg/pokemon_jpg/19.jpg  \n",
            "  inflating: train/pokemon_jpg/pokemon_jpg/190.jpg  \n",
            "  inflating: train/pokemon_jpg/pokemon_jpg/191.jpg  \n",
            "  inflating: train/pokemon_jpg/pokemon_jpg/192.jpg  \n",
            "  inflating: train/pokemon_jpg/pokemon_jpg/193.jpg  \n",
            "  inflating: train/pokemon_jpg/pokemon_jpg/194.jpg  \n",
            "  inflating: train/pokemon_jpg/pokemon_jpg/195.jpg  \n",
            "  inflating: train/pokemon_jpg/pokemon_jpg/196.jpg  \n",
            "  inflating: train/pokemon_jpg/pokemon_jpg/197.jpg  \n",
            "  inflating: train/pokemon_jpg/pokemon_jpg/198.jpg  \n",
            "  inflating: train/pokemon_jpg/pokemon_jpg/199.jpg  \n",
            "  inflating: train/pokemon_jpg/pokemon_jpg/2.jpg  \n",
            "  inflating: train/pokemon_jpg/pokemon_jpg/20.jpg  \n",
            "  inflating: train/pokemon_jpg/pokemon_jpg/200.jpg  \n",
            "  inflating: train/pokemon_jpg/pokemon_jpg/201-f.jpg  \n",
            "  inflating: train/pokemon_jpg/pokemon_jpg/202.jpg  \n",
            "  inflating: train/pokemon_jpg/pokemon_jpg/203.jpg  \n",
            "  inflating: train/pokemon_jpg/pokemon_jpg/204.jpg  \n",
            "  inflating: train/pokemon_jpg/pokemon_jpg/205.jpg  \n",
            "  inflating: train/pokemon_jpg/pokemon_jpg/206.jpg  \n",
            "  inflating: train/pokemon_jpg/pokemon_jpg/207.jpg  \n",
            "  inflating: train/pokemon_jpg/pokemon_jpg/208-mega.jpg  \n",
            "  inflating: train/pokemon_jpg/pokemon_jpg/208.jpg  \n",
            "  inflating: train/pokemon_jpg/pokemon_jpg/209.jpg  \n",
            "  inflating: train/pokemon_jpg/pokemon_jpg/21.jpg  \n",
            "  inflating: train/pokemon_jpg/pokemon_jpg/210.jpg  \n",
            "  inflating: train/pokemon_jpg/pokemon_jpg/211.jpg  \n",
            "  inflating: train/pokemon_jpg/pokemon_jpg/212-mega.jpg  \n",
            "  inflating: train/pokemon_jpg/pokemon_jpg/212.jpg  \n",
            "  inflating: train/pokemon_jpg/pokemon_jpg/213.jpg  \n",
            "  inflating: train/pokemon_jpg/pokemon_jpg/214-mega.jpg  \n",
            "  inflating: train/pokemon_jpg/pokemon_jpg/214.jpg  \n",
            "  inflating: train/pokemon_jpg/pokemon_jpg/215.jpg  \n",
            "  inflating: train/pokemon_jpg/pokemon_jpg/216.jpg  \n",
            "  inflating: train/pokemon_jpg/pokemon_jpg/217.jpg  \n",
            "  inflating: train/pokemon_jpg/pokemon_jpg/218.jpg  \n",
            "  inflating: train/pokemon_jpg/pokemon_jpg/219.jpg  \n",
            "  inflating: train/pokemon_jpg/pokemon_jpg/22.jpg  \n",
            "  inflating: train/pokemon_jpg/pokemon_jpg/220.jpg  \n",
            "  inflating: train/pokemon_jpg/pokemon_jpg/221.jpg  \n",
            "  inflating: train/pokemon_jpg/pokemon_jpg/222.jpg  \n",
            "  inflating: train/pokemon_jpg/pokemon_jpg/223.jpg  \n",
            "  inflating: train/pokemon_jpg/pokemon_jpg/224.jpg  \n",
            "  inflating: train/pokemon_jpg/pokemon_jpg/225.jpg  \n",
            "  inflating: train/pokemon_jpg/pokemon_jpg/226.jpg  \n",
            "  inflating: train/pokemon_jpg/pokemon_jpg/227.jpg  \n",
            "  inflating: train/pokemon_jpg/pokemon_jpg/228.jpg  \n",
            "  inflating: train/pokemon_jpg/pokemon_jpg/229-mega.jpg  \n",
            "  inflating: train/pokemon_jpg/pokemon_jpg/229.jpg  \n",
            "  inflating: train/pokemon_jpg/pokemon_jpg/23.jpg  \n",
            "  inflating: train/pokemon_jpg/pokemon_jpg/230.jpg  \n",
            "  inflating: train/pokemon_jpg/pokemon_jpg/231.jpg  \n",
            "  inflating: train/pokemon_jpg/pokemon_jpg/232.jpg  \n",
            "  inflating: train/pokemon_jpg/pokemon_jpg/233.jpg  \n",
            "  inflating: train/pokemon_jpg/pokemon_jpg/234.jpg  \n",
            "  inflating: train/pokemon_jpg/pokemon_jpg/235.jpg  \n",
            "  inflating: train/pokemon_jpg/pokemon_jpg/236.jpg  \n",
            "  inflating: train/pokemon_jpg/pokemon_jpg/237.jpg  \n",
            "  inflating: train/pokemon_jpg/pokemon_jpg/238.jpg  \n",
            "  inflating: train/pokemon_jpg/pokemon_jpg/239.jpg  \n",
            "  inflating: train/pokemon_jpg/pokemon_jpg/24.jpg  \n",
            "  inflating: train/pokemon_jpg/pokemon_jpg/240.jpg  \n",
            "  inflating: train/pokemon_jpg/pokemon_jpg/241.jpg  \n",
            "  inflating: train/pokemon_jpg/pokemon_jpg/242.jpg  \n",
            "  inflating: train/pokemon_jpg/pokemon_jpg/243.jpg  \n",
            "  inflating: train/pokemon_jpg/pokemon_jpg/244.jpg  \n",
            "  inflating: train/pokemon_jpg/pokemon_jpg/245.jpg  \n",
            "  inflating: train/pokemon_jpg/pokemon_jpg/246.jpg  \n",
            "  inflating: train/pokemon_jpg/pokemon_jpg/247.jpg  \n",
            "  inflating: train/pokemon_jpg/pokemon_jpg/248-mega.jpg  \n",
            "  inflating: train/pokemon_jpg/pokemon_jpg/248.jpg  \n",
            "  inflating: train/pokemon_jpg/pokemon_jpg/249.jpg  \n",
            "  inflating: train/pokemon_jpg/pokemon_jpg/25-belle.jpg  \n",
            "  inflating: train/pokemon_jpg/pokemon_jpg/25-libre.jpg  \n",
            "  inflating: train/pokemon_jpg/pokemon_jpg/25-phd.jpg  \n",
            "  inflating: train/pokemon_jpg/pokemon_jpg/25-pop-star.jpg  \n",
            "  inflating: train/pokemon_jpg/pokemon_jpg/25-rock-star.jpg  \n",
            "  inflating: train/pokemon_jpg/pokemon_jpg/25.jpg  \n",
            "  inflating: train/pokemon_jpg/pokemon_jpg/250.jpg  \n",
            "  inflating: train/pokemon_jpg/pokemon_jpg/251.jpg  \n",
            "  inflating: train/pokemon_jpg/pokemon_jpg/252.jpg  \n",
            "  inflating: train/pokemon_jpg/pokemon_jpg/253.jpg  \n",
            "  inflating: train/pokemon_jpg/pokemon_jpg/254-mega.jpg  \n",
            "  inflating: train/pokemon_jpg/pokemon_jpg/254.jpg  \n",
            "  inflating: train/pokemon_jpg/pokemon_jpg/255.jpg  \n",
            "  inflating: train/pokemon_jpg/pokemon_jpg/256.jpg  \n",
            "  inflating: train/pokemon_jpg/pokemon_jpg/257-mega.jpg  \n",
            "  inflating: train/pokemon_jpg/pokemon_jpg/257.jpg  \n",
            "  inflating: train/pokemon_jpg/pokemon_jpg/258.jpg  \n",
            "  inflating: train/pokemon_jpg/pokemon_jpg/259.jpg  \n",
            "  inflating: train/pokemon_jpg/pokemon_jpg/26.jpg  \n",
            "  inflating: train/pokemon_jpg/pokemon_jpg/260-mega.jpg  \n",
            "  inflating: train/pokemon_jpg/pokemon_jpg/260.jpg  \n",
            "  inflating: train/pokemon_jpg/pokemon_jpg/261.jpg  \n",
            "  inflating: train/pokemon_jpg/pokemon_jpg/262.jpg  \n",
            "  inflating: train/pokemon_jpg/pokemon_jpg/263.jpg  \n",
            "  inflating: train/pokemon_jpg/pokemon_jpg/264.jpg  \n",
            "  inflating: train/pokemon_jpg/pokemon_jpg/265.jpg  \n",
            "  inflating: train/pokemon_jpg/pokemon_jpg/266.jpg  \n",
            "  inflating: train/pokemon_jpg/pokemon_jpg/267.jpg  \n",
            "  inflating: train/pokemon_jpg/pokemon_jpg/268.jpg  \n",
            "  inflating: train/pokemon_jpg/pokemon_jpg/269.jpg  \n",
            "  inflating: train/pokemon_jpg/pokemon_jpg/27.jpg  \n",
            "  inflating: train/pokemon_jpg/pokemon_jpg/270.jpg  \n",
            "  inflating: train/pokemon_jpg/pokemon_jpg/271.jpg  \n",
            "  inflating: train/pokemon_jpg/pokemon_jpg/272.jpg  \n",
            "  inflating: train/pokemon_jpg/pokemon_jpg/273.jpg  \n",
            "  inflating: train/pokemon_jpg/pokemon_jpg/274.jpg  \n",
            "  inflating: train/pokemon_jpg/pokemon_jpg/275.jpg  \n",
            "  inflating: train/pokemon_jpg/pokemon_jpg/276.jpg  \n",
            "  inflating: train/pokemon_jpg/pokemon_jpg/277.jpg  \n",
            "  inflating: train/pokemon_jpg/pokemon_jpg/278.jpg  \n",
            "  inflating: train/pokemon_jpg/pokemon_jpg/279.jpg  \n",
            "  inflating: train/pokemon_jpg/pokemon_jpg/28.jpg  \n",
            "  inflating: train/pokemon_jpg/pokemon_jpg/280.jpg  \n",
            "  inflating: train/pokemon_jpg/pokemon_jpg/281.jpg  \n",
            "  inflating: train/pokemon_jpg/pokemon_jpg/282-mega.jpg  \n",
            "  inflating: train/pokemon_jpg/pokemon_jpg/282.jpg  \n",
            "  inflating: train/pokemon_jpg/pokemon_jpg/283.jpg  \n",
            "  inflating: train/pokemon_jpg/pokemon_jpg/284.jpg  \n",
            "  inflating: train/pokemon_jpg/pokemon_jpg/285.jpg  \n",
            "  inflating: train/pokemon_jpg/pokemon_jpg/286.jpg  \n",
            "  inflating: train/pokemon_jpg/pokemon_jpg/287.jpg  \n",
            "  inflating: train/pokemon_jpg/pokemon_jpg/288.jpg  \n",
            "  inflating: train/pokemon_jpg/pokemon_jpg/289.jpg  \n",
            "  inflating: train/pokemon_jpg/pokemon_jpg/29.jpg  \n",
            "  inflating: train/pokemon_jpg/pokemon_jpg/290.jpg  \n",
            "  inflating: train/pokemon_jpg/pokemon_jpg/291.jpg  \n",
            "  inflating: train/pokemon_jpg/pokemon_jpg/292.jpg  \n",
            "  inflating: train/pokemon_jpg/pokemon_jpg/293.jpg  \n",
            "  inflating: train/pokemon_jpg/pokemon_jpg/294.jpg  \n",
            "  inflating: train/pokemon_jpg/pokemon_jpg/295.jpg  \n",
            "  inflating: train/pokemon_jpg/pokemon_jpg/296.jpg  \n",
            "  inflating: train/pokemon_jpg/pokemon_jpg/297.jpg  \n",
            "  inflating: train/pokemon_jpg/pokemon_jpg/298.jpg  \n",
            "  inflating: train/pokemon_jpg/pokemon_jpg/299.jpg  \n",
            "  inflating: train/pokemon_jpg/pokemon_jpg/3-mega.jpg  \n",
            "  inflating: train/pokemon_jpg/pokemon_jpg/3.jpg  \n",
            "  inflating: train/pokemon_jpg/pokemon_jpg/30.jpg  \n",
            "  inflating: train/pokemon_jpg/pokemon_jpg/300.jpg  \n",
            "  inflating: train/pokemon_jpg/pokemon_jpg/301.jpg  \n",
            "  inflating: train/pokemon_jpg/pokemon_jpg/302-mega.jpg  \n",
            "  inflating: train/pokemon_jpg/pokemon_jpg/302.jpg  \n",
            "  inflating: train/pokemon_jpg/pokemon_jpg/303-mega.jpg  \n",
            "  inflating: train/pokemon_jpg/pokemon_jpg/303.jpg  \n",
            "  inflating: train/pokemon_jpg/pokemon_jpg/304.jpg  \n",
            "  inflating: train/pokemon_jpg/pokemon_jpg/305.jpg  \n",
            "  inflating: train/pokemon_jpg/pokemon_jpg/306-mega.jpg  \n",
            "  inflating: train/pokemon_jpg/pokemon_jpg/306.jpg  \n",
            "  inflating: train/pokemon_jpg/pokemon_jpg/307.jpg  \n",
            "  inflating: train/pokemon_jpg/pokemon_jpg/308-mega.jpg  \n",
            "  inflating: train/pokemon_jpg/pokemon_jpg/308.jpg  \n",
            "  inflating: train/pokemon_jpg/pokemon_jpg/309.jpg  \n",
            "  inflating: train/pokemon_jpg/pokemon_jpg/31.jpg  \n",
            "  inflating: train/pokemon_jpg/pokemon_jpg/310-mega.jpg  \n",
            "  inflating: train/pokemon_jpg/pokemon_jpg/310.jpg  \n",
            "  inflating: train/pokemon_jpg/pokemon_jpg/311.jpg  \n",
            "  inflating: train/pokemon_jpg/pokemon_jpg/312.jpg  \n",
            "  inflating: train/pokemon_jpg/pokemon_jpg/313.jpg  \n",
            "  inflating: train/pokemon_jpg/pokemon_jpg/314.jpg  \n",
            "  inflating: train/pokemon_jpg/pokemon_jpg/315.jpg  \n",
            "  inflating: train/pokemon_jpg/pokemon_jpg/316.jpg  \n",
            "  inflating: train/pokemon_jpg/pokemon_jpg/317.jpg  \n",
            "  inflating: train/pokemon_jpg/pokemon_jpg/318.jpg  \n",
            "  inflating: train/pokemon_jpg/pokemon_jpg/319-mega.jpg  \n",
            "  inflating: train/pokemon_jpg/pokemon_jpg/319.jpg  \n",
            "  inflating: train/pokemon_jpg/pokemon_jpg/32.jpg  \n",
            "  inflating: train/pokemon_jpg/pokemon_jpg/320.jpg  \n",
            "  inflating: train/pokemon_jpg/pokemon_jpg/321.jpg  \n",
            "  inflating: train/pokemon_jpg/pokemon_jpg/322.jpg  \n",
            "  inflating: train/pokemon_jpg/pokemon_jpg/323-mega.jpg  \n",
            "  inflating: train/pokemon_jpg/pokemon_jpg/323.jpg  \n",
            "  inflating: train/pokemon_jpg/pokemon_jpg/324.jpg  \n",
            "  inflating: train/pokemon_jpg/pokemon_jpg/325.jpg  \n",
            "  inflating: train/pokemon_jpg/pokemon_jpg/326.jpg  \n",
            "  inflating: train/pokemon_jpg/pokemon_jpg/327.jpg  \n",
            "  inflating: train/pokemon_jpg/pokemon_jpg/328.jpg  \n",
            "  inflating: train/pokemon_jpg/pokemon_jpg/329.jpg  \n",
            "  inflating: train/pokemon_jpg/pokemon_jpg/33.jpg  \n",
            "  inflating: train/pokemon_jpg/pokemon_jpg/330.jpg  \n",
            "  inflating: train/pokemon_jpg/pokemon_jpg/331.jpg  \n",
            "  inflating: train/pokemon_jpg/pokemon_jpg/332.jpg  \n",
            "  inflating: train/pokemon_jpg/pokemon_jpg/333.jpg  \n",
            "  inflating: train/pokemon_jpg/pokemon_jpg/334-mega.jpg  \n",
            "  inflating: train/pokemon_jpg/pokemon_jpg/334.jpg  \n",
            "  inflating: train/pokemon_jpg/pokemon_jpg/335.jpg  \n",
            "  inflating: train/pokemon_jpg/pokemon_jpg/336.jpg  \n",
            "  inflating: train/pokemon_jpg/pokemon_jpg/337.jpg  \n",
            "  inflating: train/pokemon_jpg/pokemon_jpg/338.jpg  \n",
            "  inflating: train/pokemon_jpg/pokemon_jpg/339.jpg  \n",
            "  inflating: train/pokemon_jpg/pokemon_jpg/34.jpg  \n",
            "  inflating: train/pokemon_jpg/pokemon_jpg/340.jpg  \n",
            "  inflating: train/pokemon_jpg/pokemon_jpg/341.jpg  \n",
            "  inflating: train/pokemon_jpg/pokemon_jpg/342.jpg  \n",
            "  inflating: train/pokemon_jpg/pokemon_jpg/343.jpg  \n",
            "  inflating: train/pokemon_jpg/pokemon_jpg/344.jpg  \n",
            "  inflating: train/pokemon_jpg/pokemon_jpg/345.jpg  \n",
            "  inflating: train/pokemon_jpg/pokemon_jpg/346.jpg  \n",
            "  inflating: train/pokemon_jpg/pokemon_jpg/347.jpg  \n",
            "  inflating: train/pokemon_jpg/pokemon_jpg/348.jpg  \n",
            "  inflating: train/pokemon_jpg/pokemon_jpg/349.jpg  \n",
            "  inflating: train/pokemon_jpg/pokemon_jpg/35.jpg  \n",
            "  inflating: train/pokemon_jpg/pokemon_jpg/350.jpg  \n",
            "  inflating: train/pokemon_jpg/pokemon_jpg/351.jpg  \n",
            "  inflating: train/pokemon_jpg/pokemon_jpg/352.jpg  \n",
            "  inflating: train/pokemon_jpg/pokemon_jpg/353.jpg  \n",
            "  inflating: train/pokemon_jpg/pokemon_jpg/354-mega.jpg  \n",
            "  inflating: train/pokemon_jpg/pokemon_jpg/354.jpg  \n",
            "  inflating: train/pokemon_jpg/pokemon_jpg/355.jpg  \n",
            "  inflating: train/pokemon_jpg/pokemon_jpg/356.jpg  \n",
            "  inflating: train/pokemon_jpg/pokemon_jpg/357.jpg  \n",
            "  inflating: train/pokemon_jpg/pokemon_jpg/358.jpg  \n",
            "  inflating: train/pokemon_jpg/pokemon_jpg/359-mega.jpg  \n",
            "  inflating: train/pokemon_jpg/pokemon_jpg/359.jpg  \n",
            "  inflating: train/pokemon_jpg/pokemon_jpg/36.jpg  \n",
            "  inflating: train/pokemon_jpg/pokemon_jpg/360.jpg  \n",
            "  inflating: train/pokemon_jpg/pokemon_jpg/361.jpg  \n",
            "  inflating: train/pokemon_jpg/pokemon_jpg/362-mega.jpg  \n",
            "  inflating: train/pokemon_jpg/pokemon_jpg/362.jpg  \n",
            "  inflating: train/pokemon_jpg/pokemon_jpg/363.jpg  \n",
            "  inflating: train/pokemon_jpg/pokemon_jpg/364.jpg  \n",
            "  inflating: train/pokemon_jpg/pokemon_jpg/365.jpg  \n",
            "  inflating: train/pokemon_jpg/pokemon_jpg/366.jpg  \n",
            "  inflating: train/pokemon_jpg/pokemon_jpg/367.jpg  \n",
            "  inflating: train/pokemon_jpg/pokemon_jpg/368.jpg  \n",
            "  inflating: train/pokemon_jpg/pokemon_jpg/369.jpg  \n",
            "  inflating: train/pokemon_jpg/pokemon_jpg/37.jpg  \n",
            "  inflating: train/pokemon_jpg/pokemon_jpg/370.jpg  \n",
            "  inflating: train/pokemon_jpg/pokemon_jpg/371.jpg  \n",
            "  inflating: train/pokemon_jpg/pokemon_jpg/372.jpg  \n",
            "  inflating: train/pokemon_jpg/pokemon_jpg/373-mega.jpg  \n",
            "  inflating: train/pokemon_jpg/pokemon_jpg/373.jpg  \n",
            "  inflating: train/pokemon_jpg/pokemon_jpg/374.jpg  \n",
            "  inflating: train/pokemon_jpg/pokemon_jpg/375.jpg  \n",
            "  inflating: train/pokemon_jpg/pokemon_jpg/376-mega.jpg  \n",
            "  inflating: train/pokemon_jpg/pokemon_jpg/376.jpg  \n",
            "  inflating: train/pokemon_jpg/pokemon_jpg/377.jpg  \n",
            "  inflating: train/pokemon_jpg/pokemon_jpg/378.jpg  \n",
            "  inflating: train/pokemon_jpg/pokemon_jpg/379.jpg  \n",
            "  inflating: train/pokemon_jpg/pokemon_jpg/38.jpg  \n",
            "  inflating: train/pokemon_jpg/pokemon_jpg/380-mega.jpg  \n",
            "  inflating: train/pokemon_jpg/pokemon_jpg/380.jpg  \n",
            "  inflating: train/pokemon_jpg/pokemon_jpg/381-mega.jpg  \n",
            "  inflating: train/pokemon_jpg/pokemon_jpg/381.jpg  \n",
            "  inflating: train/pokemon_jpg/pokemon_jpg/382-primal.jpg  \n",
            "  inflating: train/pokemon_jpg/pokemon_jpg/382.jpg  \n",
            "  inflating: train/pokemon_jpg/pokemon_jpg/383-primal.jpg  \n",
            "  inflating: train/pokemon_jpg/pokemon_jpg/383.jpg  \n",
            "  inflating: train/pokemon_jpg/pokemon_jpg/384-mega.jpg  \n",
            "  inflating: train/pokemon_jpg/pokemon_jpg/384.jpg  \n",
            "  inflating: train/pokemon_jpg/pokemon_jpg/385.jpg  \n",
            "  inflating: train/pokemon_jpg/pokemon_jpg/386-attack.jpg  \n",
            "  inflating: train/pokemon_jpg/pokemon_jpg/386-defense.jpg  \n",
            "  inflating: train/pokemon_jpg/pokemon_jpg/386-normal.jpg  \n",
            "  inflating: train/pokemon_jpg/pokemon_jpg/386-speed.jpg  \n",
            "  inflating: train/pokemon_jpg/pokemon_jpg/387.jpg  \n",
            "  inflating: train/pokemon_jpg/pokemon_jpg/388.jpg  \n",
            "  inflating: train/pokemon_jpg/pokemon_jpg/389.jpg  \n",
            "  inflating: train/pokemon_jpg/pokemon_jpg/39.jpg  \n",
            "  inflating: train/pokemon_jpg/pokemon_jpg/390.jpg  \n",
            "  inflating: train/pokemon_jpg/pokemon_jpg/391.jpg  \n",
            "  inflating: train/pokemon_jpg/pokemon_jpg/392.jpg  \n",
            "  inflating: train/pokemon_jpg/pokemon_jpg/393.jpg  \n",
            "  inflating: train/pokemon_jpg/pokemon_jpg/394.jpg  \n",
            "  inflating: train/pokemon_jpg/pokemon_jpg/395.jpg  \n",
            "  inflating: train/pokemon_jpg/pokemon_jpg/396.jpg  \n",
            "  inflating: train/pokemon_jpg/pokemon_jpg/397.jpg  \n",
            "  inflating: train/pokemon_jpg/pokemon_jpg/398.jpg  \n",
            "  inflating: train/pokemon_jpg/pokemon_jpg/399.jpg  \n",
            "  inflating: train/pokemon_jpg/pokemon_jpg/4.jpg  \n",
            "  inflating: train/pokemon_jpg/pokemon_jpg/40.jpg  \n",
            "  inflating: train/pokemon_jpg/pokemon_jpg/400.jpg  \n",
            "  inflating: train/pokemon_jpg/pokemon_jpg/401.jpg  \n",
            "  inflating: train/pokemon_jpg/pokemon_jpg/402.jpg  \n",
            "  inflating: train/pokemon_jpg/pokemon_jpg/403.jpg  \n",
            "  inflating: train/pokemon_jpg/pokemon_jpg/404.jpg  \n",
            "  inflating: train/pokemon_jpg/pokemon_jpg/405.jpg  \n",
            "  inflating: train/pokemon_jpg/pokemon_jpg/406.jpg  \n",
            "  inflating: train/pokemon_jpg/pokemon_jpg/407.jpg  \n",
            "  inflating: train/pokemon_jpg/pokemon_jpg/408.jpg  \n",
            "  inflating: train/pokemon_jpg/pokemon_jpg/409.jpg  \n",
            "  inflating: train/pokemon_jpg/pokemon_jpg/41.jpg  \n",
            "  inflating: train/pokemon_jpg/pokemon_jpg/410.jpg  \n",
            "  inflating: train/pokemon_jpg/pokemon_jpg/411.jpg  \n",
            "  inflating: train/pokemon_jpg/pokemon_jpg/412-plant.jpg  \n",
            "  inflating: train/pokemon_jpg/pokemon_jpg/412-sandy.jpg  \n",
            "  inflating: train/pokemon_jpg/pokemon_jpg/412-trash.jpg  \n",
            "  inflating: train/pokemon_jpg/pokemon_jpg/413-plant.jpg  \n",
            "  inflating: train/pokemon_jpg/pokemon_jpg/413-sandy.jpg  \n",
            "  inflating: train/pokemon_jpg/pokemon_jpg/413-trash.jpg  \n",
            "  inflating: train/pokemon_jpg/pokemon_jpg/414.jpg  \n",
            "  inflating: train/pokemon_jpg/pokemon_jpg/415.jpg  \n",
            "  inflating: train/pokemon_jpg/pokemon_jpg/416.jpg  \n",
            "  inflating: train/pokemon_jpg/pokemon_jpg/417.jpg  \n",
            "  inflating: train/pokemon_jpg/pokemon_jpg/418.jpg  \n",
            "  inflating: train/pokemon_jpg/pokemon_jpg/419.jpg  \n",
            "  inflating: train/pokemon_jpg/pokemon_jpg/42.jpg  \n",
            "  inflating: train/pokemon_jpg/pokemon_jpg/420.jpg  \n",
            "  inflating: train/pokemon_jpg/pokemon_jpg/421-overcast.jpg  \n",
            "  inflating: train/pokemon_jpg/pokemon_jpg/421-sunshine.jpg  \n",
            "  inflating: train/pokemon_jpg/pokemon_jpg/422-east.jpg  \n",
            "  inflating: train/pokemon_jpg/pokemon_jpg/422-west.jpg  \n",
            "  inflating: train/pokemon_jpg/pokemon_jpg/423-east.jpg  \n",
            "  inflating: train/pokemon_jpg/pokemon_jpg/423-west.jpg  \n",
            "  inflating: train/pokemon_jpg/pokemon_jpg/424.jpg  \n",
            "  inflating: train/pokemon_jpg/pokemon_jpg/425.jpg  \n",
            "  inflating: train/pokemon_jpg/pokemon_jpg/426.jpg  \n",
            "  inflating: train/pokemon_jpg/pokemon_jpg/427.jpg  \n",
            "  inflating: train/pokemon_jpg/pokemon_jpg/428-mega.jpg  \n",
            "  inflating: train/pokemon_jpg/pokemon_jpg/428.jpg  \n",
            "  inflating: train/pokemon_jpg/pokemon_jpg/429.jpg  \n",
            "  inflating: train/pokemon_jpg/pokemon_jpg/43.jpg  \n",
            "  inflating: train/pokemon_jpg/pokemon_jpg/430.jpg  \n",
            "  inflating: train/pokemon_jpg/pokemon_jpg/431.jpg  \n",
            "  inflating: train/pokemon_jpg/pokemon_jpg/432.jpg  \n",
            "  inflating: train/pokemon_jpg/pokemon_jpg/433.jpg  \n",
            "  inflating: train/pokemon_jpg/pokemon_jpg/434.jpg  \n",
            "  inflating: train/pokemon_jpg/pokemon_jpg/435.jpg  \n",
            "  inflating: train/pokemon_jpg/pokemon_jpg/436.jpg  \n",
            "  inflating: train/pokemon_jpg/pokemon_jpg/437.jpg  \n",
            "  inflating: train/pokemon_jpg/pokemon_jpg/438.jpg  \n",
            "  inflating: train/pokemon_jpg/pokemon_jpg/439.jpg  \n",
            "  inflating: train/pokemon_jpg/pokemon_jpg/44.jpg  \n",
            "  inflating: train/pokemon_jpg/pokemon_jpg/440.jpg  \n",
            "  inflating: train/pokemon_jpg/pokemon_jpg/441.jpg  \n",
            "  inflating: train/pokemon_jpg/pokemon_jpg/442.jpg  \n",
            "  inflating: train/pokemon_jpg/pokemon_jpg/443.jpg  \n",
            "  inflating: train/pokemon_jpg/pokemon_jpg/444.jpg  \n",
            "  inflating: train/pokemon_jpg/pokemon_jpg/445-mega.jpg  \n",
            "  inflating: train/pokemon_jpg/pokemon_jpg/445.jpg  \n",
            "  inflating: train/pokemon_jpg/pokemon_jpg/446.jpg  \n",
            "  inflating: train/pokemon_jpg/pokemon_jpg/447.jpg  \n",
            "  inflating: train/pokemon_jpg/pokemon_jpg/448-mega.jpg  \n",
            "  inflating: train/pokemon_jpg/pokemon_jpg/448.jpg  \n",
            "  inflating: train/pokemon_jpg/pokemon_jpg/449.jpg  \n",
            "  inflating: train/pokemon_jpg/pokemon_jpg/45.jpg  \n",
            "  inflating: train/pokemon_jpg/pokemon_jpg/450.jpg  \n",
            "  inflating: train/pokemon_jpg/pokemon_jpg/451.jpg  \n",
            "  inflating: train/pokemon_jpg/pokemon_jpg/452.jpg  \n",
            "  inflating: train/pokemon_jpg/pokemon_jpg/453.jpg  \n",
            "  inflating: train/pokemon_jpg/pokemon_jpg/454.jpg  \n",
            "  inflating: train/pokemon_jpg/pokemon_jpg/455.jpg  \n",
            "  inflating: train/pokemon_jpg/pokemon_jpg/456.jpg  \n",
            "  inflating: train/pokemon_jpg/pokemon_jpg/457.jpg  \n",
            "  inflating: train/pokemon_jpg/pokemon_jpg/458.jpg  \n",
            "  inflating: train/pokemon_jpg/pokemon_jpg/459.jpg  \n",
            "  inflating: train/pokemon_jpg/pokemon_jpg/46.jpg  \n",
            "  inflating: train/pokemon_jpg/pokemon_jpg/460-mega.jpg  \n",
            "  inflating: train/pokemon_jpg/pokemon_jpg/460.jpg  \n",
            "  inflating: train/pokemon_jpg/pokemon_jpg/461.jpg  \n",
            "  inflating: train/pokemon_jpg/pokemon_jpg/462.jpg  \n",
            "  inflating: train/pokemon_jpg/pokemon_jpg/463.jpg  \n",
            "  inflating: train/pokemon_jpg/pokemon_jpg/464.jpg  \n",
            "  inflating: train/pokemon_jpg/pokemon_jpg/465.jpg  \n",
            "  inflating: train/pokemon_jpg/pokemon_jpg/466.jpg  \n",
            "  inflating: train/pokemon_jpg/pokemon_jpg/467.jpg  \n",
            "  inflating: train/pokemon_jpg/pokemon_jpg/468.jpg  \n",
            "  inflating: train/pokemon_jpg/pokemon_jpg/469.jpg  \n",
            "  inflating: train/pokemon_jpg/pokemon_jpg/47.jpg  \n",
            "  inflating: train/pokemon_jpg/pokemon_jpg/470.jpg  \n",
            "  inflating: train/pokemon_jpg/pokemon_jpg/471.jpg  \n",
            "  inflating: train/pokemon_jpg/pokemon_jpg/472.jpg  \n",
            "  inflating: train/pokemon_jpg/pokemon_jpg/473.jpg  \n",
            "  inflating: train/pokemon_jpg/pokemon_jpg/474.jpg  \n",
            "  inflating: train/pokemon_jpg/pokemon_jpg/475-mega.jpg  \n",
            "  inflating: train/pokemon_jpg/pokemon_jpg/475.jpg  \n",
            "  inflating: train/pokemon_jpg/pokemon_jpg/476.jpg  \n",
            "  inflating: train/pokemon_jpg/pokemon_jpg/477.jpg  \n",
            "  inflating: train/pokemon_jpg/pokemon_jpg/478.jpg  \n",
            "  inflating: train/pokemon_jpg/pokemon_jpg/479-fan.jpg  \n",
            "  inflating: train/pokemon_jpg/pokemon_jpg/479-frost.jpg  \n",
            "  inflating: train/pokemon_jpg/pokemon_jpg/479-heat.jpg  \n",
            "  inflating: train/pokemon_jpg/pokemon_jpg/479-mow.jpg  \n",
            "  inflating: train/pokemon_jpg/pokemon_jpg/479-wash.jpg  \n",
            "  inflating: train/pokemon_jpg/pokemon_jpg/479.jpg  \n",
            "  inflating: train/pokemon_jpg/pokemon_jpg/48.jpg  \n",
            "  inflating: train/pokemon_jpg/pokemon_jpg/480.jpg  \n",
            "  inflating: train/pokemon_jpg/pokemon_jpg/481.jpg  \n",
            "  inflating: train/pokemon_jpg/pokemon_jpg/482.jpg  \n",
            "  inflating: train/pokemon_jpg/pokemon_jpg/483.jpg  \n",
            "  inflating: train/pokemon_jpg/pokemon_jpg/484.jpg  \n",
            "  inflating: train/pokemon_jpg/pokemon_jpg/485.jpg  \n",
            "  inflating: train/pokemon_jpg/pokemon_jpg/486.jpg  \n",
            "  inflating: train/pokemon_jpg/pokemon_jpg/487-altered.jpg  \n",
            "  inflating: train/pokemon_jpg/pokemon_jpg/487-origin.jpg  \n",
            "  inflating: train/pokemon_jpg/pokemon_jpg/488.jpg  \n",
            "  inflating: train/pokemon_jpg/pokemon_jpg/489.jpg  \n",
            "  inflating: train/pokemon_jpg/pokemon_jpg/49.jpg  \n",
            "  inflating: train/pokemon_jpg/pokemon_jpg/490.jpg  \n",
            "  inflating: train/pokemon_jpg/pokemon_jpg/491.jpg  \n",
            "  inflating: train/pokemon_jpg/pokemon_jpg/492-land.jpg  \n",
            "  inflating: train/pokemon_jpg/pokemon_jpg/492-sky.jpg  \n",
            "  inflating: train/pokemon_jpg/pokemon_jpg/493-normal.jpg  \n",
            "  inflating: train/pokemon_jpg/pokemon_jpg/494.jpg  \n",
            "  inflating: train/pokemon_jpg/pokemon_jpg/495.jpg  \n",
            "  inflating: train/pokemon_jpg/pokemon_jpg/496.jpg  \n",
            "  inflating: train/pokemon_jpg/pokemon_jpg/497.jpg  \n",
            "  inflating: train/pokemon_jpg/pokemon_jpg/498.jpg  \n",
            "  inflating: train/pokemon_jpg/pokemon_jpg/499.jpg  \n",
            "  inflating: train/pokemon_jpg/pokemon_jpg/5.jpg  \n",
            "  inflating: train/pokemon_jpg/pokemon_jpg/50.jpg  \n",
            "  inflating: train/pokemon_jpg/pokemon_jpg/500.jpg  \n",
            "  inflating: train/pokemon_jpg/pokemon_jpg/501.jpg  \n",
            "  inflating: train/pokemon_jpg/pokemon_jpg/502.jpg  \n",
            "  inflating: train/pokemon_jpg/pokemon_jpg/503.jpg  \n",
            "  inflating: train/pokemon_jpg/pokemon_jpg/504.jpg  \n",
            "  inflating: train/pokemon_jpg/pokemon_jpg/505.jpg  \n",
            "  inflating: train/pokemon_jpg/pokemon_jpg/506.jpg  \n",
            "  inflating: train/pokemon_jpg/pokemon_jpg/507.jpg  \n",
            "  inflating: train/pokemon_jpg/pokemon_jpg/508.jpg  \n",
            "  inflating: train/pokemon_jpg/pokemon_jpg/509.jpg  \n",
            "  inflating: train/pokemon_jpg/pokemon_jpg/51.jpg  \n",
            "  inflating: train/pokemon_jpg/pokemon_jpg/510.jpg  \n",
            "  inflating: train/pokemon_jpg/pokemon_jpg/511.jpg  \n",
            "  inflating: train/pokemon_jpg/pokemon_jpg/512.jpg  \n",
            "  inflating: train/pokemon_jpg/pokemon_jpg/513.jpg  \n",
            "  inflating: train/pokemon_jpg/pokemon_jpg/514.jpg  \n",
            "  inflating: train/pokemon_jpg/pokemon_jpg/515.jpg  \n",
            "  inflating: train/pokemon_jpg/pokemon_jpg/516.jpg  \n",
            "  inflating: train/pokemon_jpg/pokemon_jpg/517.jpg  \n",
            "  inflating: train/pokemon_jpg/pokemon_jpg/518.jpg  \n",
            "  inflating: train/pokemon_jpg/pokemon_jpg/519.jpg  \n",
            "  inflating: train/pokemon_jpg/pokemon_jpg/52.jpg  \n",
            "  inflating: train/pokemon_jpg/pokemon_jpg/520.jpg  \n",
            "  inflating: train/pokemon_jpg/pokemon_jpg/521.jpg  \n",
            "  inflating: train/pokemon_jpg/pokemon_jpg/521f.jpg  \n",
            "  inflating: train/pokemon_jpg/pokemon_jpg/522.jpg  \n",
            "  inflating: train/pokemon_jpg/pokemon_jpg/523.jpg  \n",
            "  inflating: train/pokemon_jpg/pokemon_jpg/524.jpg  \n",
            "  inflating: train/pokemon_jpg/pokemon_jpg/525.jpg  \n",
            "  inflating: train/pokemon_jpg/pokemon_jpg/526.jpg  \n",
            "  inflating: train/pokemon_jpg/pokemon_jpg/527.jpg  \n",
            "  inflating: train/pokemon_jpg/pokemon_jpg/528.jpg  \n",
            "  inflating: train/pokemon_jpg/pokemon_jpg/529.jpg  \n",
            "  inflating: train/pokemon_jpg/pokemon_jpg/53.jpg  \n",
            "  inflating: train/pokemon_jpg/pokemon_jpg/530.jpg  \n",
            "  inflating: train/pokemon_jpg/pokemon_jpg/531-mega.jpg  \n",
            "  inflating: train/pokemon_jpg/pokemon_jpg/531.jpg  \n",
            "  inflating: train/pokemon_jpg/pokemon_jpg/532.jpg  \n",
            "  inflating: train/pokemon_jpg/pokemon_jpg/533.jpg  \n",
            "  inflating: train/pokemon_jpg/pokemon_jpg/534.jpg  \n",
            "  inflating: train/pokemon_jpg/pokemon_jpg/535.jpg  \n",
            "  inflating: train/pokemon_jpg/pokemon_jpg/536.jpg  \n",
            "  inflating: train/pokemon_jpg/pokemon_jpg/537.jpg  \n",
            "  inflating: train/pokemon_jpg/pokemon_jpg/538.jpg  \n",
            "  inflating: train/pokemon_jpg/pokemon_jpg/539.jpg  \n",
            "  inflating: train/pokemon_jpg/pokemon_jpg/54.jpg  \n",
            "  inflating: train/pokemon_jpg/pokemon_jpg/540.jpg  \n",
            "  inflating: train/pokemon_jpg/pokemon_jpg/541.jpg  \n",
            "  inflating: train/pokemon_jpg/pokemon_jpg/542.jpg  \n",
            "  inflating: train/pokemon_jpg/pokemon_jpg/543.jpg  \n",
            "  inflating: train/pokemon_jpg/pokemon_jpg/544.jpg  \n",
            "  inflating: train/pokemon_jpg/pokemon_jpg/545.jpg  \n",
            "  inflating: train/pokemon_jpg/pokemon_jpg/546.jpg  \n",
            "  inflating: train/pokemon_jpg/pokemon_jpg/547.jpg  \n",
            "  inflating: train/pokemon_jpg/pokemon_jpg/548.jpg  \n",
            "  inflating: train/pokemon_jpg/pokemon_jpg/549.jpg  \n",
            "  inflating: train/pokemon_jpg/pokemon_jpg/55.jpg  \n",
            "  inflating: train/pokemon_jpg/pokemon_jpg/550-blue-striped.jpg  \n",
            "  inflating: train/pokemon_jpg/pokemon_jpg/550-red-striped.jpg  \n",
            "  inflating: train/pokemon_jpg/pokemon_jpg/551.jpg  \n",
            "  inflating: train/pokemon_jpg/pokemon_jpg/552.jpg  \n",
            "  inflating: train/pokemon_jpg/pokemon_jpg/553.jpg  \n",
            "  inflating: train/pokemon_jpg/pokemon_jpg/554.jpg  \n",
            "  inflating: train/pokemon_jpg/pokemon_jpg/555-standard.jpg  \n",
            "  inflating: train/pokemon_jpg/pokemon_jpg/556.jpg  \n",
            "  inflating: train/pokemon_jpg/pokemon_jpg/557.jpg  \n",
            "  inflating: train/pokemon_jpg/pokemon_jpg/558.jpg  \n",
            "  inflating: train/pokemon_jpg/pokemon_jpg/559.jpg  \n",
            "  inflating: train/pokemon_jpg/pokemon_jpg/56.jpg  \n",
            "  inflating: train/pokemon_jpg/pokemon_jpg/560.jpg  \n",
            "  inflating: train/pokemon_jpg/pokemon_jpg/561.jpg  \n",
            "  inflating: train/pokemon_jpg/pokemon_jpg/562.jpg  \n",
            "  inflating: train/pokemon_jpg/pokemon_jpg/563.jpg  \n",
            "  inflating: train/pokemon_jpg/pokemon_jpg/564.jpg  \n",
            "  inflating: train/pokemon_jpg/pokemon_jpg/565.jpg  \n",
            "  inflating: train/pokemon_jpg/pokemon_jpg/566.jpg  \n",
            "  inflating: train/pokemon_jpg/pokemon_jpg/567.jpg  \n",
            "  inflating: train/pokemon_jpg/pokemon_jpg/568.jpg  \n",
            "  inflating: train/pokemon_jpg/pokemon_jpg/569.jpg  \n",
            "  inflating: train/pokemon_jpg/pokemon_jpg/57.jpg  \n",
            "  inflating: train/pokemon_jpg/pokemon_jpg/570.jpg  \n",
            "  inflating: train/pokemon_jpg/pokemon_jpg/571.jpg  \n",
            "  inflating: train/pokemon_jpg/pokemon_jpg/572.jpg  \n",
            "  inflating: train/pokemon_jpg/pokemon_jpg/573.jpg  \n",
            "  inflating: train/pokemon_jpg/pokemon_jpg/574.jpg  \n",
            "  inflating: train/pokemon_jpg/pokemon_jpg/575.jpg  \n",
            "  inflating: train/pokemon_jpg/pokemon_jpg/576.jpg  \n",
            "  inflating: train/pokemon_jpg/pokemon_jpg/577.jpg  \n",
            "  inflating: train/pokemon_jpg/pokemon_jpg/578.jpg  \n",
            "  inflating: train/pokemon_jpg/pokemon_jpg/579.jpg  \n",
            "  inflating: train/pokemon_jpg/pokemon_jpg/58.jpg  \n",
            "  inflating: train/pokemon_jpg/pokemon_jpg/580.jpg  \n",
            "  inflating: train/pokemon_jpg/pokemon_jpg/581.jpg  \n",
            "  inflating: train/pokemon_jpg/pokemon_jpg/582.jpg  \n",
            "  inflating: train/pokemon_jpg/pokemon_jpg/583.jpg  \n",
            "  inflating: train/pokemon_jpg/pokemon_jpg/584.jpg  \n",
            "  inflating: train/pokemon_jpg/pokemon_jpg/585-autumn.jpg  \n",
            "  inflating: train/pokemon_jpg/pokemon_jpg/585-spring.jpg  \n",
            "  inflating: train/pokemon_jpg/pokemon_jpg/585-summer.jpg  \n",
            "  inflating: train/pokemon_jpg/pokemon_jpg/585-winter.jpg  \n",
            "  inflating: train/pokemon_jpg/pokemon_jpg/586-autumn.jpg  \n",
            "  inflating: train/pokemon_jpg/pokemon_jpg/586-spring.jpg  \n",
            "  inflating: train/pokemon_jpg/pokemon_jpg/586-summer.jpg  \n",
            "  inflating: train/pokemon_jpg/pokemon_jpg/586-winter.jpg  \n",
            "  inflating: train/pokemon_jpg/pokemon_jpg/587.jpg  \n",
            "  inflating: train/pokemon_jpg/pokemon_jpg/588.jpg  \n",
            "  inflating: train/pokemon_jpg/pokemon_jpg/589.jpg  \n",
            "  inflating: train/pokemon_jpg/pokemon_jpg/59.jpg  \n",
            "  inflating: train/pokemon_jpg/pokemon_jpg/590.jpg  \n",
            "  inflating: train/pokemon_jpg/pokemon_jpg/591.jpg  \n",
            "  inflating: train/pokemon_jpg/pokemon_jpg/592.jpg  \n",
            "  inflating: train/pokemon_jpg/pokemon_jpg/592f.jpg  \n",
            "  inflating: train/pokemon_jpg/pokemon_jpg/593.jpg  \n",
            "  inflating: train/pokemon_jpg/pokemon_jpg/593f.jpg  \n",
            "  inflating: train/pokemon_jpg/pokemon_jpg/594.jpg  \n",
            "  inflating: train/pokemon_jpg/pokemon_jpg/595.jpg  \n",
            "  inflating: train/pokemon_jpg/pokemon_jpg/596.jpg  \n",
            "  inflating: train/pokemon_jpg/pokemon_jpg/597.jpg  \n",
            "  inflating: train/pokemon_jpg/pokemon_jpg/598.jpg  \n",
            "  inflating: train/pokemon_jpg/pokemon_jpg/599.jpg  \n",
            "  inflating: train/pokemon_jpg/pokemon_jpg/6-mega-x.jpg  \n",
            "  inflating: train/pokemon_jpg/pokemon_jpg/6-mega-y.jpg  \n",
            "  inflating: train/pokemon_jpg/pokemon_jpg/6.jpg  \n",
            "  inflating: train/pokemon_jpg/pokemon_jpg/60.jpg  \n",
            "  inflating: train/pokemon_jpg/pokemon_jpg/600.jpg  \n",
            "  inflating: train/pokemon_jpg/pokemon_jpg/601.jpg  \n",
            "  inflating: train/pokemon_jpg/pokemon_jpg/602.jpg  \n",
            "  inflating: train/pokemon_jpg/pokemon_jpg/603.jpg  \n",
            "  inflating: train/pokemon_jpg/pokemon_jpg/604.jpg  \n",
            "  inflating: train/pokemon_jpg/pokemon_jpg/605.jpg  \n",
            "  inflating: train/pokemon_jpg/pokemon_jpg/606.jpg  \n",
            "  inflating: train/pokemon_jpg/pokemon_jpg/607.jpg  \n",
            "  inflating: train/pokemon_jpg/pokemon_jpg/608.jpg  \n",
            "  inflating: train/pokemon_jpg/pokemon_jpg/609.jpg  \n",
            "  inflating: train/pokemon_jpg/pokemon_jpg/61.jpg  \n",
            "  inflating: train/pokemon_jpg/pokemon_jpg/610.jpg  \n",
            "  inflating: train/pokemon_jpg/pokemon_jpg/611.jpg  \n",
            "  inflating: train/pokemon_jpg/pokemon_jpg/612.jpg  \n",
            "  inflating: train/pokemon_jpg/pokemon_jpg/613.jpg  \n",
            "  inflating: train/pokemon_jpg/pokemon_jpg/614.jpg  \n",
            "  inflating: train/pokemon_jpg/pokemon_jpg/615.jpg  \n",
            "  inflating: train/pokemon_jpg/pokemon_jpg/616.jpg  \n",
            "  inflating: train/pokemon_jpg/pokemon_jpg/617.jpg  \n",
            "  inflating: train/pokemon_jpg/pokemon_jpg/618.jpg  \n",
            "  inflating: train/pokemon_jpg/pokemon_jpg/619.jpg  \n",
            "  inflating: train/pokemon_jpg/pokemon_jpg/62.jpg  \n",
            "  inflating: train/pokemon_jpg/pokemon_jpg/620.jpg  \n",
            "  inflating: train/pokemon_jpg/pokemon_jpg/621.jpg  \n",
            "  inflating: train/pokemon_jpg/pokemon_jpg/622.jpg  \n",
            "  inflating: train/pokemon_jpg/pokemon_jpg/623.jpg  \n",
            "  inflating: train/pokemon_jpg/pokemon_jpg/624.jpg  \n",
            "  inflating: train/pokemon_jpg/pokemon_jpg/625.jpg  \n",
            "  inflating: train/pokemon_jpg/pokemon_jpg/626.jpg  \n",
            "  inflating: train/pokemon_jpg/pokemon_jpg/627.jpg  \n",
            "  inflating: train/pokemon_jpg/pokemon_jpg/628.jpg  \n",
            "  inflating: train/pokemon_jpg/pokemon_jpg/629.jpg  \n",
            "  inflating: train/pokemon_jpg/pokemon_jpg/63.jpg  \n",
            "  inflating: train/pokemon_jpg/pokemon_jpg/630.jpg  \n",
            "  inflating: train/pokemon_jpg/pokemon_jpg/631.jpg  \n",
            "  inflating: train/pokemon_jpg/pokemon_jpg/632.jpg  \n",
            "  inflating: train/pokemon_jpg/pokemon_jpg/633.jpg  \n",
            "  inflating: train/pokemon_jpg/pokemon_jpg/634.jpg  \n",
            "  inflating: train/pokemon_jpg/pokemon_jpg/635.jpg  \n",
            "  inflating: train/pokemon_jpg/pokemon_jpg/636.jpg  \n",
            "  inflating: train/pokemon_jpg/pokemon_jpg/637.jpg  \n",
            "  inflating: train/pokemon_jpg/pokemon_jpg/638.jpg  \n",
            "  inflating: train/pokemon_jpg/pokemon_jpg/639.jpg  \n",
            "  inflating: train/pokemon_jpg/pokemon_jpg/64.jpg  \n",
            "  inflating: train/pokemon_jpg/pokemon_jpg/640.jpg  \n",
            "  inflating: train/pokemon_jpg/pokemon_jpg/641-incarnate.jpg  \n",
            "  inflating: train/pokemon_jpg/pokemon_jpg/641-therian.jpg  \n",
            "  inflating: train/pokemon_jpg/pokemon_jpg/642-incarnate.jpg  \n",
            "  inflating: train/pokemon_jpg/pokemon_jpg/642-therian.jpg  \n",
            "  inflating: train/pokemon_jpg/pokemon_jpg/643.jpg  \n",
            "  inflating: train/pokemon_jpg/pokemon_jpg/644.jpg  \n",
            "  inflating: train/pokemon_jpg/pokemon_jpg/645-incarnate.jpg  \n",
            "  inflating: train/pokemon_jpg/pokemon_jpg/645-therian.jpg  \n",
            "  inflating: train/pokemon_jpg/pokemon_jpg/646-black.jpg  \n",
            "  inflating: train/pokemon_jpg/pokemon_jpg/646-white.jpg  \n",
            "  inflating: train/pokemon_jpg/pokemon_jpg/646.jpg  \n",
            "  inflating: train/pokemon_jpg/pokemon_jpg/647-ordinary.jpg  \n",
            "  inflating: train/pokemon_jpg/pokemon_jpg/647-resolute.jpg  \n",
            "  inflating: train/pokemon_jpg/pokemon_jpg/648-pirouette.jpg  \n",
            "  inflating: train/pokemon_jpg/pokemon_jpg/648.jpg  \n",
            "  inflating: train/pokemon_jpg/pokemon_jpg/649.jpg  \n",
            "  inflating: train/pokemon_jpg/pokemon_jpg/65-mega.jpg  \n",
            "  inflating: train/pokemon_jpg/pokemon_jpg/65.jpg  \n",
            "  inflating: train/pokemon_jpg/pokemon_jpg/650.jpg  \n",
            "  inflating: train/pokemon_jpg/pokemon_jpg/651.jpg  \n",
            "  inflating: train/pokemon_jpg/pokemon_jpg/652.jpg  \n",
            "  inflating: train/pokemon_jpg/pokemon_jpg/653.jpg  \n",
            "  inflating: train/pokemon_jpg/pokemon_jpg/654.jpg  \n",
            "  inflating: train/pokemon_jpg/pokemon_jpg/655.jpg  \n",
            "  inflating: train/pokemon_jpg/pokemon_jpg/656.jpg  \n",
            "  inflating: train/pokemon_jpg/pokemon_jpg/657.jpg  \n",
            "  inflating: train/pokemon_jpg/pokemon_jpg/658.jpg  \n",
            "  inflating: train/pokemon_jpg/pokemon_jpg/659.jpg  \n",
            "  inflating: train/pokemon_jpg/pokemon_jpg/66.jpg  \n",
            "  inflating: train/pokemon_jpg/pokemon_jpg/660.jpg  \n",
            "  inflating: train/pokemon_jpg/pokemon_jpg/661.jpg  \n",
            "  inflating: train/pokemon_jpg/pokemon_jpg/662.jpg  \n",
            "  inflating: train/pokemon_jpg/pokemon_jpg/663.jpg  \n",
            "  inflating: train/pokemon_jpg/pokemon_jpg/664.jpg  \n",
            "  inflating: train/pokemon_jpg/pokemon_jpg/665.jpg  \n",
            "  inflating: train/pokemon_jpg/pokemon_jpg/666-elegant.jpg  \n",
            "  inflating: train/pokemon_jpg/pokemon_jpg/666.jpg  \n",
            "  inflating: train/pokemon_jpg/pokemon_jpg/667.jpg  \n",
            "  inflating: train/pokemon_jpg/pokemon_jpg/668.jpg  \n",
            "  inflating: train/pokemon_jpg/pokemon_jpg/668f.jpg  \n",
            "  inflating: train/pokemon_jpg/pokemon_jpg/669.jpg  \n",
            "  inflating: train/pokemon_jpg/pokemon_jpg/67.jpg  \n",
            "  inflating: train/pokemon_jpg/pokemon_jpg/670.jpg  \n",
            "  inflating: train/pokemon_jpg/pokemon_jpg/671.jpg  \n",
            "  inflating: train/pokemon_jpg/pokemon_jpg/672.jpg  \n",
            "  inflating: train/pokemon_jpg/pokemon_jpg/673.jpg  \n",
            "  inflating: train/pokemon_jpg/pokemon_jpg/674.jpg  \n",
            "  inflating: train/pokemon_jpg/pokemon_jpg/675.jpg  \n",
            "  inflating: train/pokemon_jpg/pokemon_jpg/676-diamond.jpg  \n",
            "  inflating: train/pokemon_jpg/pokemon_jpg/676-heart.jpg  \n",
            "  inflating: train/pokemon_jpg/pokemon_jpg/676-star.jpg  \n",
            "  inflating: train/pokemon_jpg/pokemon_jpg/676.jpg  \n",
            "  inflating: train/pokemon_jpg/pokemon_jpg/677.jpg  \n",
            "  inflating: train/pokemon_jpg/pokemon_jpg/678.jpg  \n",
            "  inflating: train/pokemon_jpg/pokemon_jpg/678f.jpg  \n",
            "  inflating: train/pokemon_jpg/pokemon_jpg/679.jpg  \n",
            "  inflating: train/pokemon_jpg/pokemon_jpg/68.jpg  \n",
            "  inflating: train/pokemon_jpg/pokemon_jpg/680.jpg  \n",
            "  inflating: train/pokemon_jpg/pokemon_jpg/681-blade.jpg  \n",
            "  inflating: train/pokemon_jpg/pokemon_jpg/681-shield.jpg  \n",
            "  inflating: train/pokemon_jpg/pokemon_jpg/681.jpg  \n",
            "  inflating: train/pokemon_jpg/pokemon_jpg/682.jpg  \n",
            "  inflating: train/pokemon_jpg/pokemon_jpg/683.jpg  \n",
            "  inflating: train/pokemon_jpg/pokemon_jpg/684.jpg  \n",
            "  inflating: train/pokemon_jpg/pokemon_jpg/685.jpg  \n",
            "  inflating: train/pokemon_jpg/pokemon_jpg/686.jpg  \n",
            "  inflating: train/pokemon_jpg/pokemon_jpg/687.jpg  \n",
            "  inflating: train/pokemon_jpg/pokemon_jpg/688.jpg  \n",
            "  inflating: train/pokemon_jpg/pokemon_jpg/689.jpg  \n",
            "  inflating: train/pokemon_jpg/pokemon_jpg/69.jpg  \n",
            "  inflating: train/pokemon_jpg/pokemon_jpg/690.jpg  \n",
            "  inflating: train/pokemon_jpg/pokemon_jpg/691.jpg  \n",
            "  inflating: train/pokemon_jpg/pokemon_jpg/692.jpg  \n",
            "  inflating: train/pokemon_jpg/pokemon_jpg/693.jpg  \n",
            "  inflating: train/pokemon_jpg/pokemon_jpg/694.jpg  \n",
            "  inflating: train/pokemon_jpg/pokemon_jpg/695.jpg  \n",
            "  inflating: train/pokemon_jpg/pokemon_jpg/696.jpg  \n",
            "  inflating: train/pokemon_jpg/pokemon_jpg/697.jpg  \n",
            "  inflating: train/pokemon_jpg/pokemon_jpg/698.jpg  \n",
            "  inflating: train/pokemon_jpg/pokemon_jpg/699.jpg  \n",
            "  inflating: train/pokemon_jpg/pokemon_jpg/7.jpg  \n",
            "  inflating: train/pokemon_jpg/pokemon_jpg/70.jpg  \n",
            "  inflating: train/pokemon_jpg/pokemon_jpg/700.jpg  \n",
            "  inflating: train/pokemon_jpg/pokemon_jpg/701.jpg  \n",
            "  inflating: train/pokemon_jpg/pokemon_jpg/702.jpg  \n",
            "  inflating: train/pokemon_jpg/pokemon_jpg/703.jpg  \n",
            "  inflating: train/pokemon_jpg/pokemon_jpg/704.jpg  \n",
            "  inflating: train/pokemon_jpg/pokemon_jpg/705.jpg  \n",
            "  inflating: train/pokemon_jpg/pokemon_jpg/706.jpg  \n",
            "  inflating: train/pokemon_jpg/pokemon_jpg/707.jpg  \n",
            "  inflating: train/pokemon_jpg/pokemon_jpg/708.jpg  \n",
            "  inflating: train/pokemon_jpg/pokemon_jpg/709.jpg  \n",
            "  inflating: train/pokemon_jpg/pokemon_jpg/71.jpg  \n",
            "  inflating: train/pokemon_jpg/pokemon_jpg/710.jpg  \n",
            "  inflating: train/pokemon_jpg/pokemon_jpg/711.jpg  \n",
            "  inflating: train/pokemon_jpg/pokemon_jpg/712.jpg  \n",
            "  inflating: train/pokemon_jpg/pokemon_jpg/713.jpg  \n",
            "  inflating: train/pokemon_jpg/pokemon_jpg/714.jpg  \n",
            "  inflating: train/pokemon_jpg/pokemon_jpg/715.jpg  \n",
            "  inflating: train/pokemon_jpg/pokemon_jpg/716.jpg  \n",
            "  inflating: train/pokemon_jpg/pokemon_jpg/717.jpg  \n",
            "  inflating: train/pokemon_jpg/pokemon_jpg/718.jpg  \n",
            "  inflating: train/pokemon_jpg/pokemon_jpg/719-mega.jpg  \n",
            "  inflating: train/pokemon_jpg/pokemon_jpg/719.jpg  \n",
            "  inflating: train/pokemon_jpg/pokemon_jpg/72.jpg  \n",
            "  inflating: train/pokemon_jpg/pokemon_jpg/720-unbound.jpg  \n",
            "  inflating: train/pokemon_jpg/pokemon_jpg/720.jpg  \n",
            "  inflating: train/pokemon_jpg/pokemon_jpg/721.jpg  \n",
            "  inflating: train/pokemon_jpg/pokemon_jpg/73.jpg  \n",
            "  inflating: train/pokemon_jpg/pokemon_jpg/74.jpg  \n",
            "  inflating: train/pokemon_jpg/pokemon_jpg/75.jpg  \n",
            "  inflating: train/pokemon_jpg/pokemon_jpg/76.jpg  \n",
            "  inflating: train/pokemon_jpg/pokemon_jpg/77.jpg  \n",
            "  inflating: train/pokemon_jpg/pokemon_jpg/78.jpg  \n",
            "  inflating: train/pokemon_jpg/pokemon_jpg/79.jpg  \n",
            "  inflating: train/pokemon_jpg/pokemon_jpg/8.jpg  \n",
            "  inflating: train/pokemon_jpg/pokemon_jpg/80-mega.jpg  \n",
            "  inflating: train/pokemon_jpg/pokemon_jpg/80.jpg  \n",
            "  inflating: train/pokemon_jpg/pokemon_jpg/81.jpg  \n",
            "  inflating: train/pokemon_jpg/pokemon_jpg/82.jpg  \n",
            "  inflating: train/pokemon_jpg/pokemon_jpg/83.jpg  \n",
            "  inflating: train/pokemon_jpg/pokemon_jpg/84.jpg  \n",
            "  inflating: train/pokemon_jpg/pokemon_jpg/85.jpg  \n",
            "  inflating: train/pokemon_jpg/pokemon_jpg/86.jpg  \n",
            "  inflating: train/pokemon_jpg/pokemon_jpg/87.jpg  \n",
            "  inflating: train/pokemon_jpg/pokemon_jpg/88.jpg  \n",
            "  inflating: train/pokemon_jpg/pokemon_jpg/89.jpg  \n",
            "  inflating: train/pokemon_jpg/pokemon_jpg/9-mega.jpg  \n",
            "  inflating: train/pokemon_jpg/pokemon_jpg/9.jpg  \n",
            "  inflating: train/pokemon_jpg/pokemon_jpg/90.jpg  \n",
            "  inflating: train/pokemon_jpg/pokemon_jpg/91.jpg  \n",
            "  inflating: train/pokemon_jpg/pokemon_jpg/92.jpg  \n",
            "  inflating: train/pokemon_jpg/pokemon_jpg/93.jpg  \n",
            "  inflating: train/pokemon_jpg/pokemon_jpg/94-mega.jpg  \n",
            "  inflating: train/pokemon_jpg/pokemon_jpg/94.jpg  \n",
            "  inflating: train/pokemon_jpg/pokemon_jpg/95.jpg  \n",
            "  inflating: train/pokemon_jpg/pokemon_jpg/96.jpg  \n",
            "  inflating: train/pokemon_jpg/pokemon_jpg/97.jpg  \n",
            "  inflating: train/pokemon_jpg/pokemon_jpg/98.jpg  \n",
            "  inflating: train/pokemon_jpg/pokemon_jpg/99.jpg  \n"
          ]
        }
      ]
    },
    {
      "cell_type": "code",
      "source": [
        "# Imports\n",
        "import tensorflow as tf\n",
        "from glob import glob\n",
        "from matplotlib import pyplot\n",
        "import cv2\n",
        "import numpy as np\n",
        "from tensorflow.keras.layers import *\n",
        "from tensorflow.keras.models import Model\n",
        "from tensorflow.keras.optimizers import Adam"
      ],
      "metadata": {
        "id": "AhXESEEPAqY8"
      },
      "execution_count": 15,
      "outputs": []
    },
    {
      "cell_type": "code",
      "source": [
        "#Constants\n",
        "EPOCHS = 1000\n",
        "IMAGE_HEIGHT = 64\n",
        "IMAGE_WIDTH = 64\n",
        "IMAGE_CHANNELS = 4\n",
        "BATCH_SIZE = 128\n",
        "LATENT_DIMENSION = 128\n",
        "W_INIT  = tf.keras.initializers.RandomNormal(mean=0.0, stddev=0.02)\n",
        "IMAGE_PATH = glob(\"/content/train/pokemon/pokemon/*\")\n"
      ],
      "metadata": {
        "id": "9suULcwRCRlL"
      },
      "execution_count": 29,
      "outputs": []
    },
    {
      "cell_type": "code",
      "source": [
        "def load_image(path_to_image):\n",
        "  image = tf.io.read_file(path_to_image)\n",
        "  image = tf.io.decode_png(image)\n",
        "  image = tf.image.resize(image,size=[IMAGE_HEIGHT, IMAGE_WIDTH])\n",
        "  image = tf.cast(image, dtype=tf.float32)\n",
        "  image = (image - 127.5)/127.5\n",
        "  return image\n",
        "\n",
        "def dataset_pipeline(path_to_image, batch_size):\n",
        "  dataset =  tf.data.Dataset.from_tensor_slices(path_to_image)\n",
        "  dataset = dataset.shuffle(buffer_size=1024)\n",
        "  dataset = dataset.map(load_image, num_parallel_calls=tf.data.experimental.AUTOTUNE)\n",
        "  dataset = dataset.batch(batch_size)\n",
        "  dataset = dataset.prefetch(buffer_size=tf.data.experimental.AUTOTUNE)\n",
        "  return dataset\n"
      ],
      "metadata": {
        "id": "yKfdYtOnA8j4"
      },
      "execution_count": 17,
      "outputs": []
    },
    {
      "cell_type": "code",
      "source": [
        "imgs_dataset =  dataset_pipeline(path_to_image=IMAGE_PATH, batch_size=BATCH_SIZE)\n",
        "for x in imgs_dataset: print(x.shape)\n",
        "print(len(imgs_dataset))"
      ],
      "metadata": {
        "colab": {
          "base_uri": "https://localhost:8080/"
        },
        "id": "rLHzuTqDGcoA",
        "outputId": "8748b3e5-64fc-44c5-d57b-2b932452e062"
      },
      "execution_count": 18,
      "outputs": [
        {
          "output_type": "stream",
          "name": "stdout",
          "text": [
            "(128, 64, 64, 4)\n",
            "(128, 64, 64, 4)\n",
            "(128, 64, 64, 4)\n",
            "(128, 64, 64, 4)\n",
            "(128, 64, 64, 4)\n",
            "(128, 64, 64, 4)\n",
            "(51, 64, 64, 4)\n",
            "7\n"
          ]
        }
      ]
    },
    {
      "cell_type": "code",
      "source": [
        "from tensorflow.python.ops.array_ops import BatchToSpaceND\n",
        "def deconv_bloc(inputs, num_filters, kernel_size, strides, bn=True):\n",
        "  x = Conv2DTranspose(\n",
        "      filters=num_filters,\n",
        "      kernel_size=kernel_size,\n",
        "      kernel_initializer = W_INIT,\n",
        "      padding=\"same\",\n",
        "      strides=strides,\n",
        "      use_bias=False\n",
        "  )(inputs)\n",
        "  if bn:\n",
        "    x = BatchNormalization()(x)\n",
        "    x = LeakyReLU(alpha=0.2)(x)\n",
        "  return x\n",
        "\n",
        "def conv_block(inputs, num_filters, kernel_size, padding=\"same\", strides=2, activation=True):\n",
        "  x = Conv2D(\n",
        "       filters=num_filters,\n",
        "      kernel_size=kernel_size,\n",
        "      kernel_initializer = W_INIT,\n",
        "      padding=padding,\n",
        "      strides=strides \n",
        "  )(inputs)\n",
        "  if activation:\n",
        "    x = LeakyReLU(alpha=0.2)(x)\n",
        "    x = Dropout(0.3)(x)\n",
        "  return x\n",
        "\n",
        "\n",
        "def build_gen(latent_dimension):\n",
        "  f = [2**i for i in range(5) ][::-1]\n",
        "  filters = 32\n",
        "  output_strides = 16\n",
        "  h_output = IMAGE_HEIGHT//output_strides\n",
        "  w_output = IMAGE_WIDTH//output_strides\n",
        "\n",
        "  noise = Input(shape=(latent_dimension,), name=\"gen_noise_input\")\n",
        "  x = Dense(f[0] * filters * h_output * w_output, use_bias=False)(noise)\n",
        "  x = BatchNormalization()(x)\n",
        "  x = LeakyReLU(alpha=0.2)(x)\n",
        "  x = Reshape((h_output, w_output, f[0] * filters))(x)\n",
        "  for i in range(1,5):\n",
        "    x = deconv_bloc(\n",
        "        x,\n",
        "        num_filters=f[i]*filters,\n",
        "        kernel_size=5,\n",
        "        strides=2,\n",
        "        bn=True\n",
        "    )\n",
        "  x = conv_block(\n",
        "        x,\n",
        "        activation=False,\n",
        "        kernel_size=5,\n",
        "        strides=1,\n",
        "        num_filters=4\n",
        "    )\n",
        "  fake_output = Activation(\"tanh\")(x)\n",
        "  return Model(noise, fake_output, name=\"generator\")\n",
        "\n",
        "def build_dicriminator():\n",
        "  f = [2**i for i in range(4)]\n",
        "  filters = 64\n",
        "  output_strides = 16\n",
        "  h_output = IMAGE_HEIGHT//output_strides\n",
        "  w_output = IMAGE_WIDTH//output_strides\n",
        "\n",
        "  image_input = Input(shape=(IMAGE_WIDTH, IMAGE_HEIGHT, 4), name=\"images\")\n",
        "  x = image_input\n",
        "  for i in range(0, 4):\n",
        "    x = conv_block(\n",
        "        x,\n",
        "        kernel_size=5,\n",
        "        strides=2,\n",
        "        num_filters= f[i]*filters\n",
        "    )\n",
        "  x = Flatten()(x)\n",
        "  x = Dense(1)(x)\n",
        "  return Model(image_input, x, name=\"discriminator\")\n",
        "  \n",
        "dicriminator_model = build_dicriminator()\n",
        "generator_model = build_gen(latent_dimension=LATENT_DIMENSION)\n",
        "generator_model.summary()\n",
        "dicriminator_model.summary()"
      ],
      "metadata": {
        "colab": {
          "base_uri": "https://localhost:8080/"
        },
        "id": "NddtJ-BGJwvR",
        "outputId": "d6c4c4ae-9c5a-4ab9-afc6-6a69a29400de"
      },
      "execution_count": 19,
      "outputs": [
        {
          "output_type": "stream",
          "name": "stdout",
          "text": [
            "Model: \"generator\"\n",
            "_________________________________________________________________\n",
            " Layer (type)                Output Shape              Param #   \n",
            "=================================================================\n",
            " gen_noise_input (InputLayer  [(None, 128)]            0         \n",
            " )                                                               \n",
            "                                                                 \n",
            " dense_1 (Dense)             (None, 8192)              1048576   \n",
            "                                                                 \n",
            " batch_normalization (BatchN  (None, 8192)             32768     \n",
            " ormalization)                                                   \n",
            "                                                                 \n",
            " leaky_re_lu_4 (LeakyReLU)   (None, 8192)              0         \n",
            "                                                                 \n",
            " reshape (Reshape)           (None, 4, 4, 512)         0         \n",
            "                                                                 \n",
            " conv2d_transpose (Conv2DTra  (None, 8, 8, 256)        3276800   \n",
            " nspose)                                                         \n",
            "                                                                 \n",
            " batch_normalization_1 (Batc  (None, 8, 8, 256)        1024      \n",
            " hNormalization)                                                 \n",
            "                                                                 \n",
            " leaky_re_lu_5 (LeakyReLU)   (None, 8, 8, 256)         0         \n",
            "                                                                 \n",
            " conv2d_transpose_1 (Conv2DT  (None, 16, 16, 128)      819200    \n",
            " ranspose)                                                       \n",
            "                                                                 \n",
            " batch_normalization_2 (Batc  (None, 16, 16, 128)      512       \n",
            " hNormalization)                                                 \n",
            "                                                                 \n",
            " leaky_re_lu_6 (LeakyReLU)   (None, 16, 16, 128)       0         \n",
            "                                                                 \n",
            " conv2d_transpose_2 (Conv2DT  (None, 32, 32, 64)       204800    \n",
            " ranspose)                                                       \n",
            "                                                                 \n",
            " batch_normalization_3 (Batc  (None, 32, 32, 64)       256       \n",
            " hNormalization)                                                 \n",
            "                                                                 \n",
            " leaky_re_lu_7 (LeakyReLU)   (None, 32, 32, 64)        0         \n",
            "                                                                 \n",
            " conv2d_transpose_3 (Conv2DT  (None, 64, 64, 32)       51200     \n",
            " ranspose)                                                       \n",
            "                                                                 \n",
            " batch_normalization_4 (Batc  (None, 64, 64, 32)       128       \n",
            " hNormalization)                                                 \n",
            "                                                                 \n",
            " leaky_re_lu_8 (LeakyReLU)   (None, 64, 64, 32)        0         \n",
            "                                                                 \n",
            " conv2d_4 (Conv2D)           (None, 64, 64, 4)         3204      \n",
            "                                                                 \n",
            " activation (Activation)     (None, 64, 64, 4)         0         \n",
            "                                                                 \n",
            "=================================================================\n",
            "Total params: 5,438,468\n",
            "Trainable params: 5,421,124\n",
            "Non-trainable params: 17,344\n",
            "_________________________________________________________________\n",
            "Model: \"discriminator\"\n",
            "_________________________________________________________________\n",
            " Layer (type)                Output Shape              Param #   \n",
            "=================================================================\n",
            " images (InputLayer)         [(None, 64, 64, 4)]       0         \n",
            "                                                                 \n",
            " conv2d (Conv2D)             (None, 32, 32, 64)        6464      \n",
            "                                                                 \n",
            " leaky_re_lu (LeakyReLU)     (None, 32, 32, 64)        0         \n",
            "                                                                 \n",
            " dropout (Dropout)           (None, 32, 32, 64)        0         \n",
            "                                                                 \n",
            " conv2d_1 (Conv2D)           (None, 16, 16, 128)       204928    \n",
            "                                                                 \n",
            " leaky_re_lu_1 (LeakyReLU)   (None, 16, 16, 128)       0         \n",
            "                                                                 \n",
            " dropout_1 (Dropout)         (None, 16, 16, 128)       0         \n",
            "                                                                 \n",
            " conv2d_2 (Conv2D)           (None, 8, 8, 256)         819456    \n",
            "                                                                 \n",
            " leaky_re_lu_2 (LeakyReLU)   (None, 8, 8, 256)         0         \n",
            "                                                                 \n",
            " dropout_2 (Dropout)         (None, 8, 8, 256)         0         \n",
            "                                                                 \n",
            " conv2d_3 (Conv2D)           (None, 4, 4, 512)         3277312   \n",
            "                                                                 \n",
            " leaky_re_lu_3 (LeakyReLU)   (None, 4, 4, 512)         0         \n",
            "                                                                 \n",
            " dropout_3 (Dropout)         (None, 4, 4, 512)         0         \n",
            "                                                                 \n",
            " flatten (Flatten)           (None, 8192)              0         \n",
            "                                                                 \n",
            " dense (Dense)               (None, 1)                 8193      \n",
            "                                                                 \n",
            "=================================================================\n",
            "Total params: 4,316,353\n",
            "Trainable params: 4,316,353\n",
            "Non-trainable params: 0\n",
            "_________________________________________________________________\n"
          ]
        }
      ]
    },
    {
      "cell_type": "code",
      "source": [
        "class GAN(Model):\n",
        "  def __init__(self, discriminator, generator, latent_dimension, *args, **kwargs):\n",
        "    super().__init__(*args, **kwargs )\n",
        "    self.discriminator = discriminator\n",
        "    self.generator = generator\n",
        "    self.latent_dimension = latent_dimension\n",
        "  def compile(self, d_optimizer, g_optimizer, loss_funtion,*args, **kwargs):\n",
        "    super().compile(*args, **kwargs)\n",
        "    self.d_optimizer = d_optimizer\n",
        "    self.g_optimizer =g_optimizer\n",
        "    self.loss_funtion = loss_funtion\n",
        "\n",
        "  def train_step(self, real_images):\n",
        "    batch_size = tf.shape(real_images)[0]\n",
        "    for _ in range(2):\n",
        "      random_lantent_vectors = tf.random.normal(shape=(batch_size, self.latent_dimension))\n",
        "      generated_images  = self.generator(random_lantent_vectors)\n",
        "      generated_labels = tf.zeros((batch_size, 1))\n",
        "      with tf.GradientTape() as ftape:\n",
        "        predictions = self.discriminator(generated_images)\n",
        "        dl_loss = self.loss_funtion(generated_labels, predictions)\n",
        "      grads = ftape.gradient(dl_loss, self.discriminator.trainable_weights)\n",
        "      self.d_optimizer.apply_gradients(zip(grads, self.discriminator.trainable_weights))\n",
        "\n",
        "      labels = tf.ones((batch_size, 1))\n",
        "      with tf.GradientTape() as rtape:\n",
        "        predictions = self.discriminator(real_images)\n",
        "        d2_loss = self.loss_funtion(labels, predictions)\n",
        "      grads = rtape.gradient(d2_loss, self.discriminator.trainable_weights)\n",
        "      self.d_optimizer.apply_gradients(zip(grads, self.discriminator.trainable_weights))\n",
        "\n",
        "\n",
        "    random_lantent_vectors = tf.random.normal(shape=(batch_size, self.latent_dimension))\n",
        "    misleading_labels = tf.ones((batch_size, 1))\n",
        "    with tf.GradientTape() as gtape:\n",
        "      predictions = self.discriminator(self.generator(random_lantent_vectors))\n",
        "      g_loss = self.loss_funtion(misleading_labels, predictions)\n",
        "    grads = gtape.gradient(g_loss, self.generator.trainable_weights)\n",
        "    self.g_optimizer.apply_gradients(zip(grads, self.generator.trainable_weights))\n",
        "    return{\"d1_loss\":dl_loss, \"d2_loss\":d2_loss, \"g_loss\":g_loss}\n",
        "  \n",
        "gan = GAN(dicriminator_model, generator_model, latent_dimension=LATENT_DIMENSION)\n",
        "\n",
        "bce_loss_fn = tf.keras.losses.BinaryCrossentropy(from_logits=True, label_smoothing=0.1)\n",
        "\n",
        "d_optimizer = Adam(learning_rate=0.0002, beta_1=0.5)\n",
        "\n",
        "g_optimizer = Adam(learning_rate=0.0002, beta_1=0.5)\n",
        "gan.compile(d_optimizer, g_optimizer, bce_loss_fn)\n",
        "\n",
        "images_dataset = dataset_pipeline(path_to_image=IMAGE_PATH, batch_size=BATCH_SIZE)\n",
        "\n",
        "def save_image(examples, epoch, n):\n",
        "  examples = (examples+1)/2.0\n",
        "  for i in range(n*n):\n",
        "    pyplot.subplot(n, n, i+1)\n",
        "    pyplot.axis(\"off\")\n",
        "    pyplot.imshow(examples[i])\n",
        "  filename = f\"generated/fake_pokemon_epoch{epoch+1}.png\"\n",
        "  pyplot.savefig(filename)\n",
        "  pyplot.close()\n",
        "for epoch  in range(EPOCHS):\n",
        "  print(\"********** TRAINING THE GAN **********\")\n",
        "  gan.fit(images_dataset, epochs=1) \n",
        "  generator_model.save(\"saved_model/generator.h5\")\n",
        "  dicriminator_model.save(\"saved_model/discriminator.h5\")\n",
        "  n_samples = 25\n",
        "  noise = np.random.normal(size=(n_samples,LATENT_DIMENSION))\n",
        "  examples = generator_model.predict(noise)\n",
        "  save_image(examples, epoch, int(np.sqrt(n_samples)))\n",
        "\n",
        "\n",
        "\n",
        "gan.summary()\n"
      ],
      "metadata": {
        "colab": {
          "base_uri": "https://localhost:8080/",
          "height": 1000
        },
        "id": "grmd8rBlVUA_",
        "outputId": "b0c4a526-be78-4a86-a950-c83f90f0cece"
      },
      "execution_count": 30,
      "outputs": [
        {
          "output_type": "stream",
          "name": "stdout",
          "text": [
            "********** TRAINING THE GAN **********\n",
            "7/7 [==============================] - 6s 397ms/step - d1_loss: 0.2222 - d2_loss: 0.2194 - g_loss: 3.1039\n"
          ]
        },
        {
          "output_type": "stream",
          "name": "stderr",
          "text": [
            "WARNING:tensorflow:Compiled the loaded model, but the compiled metrics have yet to be built. `model.compile_metrics` will be empty until you train or evaluate the model.\n",
            "WARNING:tensorflow:Compiled the loaded model, but the compiled metrics have yet to be built. `model.compile_metrics` will be empty until you train or evaluate the model.\n"
          ]
        },
        {
          "output_type": "stream",
          "name": "stdout",
          "text": [
            "1/1 [==============================] - 0s 17ms/step\n",
            "********** TRAINING THE GAN **********\n",
            "7/7 [==============================] - 3s 397ms/step - d1_loss: 0.2161 - d2_loss: 0.2141 - g_loss: 3.0151\n"
          ]
        },
        {
          "output_type": "stream",
          "name": "stderr",
          "text": [
            "WARNING:tensorflow:Compiled the loaded model, but the compiled metrics have yet to be built. `model.compile_metrics` will be empty until you train or evaluate the model.\n",
            "WARNING:tensorflow:Compiled the loaded model, but the compiled metrics have yet to be built. `model.compile_metrics` will be empty until you train or evaluate the model.\n"
          ]
        },
        {
          "output_type": "stream",
          "name": "stdout",
          "text": [
            "1/1 [==============================] - 0s 18ms/step\n",
            "********** TRAINING THE GAN **********\n",
            "7/7 [==============================] - 3s 402ms/step - d1_loss: 0.2189 - d2_loss: 0.2198 - g_loss: 3.1025\n"
          ]
        },
        {
          "output_type": "stream",
          "name": "stderr",
          "text": [
            "WARNING:tensorflow:Compiled the loaded model, but the compiled metrics have yet to be built. `model.compile_metrics` will be empty until you train or evaluate the model.\n",
            "WARNING:tensorflow:Compiled the loaded model, but the compiled metrics have yet to be built. `model.compile_metrics` will be empty until you train or evaluate the model.\n"
          ]
        },
        {
          "output_type": "stream",
          "name": "stdout",
          "text": [
            "1/1 [==============================] - 0s 20ms/step\n",
            "********** TRAINING THE GAN **********\n",
            "7/7 [==============================] - 3s 404ms/step - d1_loss: 0.2484 - d2_loss: 0.2465 - g_loss: 3.2449\n"
          ]
        },
        {
          "output_type": "stream",
          "name": "stderr",
          "text": [
            "WARNING:tensorflow:Compiled the loaded model, but the compiled metrics have yet to be built. `model.compile_metrics` will be empty until you train or evaluate the model.\n",
            "WARNING:tensorflow:Compiled the loaded model, but the compiled metrics have yet to be built. `model.compile_metrics` will be empty until you train or evaluate the model.\n"
          ]
        },
        {
          "output_type": "stream",
          "name": "stdout",
          "text": [
            "1/1 [==============================] - 0s 16ms/step\n",
            "********** TRAINING THE GAN **********\n",
            "7/7 [==============================] - 3s 406ms/step - d1_loss: 0.2179 - d2_loss: 0.2123 - g_loss: 2.9532\n"
          ]
        },
        {
          "output_type": "stream",
          "name": "stderr",
          "text": [
            "WARNING:tensorflow:Compiled the loaded model, but the compiled metrics have yet to be built. `model.compile_metrics` will be empty until you train or evaluate the model.\n",
            "WARNING:tensorflow:Compiled the loaded model, but the compiled metrics have yet to be built. `model.compile_metrics` will be empty until you train or evaluate the model.\n"
          ]
        },
        {
          "output_type": "stream",
          "name": "stdout",
          "text": [
            "1/1 [==============================] - 0s 15ms/step\n",
            "********** TRAINING THE GAN **********\n",
            "7/7 [==============================] - 3s 407ms/step - d1_loss: 0.2176 - d2_loss: 0.2184 - g_loss: 2.9751\n"
          ]
        },
        {
          "output_type": "stream",
          "name": "stderr",
          "text": [
            "WARNING:tensorflow:Compiled the loaded model, but the compiled metrics have yet to be built. `model.compile_metrics` will be empty until you train or evaluate the model.\n",
            "WARNING:tensorflow:Compiled the loaded model, but the compiled metrics have yet to be built. `model.compile_metrics` will be empty until you train or evaluate the model.\n"
          ]
        },
        {
          "output_type": "stream",
          "name": "stdout",
          "text": [
            "1/1 [==============================] - 0s 18ms/step\n",
            "********** TRAINING THE GAN **********\n",
            "7/7 [==============================] - 3s 411ms/step - d1_loss: 0.2207 - d2_loss: 0.2206 - g_loss: 3.0771\n"
          ]
        },
        {
          "output_type": "stream",
          "name": "stderr",
          "text": [
            "WARNING:tensorflow:Compiled the loaded model, but the compiled metrics have yet to be built. `model.compile_metrics` will be empty until you train or evaluate the model.\n",
            "WARNING:tensorflow:Compiled the loaded model, but the compiled metrics have yet to be built. `model.compile_metrics` will be empty until you train or evaluate the model.\n"
          ]
        },
        {
          "output_type": "stream",
          "name": "stdout",
          "text": [
            "1/1 [==============================] - 0s 17ms/step\n",
            "********** TRAINING THE GAN **********\n",
            "7/7 [==============================] - 3s 414ms/step - d1_loss: 0.2194 - d2_loss: 0.2070 - g_loss: 3.1898\n"
          ]
        },
        {
          "output_type": "stream",
          "name": "stderr",
          "text": [
            "WARNING:tensorflow:Compiled the loaded model, but the compiled metrics have yet to be built. `model.compile_metrics` will be empty until you train or evaluate the model.\n",
            "WARNING:tensorflow:Compiled the loaded model, but the compiled metrics have yet to be built. `model.compile_metrics` will be empty until you train or evaluate the model.\n"
          ]
        },
        {
          "output_type": "stream",
          "name": "stdout",
          "text": [
            "1/1 [==============================] - 0s 16ms/step\n",
            "********** TRAINING THE GAN **********\n",
            "7/7 [==============================] - 3s 415ms/step - d1_loss: 0.2195 - d2_loss: 0.2055 - g_loss: 3.0884\n"
          ]
        },
        {
          "output_type": "stream",
          "name": "stderr",
          "text": [
            "WARNING:tensorflow:Compiled the loaded model, but the compiled metrics have yet to be built. `model.compile_metrics` will be empty until you train or evaluate the model.\n",
            "WARNING:tensorflow:Compiled the loaded model, but the compiled metrics have yet to be built. `model.compile_metrics` will be empty until you train or evaluate the model.\n"
          ]
        },
        {
          "output_type": "stream",
          "name": "stdout",
          "text": [
            "1/1 [==============================] - 0s 15ms/step\n",
            "********** TRAINING THE GAN **********\n",
            "7/7 [==============================] - 3s 413ms/step - d1_loss: 0.2196 - d2_loss: 0.2083 - g_loss: 3.2679\n"
          ]
        },
        {
          "output_type": "stream",
          "name": "stderr",
          "text": [
            "WARNING:tensorflow:Compiled the loaded model, but the compiled metrics have yet to be built. `model.compile_metrics` will be empty until you train or evaluate the model.\n",
            "WARNING:tensorflow:Compiled the loaded model, but the compiled metrics have yet to be built. `model.compile_metrics` will be empty until you train or evaluate the model.\n"
          ]
        },
        {
          "output_type": "stream",
          "name": "stdout",
          "text": [
            "1/1 [==============================] - 0s 16ms/step\n",
            "********** TRAINING THE GAN **********\n",
            "7/7 [==============================] - 3s 417ms/step - d1_loss: 0.2154 - d2_loss: 0.2122 - g_loss: 3.0996\n"
          ]
        },
        {
          "output_type": "stream",
          "name": "stderr",
          "text": [
            "WARNING:tensorflow:Compiled the loaded model, but the compiled metrics have yet to be built. `model.compile_metrics` will be empty until you train or evaluate the model.\n",
            "WARNING:tensorflow:Compiled the loaded model, but the compiled metrics have yet to be built. `model.compile_metrics` will be empty until you train or evaluate the model.\n"
          ]
        },
        {
          "output_type": "stream",
          "name": "stdout",
          "text": [
            "1/1 [==============================] - 0s 15ms/step\n",
            "********** TRAINING THE GAN **********\n",
            "7/7 [==============================] - 3s 417ms/step - d1_loss: 0.2167 - d2_loss: 0.2051 - g_loss: 3.1897\n"
          ]
        },
        {
          "output_type": "stream",
          "name": "stderr",
          "text": [
            "WARNING:tensorflow:Compiled the loaded model, but the compiled metrics have yet to be built. `model.compile_metrics` will be empty until you train or evaluate the model.\n",
            "WARNING:tensorflow:Compiled the loaded model, but the compiled metrics have yet to be built. `model.compile_metrics` will be empty until you train or evaluate the model.\n"
          ]
        },
        {
          "output_type": "stream",
          "name": "stdout",
          "text": [
            "1/1 [==============================] - 0s 17ms/step\n",
            "********** TRAINING THE GAN **********\n",
            "7/7 [==============================] - 3s 421ms/step - d1_loss: 0.2233 - d2_loss: 0.2135 - g_loss: 3.0270\n"
          ]
        },
        {
          "output_type": "stream",
          "name": "stderr",
          "text": [
            "WARNING:tensorflow:Compiled the loaded model, but the compiled metrics have yet to be built. `model.compile_metrics` will be empty until you train or evaluate the model.\n",
            "WARNING:tensorflow:Compiled the loaded model, but the compiled metrics have yet to be built. `model.compile_metrics` will be empty until you train or evaluate the model.\n"
          ]
        },
        {
          "output_type": "stream",
          "name": "stdout",
          "text": [
            "1/1 [==============================] - 0s 17ms/step\n",
            "********** TRAINING THE GAN **********\n",
            "7/7 [==============================] - 3s 419ms/step - d1_loss: 0.2128 - d2_loss: 0.2077 - g_loss: 3.1479\n"
          ]
        },
        {
          "output_type": "stream",
          "name": "stderr",
          "text": [
            "WARNING:tensorflow:Compiled the loaded model, but the compiled metrics have yet to be built. `model.compile_metrics` will be empty until you train or evaluate the model.\n",
            "WARNING:tensorflow:Compiled the loaded model, but the compiled metrics have yet to be built. `model.compile_metrics` will be empty until you train or evaluate the model.\n"
          ]
        },
        {
          "output_type": "stream",
          "name": "stdout",
          "text": [
            "1/1 [==============================] - 0s 16ms/step\n",
            "********** TRAINING THE GAN **********\n",
            "7/7 [==============================] - 3s 408ms/step - d1_loss: 0.2270 - d2_loss: 0.2119 - g_loss: 2.9418\n"
          ]
        },
        {
          "output_type": "stream",
          "name": "stderr",
          "text": [
            "WARNING:tensorflow:Compiled the loaded model, but the compiled metrics have yet to be built. `model.compile_metrics` will be empty until you train or evaluate the model.\n",
            "WARNING:tensorflow:Compiled the loaded model, but the compiled metrics have yet to be built. `model.compile_metrics` will be empty until you train or evaluate the model.\n"
          ]
        },
        {
          "output_type": "stream",
          "name": "stdout",
          "text": [
            "1/1 [==============================] - 0s 17ms/step\n",
            "********** TRAINING THE GAN **********\n",
            "7/7 [==============================] - 3s 408ms/step - d1_loss: 0.2151 - d2_loss: 0.2059 - g_loss: 3.0907\n"
          ]
        },
        {
          "output_type": "stream",
          "name": "stderr",
          "text": [
            "WARNING:tensorflow:Compiled the loaded model, but the compiled metrics have yet to be built. `model.compile_metrics` will be empty until you train or evaluate the model.\n",
            "WARNING:tensorflow:Compiled the loaded model, but the compiled metrics have yet to be built. `model.compile_metrics` will be empty until you train or evaluate the model.\n"
          ]
        },
        {
          "output_type": "stream",
          "name": "stdout",
          "text": [
            "1/1 [==============================] - 0s 18ms/step\n",
            "********** TRAINING THE GAN **********\n",
            "7/7 [==============================] - 3s 410ms/step - d1_loss: 0.2137 - d2_loss: 0.2096 - g_loss: 2.9583\n"
          ]
        },
        {
          "output_type": "stream",
          "name": "stderr",
          "text": [
            "WARNING:tensorflow:Compiled the loaded model, but the compiled metrics have yet to be built. `model.compile_metrics` will be empty until you train or evaluate the model.\n",
            "WARNING:tensorflow:Compiled the loaded model, but the compiled metrics have yet to be built. `model.compile_metrics` will be empty until you train or evaluate the model.\n"
          ]
        },
        {
          "output_type": "stream",
          "name": "stdout",
          "text": [
            "1/1 [==============================] - 0s 17ms/step\n",
            "********** TRAINING THE GAN **********\n",
            "7/7 [==============================] - 3s 412ms/step - d1_loss: 0.2138 - d2_loss: 0.2073 - g_loss: 2.9718\n"
          ]
        },
        {
          "output_type": "stream",
          "name": "stderr",
          "text": [
            "WARNING:tensorflow:Compiled the loaded model, but the compiled metrics have yet to be built. `model.compile_metrics` will be empty until you train or evaluate the model.\n",
            "WARNING:tensorflow:Compiled the loaded model, but the compiled metrics have yet to be built. `model.compile_metrics` will be empty until you train or evaluate the model.\n"
          ]
        },
        {
          "output_type": "stream",
          "name": "stdout",
          "text": [
            "1/1 [==============================] - 0s 24ms/step\n",
            "********** TRAINING THE GAN **********\n",
            "7/7 [==============================] - 3s 416ms/step - d1_loss: 0.2158 - d2_loss: 0.2119 - g_loss: 3.0542\n"
          ]
        },
        {
          "output_type": "stream",
          "name": "stderr",
          "text": [
            "WARNING:tensorflow:Compiled the loaded model, but the compiled metrics have yet to be built. `model.compile_metrics` will be empty until you train or evaluate the model.\n",
            "WARNING:tensorflow:Compiled the loaded model, but the compiled metrics have yet to be built. `model.compile_metrics` will be empty until you train or evaluate the model.\n"
          ]
        },
        {
          "output_type": "stream",
          "name": "stdout",
          "text": [
            "1/1 [==============================] - 0s 16ms/step\n",
            "********** TRAINING THE GAN **********\n",
            "7/7 [==============================] - 3s 418ms/step - d1_loss: 0.2142 - d2_loss: 0.2024 - g_loss: 3.2105\n"
          ]
        },
        {
          "output_type": "stream",
          "name": "stderr",
          "text": [
            "WARNING:tensorflow:Compiled the loaded model, but the compiled metrics have yet to be built. `model.compile_metrics` will be empty until you train or evaluate the model.\n",
            "WARNING:tensorflow:Compiled the loaded model, but the compiled metrics have yet to be built. `model.compile_metrics` will be empty until you train or evaluate the model.\n"
          ]
        },
        {
          "output_type": "stream",
          "name": "stdout",
          "text": [
            "1/1 [==============================] - 0s 20ms/step\n",
            "********** TRAINING THE GAN **********\n",
            "7/7 [==============================] - 3s 414ms/step - d1_loss: 0.2138 - d2_loss: 0.2082 - g_loss: 3.0445\n"
          ]
        },
        {
          "output_type": "stream",
          "name": "stderr",
          "text": [
            "WARNING:tensorflow:Compiled the loaded model, but the compiled metrics have yet to be built. `model.compile_metrics` will be empty until you train or evaluate the model.\n",
            "WARNING:tensorflow:Compiled the loaded model, but the compiled metrics have yet to be built. `model.compile_metrics` will be empty until you train or evaluate the model.\n"
          ]
        },
        {
          "output_type": "stream",
          "name": "stdout",
          "text": [
            "1/1 [==============================] - 0s 17ms/step\n",
            "********** TRAINING THE GAN **********\n",
            "7/7 [==============================] - 3s 413ms/step - d1_loss: 0.2154 - d2_loss: 0.2041 - g_loss: 3.0335\n"
          ]
        },
        {
          "output_type": "stream",
          "name": "stderr",
          "text": [
            "WARNING:tensorflow:Compiled the loaded model, but the compiled metrics have yet to be built. `model.compile_metrics` will be empty until you train or evaluate the model.\n",
            "WARNING:tensorflow:Compiled the loaded model, but the compiled metrics have yet to be built. `model.compile_metrics` will be empty until you train or evaluate the model.\n"
          ]
        },
        {
          "output_type": "stream",
          "name": "stdout",
          "text": [
            "1/1 [==============================] - 0s 19ms/step\n",
            "********** TRAINING THE GAN **********\n",
            "7/7 [==============================] - 3s 414ms/step - d1_loss: 0.2116 - d2_loss: 0.2061 - g_loss: 3.0673\n"
          ]
        },
        {
          "output_type": "stream",
          "name": "stderr",
          "text": [
            "WARNING:tensorflow:Compiled the loaded model, but the compiled metrics have yet to be built. `model.compile_metrics` will be empty until you train or evaluate the model.\n",
            "WARNING:tensorflow:Compiled the loaded model, but the compiled metrics have yet to be built. `model.compile_metrics` will be empty until you train or evaluate the model.\n"
          ]
        },
        {
          "output_type": "stream",
          "name": "stdout",
          "text": [
            "1/1 [==============================] - 0s 16ms/step\n",
            "********** TRAINING THE GAN **********\n",
            "7/7 [==============================] - 3s 416ms/step - d1_loss: 0.2109 - d2_loss: 0.2036 - g_loss: 3.0279\n"
          ]
        },
        {
          "output_type": "stream",
          "name": "stderr",
          "text": [
            "WARNING:tensorflow:Compiled the loaded model, but the compiled metrics have yet to be built. `model.compile_metrics` will be empty until you train or evaluate the model.\n",
            "WARNING:tensorflow:Compiled the loaded model, but the compiled metrics have yet to be built. `model.compile_metrics` will be empty until you train or evaluate the model.\n"
          ]
        },
        {
          "output_type": "stream",
          "name": "stdout",
          "text": [
            "1/1 [==============================] - 0s 16ms/step\n",
            "********** TRAINING THE GAN **********\n",
            "7/7 [==============================] - 3s 416ms/step - d1_loss: 0.2143 - d2_loss: 0.2063 - g_loss: 3.1138\n"
          ]
        },
        {
          "output_type": "stream",
          "name": "stderr",
          "text": [
            "WARNING:tensorflow:Compiled the loaded model, but the compiled metrics have yet to be built. `model.compile_metrics` will be empty until you train or evaluate the model.\n",
            "WARNING:tensorflow:Compiled the loaded model, but the compiled metrics have yet to be built. `model.compile_metrics` will be empty until you train or evaluate the model.\n"
          ]
        },
        {
          "output_type": "stream",
          "name": "stdout",
          "text": [
            "1/1 [==============================] - 0s 16ms/step\n",
            "********** TRAINING THE GAN **********\n",
            "7/7 [==============================] - 3s 413ms/step - d1_loss: 0.2087 - d2_loss: 0.2021 - g_loss: 2.9676\n"
          ]
        },
        {
          "output_type": "stream",
          "name": "stderr",
          "text": [
            "WARNING:tensorflow:Compiled the loaded model, but the compiled metrics have yet to be built. `model.compile_metrics` will be empty until you train or evaluate the model.\n",
            "WARNING:tensorflow:Compiled the loaded model, but the compiled metrics have yet to be built. `model.compile_metrics` will be empty until you train or evaluate the model.\n"
          ]
        },
        {
          "output_type": "stream",
          "name": "stdout",
          "text": [
            "1/1 [==============================] - 0s 25ms/step\n",
            "********** TRAINING THE GAN **********\n",
            "7/7 [==============================] - 3s 416ms/step - d1_loss: 0.2106 - d2_loss: 0.2119 - g_loss: 2.9264\n"
          ]
        },
        {
          "output_type": "stream",
          "name": "stderr",
          "text": [
            "WARNING:tensorflow:Compiled the loaded model, but the compiled metrics have yet to be built. `model.compile_metrics` will be empty until you train or evaluate the model.\n",
            "WARNING:tensorflow:Compiled the loaded model, but the compiled metrics have yet to be built. `model.compile_metrics` will be empty until you train or evaluate the model.\n"
          ]
        },
        {
          "output_type": "stream",
          "name": "stdout",
          "text": [
            "1/1 [==============================] - 0s 19ms/step\n",
            "********** TRAINING THE GAN **********\n",
            "7/7 [==============================] - 3s 413ms/step - d1_loss: 0.4426 - d2_loss: 1.4460 - g_loss: 2.5835\n"
          ]
        },
        {
          "output_type": "stream",
          "name": "stderr",
          "text": [
            "WARNING:tensorflow:Compiled the loaded model, but the compiled metrics have yet to be built. `model.compile_metrics` will be empty until you train or evaluate the model.\n",
            "WARNING:tensorflow:Compiled the loaded model, but the compiled metrics have yet to be built. `model.compile_metrics` will be empty until you train or evaluate the model.\n"
          ]
        },
        {
          "output_type": "stream",
          "name": "stdout",
          "text": [
            "1/1 [==============================] - 0s 20ms/step\n",
            "********** TRAINING THE GAN **********\n",
            "7/7 [==============================] - 3s 413ms/step - d1_loss: 0.2594 - d2_loss: 0.2880 - g_loss: 2.2994\n"
          ]
        },
        {
          "output_type": "stream",
          "name": "stderr",
          "text": [
            "WARNING:tensorflow:Compiled the loaded model, but the compiled metrics have yet to be built. `model.compile_metrics` will be empty until you train or evaluate the model.\n",
            "WARNING:tensorflow:Compiled the loaded model, but the compiled metrics have yet to be built. `model.compile_metrics` will be empty until you train or evaluate the model.\n"
          ]
        },
        {
          "output_type": "stream",
          "name": "stdout",
          "text": [
            "1/1 [==============================] - 0s 20ms/step\n",
            "********** TRAINING THE GAN **********\n",
            "7/7 [==============================] - 3s 415ms/step - d1_loss: 0.2506 - d2_loss: 0.2559 - g_loss: 2.6924\n"
          ]
        },
        {
          "output_type": "stream",
          "name": "stderr",
          "text": [
            "WARNING:tensorflow:Compiled the loaded model, but the compiled metrics have yet to be built. `model.compile_metrics` will be empty until you train or evaluate the model.\n",
            "WARNING:tensorflow:Compiled the loaded model, but the compiled metrics have yet to be built. `model.compile_metrics` will be empty until you train or evaluate the model.\n"
          ]
        },
        {
          "output_type": "stream",
          "name": "stdout",
          "text": [
            "1/1 [==============================] - 0s 15ms/step\n",
            "********** TRAINING THE GAN **********\n",
            "7/7 [==============================] - 3s 410ms/step - d1_loss: 0.2531 - d2_loss: 0.2304 - g_loss: 2.8876\n"
          ]
        },
        {
          "output_type": "stream",
          "name": "stderr",
          "text": [
            "WARNING:tensorflow:Compiled the loaded model, but the compiled metrics have yet to be built. `model.compile_metrics` will be empty until you train or evaluate the model.\n",
            "WARNING:tensorflow:Compiled the loaded model, but the compiled metrics have yet to be built. `model.compile_metrics` will be empty until you train or evaluate the model.\n"
          ]
        },
        {
          "output_type": "stream",
          "name": "stdout",
          "text": [
            "1/1 [==============================] - 0s 16ms/step\n",
            "********** TRAINING THE GAN **********\n",
            "7/7 [==============================] - 3s 409ms/step - d1_loss: 0.2265 - d2_loss: 0.2263 - g_loss: 2.9000\n"
          ]
        },
        {
          "output_type": "stream",
          "name": "stderr",
          "text": [
            "WARNING:tensorflow:Compiled the loaded model, but the compiled metrics have yet to be built. `model.compile_metrics` will be empty until you train or evaluate the model.\n",
            "WARNING:tensorflow:Compiled the loaded model, but the compiled metrics have yet to be built. `model.compile_metrics` will be empty until you train or evaluate the model.\n"
          ]
        },
        {
          "output_type": "stream",
          "name": "stdout",
          "text": [
            "1/1 [==============================] - 0s 22ms/step\n",
            "********** TRAINING THE GAN **********\n",
            "7/7 [==============================] - 3s 414ms/step - d1_loss: 0.2489 - d2_loss: 0.2229 - g_loss: 2.9381\n"
          ]
        },
        {
          "output_type": "stream",
          "name": "stderr",
          "text": [
            "WARNING:tensorflow:Compiled the loaded model, but the compiled metrics have yet to be built. `model.compile_metrics` will be empty until you train or evaluate the model.\n",
            "WARNING:tensorflow:Compiled the loaded model, but the compiled metrics have yet to be built. `model.compile_metrics` will be empty until you train or evaluate the model.\n"
          ]
        },
        {
          "output_type": "stream",
          "name": "stdout",
          "text": [
            "1/1 [==============================] - 0s 17ms/step\n",
            "********** TRAINING THE GAN **********\n",
            "7/7 [==============================] - 3s 412ms/step - d1_loss: 0.2328 - d2_loss: 0.2166 - g_loss: 2.9865\n"
          ]
        },
        {
          "output_type": "stream",
          "name": "stderr",
          "text": [
            "WARNING:tensorflow:Compiled the loaded model, but the compiled metrics have yet to be built. `model.compile_metrics` will be empty until you train or evaluate the model.\n",
            "WARNING:tensorflow:Compiled the loaded model, but the compiled metrics have yet to be built. `model.compile_metrics` will be empty until you train or evaluate the model.\n"
          ]
        },
        {
          "output_type": "stream",
          "name": "stdout",
          "text": [
            "1/1 [==============================] - 0s 16ms/step\n",
            "********** TRAINING THE GAN **********\n",
            "7/7 [==============================] - 3s 413ms/step - d1_loss: 0.2309 - d2_loss: 0.2114 - g_loss: 2.9191\n"
          ]
        },
        {
          "output_type": "stream",
          "name": "stderr",
          "text": [
            "WARNING:tensorflow:Compiled the loaded model, but the compiled metrics have yet to be built. `model.compile_metrics` will be empty until you train or evaluate the model.\n",
            "WARNING:tensorflow:Compiled the loaded model, but the compiled metrics have yet to be built. `model.compile_metrics` will be empty until you train or evaluate the model.\n"
          ]
        },
        {
          "output_type": "stream",
          "name": "stdout",
          "text": [
            "1/1 [==============================] - 0s 16ms/step\n",
            "********** TRAINING THE GAN **********\n",
            "7/7 [==============================] - 3s 414ms/step - d1_loss: 0.2260 - d2_loss: 0.2108 - g_loss: 3.0107\n"
          ]
        },
        {
          "output_type": "stream",
          "name": "stderr",
          "text": [
            "WARNING:tensorflow:Compiled the loaded model, but the compiled metrics have yet to be built. `model.compile_metrics` will be empty until you train or evaluate the model.\n",
            "WARNING:tensorflow:Compiled the loaded model, but the compiled metrics have yet to be built. `model.compile_metrics` will be empty until you train or evaluate the model.\n"
          ]
        },
        {
          "output_type": "stream",
          "name": "stdout",
          "text": [
            "1/1 [==============================] - 0s 16ms/step\n",
            "********** TRAINING THE GAN **********\n",
            "7/7 [==============================] - 3s 416ms/step - d1_loss: 0.2229 - d2_loss: 0.2136 - g_loss: 2.9166\n"
          ]
        },
        {
          "output_type": "stream",
          "name": "stderr",
          "text": [
            "WARNING:tensorflow:Compiled the loaded model, but the compiled metrics have yet to be built. `model.compile_metrics` will be empty until you train or evaluate the model.\n",
            "WARNING:tensorflow:Compiled the loaded model, but the compiled metrics have yet to be built. `model.compile_metrics` will be empty until you train or evaluate the model.\n"
          ]
        },
        {
          "output_type": "stream",
          "name": "stdout",
          "text": [
            "1/1 [==============================] - 0s 16ms/step\n",
            "********** TRAINING THE GAN **********\n",
            "7/7 [==============================] - 3s 413ms/step - d1_loss: 0.2148 - d2_loss: 0.2125 - g_loss: 3.0445\n"
          ]
        },
        {
          "output_type": "stream",
          "name": "stderr",
          "text": [
            "WARNING:tensorflow:Compiled the loaded model, but the compiled metrics have yet to be built. `model.compile_metrics` will be empty until you train or evaluate the model.\n",
            "WARNING:tensorflow:Compiled the loaded model, but the compiled metrics have yet to be built. `model.compile_metrics` will be empty until you train or evaluate the model.\n"
          ]
        },
        {
          "output_type": "stream",
          "name": "stdout",
          "text": [
            "1/1 [==============================] - 0s 16ms/step\n",
            "********** TRAINING THE GAN **********\n",
            "7/7 [==============================] - 3s 416ms/step - d1_loss: 0.2117 - d2_loss: 0.2245 - g_loss: 3.0896\n"
          ]
        },
        {
          "output_type": "stream",
          "name": "stderr",
          "text": [
            "WARNING:tensorflow:Compiled the loaded model, but the compiled metrics have yet to be built. `model.compile_metrics` will be empty until you train or evaluate the model.\n",
            "WARNING:tensorflow:Compiled the loaded model, but the compiled metrics have yet to be built. `model.compile_metrics` will be empty until you train or evaluate the model.\n"
          ]
        },
        {
          "output_type": "stream",
          "name": "stdout",
          "text": [
            "1/1 [==============================] - 0s 15ms/step\n",
            "********** TRAINING THE GAN **********\n",
            "7/7 [==============================] - 3s 416ms/step - d1_loss: 0.2198 - d2_loss: 0.2202 - g_loss: 3.3724\n"
          ]
        },
        {
          "output_type": "stream",
          "name": "stderr",
          "text": [
            "WARNING:tensorflow:Compiled the loaded model, but the compiled metrics have yet to be built. `model.compile_metrics` will be empty until you train or evaluate the model.\n",
            "WARNING:tensorflow:Compiled the loaded model, but the compiled metrics have yet to be built. `model.compile_metrics` will be empty until you train or evaluate the model.\n"
          ]
        },
        {
          "output_type": "stream",
          "name": "stdout",
          "text": [
            "1/1 [==============================] - 0s 18ms/step\n",
            "********** TRAINING THE GAN **********\n",
            "7/7 [==============================] - 3s 417ms/step - d1_loss: 0.2079 - d2_loss: 0.2139 - g_loss: 3.1347\n"
          ]
        },
        {
          "output_type": "stream",
          "name": "stderr",
          "text": [
            "WARNING:tensorflow:Compiled the loaded model, but the compiled metrics have yet to be built. `model.compile_metrics` will be empty until you train or evaluate the model.\n",
            "WARNING:tensorflow:Compiled the loaded model, but the compiled metrics have yet to be built. `model.compile_metrics` will be empty until you train or evaluate the model.\n"
          ]
        },
        {
          "output_type": "stream",
          "name": "stdout",
          "text": [
            "1/1 [==============================] - 0s 16ms/step\n",
            "********** TRAINING THE GAN **********\n",
            "7/7 [==============================] - 3s 416ms/step - d1_loss: 0.2109 - d2_loss: 0.2230 - g_loss: 3.0599\n"
          ]
        },
        {
          "output_type": "stream",
          "name": "stderr",
          "text": [
            "WARNING:tensorflow:Compiled the loaded model, but the compiled metrics have yet to be built. `model.compile_metrics` will be empty until you train or evaluate the model.\n",
            "WARNING:tensorflow:Compiled the loaded model, but the compiled metrics have yet to be built. `model.compile_metrics` will be empty until you train or evaluate the model.\n"
          ]
        },
        {
          "output_type": "stream",
          "name": "stdout",
          "text": [
            "1/1 [==============================] - 0s 15ms/step\n",
            "********** TRAINING THE GAN **********\n",
            "7/7 [==============================] - 3s 414ms/step - d1_loss: 0.2134 - d2_loss: 0.2126 - g_loss: 3.1080\n"
          ]
        },
        {
          "output_type": "stream",
          "name": "stderr",
          "text": [
            "WARNING:tensorflow:Compiled the loaded model, but the compiled metrics have yet to be built. `model.compile_metrics` will be empty until you train or evaluate the model.\n",
            "WARNING:tensorflow:Compiled the loaded model, but the compiled metrics have yet to be built. `model.compile_metrics` will be empty until you train or evaluate the model.\n"
          ]
        },
        {
          "output_type": "stream",
          "name": "stdout",
          "text": [
            "1/1 [==============================] - 0s 17ms/step\n",
            "********** TRAINING THE GAN **********\n",
            "7/7 [==============================] - 3s 413ms/step - d1_loss: 0.2146 - d2_loss: 0.2180 - g_loss: 3.1062\n"
          ]
        },
        {
          "output_type": "stream",
          "name": "stderr",
          "text": [
            "WARNING:tensorflow:Compiled the loaded model, but the compiled metrics have yet to be built. `model.compile_metrics` will be empty until you train or evaluate the model.\n",
            "WARNING:tensorflow:Compiled the loaded model, but the compiled metrics have yet to be built. `model.compile_metrics` will be empty until you train or evaluate the model.\n"
          ]
        },
        {
          "output_type": "stream",
          "name": "stdout",
          "text": [
            "1/1 [==============================] - 0s 19ms/step\n",
            "********** TRAINING THE GAN **********\n",
            "7/7 [==============================] - 3s 410ms/step - d1_loss: 0.2158 - d2_loss: 0.2094 - g_loss: 3.1032\n"
          ]
        },
        {
          "output_type": "stream",
          "name": "stderr",
          "text": [
            "WARNING:tensorflow:Compiled the loaded model, but the compiled metrics have yet to be built. `model.compile_metrics` will be empty until you train or evaluate the model.\n",
            "WARNING:tensorflow:Compiled the loaded model, but the compiled metrics have yet to be built. `model.compile_metrics` will be empty until you train or evaluate the model.\n"
          ]
        },
        {
          "output_type": "stream",
          "name": "stdout",
          "text": [
            "1/1 [==============================] - 0s 16ms/step\n",
            "********** TRAINING THE GAN **********\n",
            "7/7 [==============================] - 3s 408ms/step - d1_loss: 0.2160 - d2_loss: 0.2126 - g_loss: 3.1612\n"
          ]
        },
        {
          "output_type": "stream",
          "name": "stderr",
          "text": [
            "WARNING:tensorflow:Compiled the loaded model, but the compiled metrics have yet to be built. `model.compile_metrics` will be empty until you train or evaluate the model.\n",
            "WARNING:tensorflow:Compiled the loaded model, but the compiled metrics have yet to be built. `model.compile_metrics` will be empty until you train or evaluate the model.\n"
          ]
        },
        {
          "output_type": "stream",
          "name": "stdout",
          "text": [
            "1/1 [==============================] - 0s 15ms/step\n",
            "********** TRAINING THE GAN **********\n",
            "7/7 [==============================] - 3s 407ms/step - d1_loss: 0.2149 - d2_loss: 0.2216 - g_loss: 3.1583\n"
          ]
        },
        {
          "output_type": "stream",
          "name": "stderr",
          "text": [
            "WARNING:tensorflow:Compiled the loaded model, but the compiled metrics have yet to be built. `model.compile_metrics` will be empty until you train or evaluate the model.\n",
            "WARNING:tensorflow:Compiled the loaded model, but the compiled metrics have yet to be built. `model.compile_metrics` will be empty until you train or evaluate the model.\n"
          ]
        },
        {
          "output_type": "stream",
          "name": "stdout",
          "text": [
            "1/1 [==============================] - 0s 16ms/step\n",
            "********** TRAINING THE GAN **********\n",
            "7/7 [==============================] - 3s 413ms/step - d1_loss: 0.2175 - d2_loss: 0.2110 - g_loss: 3.1741\n"
          ]
        },
        {
          "output_type": "stream",
          "name": "stderr",
          "text": [
            "WARNING:tensorflow:Compiled the loaded model, but the compiled metrics have yet to be built. `model.compile_metrics` will be empty until you train or evaluate the model.\n",
            "WARNING:tensorflow:Compiled the loaded model, but the compiled metrics have yet to be built. `model.compile_metrics` will be empty until you train or evaluate the model.\n"
          ]
        },
        {
          "output_type": "stream",
          "name": "stdout",
          "text": [
            "1/1 [==============================] - 0s 29ms/step\n",
            "********** TRAINING THE GAN **********\n",
            "7/7 [==============================] - 3s 415ms/step - d1_loss: 0.2174 - d2_loss: 0.2072 - g_loss: 3.1784\n"
          ]
        },
        {
          "output_type": "stream",
          "name": "stderr",
          "text": [
            "WARNING:tensorflow:Compiled the loaded model, but the compiled metrics have yet to be built. `model.compile_metrics` will be empty until you train or evaluate the model.\n",
            "WARNING:tensorflow:Compiled the loaded model, but the compiled metrics have yet to be built. `model.compile_metrics` will be empty until you train or evaluate the model.\n"
          ]
        },
        {
          "output_type": "stream",
          "name": "stdout",
          "text": [
            "1/1 [==============================] - 0s 16ms/step\n",
            "********** TRAINING THE GAN **********\n",
            "7/7 [==============================] - 3s 412ms/step - d1_loss: 0.2182 - d2_loss: 0.2079 - g_loss: 3.1616\n"
          ]
        },
        {
          "output_type": "stream",
          "name": "stderr",
          "text": [
            "WARNING:tensorflow:Compiled the loaded model, but the compiled metrics have yet to be built. `model.compile_metrics` will be empty until you train or evaluate the model.\n",
            "WARNING:tensorflow:Compiled the loaded model, but the compiled metrics have yet to be built. `model.compile_metrics` will be empty until you train or evaluate the model.\n"
          ]
        },
        {
          "output_type": "stream",
          "name": "stdout",
          "text": [
            "1/1 [==============================] - 0s 20ms/step\n",
            "********** TRAINING THE GAN **********\n",
            "7/7 [==============================] - 3s 415ms/step - d1_loss: 0.2144 - d2_loss: 0.2117 - g_loss: 3.1081\n"
          ]
        },
        {
          "output_type": "stream",
          "name": "stderr",
          "text": [
            "WARNING:tensorflow:Compiled the loaded model, but the compiled metrics have yet to be built. `model.compile_metrics` will be empty until you train or evaluate the model.\n",
            "WARNING:tensorflow:Compiled the loaded model, but the compiled metrics have yet to be built. `model.compile_metrics` will be empty until you train or evaluate the model.\n"
          ]
        },
        {
          "output_type": "stream",
          "name": "stdout",
          "text": [
            "1/1 [==============================] - 0s 17ms/step\n",
            "********** TRAINING THE GAN **********\n",
            "7/7 [==============================] - 3s 415ms/step - d1_loss: 0.2153 - d2_loss: 0.2091 - g_loss: 3.0898\n"
          ]
        },
        {
          "output_type": "stream",
          "name": "stderr",
          "text": [
            "WARNING:tensorflow:Compiled the loaded model, but the compiled metrics have yet to be built. `model.compile_metrics` will be empty until you train or evaluate the model.\n",
            "WARNING:tensorflow:Compiled the loaded model, but the compiled metrics have yet to be built. `model.compile_metrics` will be empty until you train or evaluate the model.\n"
          ]
        },
        {
          "output_type": "stream",
          "name": "stdout",
          "text": [
            "1/1 [==============================] - 0s 23ms/step\n",
            "********** TRAINING THE GAN **********\n",
            "7/7 [==============================] - 3s 416ms/step - d1_loss: 0.2169 - d2_loss: 0.2068 - g_loss: 3.0586\n"
          ]
        },
        {
          "output_type": "stream",
          "name": "stderr",
          "text": [
            "WARNING:tensorflow:Compiled the loaded model, but the compiled metrics have yet to be built. `model.compile_metrics` will be empty until you train or evaluate the model.\n",
            "WARNING:tensorflow:Compiled the loaded model, but the compiled metrics have yet to be built. `model.compile_metrics` will be empty until you train or evaluate the model.\n"
          ]
        },
        {
          "output_type": "stream",
          "name": "stdout",
          "text": [
            "1/1 [==============================] - 0s 17ms/step\n",
            "********** TRAINING THE GAN **********\n",
            "7/7 [==============================] - 3s 416ms/step - d1_loss: 0.2159 - d2_loss: 0.2072 - g_loss: 3.0496\n"
          ]
        },
        {
          "output_type": "stream",
          "name": "stderr",
          "text": [
            "WARNING:tensorflow:Compiled the loaded model, but the compiled metrics have yet to be built. `model.compile_metrics` will be empty until you train or evaluate the model.\n",
            "WARNING:tensorflow:Compiled the loaded model, but the compiled metrics have yet to be built. `model.compile_metrics` will be empty until you train or evaluate the model.\n"
          ]
        },
        {
          "output_type": "stream",
          "name": "stdout",
          "text": [
            "1/1 [==============================] - 0s 15ms/step\n",
            "********** TRAINING THE GAN **********\n",
            "7/7 [==============================] - 3s 419ms/step - d1_loss: 0.2208 - d2_loss: 0.2156 - g_loss: 3.1919\n"
          ]
        },
        {
          "output_type": "stream",
          "name": "stderr",
          "text": [
            "WARNING:tensorflow:Compiled the loaded model, but the compiled metrics have yet to be built. `model.compile_metrics` will be empty until you train or evaluate the model.\n",
            "WARNING:tensorflow:Compiled the loaded model, but the compiled metrics have yet to be built. `model.compile_metrics` will be empty until you train or evaluate the model.\n"
          ]
        },
        {
          "output_type": "stream",
          "name": "stdout",
          "text": [
            "1/1 [==============================] - 0s 16ms/step\n",
            "********** TRAINING THE GAN **********\n",
            "7/7 [==============================] - 3s 419ms/step - d1_loss: 0.2167 - d2_loss: 0.2118 - g_loss: 3.1413\n"
          ]
        },
        {
          "output_type": "stream",
          "name": "stderr",
          "text": [
            "WARNING:tensorflow:Compiled the loaded model, but the compiled metrics have yet to be built. `model.compile_metrics` will be empty until you train or evaluate the model.\n",
            "WARNING:tensorflow:Compiled the loaded model, but the compiled metrics have yet to be built. `model.compile_metrics` will be empty until you train or evaluate the model.\n"
          ]
        },
        {
          "output_type": "stream",
          "name": "stdout",
          "text": [
            "1/1 [==============================] - 0s 16ms/step\n",
            "********** TRAINING THE GAN **********\n",
            "7/7 [==============================] - 3s 416ms/step - d1_loss: 0.2161 - d2_loss: 0.2118 - g_loss: 3.0836\n"
          ]
        },
        {
          "output_type": "stream",
          "name": "stderr",
          "text": [
            "WARNING:tensorflow:Compiled the loaded model, but the compiled metrics have yet to be built. `model.compile_metrics` will be empty until you train or evaluate the model.\n",
            "WARNING:tensorflow:Compiled the loaded model, but the compiled metrics have yet to be built. `model.compile_metrics` will be empty until you train or evaluate the model.\n"
          ]
        },
        {
          "output_type": "stream",
          "name": "stdout",
          "text": [
            "1/1 [==============================] - 0s 15ms/step\n",
            "********** TRAINING THE GAN **********\n",
            "7/7 [==============================] - 3s 415ms/step - d1_loss: 0.2152 - d2_loss: 0.2068 - g_loss: 3.1413\n"
          ]
        },
        {
          "output_type": "stream",
          "name": "stderr",
          "text": [
            "WARNING:tensorflow:Compiled the loaded model, but the compiled metrics have yet to be built. `model.compile_metrics` will be empty until you train or evaluate the model.\n",
            "WARNING:tensorflow:Compiled the loaded model, but the compiled metrics have yet to be built. `model.compile_metrics` will be empty until you train or evaluate the model.\n"
          ]
        },
        {
          "output_type": "stream",
          "name": "stdout",
          "text": [
            "1/1 [==============================] - 0s 16ms/step\n",
            "********** TRAINING THE GAN **********\n",
            "7/7 [==============================] - 3s 414ms/step - d1_loss: 0.2236 - d2_loss: 0.2108 - g_loss: 3.1902\n"
          ]
        },
        {
          "output_type": "stream",
          "name": "stderr",
          "text": [
            "WARNING:tensorflow:Compiled the loaded model, but the compiled metrics have yet to be built. `model.compile_metrics` will be empty until you train or evaluate the model.\n",
            "WARNING:tensorflow:Compiled the loaded model, but the compiled metrics have yet to be built. `model.compile_metrics` will be empty until you train or evaluate the model.\n"
          ]
        },
        {
          "output_type": "stream",
          "name": "stdout",
          "text": [
            "1/1 [==============================] - 0s 19ms/step\n",
            "********** TRAINING THE GAN **********\n",
            "7/7 [==============================] - 3s 417ms/step - d1_loss: 0.2200 - d2_loss: 0.2120 - g_loss: 3.1582\n"
          ]
        },
        {
          "output_type": "stream",
          "name": "stderr",
          "text": [
            "WARNING:tensorflow:Compiled the loaded model, but the compiled metrics have yet to be built. `model.compile_metrics` will be empty until you train or evaluate the model.\n",
            "WARNING:tensorflow:Compiled the loaded model, but the compiled metrics have yet to be built. `model.compile_metrics` will be empty until you train or evaluate the model.\n"
          ]
        },
        {
          "output_type": "stream",
          "name": "stdout",
          "text": [
            "1/1 [==============================] - 0s 16ms/step\n",
            "********** TRAINING THE GAN **********\n",
            "7/7 [==============================] - 3s 415ms/step - d1_loss: 0.2165 - d2_loss: 0.2066 - g_loss: 3.0073\n"
          ]
        },
        {
          "output_type": "stream",
          "name": "stderr",
          "text": [
            "WARNING:tensorflow:Compiled the loaded model, but the compiled metrics have yet to be built. `model.compile_metrics` will be empty until you train or evaluate the model.\n",
            "WARNING:tensorflow:Compiled the loaded model, but the compiled metrics have yet to be built. `model.compile_metrics` will be empty until you train or evaluate the model.\n"
          ]
        },
        {
          "output_type": "stream",
          "name": "stdout",
          "text": [
            "1/1 [==============================] - 0s 16ms/step\n",
            "********** TRAINING THE GAN **********\n",
            "7/7 [==============================] - 3s 416ms/step - d1_loss: 0.2178 - d2_loss: 0.2066 - g_loss: 3.0679\n"
          ]
        },
        {
          "output_type": "stream",
          "name": "stderr",
          "text": [
            "WARNING:tensorflow:Compiled the loaded model, but the compiled metrics have yet to be built. `model.compile_metrics` will be empty until you train or evaluate the model.\n",
            "WARNING:tensorflow:Compiled the loaded model, but the compiled metrics have yet to be built. `model.compile_metrics` will be empty until you train or evaluate the model.\n"
          ]
        },
        {
          "output_type": "stream",
          "name": "stdout",
          "text": [
            "1/1 [==============================] - 0s 18ms/step\n",
            "********** TRAINING THE GAN **********\n",
            "7/7 [==============================] - 3s 409ms/step - d1_loss: 0.2164 - d2_loss: 0.2054 - g_loss: 3.0695\n"
          ]
        },
        {
          "output_type": "stream",
          "name": "stderr",
          "text": [
            "WARNING:tensorflow:Compiled the loaded model, but the compiled metrics have yet to be built. `model.compile_metrics` will be empty until you train or evaluate the model.\n",
            "WARNING:tensorflow:Compiled the loaded model, but the compiled metrics have yet to be built. `model.compile_metrics` will be empty until you train or evaluate the model.\n"
          ]
        },
        {
          "output_type": "stream",
          "name": "stdout",
          "text": [
            "1/1 [==============================] - 0s 16ms/step\n",
            "********** TRAINING THE GAN **********\n",
            "7/7 [==============================] - 3s 411ms/step - d1_loss: 0.2167 - d2_loss: 0.2046 - g_loss: 3.0554\n"
          ]
        },
        {
          "output_type": "stream",
          "name": "stderr",
          "text": [
            "WARNING:tensorflow:Compiled the loaded model, but the compiled metrics have yet to be built. `model.compile_metrics` will be empty until you train or evaluate the model.\n",
            "WARNING:tensorflow:Compiled the loaded model, but the compiled metrics have yet to be built. `model.compile_metrics` will be empty until you train or evaluate the model.\n"
          ]
        },
        {
          "output_type": "stream",
          "name": "stdout",
          "text": [
            "1/1 [==============================] - 0s 15ms/step\n",
            "********** TRAINING THE GAN **********\n",
            "7/7 [==============================] - 3s 415ms/step - d1_loss: 0.2181 - d2_loss: 0.2051 - g_loss: 3.0644\n"
          ]
        },
        {
          "output_type": "stream",
          "name": "stderr",
          "text": [
            "WARNING:tensorflow:Compiled the loaded model, but the compiled metrics have yet to be built. `model.compile_metrics` will be empty until you train or evaluate the model.\n",
            "WARNING:tensorflow:Compiled the loaded model, but the compiled metrics have yet to be built. `model.compile_metrics` will be empty until you train or evaluate the model.\n"
          ]
        },
        {
          "output_type": "stream",
          "name": "stdout",
          "text": [
            "1/1 [==============================] - 0s 15ms/step\n",
            "********** TRAINING THE GAN **********\n",
            "7/7 [==============================] - 3s 409ms/step - d1_loss: 0.2141 - d2_loss: 0.2147 - g_loss: 3.1893\n"
          ]
        },
        {
          "output_type": "stream",
          "name": "stderr",
          "text": [
            "WARNING:tensorflow:Compiled the loaded model, but the compiled metrics have yet to be built. `model.compile_metrics` will be empty until you train or evaluate the model.\n",
            "WARNING:tensorflow:Compiled the loaded model, but the compiled metrics have yet to be built. `model.compile_metrics` will be empty until you train or evaluate the model.\n"
          ]
        },
        {
          "output_type": "stream",
          "name": "stdout",
          "text": [
            "1/1 [==============================] - 0s 16ms/step\n",
            "********** TRAINING THE GAN **********\n",
            "7/7 [==============================] - 3s 409ms/step - d1_loss: 0.2161 - d2_loss: 0.2112 - g_loss: 3.0845\n"
          ]
        },
        {
          "output_type": "stream",
          "name": "stderr",
          "text": [
            "WARNING:tensorflow:Compiled the loaded model, but the compiled metrics have yet to be built. `model.compile_metrics` will be empty until you train or evaluate the model.\n",
            "WARNING:tensorflow:Compiled the loaded model, but the compiled metrics have yet to be built. `model.compile_metrics` will be empty until you train or evaluate the model.\n"
          ]
        },
        {
          "output_type": "stream",
          "name": "stdout",
          "text": [
            "1/1 [==============================] - 0s 15ms/step\n",
            "********** TRAINING THE GAN **********\n",
            "7/7 [==============================] - 3s 411ms/step - d1_loss: 0.2227 - d2_loss: 0.2084 - g_loss: 3.2548\n"
          ]
        },
        {
          "output_type": "stream",
          "name": "stderr",
          "text": [
            "WARNING:tensorflow:Compiled the loaded model, but the compiled metrics have yet to be built. `model.compile_metrics` will be empty until you train or evaluate the model.\n",
            "WARNING:tensorflow:Compiled the loaded model, but the compiled metrics have yet to be built. `model.compile_metrics` will be empty until you train or evaluate the model.\n"
          ]
        },
        {
          "output_type": "stream",
          "name": "stdout",
          "text": [
            "1/1 [==============================] - 0s 15ms/step\n",
            "********** TRAINING THE GAN **********\n",
            "7/7 [==============================] - 3s 411ms/step - d1_loss: 0.2169 - d2_loss: 0.2121 - g_loss: 3.1103\n"
          ]
        },
        {
          "output_type": "stream",
          "name": "stderr",
          "text": [
            "WARNING:tensorflow:Compiled the loaded model, but the compiled metrics have yet to be built. `model.compile_metrics` will be empty until you train or evaluate the model.\n",
            "WARNING:tensorflow:Compiled the loaded model, but the compiled metrics have yet to be built. `model.compile_metrics` will be empty until you train or evaluate the model.\n"
          ]
        },
        {
          "output_type": "stream",
          "name": "stdout",
          "text": [
            "1/1 [==============================] - 0s 17ms/step\n",
            "********** TRAINING THE GAN **********\n",
            "7/7 [==============================] - 3s 414ms/step - d1_loss: 0.2153 - d2_loss: 0.2057 - g_loss: 3.0999\n"
          ]
        },
        {
          "output_type": "stream",
          "name": "stderr",
          "text": [
            "WARNING:tensorflow:Compiled the loaded model, but the compiled metrics have yet to be built. `model.compile_metrics` will be empty until you train or evaluate the model.\n",
            "WARNING:tensorflow:Compiled the loaded model, but the compiled metrics have yet to be built. `model.compile_metrics` will be empty until you train or evaluate the model.\n"
          ]
        },
        {
          "output_type": "stream",
          "name": "stdout",
          "text": [
            "1/1 [==============================] - 0s 16ms/step\n",
            "********** TRAINING THE GAN **********\n",
            "7/7 [==============================] - 3s 416ms/step - d1_loss: 0.2116 - d2_loss: 0.2055 - g_loss: 3.0631\n"
          ]
        },
        {
          "output_type": "stream",
          "name": "stderr",
          "text": [
            "WARNING:tensorflow:Compiled the loaded model, but the compiled metrics have yet to be built. `model.compile_metrics` will be empty until you train or evaluate the model.\n",
            "WARNING:tensorflow:Compiled the loaded model, but the compiled metrics have yet to be built. `model.compile_metrics` will be empty until you train or evaluate the model.\n"
          ]
        },
        {
          "output_type": "stream",
          "name": "stdout",
          "text": [
            "1/1 [==============================] - 0s 16ms/step\n",
            "********** TRAINING THE GAN **********\n",
            "7/7 [==============================] - 3s 419ms/step - d1_loss: 0.2173 - d2_loss: 0.2072 - g_loss: 2.9750\n"
          ]
        },
        {
          "output_type": "stream",
          "name": "stderr",
          "text": [
            "WARNING:tensorflow:Compiled the loaded model, but the compiled metrics have yet to be built. `model.compile_metrics` will be empty until you train or evaluate the model.\n",
            "WARNING:tensorflow:Compiled the loaded model, but the compiled metrics have yet to be built. `model.compile_metrics` will be empty until you train or evaluate the model.\n"
          ]
        },
        {
          "output_type": "stream",
          "name": "stdout",
          "text": [
            "1/1 [==============================] - 0s 19ms/step\n",
            "********** TRAINING THE GAN **********\n",
            "7/7 [==============================] - 3s 420ms/step - d1_loss: 0.2176 - d2_loss: 0.2084 - g_loss: 2.9751\n"
          ]
        },
        {
          "output_type": "stream",
          "name": "stderr",
          "text": [
            "WARNING:tensorflow:Compiled the loaded model, but the compiled metrics have yet to be built. `model.compile_metrics` will be empty until you train or evaluate the model.\n",
            "WARNING:tensorflow:Compiled the loaded model, but the compiled metrics have yet to be built. `model.compile_metrics` will be empty until you train or evaluate the model.\n"
          ]
        },
        {
          "output_type": "stream",
          "name": "stdout",
          "text": [
            "1/1 [==============================] - 0s 16ms/step\n",
            "********** TRAINING THE GAN **********\n",
            "7/7 [==============================] - 3s 417ms/step - d1_loss: 0.2167 - d2_loss: 0.2054 - g_loss: 3.0215\n"
          ]
        },
        {
          "output_type": "stream",
          "name": "stderr",
          "text": [
            "WARNING:tensorflow:Compiled the loaded model, but the compiled metrics have yet to be built. `model.compile_metrics` will be empty until you train or evaluate the model.\n",
            "WARNING:tensorflow:Compiled the loaded model, but the compiled metrics have yet to be built. `model.compile_metrics` will be empty until you train or evaluate the model.\n"
          ]
        },
        {
          "output_type": "stream",
          "name": "stdout",
          "text": [
            "1/1 [==============================] - 0s 18ms/step\n",
            "********** TRAINING THE GAN **********\n",
            "7/7 [==============================] - 3s 416ms/step - d1_loss: 0.2146 - d2_loss: 0.2035 - g_loss: 3.0501\n"
          ]
        },
        {
          "output_type": "stream",
          "name": "stderr",
          "text": [
            "WARNING:tensorflow:Compiled the loaded model, but the compiled metrics have yet to be built. `model.compile_metrics` will be empty until you train or evaluate the model.\n",
            "WARNING:tensorflow:Compiled the loaded model, but the compiled metrics have yet to be built. `model.compile_metrics` will be empty until you train or evaluate the model.\n"
          ]
        },
        {
          "output_type": "stream",
          "name": "stdout",
          "text": [
            "1/1 [==============================] - 0s 15ms/step\n",
            "********** TRAINING THE GAN **********\n",
            "7/7 [==============================] - 3s 414ms/step - d1_loss: 0.2140 - d2_loss: 0.2055 - g_loss: 3.1677\n"
          ]
        },
        {
          "output_type": "stream",
          "name": "stderr",
          "text": [
            "WARNING:tensorflow:Compiled the loaded model, but the compiled metrics have yet to be built. `model.compile_metrics` will be empty until you train or evaluate the model.\n",
            "WARNING:tensorflow:Compiled the loaded model, but the compiled metrics have yet to be built. `model.compile_metrics` will be empty until you train or evaluate the model.\n"
          ]
        },
        {
          "output_type": "stream",
          "name": "stdout",
          "text": [
            "1/1 [==============================] - 0s 19ms/step\n",
            "********** TRAINING THE GAN **********\n",
            "7/7 [==============================] - 3s 415ms/step - d1_loss: 0.2126 - d2_loss: 0.2027 - g_loss: 3.1707\n"
          ]
        },
        {
          "output_type": "stream",
          "name": "stderr",
          "text": [
            "WARNING:tensorflow:Compiled the loaded model, but the compiled metrics have yet to be built. `model.compile_metrics` will be empty until you train or evaluate the model.\n",
            "WARNING:tensorflow:Compiled the loaded model, but the compiled metrics have yet to be built. `model.compile_metrics` will be empty until you train or evaluate the model.\n"
          ]
        },
        {
          "output_type": "stream",
          "name": "stdout",
          "text": [
            "1/1 [==============================] - 0s 15ms/step\n",
            "********** TRAINING THE GAN **********\n",
            "7/7 [==============================] - 3s 415ms/step - d1_loss: 0.2109 - d2_loss: 0.2033 - g_loss: 3.1678\n"
          ]
        },
        {
          "output_type": "stream",
          "name": "stderr",
          "text": [
            "WARNING:tensorflow:Compiled the loaded model, but the compiled metrics have yet to be built. `model.compile_metrics` will be empty until you train or evaluate the model.\n",
            "WARNING:tensorflow:Compiled the loaded model, but the compiled metrics have yet to be built. `model.compile_metrics` will be empty until you train or evaluate the model.\n"
          ]
        },
        {
          "output_type": "stream",
          "name": "stdout",
          "text": [
            "1/1 [==============================] - 0s 16ms/step\n",
            "********** TRAINING THE GAN **********\n",
            "7/7 [==============================] - 3s 415ms/step - d1_loss: 0.2127 - d2_loss: 0.2084 - g_loss: 3.1354\n"
          ]
        },
        {
          "output_type": "stream",
          "name": "stderr",
          "text": [
            "WARNING:tensorflow:Compiled the loaded model, but the compiled metrics have yet to be built. `model.compile_metrics` will be empty until you train or evaluate the model.\n",
            "WARNING:tensorflow:Compiled the loaded model, but the compiled metrics have yet to be built. `model.compile_metrics` will be empty until you train or evaluate the model.\n"
          ]
        },
        {
          "output_type": "stream",
          "name": "stdout",
          "text": [
            "1/1 [==============================] - 0s 15ms/step\n",
            "********** TRAINING THE GAN **********\n",
            "7/7 [==============================] - 3s 413ms/step - d1_loss: 0.2120 - d2_loss: 0.2099 - g_loss: 3.0806\n"
          ]
        },
        {
          "output_type": "stream",
          "name": "stderr",
          "text": [
            "WARNING:tensorflow:Compiled the loaded model, but the compiled metrics have yet to be built. `model.compile_metrics` will be empty until you train or evaluate the model.\n",
            "WARNING:tensorflow:Compiled the loaded model, but the compiled metrics have yet to be built. `model.compile_metrics` will be empty until you train or evaluate the model.\n"
          ]
        },
        {
          "output_type": "stream",
          "name": "stdout",
          "text": [
            "1/1 [==============================] - 0s 17ms/step\n",
            "********** TRAINING THE GAN **********\n",
            "7/7 [==============================] - 3s 411ms/step - d1_loss: 0.2126 - d2_loss: 0.2057 - g_loss: 3.0082\n"
          ]
        },
        {
          "output_type": "stream",
          "name": "stderr",
          "text": [
            "WARNING:tensorflow:Compiled the loaded model, but the compiled metrics have yet to be built. `model.compile_metrics` will be empty until you train or evaluate the model.\n",
            "WARNING:tensorflow:Compiled the loaded model, but the compiled metrics have yet to be built. `model.compile_metrics` will be empty until you train or evaluate the model.\n"
          ]
        },
        {
          "output_type": "stream",
          "name": "stdout",
          "text": [
            "1/1 [==============================] - 0s 18ms/step\n",
            "********** TRAINING THE GAN **********\n",
            "7/7 [==============================] - 3s 414ms/step - d1_loss: 0.2172 - d2_loss: 0.2058 - g_loss: 3.1224\n"
          ]
        },
        {
          "output_type": "stream",
          "name": "stderr",
          "text": [
            "WARNING:tensorflow:Compiled the loaded model, but the compiled metrics have yet to be built. `model.compile_metrics` will be empty until you train or evaluate the model.\n",
            "WARNING:tensorflow:Compiled the loaded model, but the compiled metrics have yet to be built. `model.compile_metrics` will be empty until you train or evaluate the model.\n"
          ]
        },
        {
          "output_type": "stream",
          "name": "stdout",
          "text": [
            "1/1 [==============================] - 0s 16ms/step\n",
            "********** TRAINING THE GAN **********\n",
            "7/7 [==============================] - 3s 412ms/step - d1_loss: 0.2122 - d2_loss: 0.2083 - g_loss: 2.9989\n"
          ]
        },
        {
          "output_type": "stream",
          "name": "stderr",
          "text": [
            "WARNING:tensorflow:Compiled the loaded model, but the compiled metrics have yet to be built. `model.compile_metrics` will be empty until you train or evaluate the model.\n",
            "WARNING:tensorflow:Compiled the loaded model, but the compiled metrics have yet to be built. `model.compile_metrics` will be empty until you train or evaluate the model.\n"
          ]
        },
        {
          "output_type": "stream",
          "name": "stdout",
          "text": [
            "1/1 [==============================] - 0s 16ms/step\n",
            "********** TRAINING THE GAN **********\n",
            "7/7 [==============================] - 3s 416ms/step - d1_loss: 0.2151 - d2_loss: 0.2103 - g_loss: 2.9480\n"
          ]
        },
        {
          "output_type": "stream",
          "name": "stderr",
          "text": [
            "WARNING:tensorflow:Compiled the loaded model, but the compiled metrics have yet to be built. `model.compile_metrics` will be empty until you train or evaluate the model.\n",
            "WARNING:tensorflow:Compiled the loaded model, but the compiled metrics have yet to be built. `model.compile_metrics` will be empty until you train or evaluate the model.\n"
          ]
        },
        {
          "output_type": "stream",
          "name": "stdout",
          "text": [
            "1/1 [==============================] - 0s 27ms/step\n",
            "********** TRAINING THE GAN **********\n",
            "7/7 [==============================] - 3s 415ms/step - d1_loss: 0.2100 - d2_loss: 0.2044 - g_loss: 3.0190\n"
          ]
        },
        {
          "output_type": "stream",
          "name": "stderr",
          "text": [
            "WARNING:tensorflow:Compiled the loaded model, but the compiled metrics have yet to be built. `model.compile_metrics` will be empty until you train or evaluate the model.\n",
            "WARNING:tensorflow:Compiled the loaded model, but the compiled metrics have yet to be built. `model.compile_metrics` will be empty until you train or evaluate the model.\n"
          ]
        },
        {
          "output_type": "stream",
          "name": "stdout",
          "text": [
            "1/1 [==============================] - 0s 16ms/step\n",
            "********** TRAINING THE GAN **********\n",
            "7/7 [==============================] - 3s 419ms/step - d1_loss: 0.2127 - d2_loss: 0.2177 - g_loss: 2.9961\n"
          ]
        },
        {
          "output_type": "stream",
          "name": "stderr",
          "text": [
            "WARNING:tensorflow:Compiled the loaded model, but the compiled metrics have yet to be built. `model.compile_metrics` will be empty until you train or evaluate the model.\n",
            "WARNING:tensorflow:Compiled the loaded model, but the compiled metrics have yet to be built. `model.compile_metrics` will be empty until you train or evaluate the model.\n"
          ]
        },
        {
          "output_type": "stream",
          "name": "stdout",
          "text": [
            "1/1 [==============================] - 0s 17ms/step\n",
            "********** TRAINING THE GAN **********\n",
            "7/7 [==============================] - 3s 414ms/step - d1_loss: 0.2132 - d2_loss: 0.2082 - g_loss: 2.9476\n"
          ]
        },
        {
          "output_type": "stream",
          "name": "stderr",
          "text": [
            "WARNING:tensorflow:Compiled the loaded model, but the compiled metrics have yet to be built. `model.compile_metrics` will be empty until you train or evaluate the model.\n",
            "WARNING:tensorflow:Compiled the loaded model, but the compiled metrics have yet to be built. `model.compile_metrics` will be empty until you train or evaluate the model.\n"
          ]
        },
        {
          "output_type": "stream",
          "name": "stdout",
          "text": [
            "1/1 [==============================] - 0s 18ms/step\n",
            "********** TRAINING THE GAN **********\n",
            "7/7 [==============================] - 3s 418ms/step - d1_loss: 0.2117 - d2_loss: 0.2177 - g_loss: 2.9663\n"
          ]
        },
        {
          "output_type": "stream",
          "name": "stderr",
          "text": [
            "WARNING:tensorflow:Compiled the loaded model, but the compiled metrics have yet to be built. `model.compile_metrics` will be empty until you train or evaluate the model.\n",
            "WARNING:tensorflow:Compiled the loaded model, but the compiled metrics have yet to be built. `model.compile_metrics` will be empty until you train or evaluate the model.\n"
          ]
        },
        {
          "output_type": "stream",
          "name": "stdout",
          "text": [
            "1/1 [==============================] - 0s 15ms/step\n",
            "********** TRAINING THE GAN **********\n",
            "7/7 [==============================] - 3s 412ms/step - d1_loss: 0.2120 - d2_loss: 0.2044 - g_loss: 3.0435\n"
          ]
        },
        {
          "output_type": "stream",
          "name": "stderr",
          "text": [
            "WARNING:tensorflow:Compiled the loaded model, but the compiled metrics have yet to be built. `model.compile_metrics` will be empty until you train or evaluate the model.\n",
            "WARNING:tensorflow:Compiled the loaded model, but the compiled metrics have yet to be built. `model.compile_metrics` will be empty until you train or evaluate the model.\n"
          ]
        },
        {
          "output_type": "stream",
          "name": "stdout",
          "text": [
            "1/1 [==============================] - 0s 15ms/step\n",
            "********** TRAINING THE GAN **********\n",
            "7/7 [==============================] - 3s 414ms/step - d1_loss: 0.2115 - d2_loss: 0.2039 - g_loss: 3.0349\n"
          ]
        },
        {
          "output_type": "stream",
          "name": "stderr",
          "text": [
            "WARNING:tensorflow:Compiled the loaded model, but the compiled metrics have yet to be built. `model.compile_metrics` will be empty until you train or evaluate the model.\n",
            "WARNING:tensorflow:Compiled the loaded model, but the compiled metrics have yet to be built. `model.compile_metrics` will be empty until you train or evaluate the model.\n"
          ]
        },
        {
          "output_type": "stream",
          "name": "stdout",
          "text": [
            "1/1 [==============================] - 0s 15ms/step\n",
            "********** TRAINING THE GAN **********\n",
            "7/7 [==============================] - 3s 415ms/step - d1_loss: 0.2125 - d2_loss: 0.2061 - g_loss: 3.0402\n"
          ]
        },
        {
          "output_type": "stream",
          "name": "stderr",
          "text": [
            "WARNING:tensorflow:Compiled the loaded model, but the compiled metrics have yet to be built. `model.compile_metrics` will be empty until you train or evaluate the model.\n",
            "WARNING:tensorflow:Compiled the loaded model, but the compiled metrics have yet to be built. `model.compile_metrics` will be empty until you train or evaluate the model.\n"
          ]
        },
        {
          "output_type": "stream",
          "name": "stdout",
          "text": [
            "1/1 [==============================] - 0s 18ms/step\n",
            "********** TRAINING THE GAN **********\n",
            "7/7 [==============================] - 3s 416ms/step - d1_loss: 0.2186 - d2_loss: 0.2090 - g_loss: 2.8724\n"
          ]
        },
        {
          "output_type": "stream",
          "name": "stderr",
          "text": [
            "WARNING:tensorflow:Compiled the loaded model, but the compiled metrics have yet to be built. `model.compile_metrics` will be empty until you train or evaluate the model.\n",
            "WARNING:tensorflow:Compiled the loaded model, but the compiled metrics have yet to be built. `model.compile_metrics` will be empty until you train or evaluate the model.\n"
          ]
        },
        {
          "output_type": "stream",
          "name": "stdout",
          "text": [
            "1/1 [==============================] - 0s 18ms/step\n",
            "********** TRAINING THE GAN **********\n",
            "7/7 [==============================] - 3s 416ms/step - d1_loss: 0.2120 - d2_loss: 0.2031 - g_loss: 3.0266\n"
          ]
        },
        {
          "output_type": "stream",
          "name": "stderr",
          "text": [
            "WARNING:tensorflow:Compiled the loaded model, but the compiled metrics have yet to be built. `model.compile_metrics` will be empty until you train or evaluate the model.\n",
            "WARNING:tensorflow:Compiled the loaded model, but the compiled metrics have yet to be built. `model.compile_metrics` will be empty until you train or evaluate the model.\n"
          ]
        },
        {
          "output_type": "stream",
          "name": "stdout",
          "text": [
            "1/1 [==============================] - 0s 15ms/step\n",
            "********** TRAINING THE GAN **********\n",
            "7/7 [==============================] - 3s 416ms/step - d1_loss: 0.2108 - d2_loss: 0.2043 - g_loss: 2.9587\n"
          ]
        },
        {
          "output_type": "stream",
          "name": "stderr",
          "text": [
            "WARNING:tensorflow:Compiled the loaded model, but the compiled metrics have yet to be built. `model.compile_metrics` will be empty until you train or evaluate the model.\n",
            "WARNING:tensorflow:Compiled the loaded model, but the compiled metrics have yet to be built. `model.compile_metrics` will be empty until you train or evaluate the model.\n"
          ]
        },
        {
          "output_type": "stream",
          "name": "stdout",
          "text": [
            "1/1 [==============================] - 0s 15ms/step\n",
            "********** TRAINING THE GAN **********\n",
            "7/7 [==============================] - 3s 413ms/step - d1_loss: 0.2194 - d2_loss: 0.2061 - g_loss: 2.9925\n"
          ]
        },
        {
          "output_type": "stream",
          "name": "stderr",
          "text": [
            "WARNING:tensorflow:Compiled the loaded model, but the compiled metrics have yet to be built. `model.compile_metrics` will be empty until you train or evaluate the model.\n",
            "WARNING:tensorflow:Compiled the loaded model, but the compiled metrics have yet to be built. `model.compile_metrics` will be empty until you train or evaluate the model.\n"
          ]
        },
        {
          "output_type": "stream",
          "name": "stdout",
          "text": [
            "1/1 [==============================] - 0s 16ms/step\n",
            "********** TRAINING THE GAN **********\n",
            "7/7 [==============================] - 3s 415ms/step - d1_loss: 0.2145 - d2_loss: 0.2098 - g_loss: 2.8754\n"
          ]
        },
        {
          "output_type": "stream",
          "name": "stderr",
          "text": [
            "WARNING:tensorflow:Compiled the loaded model, but the compiled metrics have yet to be built. `model.compile_metrics` will be empty until you train or evaluate the model.\n",
            "WARNING:tensorflow:Compiled the loaded model, but the compiled metrics have yet to be built. `model.compile_metrics` will be empty until you train or evaluate the model.\n"
          ]
        },
        {
          "output_type": "stream",
          "name": "stdout",
          "text": [
            "1/1 [==============================] - 0s 16ms/step\n",
            "********** TRAINING THE GAN **********\n",
            "7/7 [==============================] - 3s 416ms/step - d1_loss: 0.2126 - d2_loss: 0.2051 - g_loss: 2.9467\n"
          ]
        },
        {
          "output_type": "stream",
          "name": "stderr",
          "text": [
            "WARNING:tensorflow:Compiled the loaded model, but the compiled metrics have yet to be built. `model.compile_metrics` will be empty until you train or evaluate the model.\n",
            "WARNING:tensorflow:Compiled the loaded model, but the compiled metrics have yet to be built. `model.compile_metrics` will be empty until you train or evaluate the model.\n"
          ]
        },
        {
          "output_type": "stream",
          "name": "stdout",
          "text": [
            "1/1 [==============================] - 0s 17ms/step\n",
            "********** TRAINING THE GAN **********\n",
            "7/7 [==============================] - 3s 415ms/step - d1_loss: 0.2172 - d2_loss: 0.2051 - g_loss: 2.9315\n"
          ]
        },
        {
          "output_type": "stream",
          "name": "stderr",
          "text": [
            "WARNING:tensorflow:Compiled the loaded model, but the compiled metrics have yet to be built. `model.compile_metrics` will be empty until you train or evaluate the model.\n",
            "WARNING:tensorflow:Compiled the loaded model, but the compiled metrics have yet to be built. `model.compile_metrics` will be empty until you train or evaluate the model.\n"
          ]
        },
        {
          "output_type": "stream",
          "name": "stdout",
          "text": [
            "1/1 [==============================] - 0s 16ms/step\n",
            "********** TRAINING THE GAN **********\n",
            "7/7 [==============================] - 3s 412ms/step - d1_loss: 0.2080 - d2_loss: 0.2031 - g_loss: 3.0008\n"
          ]
        },
        {
          "output_type": "stream",
          "name": "stderr",
          "text": [
            "WARNING:tensorflow:Compiled the loaded model, but the compiled metrics have yet to be built. `model.compile_metrics` will be empty until you train or evaluate the model.\n",
            "WARNING:tensorflow:Compiled the loaded model, but the compiled metrics have yet to be built. `model.compile_metrics` will be empty until you train or evaluate the model.\n"
          ]
        },
        {
          "output_type": "stream",
          "name": "stdout",
          "text": [
            "1/1 [==============================] - 0s 19ms/step\n",
            "********** TRAINING THE GAN **********\n",
            "7/7 [==============================] - 3s 415ms/step - d1_loss: 0.2089 - d2_loss: 0.2058 - g_loss: 3.0249\n"
          ]
        },
        {
          "output_type": "stream",
          "name": "stderr",
          "text": [
            "WARNING:tensorflow:Compiled the loaded model, but the compiled metrics have yet to be built. `model.compile_metrics` will be empty until you train or evaluate the model.\n",
            "WARNING:tensorflow:Compiled the loaded model, but the compiled metrics have yet to be built. `model.compile_metrics` will be empty until you train or evaluate the model.\n"
          ]
        },
        {
          "output_type": "stream",
          "name": "stdout",
          "text": [
            "1/1 [==============================] - 0s 15ms/step\n",
            "********** TRAINING THE GAN **********\n",
            "7/7 [==============================] - 3s 415ms/step - d1_loss: 0.2125 - d2_loss: 0.2066 - g_loss: 2.9495\n"
          ]
        },
        {
          "output_type": "stream",
          "name": "stderr",
          "text": [
            "WARNING:tensorflow:Compiled the loaded model, but the compiled metrics have yet to be built. `model.compile_metrics` will be empty until you train or evaluate the model.\n",
            "WARNING:tensorflow:Compiled the loaded model, but the compiled metrics have yet to be built. `model.compile_metrics` will be empty until you train or evaluate the model.\n"
          ]
        },
        {
          "output_type": "stream",
          "name": "stdout",
          "text": [
            "1/1 [==============================] - 0s 17ms/step\n",
            "********** TRAINING THE GAN **********\n",
            "7/7 [==============================] - 3s 413ms/step - d1_loss: 0.2122 - d2_loss: 0.2040 - g_loss: 2.9345\n"
          ]
        },
        {
          "output_type": "stream",
          "name": "stderr",
          "text": [
            "WARNING:tensorflow:Compiled the loaded model, but the compiled metrics have yet to be built. `model.compile_metrics` will be empty until you train or evaluate the model.\n",
            "WARNING:tensorflow:Compiled the loaded model, but the compiled metrics have yet to be built. `model.compile_metrics` will be empty until you train or evaluate the model.\n"
          ]
        },
        {
          "output_type": "stream",
          "name": "stdout",
          "text": [
            "1/1 [==============================] - 0s 18ms/step\n",
            "********** TRAINING THE GAN **********\n",
            "7/7 [==============================] - 3s 415ms/step - d1_loss: 0.2101 - d2_loss: 0.2036 - g_loss: 3.0243\n"
          ]
        },
        {
          "output_type": "stream",
          "name": "stderr",
          "text": [
            "WARNING:tensorflow:Compiled the loaded model, but the compiled metrics have yet to be built. `model.compile_metrics` will be empty until you train or evaluate the model.\n",
            "WARNING:tensorflow:Compiled the loaded model, but the compiled metrics have yet to be built. `model.compile_metrics` will be empty until you train or evaluate the model.\n"
          ]
        },
        {
          "output_type": "stream",
          "name": "stdout",
          "text": [
            "1/1 [==============================] - 0s 15ms/step\n",
            "********** TRAINING THE GAN **********\n",
            "7/7 [==============================] - 3s 414ms/step - d1_loss: 0.2133 - d2_loss: 0.2057 - g_loss: 2.8961\n"
          ]
        },
        {
          "output_type": "stream",
          "name": "stderr",
          "text": [
            "WARNING:tensorflow:Compiled the loaded model, but the compiled metrics have yet to be built. `model.compile_metrics` will be empty until you train or evaluate the model.\n",
            "WARNING:tensorflow:Compiled the loaded model, but the compiled metrics have yet to be built. `model.compile_metrics` will be empty until you train or evaluate the model.\n"
          ]
        },
        {
          "output_type": "stream",
          "name": "stdout",
          "text": [
            "1/1 [==============================] - 0s 15ms/step\n",
            "********** TRAINING THE GAN **********\n",
            "7/7 [==============================] - 3s 418ms/step - d1_loss: 0.2072 - d2_loss: 0.2036 - g_loss: 2.8172\n"
          ]
        },
        {
          "output_type": "stream",
          "name": "stderr",
          "text": [
            "WARNING:tensorflow:Compiled the loaded model, but the compiled metrics have yet to be built. `model.compile_metrics` will be empty until you train or evaluate the model.\n",
            "WARNING:tensorflow:Compiled the loaded model, but the compiled metrics have yet to be built. `model.compile_metrics` will be empty until you train or evaluate the model.\n"
          ]
        },
        {
          "output_type": "stream",
          "name": "stdout",
          "text": [
            "1/1 [==============================] - 0s 25ms/step\n",
            "********** TRAINING THE GAN **********\n",
            "7/7 [==============================] - 3s 413ms/step - d1_loss: 0.2108 - d2_loss: 0.2029 - g_loss: 2.9816\n"
          ]
        },
        {
          "output_type": "stream",
          "name": "stderr",
          "text": [
            "WARNING:tensorflow:Compiled the loaded model, but the compiled metrics have yet to be built. `model.compile_metrics` will be empty until you train or evaluate the model.\n",
            "WARNING:tensorflow:Compiled the loaded model, but the compiled metrics have yet to be built. `model.compile_metrics` will be empty until you train or evaluate the model.\n"
          ]
        },
        {
          "output_type": "stream",
          "name": "stdout",
          "text": [
            "1/1 [==============================] - 0s 16ms/step\n",
            "********** TRAINING THE GAN **********\n",
            "7/7 [==============================] - 3s 416ms/step - d1_loss: 0.2103 - d2_loss: 0.2046 - g_loss: 3.0775\n"
          ]
        },
        {
          "output_type": "stream",
          "name": "stderr",
          "text": [
            "WARNING:tensorflow:Compiled the loaded model, but the compiled metrics have yet to be built. `model.compile_metrics` will be empty until you train or evaluate the model.\n",
            "WARNING:tensorflow:Compiled the loaded model, but the compiled metrics have yet to be built. `model.compile_metrics` will be empty until you train or evaluate the model.\n"
          ]
        },
        {
          "output_type": "stream",
          "name": "stdout",
          "text": [
            "1/1 [==============================] - 0s 16ms/step\n",
            "********** TRAINING THE GAN **********\n",
            "7/7 [==============================] - 3s 413ms/step - d1_loss: 0.2117 - d2_loss: 0.2041 - g_loss: 2.9745\n"
          ]
        },
        {
          "output_type": "stream",
          "name": "stderr",
          "text": [
            "WARNING:tensorflow:Compiled the loaded model, but the compiled metrics have yet to be built. `model.compile_metrics` will be empty until you train or evaluate the model.\n",
            "WARNING:tensorflow:Compiled the loaded model, but the compiled metrics have yet to be built. `model.compile_metrics` will be empty until you train or evaluate the model.\n"
          ]
        },
        {
          "output_type": "stream",
          "name": "stdout",
          "text": [
            "1/1 [==============================] - 0s 22ms/step\n",
            "********** TRAINING THE GAN **********\n",
            "7/7 [==============================] - 3s 412ms/step - d1_loss: 0.2118 - d2_loss: 0.2064 - g_loss: 3.0520\n"
          ]
        },
        {
          "output_type": "stream",
          "name": "stderr",
          "text": [
            "WARNING:tensorflow:Compiled the loaded model, but the compiled metrics have yet to be built. `model.compile_metrics` will be empty until you train or evaluate the model.\n",
            "WARNING:tensorflow:Compiled the loaded model, but the compiled metrics have yet to be built. `model.compile_metrics` will be empty until you train or evaluate the model.\n"
          ]
        },
        {
          "output_type": "stream",
          "name": "stdout",
          "text": [
            "1/1 [==============================] - 0s 18ms/step\n",
            "********** TRAINING THE GAN **********\n",
            "7/7 [==============================] - 3s 412ms/step - d1_loss: 0.2101 - d2_loss: 0.2035 - g_loss: 3.0093\n"
          ]
        },
        {
          "output_type": "stream",
          "name": "stderr",
          "text": [
            "WARNING:tensorflow:Compiled the loaded model, but the compiled metrics have yet to be built. `model.compile_metrics` will be empty until you train or evaluate the model.\n",
            "WARNING:tensorflow:Compiled the loaded model, but the compiled metrics have yet to be built. `model.compile_metrics` will be empty until you train or evaluate the model.\n"
          ]
        },
        {
          "output_type": "stream",
          "name": "stdout",
          "text": [
            "1/1 [==============================] - 0s 18ms/step\n",
            "********** TRAINING THE GAN **********\n",
            "7/7 [==============================] - 3s 410ms/step - d1_loss: 0.2144 - d2_loss: 0.2078 - g_loss: 2.9690\n"
          ]
        },
        {
          "output_type": "stream",
          "name": "stderr",
          "text": [
            "WARNING:tensorflow:Compiled the loaded model, but the compiled metrics have yet to be built. `model.compile_metrics` will be empty until you train or evaluate the model.\n",
            "WARNING:tensorflow:Compiled the loaded model, but the compiled metrics have yet to be built. `model.compile_metrics` will be empty until you train or evaluate the model.\n"
          ]
        },
        {
          "output_type": "stream",
          "name": "stdout",
          "text": [
            "1/1 [==============================] - 0s 15ms/step\n",
            "********** TRAINING THE GAN **********\n",
            "7/7 [==============================] - 3s 413ms/step - d1_loss: 0.2095 - d2_loss: 0.2058 - g_loss: 2.9171\n"
          ]
        },
        {
          "output_type": "stream",
          "name": "stderr",
          "text": [
            "WARNING:tensorflow:Compiled the loaded model, but the compiled metrics have yet to be built. `model.compile_metrics` will be empty until you train or evaluate the model.\n",
            "WARNING:tensorflow:Compiled the loaded model, but the compiled metrics have yet to be built. `model.compile_metrics` will be empty until you train or evaluate the model.\n"
          ]
        },
        {
          "output_type": "stream",
          "name": "stdout",
          "text": [
            "1/1 [==============================] - 0s 18ms/step\n",
            "********** TRAINING THE GAN **********\n",
            "7/7 [==============================] - 3s 413ms/step - d1_loss: 0.2108 - d2_loss: 0.2059 - g_loss: 2.8848\n"
          ]
        },
        {
          "output_type": "stream",
          "name": "stderr",
          "text": [
            "WARNING:tensorflow:Compiled the loaded model, but the compiled metrics have yet to be built. `model.compile_metrics` will be empty until you train or evaluate the model.\n",
            "WARNING:tensorflow:Compiled the loaded model, but the compiled metrics have yet to be built. `model.compile_metrics` will be empty until you train or evaluate the model.\n"
          ]
        },
        {
          "output_type": "stream",
          "name": "stdout",
          "text": [
            "1/1 [==============================] - 0s 15ms/step\n",
            "********** TRAINING THE GAN **********\n",
            "7/7 [==============================] - 3s 415ms/step - d1_loss: 0.2111 - d2_loss: 0.2041 - g_loss: 2.9314\n"
          ]
        },
        {
          "output_type": "stream",
          "name": "stderr",
          "text": [
            "WARNING:tensorflow:Compiled the loaded model, but the compiled metrics have yet to be built. `model.compile_metrics` will be empty until you train or evaluate the model.\n",
            "WARNING:tensorflow:Compiled the loaded model, but the compiled metrics have yet to be built. `model.compile_metrics` will be empty until you train or evaluate the model.\n"
          ]
        },
        {
          "output_type": "stream",
          "name": "stdout",
          "text": [
            "1/1 [==============================] - 0s 16ms/step\n",
            "********** TRAINING THE GAN **********\n",
            "7/7 [==============================] - 3s 416ms/step - d1_loss: 0.2092 - d2_loss: 0.2053 - g_loss: 2.9008\n"
          ]
        },
        {
          "output_type": "stream",
          "name": "stderr",
          "text": [
            "WARNING:tensorflow:Compiled the loaded model, but the compiled metrics have yet to be built. `model.compile_metrics` will be empty until you train or evaluate the model.\n",
            "WARNING:tensorflow:Compiled the loaded model, but the compiled metrics have yet to be built. `model.compile_metrics` will be empty until you train or evaluate the model.\n"
          ]
        },
        {
          "output_type": "stream",
          "name": "stdout",
          "text": [
            "1/1 [==============================] - 0s 16ms/step\n",
            "********** TRAINING THE GAN **********\n",
            "7/7 [==============================] - 3s 420ms/step - d1_loss: 0.2106 - d2_loss: 0.2037 - g_loss: 2.9234\n"
          ]
        },
        {
          "output_type": "stream",
          "name": "stderr",
          "text": [
            "WARNING:tensorflow:Compiled the loaded model, but the compiled metrics have yet to be built. `model.compile_metrics` will be empty until you train or evaluate the model.\n",
            "WARNING:tensorflow:Compiled the loaded model, but the compiled metrics have yet to be built. `model.compile_metrics` will be empty until you train or evaluate the model.\n"
          ]
        },
        {
          "output_type": "stream",
          "name": "stdout",
          "text": [
            "1/1 [==============================] - 0s 21ms/step\n",
            "********** TRAINING THE GAN **********\n",
            "7/7 [==============================] - 3s 422ms/step - d1_loss: 0.2104 - d2_loss: 0.2051 - g_loss: 2.9131\n"
          ]
        },
        {
          "output_type": "stream",
          "name": "stderr",
          "text": [
            "WARNING:tensorflow:Compiled the loaded model, but the compiled metrics have yet to be built. `model.compile_metrics` will be empty until you train or evaluate the model.\n",
            "WARNING:tensorflow:Compiled the loaded model, but the compiled metrics have yet to be built. `model.compile_metrics` will be empty until you train or evaluate the model.\n"
          ]
        },
        {
          "output_type": "stream",
          "name": "stdout",
          "text": [
            "1/1 [==============================] - 0s 17ms/step\n",
            "********** TRAINING THE GAN **********\n",
            "7/7 [==============================] - 3s 415ms/step - d1_loss: 0.2104 - d2_loss: 0.2056 - g_loss: 3.0190\n"
          ]
        },
        {
          "output_type": "stream",
          "name": "stderr",
          "text": [
            "WARNING:tensorflow:Compiled the loaded model, but the compiled metrics have yet to be built. `model.compile_metrics` will be empty until you train or evaluate the model.\n",
            "WARNING:tensorflow:Compiled the loaded model, but the compiled metrics have yet to be built. `model.compile_metrics` will be empty until you train or evaluate the model.\n"
          ]
        },
        {
          "output_type": "stream",
          "name": "stdout",
          "text": [
            "1/1 [==============================] - 0s 16ms/step\n",
            "********** TRAINING THE GAN **********\n",
            "7/7 [==============================] - 3s 415ms/step - d1_loss: 0.2127 - d2_loss: 0.2047 - g_loss: 2.9756\n"
          ]
        },
        {
          "output_type": "stream",
          "name": "stderr",
          "text": [
            "WARNING:tensorflow:Compiled the loaded model, but the compiled metrics have yet to be built. `model.compile_metrics` will be empty until you train or evaluate the model.\n",
            "WARNING:tensorflow:Compiled the loaded model, but the compiled metrics have yet to be built. `model.compile_metrics` will be empty until you train or evaluate the model.\n"
          ]
        },
        {
          "output_type": "stream",
          "name": "stdout",
          "text": [
            "1/1 [==============================] - 0s 21ms/step\n",
            "********** TRAINING THE GAN **********\n",
            "7/7 [==============================] - 3s 414ms/step - d1_loss: 0.2105 - d2_loss: 0.2056 - g_loss: 2.8786\n"
          ]
        },
        {
          "output_type": "stream",
          "name": "stderr",
          "text": [
            "WARNING:tensorflow:Compiled the loaded model, but the compiled metrics have yet to be built. `model.compile_metrics` will be empty until you train or evaluate the model.\n",
            "WARNING:tensorflow:Compiled the loaded model, but the compiled metrics have yet to be built. `model.compile_metrics` will be empty until you train or evaluate the model.\n"
          ]
        },
        {
          "output_type": "stream",
          "name": "stdout",
          "text": [
            "1/1 [==============================] - 0s 16ms/step\n",
            "********** TRAINING THE GAN **********\n",
            "7/7 [==============================] - 3s 416ms/step - d1_loss: 0.2128 - d2_loss: 0.2022 - g_loss: 2.8628\n"
          ]
        },
        {
          "output_type": "stream",
          "name": "stderr",
          "text": [
            "WARNING:tensorflow:Compiled the loaded model, but the compiled metrics have yet to be built. `model.compile_metrics` will be empty until you train or evaluate the model.\n",
            "WARNING:tensorflow:Compiled the loaded model, but the compiled metrics have yet to be built. `model.compile_metrics` will be empty until you train or evaluate the model.\n"
          ]
        },
        {
          "output_type": "stream",
          "name": "stdout",
          "text": [
            "1/1 [==============================] - 0s 18ms/step\n",
            "********** TRAINING THE GAN **********\n",
            "7/7 [==============================] - 3s 412ms/step - d1_loss: 0.2092 - d2_loss: 0.2077 - g_loss: 2.8644\n"
          ]
        },
        {
          "output_type": "stream",
          "name": "stderr",
          "text": [
            "WARNING:tensorflow:Compiled the loaded model, but the compiled metrics have yet to be built. `model.compile_metrics` will be empty until you train or evaluate the model.\n",
            "WARNING:tensorflow:Compiled the loaded model, but the compiled metrics have yet to be built. `model.compile_metrics` will be empty until you train or evaluate the model.\n"
          ]
        },
        {
          "output_type": "stream",
          "name": "stdout",
          "text": [
            "1/1 [==============================] - 0s 15ms/step\n",
            "********** TRAINING THE GAN **********\n",
            "7/7 [==============================] - 3s 411ms/step - d1_loss: 0.2138 - d2_loss: 0.2107 - g_loss: 2.9480\n"
          ]
        },
        {
          "output_type": "stream",
          "name": "stderr",
          "text": [
            "WARNING:tensorflow:Compiled the loaded model, but the compiled metrics have yet to be built. `model.compile_metrics` will be empty until you train or evaluate the model.\n",
            "WARNING:tensorflow:Compiled the loaded model, but the compiled metrics have yet to be built. `model.compile_metrics` will be empty until you train or evaluate the model.\n"
          ]
        },
        {
          "output_type": "stream",
          "name": "stdout",
          "text": [
            "1/1 [==============================] - 0s 22ms/step\n",
            "********** TRAINING THE GAN **********\n",
            "7/7 [==============================] - 3s 413ms/step - d1_loss: 0.2183 - d2_loss: 0.2080 - g_loss: 2.9197\n"
          ]
        },
        {
          "output_type": "stream",
          "name": "stderr",
          "text": [
            "WARNING:tensorflow:Compiled the loaded model, but the compiled metrics have yet to be built. `model.compile_metrics` will be empty until you train or evaluate the model.\n",
            "WARNING:tensorflow:Compiled the loaded model, but the compiled metrics have yet to be built. `model.compile_metrics` will be empty until you train or evaluate the model.\n"
          ]
        },
        {
          "output_type": "stream",
          "name": "stdout",
          "text": [
            "1/1 [==============================] - 0s 16ms/step\n",
            "********** TRAINING THE GAN **********\n",
            "7/7 [==============================] - 3s 411ms/step - d1_loss: 0.2135 - d2_loss: 0.2031 - g_loss: 2.8525\n"
          ]
        },
        {
          "output_type": "stream",
          "name": "stderr",
          "text": [
            "WARNING:tensorflow:Compiled the loaded model, but the compiled metrics have yet to be built. `model.compile_metrics` will be empty until you train or evaluate the model.\n",
            "WARNING:tensorflow:Compiled the loaded model, but the compiled metrics have yet to be built. `model.compile_metrics` will be empty until you train or evaluate the model.\n"
          ]
        },
        {
          "output_type": "stream",
          "name": "stdout",
          "text": [
            "1/1 [==============================] - 0s 19ms/step\n",
            "********** TRAINING THE GAN **********\n",
            "7/7 [==============================] - 3s 413ms/step - d1_loss: 0.2100 - d2_loss: 0.2015 - g_loss: 2.9765\n"
          ]
        },
        {
          "output_type": "stream",
          "name": "stderr",
          "text": [
            "WARNING:tensorflow:Compiled the loaded model, but the compiled metrics have yet to be built. `model.compile_metrics` will be empty until you train or evaluate the model.\n",
            "WARNING:tensorflow:Compiled the loaded model, but the compiled metrics have yet to be built. `model.compile_metrics` will be empty until you train or evaluate the model.\n"
          ]
        },
        {
          "output_type": "stream",
          "name": "stdout",
          "text": [
            "1/1 [==============================] - 0s 15ms/step\n",
            "********** TRAINING THE GAN **********\n",
            "7/7 [==============================] - 3s 414ms/step - d1_loss: 0.2558 - d2_loss: 0.4007 - g_loss: 3.4748\n"
          ]
        },
        {
          "output_type": "stream",
          "name": "stderr",
          "text": [
            "WARNING:tensorflow:Compiled the loaded model, but the compiled metrics have yet to be built. `model.compile_metrics` will be empty until you train or evaluate the model.\n",
            "WARNING:tensorflow:Compiled the loaded model, but the compiled metrics have yet to be built. `model.compile_metrics` will be empty until you train or evaluate the model.\n"
          ]
        },
        {
          "output_type": "stream",
          "name": "stdout",
          "text": [
            "1/1 [==============================] - 0s 15ms/step\n",
            "********** TRAINING THE GAN **********\n",
            "7/7 [==============================] - 3s 412ms/step - d1_loss: 0.2671 - d2_loss: 0.2792 - g_loss: 3.7024\n"
          ]
        },
        {
          "output_type": "stream",
          "name": "stderr",
          "text": [
            "WARNING:tensorflow:Compiled the loaded model, but the compiled metrics have yet to be built. `model.compile_metrics` will be empty until you train or evaluate the model.\n",
            "WARNING:tensorflow:Compiled the loaded model, but the compiled metrics have yet to be built. `model.compile_metrics` will be empty until you train or evaluate the model.\n"
          ]
        },
        {
          "output_type": "stream",
          "name": "stdout",
          "text": [
            "1/1 [==============================] - 0s 19ms/step\n",
            "********** TRAINING THE GAN **********\n",
            "7/7 [==============================] - 3s 412ms/step - d1_loss: 0.2243 - d2_loss: 0.2315 - g_loss: 3.1192\n"
          ]
        },
        {
          "output_type": "stream",
          "name": "stderr",
          "text": [
            "WARNING:tensorflow:Compiled the loaded model, but the compiled metrics have yet to be built. `model.compile_metrics` will be empty until you train or evaluate the model.\n",
            "WARNING:tensorflow:Compiled the loaded model, but the compiled metrics have yet to be built. `model.compile_metrics` will be empty until you train or evaluate the model.\n"
          ]
        },
        {
          "output_type": "stream",
          "name": "stdout",
          "text": [
            "1/1 [==============================] - 0s 16ms/step\n",
            "********** TRAINING THE GAN **********\n",
            "7/7 [==============================] - 3s 416ms/step - d1_loss: 0.2245 - d2_loss: 0.2172 - g_loss: 3.1214\n"
          ]
        },
        {
          "output_type": "stream",
          "name": "stderr",
          "text": [
            "WARNING:tensorflow:Compiled the loaded model, but the compiled metrics have yet to be built. `model.compile_metrics` will be empty until you train or evaluate the model.\n",
            "WARNING:tensorflow:Compiled the loaded model, but the compiled metrics have yet to be built. `model.compile_metrics` will be empty until you train or evaluate the model.\n"
          ]
        },
        {
          "output_type": "stream",
          "name": "stdout",
          "text": [
            "1/1 [==============================] - 0s 23ms/step\n",
            "********** TRAINING THE GAN **********\n",
            "7/7 [==============================] - 3s 412ms/step - d1_loss: 0.2207 - d2_loss: 0.2136 - g_loss: 3.2111\n"
          ]
        },
        {
          "output_type": "stream",
          "name": "stderr",
          "text": [
            "WARNING:tensorflow:Compiled the loaded model, but the compiled metrics have yet to be built. `model.compile_metrics` will be empty until you train or evaluate the model.\n",
            "WARNING:tensorflow:Compiled the loaded model, but the compiled metrics have yet to be built. `model.compile_metrics` will be empty until you train or evaluate the model.\n"
          ]
        },
        {
          "output_type": "stream",
          "name": "stdout",
          "text": [
            "1/1 [==============================] - 0s 20ms/step\n",
            "********** TRAINING THE GAN **********\n",
            "7/7 [==============================] - 3s 417ms/step - d1_loss: 0.2158 - d2_loss: 0.2120 - g_loss: 3.1556\n"
          ]
        },
        {
          "output_type": "stream",
          "name": "stderr",
          "text": [
            "WARNING:tensorflow:Compiled the loaded model, but the compiled metrics have yet to be built. `model.compile_metrics` will be empty until you train or evaluate the model.\n",
            "WARNING:tensorflow:Compiled the loaded model, but the compiled metrics have yet to be built. `model.compile_metrics` will be empty until you train or evaluate the model.\n"
          ]
        },
        {
          "output_type": "stream",
          "name": "stdout",
          "text": [
            "1/1 [==============================] - 0s 16ms/step\n",
            "********** TRAINING THE GAN **********\n",
            "7/7 [==============================] - 3s 413ms/step - d1_loss: 0.2108 - d2_loss: 0.2081 - g_loss: 3.1019\n"
          ]
        },
        {
          "output_type": "stream",
          "name": "stderr",
          "text": [
            "WARNING:tensorflow:Compiled the loaded model, but the compiled metrics have yet to be built. `model.compile_metrics` will be empty until you train or evaluate the model.\n",
            "WARNING:tensorflow:Compiled the loaded model, but the compiled metrics have yet to be built. `model.compile_metrics` will be empty until you train or evaluate the model.\n"
          ]
        },
        {
          "output_type": "stream",
          "name": "stdout",
          "text": [
            "1/1 [==============================] - 0s 17ms/step\n",
            "********** TRAINING THE GAN **********\n",
            "7/7 [==============================] - 3s 416ms/step - d1_loss: 0.2102 - d2_loss: 0.2105 - g_loss: 3.0993\n"
          ]
        },
        {
          "output_type": "stream",
          "name": "stderr",
          "text": [
            "WARNING:tensorflow:Compiled the loaded model, but the compiled metrics have yet to be built. `model.compile_metrics` will be empty until you train or evaluate the model.\n",
            "WARNING:tensorflow:Compiled the loaded model, but the compiled metrics have yet to be built. `model.compile_metrics` will be empty until you train or evaluate the model.\n"
          ]
        },
        {
          "output_type": "stream",
          "name": "stdout",
          "text": [
            "1/1 [==============================] - 0s 18ms/step\n",
            "********** TRAINING THE GAN **********\n",
            "7/7 [==============================] - 3s 413ms/step - d1_loss: 0.2159 - d2_loss: 0.2099 - g_loss: 3.2246\n"
          ]
        },
        {
          "output_type": "stream",
          "name": "stderr",
          "text": [
            "WARNING:tensorflow:Compiled the loaded model, but the compiled metrics have yet to be built. `model.compile_metrics` will be empty until you train or evaluate the model.\n",
            "WARNING:tensorflow:Compiled the loaded model, but the compiled metrics have yet to be built. `model.compile_metrics` will be empty until you train or evaluate the model.\n"
          ]
        },
        {
          "output_type": "stream",
          "name": "stdout",
          "text": [
            "1/1 [==============================] - 0s 16ms/step\n",
            "********** TRAINING THE GAN **********\n",
            "7/7 [==============================] - 3s 416ms/step - d1_loss: 0.2129 - d2_loss: 0.2056 - g_loss: 3.1524\n"
          ]
        },
        {
          "output_type": "stream",
          "name": "stderr",
          "text": [
            "WARNING:tensorflow:Compiled the loaded model, but the compiled metrics have yet to be built. `model.compile_metrics` will be empty until you train or evaluate the model.\n",
            "WARNING:tensorflow:Compiled the loaded model, but the compiled metrics have yet to be built. `model.compile_metrics` will be empty until you train or evaluate the model.\n"
          ]
        },
        {
          "output_type": "stream",
          "name": "stdout",
          "text": [
            "1/1 [==============================] - 0s 16ms/step\n",
            "********** TRAINING THE GAN **********\n",
            "7/7 [==============================] - 3s 415ms/step - d1_loss: 0.2110 - d2_loss: 0.2046 - g_loss: 3.0895\n"
          ]
        },
        {
          "output_type": "stream",
          "name": "stderr",
          "text": [
            "WARNING:tensorflow:Compiled the loaded model, but the compiled metrics have yet to be built. `model.compile_metrics` will be empty until you train or evaluate the model.\n",
            "WARNING:tensorflow:Compiled the loaded model, but the compiled metrics have yet to be built. `model.compile_metrics` will be empty until you train or evaluate the model.\n"
          ]
        },
        {
          "output_type": "stream",
          "name": "stdout",
          "text": [
            "1/1 [==============================] - 0s 16ms/step\n",
            "********** TRAINING THE GAN **********\n",
            "7/7 [==============================] - 3s 411ms/step - d1_loss: 0.2097 - d2_loss: 0.2032 - g_loss: 3.1928\n"
          ]
        },
        {
          "output_type": "stream",
          "name": "stderr",
          "text": [
            "WARNING:tensorflow:Compiled the loaded model, but the compiled metrics have yet to be built. `model.compile_metrics` will be empty until you train or evaluate the model.\n",
            "WARNING:tensorflow:Compiled the loaded model, but the compiled metrics have yet to be built. `model.compile_metrics` will be empty until you train or evaluate the model.\n"
          ]
        },
        {
          "output_type": "stream",
          "name": "stdout",
          "text": [
            "1/1 [==============================] - 0s 16ms/step\n",
            "********** TRAINING THE GAN **********\n",
            "7/7 [==============================] - 3s 412ms/step - d1_loss: 0.2097 - d2_loss: 0.2084 - g_loss: 3.1044\n"
          ]
        },
        {
          "output_type": "stream",
          "name": "stderr",
          "text": [
            "WARNING:tensorflow:Compiled the loaded model, but the compiled metrics have yet to be built. `model.compile_metrics` will be empty until you train or evaluate the model.\n",
            "WARNING:tensorflow:Compiled the loaded model, but the compiled metrics have yet to be built. `model.compile_metrics` will be empty until you train or evaluate the model.\n"
          ]
        },
        {
          "output_type": "stream",
          "name": "stdout",
          "text": [
            "1/1 [==============================] - 0s 18ms/step\n",
            "********** TRAINING THE GAN **********\n",
            "7/7 [==============================] - 3s 412ms/step - d1_loss: 0.2094 - d2_loss: 0.2047 - g_loss: 3.0613\n"
          ]
        },
        {
          "output_type": "stream",
          "name": "stderr",
          "text": [
            "WARNING:tensorflow:Compiled the loaded model, but the compiled metrics have yet to be built. `model.compile_metrics` will be empty until you train or evaluate the model.\n",
            "WARNING:tensorflow:Compiled the loaded model, but the compiled metrics have yet to be built. `model.compile_metrics` will be empty until you train or evaluate the model.\n"
          ]
        },
        {
          "output_type": "stream",
          "name": "stdout",
          "text": [
            "1/1 [==============================] - 0s 19ms/step\n",
            "********** TRAINING THE GAN **********\n",
            "7/7 [==============================] - 3s 415ms/step - d1_loss: 0.2090 - d2_loss: 0.2036 - g_loss: 3.0014\n"
          ]
        },
        {
          "output_type": "stream",
          "name": "stderr",
          "text": [
            "WARNING:tensorflow:Compiled the loaded model, but the compiled metrics have yet to be built. `model.compile_metrics` will be empty until you train or evaluate the model.\n",
            "WARNING:tensorflow:Compiled the loaded model, but the compiled metrics have yet to be built. `model.compile_metrics` will be empty until you train or evaluate the model.\n"
          ]
        },
        {
          "output_type": "stream",
          "name": "stdout",
          "text": [
            "1/1 [==============================] - 0s 18ms/step\n",
            "********** TRAINING THE GAN **********\n",
            "7/7 [==============================] - 3s 409ms/step - d1_loss: 0.2084 - d2_loss: 0.2034 - g_loss: 3.0704\n"
          ]
        },
        {
          "output_type": "stream",
          "name": "stderr",
          "text": [
            "WARNING:tensorflow:Compiled the loaded model, but the compiled metrics have yet to be built. `model.compile_metrics` will be empty until you train or evaluate the model.\n",
            "WARNING:tensorflow:Compiled the loaded model, but the compiled metrics have yet to be built. `model.compile_metrics` will be empty until you train or evaluate the model.\n"
          ]
        },
        {
          "output_type": "stream",
          "name": "stdout",
          "text": [
            "1/1 [==============================] - 0s 16ms/step\n",
            "********** TRAINING THE GAN **********\n",
            "7/7 [==============================] - 3s 413ms/step - d1_loss: 0.2077 - d2_loss: 0.2096 - g_loss: 2.9315\n"
          ]
        },
        {
          "output_type": "stream",
          "name": "stderr",
          "text": [
            "WARNING:tensorflow:Compiled the loaded model, but the compiled metrics have yet to be built. `model.compile_metrics` will be empty until you train or evaluate the model.\n",
            "WARNING:tensorflow:Compiled the loaded model, but the compiled metrics have yet to be built. `model.compile_metrics` will be empty until you train or evaluate the model.\n"
          ]
        },
        {
          "output_type": "stream",
          "name": "stdout",
          "text": [
            "1/1 [==============================] - 0s 16ms/step\n",
            "********** TRAINING THE GAN **********\n",
            "7/7 [==============================] - 3s 412ms/step - d1_loss: 0.2152 - d2_loss: 0.2042 - g_loss: 2.9763\n"
          ]
        },
        {
          "output_type": "stream",
          "name": "stderr",
          "text": [
            "WARNING:tensorflow:Compiled the loaded model, but the compiled metrics have yet to be built. `model.compile_metrics` will be empty until you train or evaluate the model.\n",
            "WARNING:tensorflow:Compiled the loaded model, but the compiled metrics have yet to be built. `model.compile_metrics` will be empty until you train or evaluate the model.\n"
          ]
        },
        {
          "output_type": "stream",
          "name": "stdout",
          "text": [
            "1/1 [==============================] - 0s 16ms/step\n",
            "********** TRAINING THE GAN **********\n",
            "7/7 [==============================] - 3s 413ms/step - d1_loss: 0.2129 - d2_loss: 0.2041 - g_loss: 2.9541\n"
          ]
        },
        {
          "output_type": "stream",
          "name": "stderr",
          "text": [
            "WARNING:tensorflow:Compiled the loaded model, but the compiled metrics have yet to be built. `model.compile_metrics` will be empty until you train or evaluate the model.\n",
            "WARNING:tensorflow:Compiled the loaded model, but the compiled metrics have yet to be built. `model.compile_metrics` will be empty until you train or evaluate the model.\n"
          ]
        },
        {
          "output_type": "stream",
          "name": "stdout",
          "text": [
            "1/1 [==============================] - 0s 19ms/step\n",
            "********** TRAINING THE GAN **********\n",
            "7/7 [==============================] - 3s 414ms/step - d1_loss: 0.2136 - d2_loss: 0.2038 - g_loss: 2.9405\n"
          ]
        },
        {
          "output_type": "stream",
          "name": "stderr",
          "text": [
            "WARNING:tensorflow:Compiled the loaded model, but the compiled metrics have yet to be built. `model.compile_metrics` will be empty until you train or evaluate the model.\n",
            "WARNING:tensorflow:Compiled the loaded model, but the compiled metrics have yet to be built. `model.compile_metrics` will be empty until you train or evaluate the model.\n"
          ]
        },
        {
          "output_type": "stream",
          "name": "stdout",
          "text": [
            "1/1 [==============================] - 0s 21ms/step\n",
            "********** TRAINING THE GAN **********\n",
            "7/7 [==============================] - 3s 418ms/step - d1_loss: 0.2065 - d2_loss: 0.2037 - g_loss: 3.0163\n"
          ]
        },
        {
          "output_type": "stream",
          "name": "stderr",
          "text": [
            "WARNING:tensorflow:Compiled the loaded model, but the compiled metrics have yet to be built. `model.compile_metrics` will be empty until you train or evaluate the model.\n",
            "WARNING:tensorflow:Compiled the loaded model, but the compiled metrics have yet to be built. `model.compile_metrics` will be empty until you train or evaluate the model.\n"
          ]
        },
        {
          "output_type": "stream",
          "name": "stdout",
          "text": [
            "1/1 [==============================] - 0s 18ms/step\n",
            "********** TRAINING THE GAN **********\n",
            "7/7 [==============================] - 3s 414ms/step - d1_loss: 0.2076 - d2_loss: 0.2121 - g_loss: 2.9586\n"
          ]
        },
        {
          "output_type": "stream",
          "name": "stderr",
          "text": [
            "WARNING:tensorflow:Compiled the loaded model, but the compiled metrics have yet to be built. `model.compile_metrics` will be empty until you train or evaluate the model.\n",
            "WARNING:tensorflow:Compiled the loaded model, but the compiled metrics have yet to be built. `model.compile_metrics` will be empty until you train or evaluate the model.\n"
          ]
        },
        {
          "output_type": "stream",
          "name": "stdout",
          "text": [
            "1/1 [==============================] - 0s 16ms/step\n",
            "********** TRAINING THE GAN **********\n",
            "7/7 [==============================] - 3s 413ms/step - d1_loss: 0.2087 - d2_loss: 0.2060 - g_loss: 2.9561\n"
          ]
        },
        {
          "output_type": "stream",
          "name": "stderr",
          "text": [
            "WARNING:tensorflow:Compiled the loaded model, but the compiled metrics have yet to be built. `model.compile_metrics` will be empty until you train or evaluate the model.\n",
            "WARNING:tensorflow:Compiled the loaded model, but the compiled metrics have yet to be built. `model.compile_metrics` will be empty until you train or evaluate the model.\n"
          ]
        },
        {
          "output_type": "stream",
          "name": "stdout",
          "text": [
            "1/1 [==============================] - 0s 17ms/step\n",
            "********** TRAINING THE GAN **********\n",
            "7/7 [==============================] - 3s 412ms/step - d1_loss: 0.2063 - d2_loss: 0.2060 - g_loss: 2.9920\n"
          ]
        },
        {
          "output_type": "stream",
          "name": "stderr",
          "text": [
            "WARNING:tensorflow:Compiled the loaded model, but the compiled metrics have yet to be built. `model.compile_metrics` will be empty until you train or evaluate the model.\n",
            "WARNING:tensorflow:Compiled the loaded model, but the compiled metrics have yet to be built. `model.compile_metrics` will be empty until you train or evaluate the model.\n"
          ]
        },
        {
          "output_type": "stream",
          "name": "stdout",
          "text": [
            "1/1 [==============================] - 0s 19ms/step\n",
            "********** TRAINING THE GAN **********\n",
            "7/7 [==============================] - 3s 415ms/step - d1_loss: 0.2069 - d2_loss: 0.2026 - g_loss: 3.0632\n"
          ]
        },
        {
          "output_type": "stream",
          "name": "stderr",
          "text": [
            "WARNING:tensorflow:Compiled the loaded model, but the compiled metrics have yet to be built. `model.compile_metrics` will be empty until you train or evaluate the model.\n",
            "WARNING:tensorflow:Compiled the loaded model, but the compiled metrics have yet to be built. `model.compile_metrics` will be empty until you train or evaluate the model.\n"
          ]
        },
        {
          "output_type": "stream",
          "name": "stdout",
          "text": [
            "1/1 [==============================] - 0s 17ms/step\n",
            "********** TRAINING THE GAN **********\n",
            "7/7 [==============================] - 3s 417ms/step - d1_loss: 0.2109 - d2_loss: 0.2076 - g_loss: 2.9500\n"
          ]
        },
        {
          "output_type": "stream",
          "name": "stderr",
          "text": [
            "WARNING:tensorflow:Compiled the loaded model, but the compiled metrics have yet to be built. `model.compile_metrics` will be empty until you train or evaluate the model.\n",
            "WARNING:tensorflow:Compiled the loaded model, but the compiled metrics have yet to be built. `model.compile_metrics` will be empty until you train or evaluate the model.\n"
          ]
        },
        {
          "output_type": "stream",
          "name": "stdout",
          "text": [
            "1/1 [==============================] - 0s 18ms/step\n",
            "********** TRAINING THE GAN **********\n",
            "7/7 [==============================] - 3s 414ms/step - d1_loss: 0.2092 - d2_loss: 0.2079 - g_loss: 2.9633\n"
          ]
        },
        {
          "output_type": "stream",
          "name": "stderr",
          "text": [
            "WARNING:tensorflow:Compiled the loaded model, but the compiled metrics have yet to be built. `model.compile_metrics` will be empty until you train or evaluate the model.\n",
            "WARNING:tensorflow:Compiled the loaded model, but the compiled metrics have yet to be built. `model.compile_metrics` will be empty until you train or evaluate the model.\n"
          ]
        },
        {
          "output_type": "stream",
          "name": "stdout",
          "text": [
            "1/1 [==============================] - 0s 18ms/step\n",
            "********** TRAINING THE GAN **********\n",
            "7/7 [==============================] - 3s 419ms/step - d1_loss: 0.2066 - d2_loss: 0.2049 - g_loss: 2.9614\n"
          ]
        },
        {
          "output_type": "stream",
          "name": "stderr",
          "text": [
            "WARNING:tensorflow:Compiled the loaded model, but the compiled metrics have yet to be built. `model.compile_metrics` will be empty until you train or evaluate the model.\n",
            "WARNING:tensorflow:Compiled the loaded model, but the compiled metrics have yet to be built. `model.compile_metrics` will be empty until you train or evaluate the model.\n"
          ]
        },
        {
          "output_type": "stream",
          "name": "stdout",
          "text": [
            "1/1 [==============================] - 0s 15ms/step\n",
            "********** TRAINING THE GAN **********\n",
            "7/7 [==============================] - 3s 418ms/step - d1_loss: 0.2076 - d2_loss: 0.2037 - g_loss: 2.9810\n"
          ]
        },
        {
          "output_type": "stream",
          "name": "stderr",
          "text": [
            "WARNING:tensorflow:Compiled the loaded model, but the compiled metrics have yet to be built. `model.compile_metrics` will be empty until you train or evaluate the model.\n",
            "WARNING:tensorflow:Compiled the loaded model, but the compiled metrics have yet to be built. `model.compile_metrics` will be empty until you train or evaluate the model.\n"
          ]
        },
        {
          "output_type": "stream",
          "name": "stdout",
          "text": [
            "1/1 [==============================] - 0s 15ms/step\n",
            "********** TRAINING THE GAN **********\n",
            "7/7 [==============================] - 3s 419ms/step - d1_loss: 0.2091 - d2_loss: 0.2067 - g_loss: 3.0012\n"
          ]
        },
        {
          "output_type": "stream",
          "name": "stderr",
          "text": [
            "WARNING:tensorflow:Compiled the loaded model, but the compiled metrics have yet to be built. `model.compile_metrics` will be empty until you train or evaluate the model.\n",
            "WARNING:tensorflow:Compiled the loaded model, but the compiled metrics have yet to be built. `model.compile_metrics` will be empty until you train or evaluate the model.\n"
          ]
        },
        {
          "output_type": "stream",
          "name": "stdout",
          "text": [
            "1/1 [==============================] - 0s 18ms/step\n",
            "********** TRAINING THE GAN **********\n",
            "7/7 [==============================] - 3s 415ms/step - d1_loss: 0.2091 - d2_loss: 0.2090 - g_loss: 2.9546\n"
          ]
        },
        {
          "output_type": "stream",
          "name": "stderr",
          "text": [
            "WARNING:tensorflow:Compiled the loaded model, but the compiled metrics have yet to be built. `model.compile_metrics` will be empty until you train or evaluate the model.\n",
            "WARNING:tensorflow:Compiled the loaded model, but the compiled metrics have yet to be built. `model.compile_metrics` will be empty until you train or evaluate the model.\n"
          ]
        },
        {
          "output_type": "stream",
          "name": "stdout",
          "text": [
            "1/1 [==============================] - 0s 17ms/step\n",
            "********** TRAINING THE GAN **********\n",
            "7/7 [==============================] - 3s 416ms/step - d1_loss: 0.2141 - d2_loss: 0.2073 - g_loss: 2.8114\n"
          ]
        },
        {
          "output_type": "stream",
          "name": "stderr",
          "text": [
            "WARNING:tensorflow:Compiled the loaded model, but the compiled metrics have yet to be built. `model.compile_metrics` will be empty until you train or evaluate the model.\n",
            "WARNING:tensorflow:Compiled the loaded model, but the compiled metrics have yet to be built. `model.compile_metrics` will be empty until you train or evaluate the model.\n"
          ]
        },
        {
          "output_type": "stream",
          "name": "stdout",
          "text": [
            "1/1 [==============================] - 0s 15ms/step\n",
            "********** TRAINING THE GAN **********\n",
            "7/7 [==============================] - 3s 411ms/step - d1_loss: 0.2122 - d2_loss: 0.2048 - g_loss: 2.9027\n"
          ]
        },
        {
          "output_type": "stream",
          "name": "stderr",
          "text": [
            "WARNING:tensorflow:Compiled the loaded model, but the compiled metrics have yet to be built. `model.compile_metrics` will be empty until you train or evaluate the model.\n",
            "WARNING:tensorflow:Compiled the loaded model, but the compiled metrics have yet to be built. `model.compile_metrics` will be empty until you train or evaluate the model.\n"
          ]
        },
        {
          "output_type": "stream",
          "name": "stdout",
          "text": [
            "1/1 [==============================] - 0s 16ms/step\n",
            "********** TRAINING THE GAN **********\n",
            "7/7 [==============================] - 3s 413ms/step - d1_loss: 0.2082 - d2_loss: 0.2037 - g_loss: 2.8790\n"
          ]
        },
        {
          "output_type": "stream",
          "name": "stderr",
          "text": [
            "WARNING:tensorflow:Compiled the loaded model, but the compiled metrics have yet to be built. `model.compile_metrics` will be empty until you train or evaluate the model.\n",
            "WARNING:tensorflow:Compiled the loaded model, but the compiled metrics have yet to be built. `model.compile_metrics` will be empty until you train or evaluate the model.\n"
          ]
        },
        {
          "output_type": "stream",
          "name": "stdout",
          "text": [
            "1/1 [==============================] - 0s 18ms/step\n",
            "********** TRAINING THE GAN **********\n",
            "7/7 [==============================] - 3s 412ms/step - d1_loss: 0.2084 - d2_loss: 0.2084 - g_loss: 2.9323\n"
          ]
        },
        {
          "output_type": "stream",
          "name": "stderr",
          "text": [
            "WARNING:tensorflow:Compiled the loaded model, but the compiled metrics have yet to be built. `model.compile_metrics` will be empty until you train or evaluate the model.\n",
            "WARNING:tensorflow:Compiled the loaded model, but the compiled metrics have yet to be built. `model.compile_metrics` will be empty until you train or evaluate the model.\n"
          ]
        },
        {
          "output_type": "stream",
          "name": "stdout",
          "text": [
            "1/1 [==============================] - 0s 15ms/step\n",
            "********** TRAINING THE GAN **********\n",
            "7/7 [==============================] - 3s 412ms/step - d1_loss: 0.2076 - d2_loss: 0.2031 - g_loss: 2.9586\n"
          ]
        },
        {
          "output_type": "stream",
          "name": "stderr",
          "text": [
            "WARNING:tensorflow:Compiled the loaded model, but the compiled metrics have yet to be built. `model.compile_metrics` will be empty until you train or evaluate the model.\n",
            "WARNING:tensorflow:Compiled the loaded model, but the compiled metrics have yet to be built. `model.compile_metrics` will be empty until you train or evaluate the model.\n"
          ]
        },
        {
          "output_type": "stream",
          "name": "stdout",
          "text": [
            "1/1 [==============================] - 0s 16ms/step\n",
            "********** TRAINING THE GAN **********\n",
            "7/7 [==============================] - 3s 414ms/step - d1_loss: 0.2070 - d2_loss: 0.2086 - g_loss: 3.0699\n"
          ]
        },
        {
          "output_type": "stream",
          "name": "stderr",
          "text": [
            "WARNING:tensorflow:Compiled the loaded model, but the compiled metrics have yet to be built. `model.compile_metrics` will be empty until you train or evaluate the model.\n",
            "WARNING:tensorflow:Compiled the loaded model, but the compiled metrics have yet to be built. `model.compile_metrics` will be empty until you train or evaluate the model.\n"
          ]
        },
        {
          "output_type": "stream",
          "name": "stdout",
          "text": [
            "1/1 [==============================] - 0s 16ms/step\n",
            "********** TRAINING THE GAN **********\n",
            "7/7 [==============================] - 3s 413ms/step - d1_loss: 0.2062 - d2_loss: 0.2049 - g_loss: 2.9016\n"
          ]
        },
        {
          "output_type": "stream",
          "name": "stderr",
          "text": [
            "WARNING:tensorflow:Compiled the loaded model, but the compiled metrics have yet to be built. `model.compile_metrics` will be empty until you train or evaluate the model.\n",
            "WARNING:tensorflow:Compiled the loaded model, but the compiled metrics have yet to be built. `model.compile_metrics` will be empty until you train or evaluate the model.\n"
          ]
        },
        {
          "output_type": "stream",
          "name": "stdout",
          "text": [
            "1/1 [==============================] - 0s 18ms/step\n",
            "********** TRAINING THE GAN **********\n",
            "7/7 [==============================] - 3s 416ms/step - d1_loss: 0.2106 - d2_loss: 0.2054 - g_loss: 2.8982\n"
          ]
        },
        {
          "output_type": "stream",
          "name": "stderr",
          "text": [
            "WARNING:tensorflow:Compiled the loaded model, but the compiled metrics have yet to be built. `model.compile_metrics` will be empty until you train or evaluate the model.\n",
            "WARNING:tensorflow:Compiled the loaded model, but the compiled metrics have yet to be built. `model.compile_metrics` will be empty until you train or evaluate the model.\n"
          ]
        },
        {
          "output_type": "stream",
          "name": "stdout",
          "text": [
            "1/1 [==============================] - 0s 15ms/step\n",
            "********** TRAINING THE GAN **********\n",
            "7/7 [==============================] - 3s 416ms/step - d1_loss: 0.2108 - d2_loss: 0.2053 - g_loss: 2.8430\n"
          ]
        },
        {
          "output_type": "stream",
          "name": "stderr",
          "text": [
            "WARNING:tensorflow:Compiled the loaded model, but the compiled metrics have yet to be built. `model.compile_metrics` will be empty until you train or evaluate the model.\n",
            "WARNING:tensorflow:Compiled the loaded model, but the compiled metrics have yet to be built. `model.compile_metrics` will be empty until you train or evaluate the model.\n"
          ]
        },
        {
          "output_type": "stream",
          "name": "stdout",
          "text": [
            "1/1 [==============================] - 0s 19ms/step\n",
            "********** TRAINING THE GAN **********\n",
            "7/7 [==============================] - 3s 415ms/step - d1_loss: 0.2095 - d2_loss: 0.2130 - g_loss: 2.9449\n"
          ]
        },
        {
          "output_type": "stream",
          "name": "stderr",
          "text": [
            "WARNING:tensorflow:Compiled the loaded model, but the compiled metrics have yet to be built. `model.compile_metrics` will be empty until you train or evaluate the model.\n",
            "WARNING:tensorflow:Compiled the loaded model, but the compiled metrics have yet to be built. `model.compile_metrics` will be empty until you train or evaluate the model.\n"
          ]
        },
        {
          "output_type": "stream",
          "name": "stdout",
          "text": [
            "1/1 [==============================] - 0s 16ms/step\n",
            "********** TRAINING THE GAN **********\n",
            "7/7 [==============================] - 3s 414ms/step - d1_loss: 0.2086 - d2_loss: 0.2049 - g_loss: 2.8979\n"
          ]
        },
        {
          "output_type": "stream",
          "name": "stderr",
          "text": [
            "WARNING:tensorflow:Compiled the loaded model, but the compiled metrics have yet to be built. `model.compile_metrics` will be empty until you train or evaluate the model.\n",
            "WARNING:tensorflow:Compiled the loaded model, but the compiled metrics have yet to be built. `model.compile_metrics` will be empty until you train or evaluate the model.\n"
          ]
        },
        {
          "output_type": "stream",
          "name": "stdout",
          "text": [
            "1/1 [==============================] - 0s 16ms/step\n",
            "********** TRAINING THE GAN **********\n",
            "7/7 [==============================] - 3s 413ms/step - d1_loss: 0.2080 - d2_loss: 0.2037 - g_loss: 2.9722\n"
          ]
        },
        {
          "output_type": "stream",
          "name": "stderr",
          "text": [
            "WARNING:tensorflow:Compiled the loaded model, but the compiled metrics have yet to be built. `model.compile_metrics` will be empty until you train or evaluate the model.\n",
            "WARNING:tensorflow:Compiled the loaded model, but the compiled metrics have yet to be built. `model.compile_metrics` will be empty until you train or evaluate the model.\n"
          ]
        },
        {
          "output_type": "stream",
          "name": "stdout",
          "text": [
            "1/1 [==============================] - 0s 17ms/step\n",
            "********** TRAINING THE GAN **********\n",
            "7/7 [==============================] - 3s 415ms/step - d1_loss: 0.2078 - d2_loss: 0.2093 - g_loss: 2.9800\n"
          ]
        },
        {
          "output_type": "stream",
          "name": "stderr",
          "text": [
            "WARNING:tensorflow:Compiled the loaded model, but the compiled metrics have yet to be built. `model.compile_metrics` will be empty until you train or evaluate the model.\n",
            "WARNING:tensorflow:Compiled the loaded model, but the compiled metrics have yet to be built. `model.compile_metrics` will be empty until you train or evaluate the model.\n"
          ]
        },
        {
          "output_type": "stream",
          "name": "stdout",
          "text": [
            "1/1 [==============================] - 0s 15ms/step\n",
            "********** TRAINING THE GAN **********\n",
            "7/7 [==============================] - 3s 413ms/step - d1_loss: 0.2133 - d2_loss: 0.2066 - g_loss: 2.8694\n"
          ]
        },
        {
          "output_type": "stream",
          "name": "stderr",
          "text": [
            "WARNING:tensorflow:Compiled the loaded model, but the compiled metrics have yet to be built. `model.compile_metrics` will be empty until you train or evaluate the model.\n",
            "WARNING:tensorflow:Compiled the loaded model, but the compiled metrics have yet to be built. `model.compile_metrics` will be empty until you train or evaluate the model.\n"
          ]
        },
        {
          "output_type": "stream",
          "name": "stdout",
          "text": [
            "1/1 [==============================] - 0s 25ms/step\n",
            "********** TRAINING THE GAN **********\n",
            "7/7 [==============================] - 3s 413ms/step - d1_loss: 0.2102 - d2_loss: 0.2075 - g_loss: 2.8349\n"
          ]
        },
        {
          "output_type": "stream",
          "name": "stderr",
          "text": [
            "WARNING:tensorflow:Compiled the loaded model, but the compiled metrics have yet to be built. `model.compile_metrics` will be empty until you train or evaluate the model.\n",
            "WARNING:tensorflow:Compiled the loaded model, but the compiled metrics have yet to be built. `model.compile_metrics` will be empty until you train or evaluate the model.\n"
          ]
        },
        {
          "output_type": "stream",
          "name": "stdout",
          "text": [
            "1/1 [==============================] - 0s 15ms/step\n",
            "********** TRAINING THE GAN **********\n",
            "7/7 [==============================] - 3s 413ms/step - d1_loss: 0.2127 - d2_loss: 0.2073 - g_loss: 2.9596\n"
          ]
        },
        {
          "output_type": "stream",
          "name": "stderr",
          "text": [
            "WARNING:tensorflow:Compiled the loaded model, but the compiled metrics have yet to be built. `model.compile_metrics` will be empty until you train or evaluate the model.\n",
            "WARNING:tensorflow:Compiled the loaded model, but the compiled metrics have yet to be built. `model.compile_metrics` will be empty until you train or evaluate the model.\n"
          ]
        },
        {
          "output_type": "stream",
          "name": "stdout",
          "text": [
            "1/1 [==============================] - 0s 15ms/step\n",
            "********** TRAINING THE GAN **********\n",
            "7/7 [==============================] - 3s 413ms/step - d1_loss: 0.2170 - d2_loss: 0.2031 - g_loss: 2.8838\n"
          ]
        },
        {
          "output_type": "stream",
          "name": "stderr",
          "text": [
            "WARNING:tensorflow:Compiled the loaded model, but the compiled metrics have yet to be built. `model.compile_metrics` will be empty until you train or evaluate the model.\n",
            "WARNING:tensorflow:Compiled the loaded model, but the compiled metrics have yet to be built. `model.compile_metrics` will be empty until you train or evaluate the model.\n"
          ]
        },
        {
          "output_type": "stream",
          "name": "stdout",
          "text": [
            "1/1 [==============================] - 0s 19ms/step\n",
            "********** TRAINING THE GAN **********\n",
            "7/7 [==============================] - 3s 413ms/step - d1_loss: 0.2081 - d2_loss: 0.2033 - g_loss: 2.8845\n"
          ]
        },
        {
          "output_type": "stream",
          "name": "stderr",
          "text": [
            "WARNING:tensorflow:Compiled the loaded model, but the compiled metrics have yet to be built. `model.compile_metrics` will be empty until you train or evaluate the model.\n",
            "WARNING:tensorflow:Compiled the loaded model, but the compiled metrics have yet to be built. `model.compile_metrics` will be empty until you train or evaluate the model.\n"
          ]
        },
        {
          "output_type": "stream",
          "name": "stdout",
          "text": [
            "1/1 [==============================] - 0s 15ms/step\n",
            "********** TRAINING THE GAN **********\n",
            "7/7 [==============================] - 3s 413ms/step - d1_loss: 0.2041 - d2_loss: 0.2011 - g_loss: 2.9369\n"
          ]
        },
        {
          "output_type": "stream",
          "name": "stderr",
          "text": [
            "WARNING:tensorflow:Compiled the loaded model, but the compiled metrics have yet to be built. `model.compile_metrics` will be empty until you train or evaluate the model.\n",
            "WARNING:tensorflow:Compiled the loaded model, but the compiled metrics have yet to be built. `model.compile_metrics` will be empty until you train or evaluate the model.\n"
          ]
        },
        {
          "output_type": "stream",
          "name": "stdout",
          "text": [
            "1/1 [==============================] - 0s 15ms/step\n",
            "********** TRAINING THE GAN **********\n",
            "7/7 [==============================] - 3s 414ms/step - d1_loss: 0.2061 - d2_loss: 0.2063 - g_loss: 2.9067\n"
          ]
        },
        {
          "output_type": "stream",
          "name": "stderr",
          "text": [
            "WARNING:tensorflow:Compiled the loaded model, but the compiled metrics have yet to be built. `model.compile_metrics` will be empty until you train or evaluate the model.\n",
            "WARNING:tensorflow:Compiled the loaded model, but the compiled metrics have yet to be built. `model.compile_metrics` will be empty until you train or evaluate the model.\n"
          ]
        },
        {
          "output_type": "stream",
          "name": "stdout",
          "text": [
            "1/1 [==============================] - 0s 17ms/step\n",
            "********** TRAINING THE GAN **********\n",
            "7/7 [==============================] - 3s 414ms/step - d1_loss: 0.2102 - d2_loss: 0.2049 - g_loss: 2.8580\n"
          ]
        },
        {
          "output_type": "stream",
          "name": "stderr",
          "text": [
            "WARNING:tensorflow:Compiled the loaded model, but the compiled metrics have yet to be built. `model.compile_metrics` will be empty until you train or evaluate the model.\n",
            "WARNING:tensorflow:Compiled the loaded model, but the compiled metrics have yet to be built. `model.compile_metrics` will be empty until you train or evaluate the model.\n"
          ]
        },
        {
          "output_type": "stream",
          "name": "stdout",
          "text": [
            "1/1 [==============================] - 0s 16ms/step\n",
            "********** TRAINING THE GAN **********\n",
            "7/7 [==============================] - 3s 414ms/step - d1_loss: 0.2080 - d2_loss: 0.2035 - g_loss: 2.8168\n"
          ]
        },
        {
          "output_type": "stream",
          "name": "stderr",
          "text": [
            "WARNING:tensorflow:Compiled the loaded model, but the compiled metrics have yet to be built. `model.compile_metrics` will be empty until you train or evaluate the model.\n",
            "WARNING:tensorflow:Compiled the loaded model, but the compiled metrics have yet to be built. `model.compile_metrics` will be empty until you train or evaluate the model.\n"
          ]
        },
        {
          "output_type": "stream",
          "name": "stdout",
          "text": [
            "1/1 [==============================] - 0s 15ms/step\n",
            "********** TRAINING THE GAN **********\n",
            "7/7 [==============================] - 3s 413ms/step - d1_loss: 0.2127 - d2_loss: 0.2047 - g_loss: 2.8543\n"
          ]
        },
        {
          "output_type": "stream",
          "name": "stderr",
          "text": [
            "WARNING:tensorflow:Compiled the loaded model, but the compiled metrics have yet to be built. `model.compile_metrics` will be empty until you train or evaluate the model.\n",
            "WARNING:tensorflow:Compiled the loaded model, but the compiled metrics have yet to be built. `model.compile_metrics` will be empty until you train or evaluate the model.\n"
          ]
        },
        {
          "output_type": "stream",
          "name": "stdout",
          "text": [
            "1/1 [==============================] - 0s 17ms/step\n",
            "********** TRAINING THE GAN **********\n",
            "7/7 [==============================] - 3s 413ms/step - d1_loss: 0.2096 - d2_loss: 0.2028 - g_loss: 2.9784\n"
          ]
        },
        {
          "output_type": "stream",
          "name": "stderr",
          "text": [
            "WARNING:tensorflow:Compiled the loaded model, but the compiled metrics have yet to be built. `model.compile_metrics` will be empty until you train or evaluate the model.\n",
            "WARNING:tensorflow:Compiled the loaded model, but the compiled metrics have yet to be built. `model.compile_metrics` will be empty until you train or evaluate the model.\n"
          ]
        },
        {
          "output_type": "stream",
          "name": "stdout",
          "text": [
            "1/1 [==============================] - 0s 19ms/step\n",
            "********** TRAINING THE GAN **********\n",
            "7/7 [==============================] - 3s 413ms/step - d1_loss: 0.2116 - d2_loss: 0.2065 - g_loss: 2.9061\n"
          ]
        },
        {
          "output_type": "stream",
          "name": "stderr",
          "text": [
            "WARNING:tensorflow:Compiled the loaded model, but the compiled metrics have yet to be built. `model.compile_metrics` will be empty until you train or evaluate the model.\n",
            "WARNING:tensorflow:Compiled the loaded model, but the compiled metrics have yet to be built. `model.compile_metrics` will be empty until you train or evaluate the model.\n"
          ]
        },
        {
          "output_type": "stream",
          "name": "stdout",
          "text": [
            "1/1 [==============================] - 0s 15ms/step\n",
            "********** TRAINING THE GAN **********\n",
            "7/7 [==============================] - 3s 415ms/step - d1_loss: 0.2090 - d2_loss: 0.2075 - g_loss: 2.9792\n"
          ]
        },
        {
          "output_type": "stream",
          "name": "stderr",
          "text": [
            "WARNING:tensorflow:Compiled the loaded model, but the compiled metrics have yet to be built. `model.compile_metrics` will be empty until you train or evaluate the model.\n",
            "WARNING:tensorflow:Compiled the loaded model, but the compiled metrics have yet to be built. `model.compile_metrics` will be empty until you train or evaluate the model.\n"
          ]
        },
        {
          "output_type": "stream",
          "name": "stdout",
          "text": [
            "1/1 [==============================] - 0s 15ms/step\n",
            "********** TRAINING THE GAN **********\n",
            "7/7 [==============================] - 3s 417ms/step - d1_loss: 0.2082 - d2_loss: 0.2046 - g_loss: 2.8928\n"
          ]
        },
        {
          "output_type": "stream",
          "name": "stderr",
          "text": [
            "WARNING:tensorflow:Compiled the loaded model, but the compiled metrics have yet to be built. `model.compile_metrics` will be empty until you train or evaluate the model.\n",
            "WARNING:tensorflow:Compiled the loaded model, but the compiled metrics have yet to be built. `model.compile_metrics` will be empty until you train or evaluate the model.\n"
          ]
        },
        {
          "output_type": "stream",
          "name": "stdout",
          "text": [
            "1/1 [==============================] - 0s 18ms/step\n",
            "********** TRAINING THE GAN **********\n",
            "7/7 [==============================] - 3s 420ms/step - d1_loss: 0.2080 - d2_loss: 0.2055 - g_loss: 2.7954\n"
          ]
        },
        {
          "output_type": "stream",
          "name": "stderr",
          "text": [
            "WARNING:tensorflow:Compiled the loaded model, but the compiled metrics have yet to be built. `model.compile_metrics` will be empty until you train or evaluate the model.\n",
            "WARNING:tensorflow:Compiled the loaded model, but the compiled metrics have yet to be built. `model.compile_metrics` will be empty until you train or evaluate the model.\n"
          ]
        },
        {
          "output_type": "stream",
          "name": "stdout",
          "text": [
            "1/1 [==============================] - 0s 21ms/step\n",
            "********** TRAINING THE GAN **********\n",
            "7/7 [==============================] - 3s 418ms/step - d1_loss: 0.2087 - d2_loss: 0.2040 - g_loss: 2.8601\n"
          ]
        },
        {
          "output_type": "stream",
          "name": "stderr",
          "text": [
            "WARNING:tensorflow:Compiled the loaded model, but the compiled metrics have yet to be built. `model.compile_metrics` will be empty until you train or evaluate the model.\n",
            "WARNING:tensorflow:Compiled the loaded model, but the compiled metrics have yet to be built. `model.compile_metrics` will be empty until you train or evaluate the model.\n"
          ]
        },
        {
          "output_type": "stream",
          "name": "stdout",
          "text": [
            "1/1 [==============================] - 0s 15ms/step\n",
            "********** TRAINING THE GAN **********\n",
            "7/7 [==============================] - 3s 415ms/step - d1_loss: 0.2090 - d2_loss: 0.2053 - g_loss: 2.8364\n"
          ]
        },
        {
          "output_type": "stream",
          "name": "stderr",
          "text": [
            "WARNING:tensorflow:Compiled the loaded model, but the compiled metrics have yet to be built. `model.compile_metrics` will be empty until you train or evaluate the model.\n",
            "WARNING:tensorflow:Compiled the loaded model, but the compiled metrics have yet to be built. `model.compile_metrics` will be empty until you train or evaluate the model.\n"
          ]
        },
        {
          "output_type": "stream",
          "name": "stdout",
          "text": [
            "1/1 [==============================] - 0s 16ms/step\n",
            "********** TRAINING THE GAN **********\n",
            "7/7 [==============================] - 3s 413ms/step - d1_loss: 0.2109 - d2_loss: 0.2058 - g_loss: 2.8953\n"
          ]
        },
        {
          "output_type": "stream",
          "name": "stderr",
          "text": [
            "WARNING:tensorflow:Compiled the loaded model, but the compiled metrics have yet to be built. `model.compile_metrics` will be empty until you train or evaluate the model.\n",
            "WARNING:tensorflow:Compiled the loaded model, but the compiled metrics have yet to be built. `model.compile_metrics` will be empty until you train or evaluate the model.\n"
          ]
        },
        {
          "output_type": "stream",
          "name": "stdout",
          "text": [
            "1/1 [==============================] - 0s 15ms/step\n",
            "********** TRAINING THE GAN **********\n",
            "7/7 [==============================] - 3s 412ms/step - d1_loss: 0.2049 - d2_loss: 0.2037 - g_loss: 2.8515\n"
          ]
        },
        {
          "output_type": "stream",
          "name": "stderr",
          "text": [
            "WARNING:tensorflow:Compiled the loaded model, but the compiled metrics have yet to be built. `model.compile_metrics` will be empty until you train or evaluate the model.\n",
            "WARNING:tensorflow:Compiled the loaded model, but the compiled metrics have yet to be built. `model.compile_metrics` will be empty until you train or evaluate the model.\n"
          ]
        },
        {
          "output_type": "stream",
          "name": "stdout",
          "text": [
            "1/1 [==============================] - 0s 15ms/step\n",
            "********** TRAINING THE GAN **********\n",
            "7/7 [==============================] - 3s 410ms/step - d1_loss: 0.2055 - d2_loss: 0.2025 - g_loss: 2.8761\n"
          ]
        },
        {
          "output_type": "stream",
          "name": "stderr",
          "text": [
            "WARNING:tensorflow:Compiled the loaded model, but the compiled metrics have yet to be built. `model.compile_metrics` will be empty until you train or evaluate the model.\n",
            "WARNING:tensorflow:Compiled the loaded model, but the compiled metrics have yet to be built. `model.compile_metrics` will be empty until you train or evaluate the model.\n"
          ]
        },
        {
          "output_type": "stream",
          "name": "stdout",
          "text": [
            "1/1 [==============================] - 0s 18ms/step\n",
            "********** TRAINING THE GAN **********\n",
            "7/7 [==============================] - 3s 413ms/step - d1_loss: 0.2063 - d2_loss: 0.2028 - g_loss: 2.8488\n"
          ]
        },
        {
          "output_type": "stream",
          "name": "stderr",
          "text": [
            "WARNING:tensorflow:Compiled the loaded model, but the compiled metrics have yet to be built. `model.compile_metrics` will be empty until you train or evaluate the model.\n",
            "WARNING:tensorflow:Compiled the loaded model, but the compiled metrics have yet to be built. `model.compile_metrics` will be empty until you train or evaluate the model.\n"
          ]
        },
        {
          "output_type": "stream",
          "name": "stdout",
          "text": [
            "1/1 [==============================] - 0s 16ms/step\n",
            "********** TRAINING THE GAN **********\n",
            "7/7 [==============================] - 3s 412ms/step - d1_loss: 0.2076 - d2_loss: 0.2078 - g_loss: 2.8918\n"
          ]
        },
        {
          "output_type": "stream",
          "name": "stderr",
          "text": [
            "WARNING:tensorflow:Compiled the loaded model, but the compiled metrics have yet to be built. `model.compile_metrics` will be empty until you train or evaluate the model.\n",
            "WARNING:tensorflow:Compiled the loaded model, but the compiled metrics have yet to be built. `model.compile_metrics` will be empty until you train or evaluate the model.\n"
          ]
        },
        {
          "output_type": "stream",
          "name": "stdout",
          "text": [
            "1/1 [==============================] - 0s 18ms/step\n",
            "********** TRAINING THE GAN **********\n",
            "7/7 [==============================] - 3s 416ms/step - d1_loss: 0.2074 - d2_loss: 0.2028 - g_loss: 2.9309\n"
          ]
        },
        {
          "output_type": "stream",
          "name": "stderr",
          "text": [
            "WARNING:tensorflow:Compiled the loaded model, but the compiled metrics have yet to be built. `model.compile_metrics` will be empty until you train or evaluate the model.\n",
            "WARNING:tensorflow:Compiled the loaded model, but the compiled metrics have yet to be built. `model.compile_metrics` will be empty until you train or evaluate the model.\n"
          ]
        },
        {
          "output_type": "stream",
          "name": "stdout",
          "text": [
            "1/1 [==============================] - 0s 18ms/step\n",
            "********** TRAINING THE GAN **********\n",
            "7/7 [==============================] - 3s 414ms/step - d1_loss: 0.2043 - d2_loss: 0.2023 - g_loss: 2.9640\n"
          ]
        },
        {
          "output_type": "stream",
          "name": "stderr",
          "text": [
            "WARNING:tensorflow:Compiled the loaded model, but the compiled metrics have yet to be built. `model.compile_metrics` will be empty until you train or evaluate the model.\n",
            "WARNING:tensorflow:Compiled the loaded model, but the compiled metrics have yet to be built. `model.compile_metrics` will be empty until you train or evaluate the model.\n"
          ]
        },
        {
          "output_type": "stream",
          "name": "stdout",
          "text": [
            "1/1 [==============================] - 0s 15ms/step\n",
            "********** TRAINING THE GAN **********\n",
            "7/7 [==============================] - 3s 414ms/step - d1_loss: 0.2087 - d2_loss: 0.2054 - g_loss: 2.9010\n"
          ]
        },
        {
          "output_type": "stream",
          "name": "stderr",
          "text": [
            "WARNING:tensorflow:Compiled the loaded model, but the compiled metrics have yet to be built. `model.compile_metrics` will be empty until you train or evaluate the model.\n",
            "WARNING:tensorflow:Compiled the loaded model, but the compiled metrics have yet to be built. `model.compile_metrics` will be empty until you train or evaluate the model.\n"
          ]
        },
        {
          "output_type": "stream",
          "name": "stdout",
          "text": [
            "1/1 [==============================] - 0s 15ms/step\n",
            "********** TRAINING THE GAN **********\n",
            "7/7 [==============================] - 3s 415ms/step - d1_loss: 0.2065 - d2_loss: 0.2053 - g_loss: 2.9518\n"
          ]
        },
        {
          "output_type": "stream",
          "name": "stderr",
          "text": [
            "WARNING:tensorflow:Compiled the loaded model, but the compiled metrics have yet to be built. `model.compile_metrics` will be empty until you train or evaluate the model.\n",
            "WARNING:tensorflow:Compiled the loaded model, but the compiled metrics have yet to be built. `model.compile_metrics` will be empty until you train or evaluate the model.\n"
          ]
        },
        {
          "output_type": "stream",
          "name": "stdout",
          "text": [
            "1/1 [==============================] - 0s 16ms/step\n",
            "********** TRAINING THE GAN **********\n",
            "7/7 [==============================] - 3s 419ms/step - d1_loss: 0.2098 - d2_loss: 0.2044 - g_loss: 2.8985\n"
          ]
        },
        {
          "output_type": "stream",
          "name": "stderr",
          "text": [
            "WARNING:tensorflow:Compiled the loaded model, but the compiled metrics have yet to be built. `model.compile_metrics` will be empty until you train or evaluate the model.\n",
            "WARNING:tensorflow:Compiled the loaded model, but the compiled metrics have yet to be built. `model.compile_metrics` will be empty until you train or evaluate the model.\n"
          ]
        },
        {
          "output_type": "stream",
          "name": "stdout",
          "text": [
            "1/1 [==============================] - 0s 15ms/step\n",
            "********** TRAINING THE GAN **********\n",
            "7/7 [==============================] - 3s 415ms/step - d1_loss: 0.2057 - d2_loss: 0.2040 - g_loss: 2.9250\n"
          ]
        },
        {
          "output_type": "stream",
          "name": "stderr",
          "text": [
            "WARNING:tensorflow:Compiled the loaded model, but the compiled metrics have yet to be built. `model.compile_metrics` will be empty until you train or evaluate the model.\n",
            "WARNING:tensorflow:Compiled the loaded model, but the compiled metrics have yet to be built. `model.compile_metrics` will be empty until you train or evaluate the model.\n"
          ]
        },
        {
          "output_type": "stream",
          "name": "stdout",
          "text": [
            "1/1 [==============================] - 0s 29ms/step\n",
            "********** TRAINING THE GAN **********\n",
            "7/7 [==============================] - 3s 419ms/step - d1_loss: 0.2045 - d2_loss: 0.2020 - g_loss: 2.9062\n"
          ]
        },
        {
          "output_type": "stream",
          "name": "stderr",
          "text": [
            "WARNING:tensorflow:Compiled the loaded model, but the compiled metrics have yet to be built. `model.compile_metrics` will be empty until you train or evaluate the model.\n",
            "WARNING:tensorflow:Compiled the loaded model, but the compiled metrics have yet to be built. `model.compile_metrics` will be empty until you train or evaluate the model.\n"
          ]
        },
        {
          "output_type": "stream",
          "name": "stdout",
          "text": [
            "1/1 [==============================] - 0s 15ms/step\n",
            "********** TRAINING THE GAN **********\n",
            "7/7 [==============================] - 3s 414ms/step - d1_loss: 0.2075 - d2_loss: 0.2048 - g_loss: 2.8731\n"
          ]
        },
        {
          "output_type": "stream",
          "name": "stderr",
          "text": [
            "WARNING:tensorflow:Compiled the loaded model, but the compiled metrics have yet to be built. `model.compile_metrics` will be empty until you train or evaluate the model.\n",
            "WARNING:tensorflow:Compiled the loaded model, but the compiled metrics have yet to be built. `model.compile_metrics` will be empty until you train or evaluate the model.\n"
          ]
        },
        {
          "output_type": "stream",
          "name": "stdout",
          "text": [
            "1/1 [==============================] - 0s 17ms/step\n",
            "********** TRAINING THE GAN **********\n",
            "7/7 [==============================] - 3s 415ms/step - d1_loss: 0.2066 - d2_loss: 0.2023 - g_loss: 2.8543\n"
          ]
        },
        {
          "output_type": "stream",
          "name": "stderr",
          "text": [
            "WARNING:tensorflow:Compiled the loaded model, but the compiled metrics have yet to be built. `model.compile_metrics` will be empty until you train or evaluate the model.\n",
            "WARNING:tensorflow:Compiled the loaded model, but the compiled metrics have yet to be built. `model.compile_metrics` will be empty until you train or evaluate the model.\n"
          ]
        },
        {
          "output_type": "stream",
          "name": "stdout",
          "text": [
            "1/1 [==============================] - 0s 15ms/step\n",
            "********** TRAINING THE GAN **********\n",
            "7/7 [==============================] - 3s 416ms/step - d1_loss: 0.2063 - d2_loss: 0.2032 - g_loss: 2.9071\n"
          ]
        },
        {
          "output_type": "stream",
          "name": "stderr",
          "text": [
            "WARNING:tensorflow:Compiled the loaded model, but the compiled metrics have yet to be built. `model.compile_metrics` will be empty until you train or evaluate the model.\n",
            "WARNING:tensorflow:Compiled the loaded model, but the compiled metrics have yet to be built. `model.compile_metrics` will be empty until you train or evaluate the model.\n"
          ]
        },
        {
          "output_type": "stream",
          "name": "stdout",
          "text": [
            "1/1 [==============================] - 0s 18ms/step\n",
            "********** TRAINING THE GAN **********\n",
            "7/7 [==============================] - 3s 416ms/step - d1_loss: 0.2071 - d2_loss: 0.2060 - g_loss: 2.8691\n"
          ]
        },
        {
          "output_type": "stream",
          "name": "stderr",
          "text": [
            "WARNING:tensorflow:Compiled the loaded model, but the compiled metrics have yet to be built. `model.compile_metrics` will be empty until you train or evaluate the model.\n",
            "WARNING:tensorflow:Compiled the loaded model, but the compiled metrics have yet to be built. `model.compile_metrics` will be empty until you train or evaluate the model.\n"
          ]
        },
        {
          "output_type": "stream",
          "name": "stdout",
          "text": [
            "1/1 [==============================] - 0s 17ms/step\n",
            "********** TRAINING THE GAN **********\n",
            "7/7 [==============================] - 3s 416ms/step - d1_loss: 0.2070 - d2_loss: 0.2029 - g_loss: 2.8456\n"
          ]
        },
        {
          "output_type": "stream",
          "name": "stderr",
          "text": [
            "WARNING:tensorflow:Compiled the loaded model, but the compiled metrics have yet to be built. `model.compile_metrics` will be empty until you train or evaluate the model.\n",
            "WARNING:tensorflow:Compiled the loaded model, but the compiled metrics have yet to be built. `model.compile_metrics` will be empty until you train or evaluate the model.\n"
          ]
        },
        {
          "output_type": "stream",
          "name": "stdout",
          "text": [
            "1/1 [==============================] - 0s 24ms/step\n",
            "********** TRAINING THE GAN **********\n",
            "7/7 [==============================] - 3s 416ms/step - d1_loss: 0.2136 - d2_loss: 0.2043 - g_loss: 2.8617\n"
          ]
        },
        {
          "output_type": "stream",
          "name": "stderr",
          "text": [
            "WARNING:tensorflow:Compiled the loaded model, but the compiled metrics have yet to be built. `model.compile_metrics` will be empty until you train or evaluate the model.\n",
            "WARNING:tensorflow:Compiled the loaded model, but the compiled metrics have yet to be built. `model.compile_metrics` will be empty until you train or evaluate the model.\n"
          ]
        },
        {
          "output_type": "stream",
          "name": "stdout",
          "text": [
            "1/1 [==============================] - 0s 17ms/step\n",
            "********** TRAINING THE GAN **********\n",
            "7/7 [==============================] - 3s 411ms/step - d1_loss: 0.2052 - d2_loss: 0.2029 - g_loss: 2.9768\n"
          ]
        },
        {
          "output_type": "stream",
          "name": "stderr",
          "text": [
            "WARNING:tensorflow:Compiled the loaded model, but the compiled metrics have yet to be built. `model.compile_metrics` will be empty until you train or evaluate the model.\n",
            "WARNING:tensorflow:Compiled the loaded model, but the compiled metrics have yet to be built. `model.compile_metrics` will be empty until you train or evaluate the model.\n"
          ]
        },
        {
          "output_type": "stream",
          "name": "stdout",
          "text": [
            "1/1 [==============================] - 0s 17ms/step\n",
            "********** TRAINING THE GAN **********\n",
            "7/7 [==============================] - 3s 411ms/step - d1_loss: 0.2062 - d2_loss: 0.2015 - g_loss: 2.9166\n"
          ]
        },
        {
          "output_type": "stream",
          "name": "stderr",
          "text": [
            "WARNING:tensorflow:Compiled the loaded model, but the compiled metrics have yet to be built. `model.compile_metrics` will be empty until you train or evaluate the model.\n",
            "WARNING:tensorflow:Compiled the loaded model, but the compiled metrics have yet to be built. `model.compile_metrics` will be empty until you train or evaluate the model.\n"
          ]
        },
        {
          "output_type": "stream",
          "name": "stdout",
          "text": [
            "1/1 [==============================] - 0s 15ms/step\n",
            "********** TRAINING THE GAN **********\n",
            "7/7 [==============================] - 3s 409ms/step - d1_loss: 0.2054 - d2_loss: 0.2018 - g_loss: 2.8861\n"
          ]
        },
        {
          "output_type": "stream",
          "name": "stderr",
          "text": [
            "WARNING:tensorflow:Compiled the loaded model, but the compiled metrics have yet to be built. `model.compile_metrics` will be empty until you train or evaluate the model.\n",
            "WARNING:tensorflow:Compiled the loaded model, but the compiled metrics have yet to be built. `model.compile_metrics` will be empty until you train or evaluate the model.\n"
          ]
        },
        {
          "output_type": "stream",
          "name": "stdout",
          "text": [
            "1/1 [==============================] - 0s 16ms/step\n",
            "********** TRAINING THE GAN **********\n",
            "7/7 [==============================] - 3s 409ms/step - d1_loss: 0.2051 - d2_loss: 0.2061 - g_loss: 2.9723\n"
          ]
        },
        {
          "output_type": "stream",
          "name": "stderr",
          "text": [
            "WARNING:tensorflow:Compiled the loaded model, but the compiled metrics have yet to be built. `model.compile_metrics` will be empty until you train or evaluate the model.\n",
            "WARNING:tensorflow:Compiled the loaded model, but the compiled metrics have yet to be built. `model.compile_metrics` will be empty until you train or evaluate the model.\n"
          ]
        },
        {
          "output_type": "stream",
          "name": "stdout",
          "text": [
            "1/1 [==============================] - 0s 17ms/step\n",
            "********** TRAINING THE GAN **********\n",
            "7/7 [==============================] - 3s 412ms/step - d1_loss: 0.2051 - d2_loss: 0.2020 - g_loss: 2.9773\n"
          ]
        },
        {
          "output_type": "stream",
          "name": "stderr",
          "text": [
            "WARNING:tensorflow:Compiled the loaded model, but the compiled metrics have yet to be built. `model.compile_metrics` will be empty until you train or evaluate the model.\n",
            "WARNING:tensorflow:Compiled the loaded model, but the compiled metrics have yet to be built. `model.compile_metrics` will be empty until you train or evaluate the model.\n"
          ]
        },
        {
          "output_type": "stream",
          "name": "stdout",
          "text": [
            "1/1 [==============================] - 0s 16ms/step\n",
            "********** TRAINING THE GAN **********\n",
            "7/7 [==============================] - 3s 413ms/step - d1_loss: 0.2155 - d2_loss: 0.2090 - g_loss: 2.9300\n"
          ]
        },
        {
          "output_type": "stream",
          "name": "stderr",
          "text": [
            "WARNING:tensorflow:Compiled the loaded model, but the compiled metrics have yet to be built. `model.compile_metrics` will be empty until you train or evaluate the model.\n",
            "WARNING:tensorflow:Compiled the loaded model, but the compiled metrics have yet to be built. `model.compile_metrics` will be empty until you train or evaluate the model.\n"
          ]
        },
        {
          "output_type": "stream",
          "name": "stdout",
          "text": [
            "1/1 [==============================] - 0s 15ms/step\n",
            "********** TRAINING THE GAN **********\n",
            "7/7 [==============================] - 3s 413ms/step - d1_loss: 0.2036 - d2_loss: 0.1998 - g_loss: 2.8969\n"
          ]
        },
        {
          "output_type": "stream",
          "name": "stderr",
          "text": [
            "WARNING:tensorflow:Compiled the loaded model, but the compiled metrics have yet to be built. `model.compile_metrics` will be empty until you train or evaluate the model.\n",
            "WARNING:tensorflow:Compiled the loaded model, but the compiled metrics have yet to be built. `model.compile_metrics` will be empty until you train or evaluate the model.\n"
          ]
        },
        {
          "output_type": "stream",
          "name": "stdout",
          "text": [
            "1/1 [==============================] - 0s 16ms/step\n",
            "********** TRAINING THE GAN **********\n",
            "7/7 [==============================] - 3s 415ms/step - d1_loss: 0.2046 - d2_loss: 0.2013 - g_loss: 2.8835\n"
          ]
        },
        {
          "output_type": "stream",
          "name": "stderr",
          "text": [
            "WARNING:tensorflow:Compiled the loaded model, but the compiled metrics have yet to be built. `model.compile_metrics` will be empty until you train or evaluate the model.\n",
            "WARNING:tensorflow:Compiled the loaded model, but the compiled metrics have yet to be built. `model.compile_metrics` will be empty until you train or evaluate the model.\n"
          ]
        },
        {
          "output_type": "stream",
          "name": "stdout",
          "text": [
            "1/1 [==============================] - 0s 15ms/step\n",
            "********** TRAINING THE GAN **********\n",
            "7/7 [==============================] - 3s 416ms/step - d1_loss: 0.2073 - d2_loss: 0.2026 - g_loss: 2.8453\n"
          ]
        },
        {
          "output_type": "stream",
          "name": "stderr",
          "text": [
            "WARNING:tensorflow:Compiled the loaded model, but the compiled metrics have yet to be built. `model.compile_metrics` will be empty until you train or evaluate the model.\n",
            "WARNING:tensorflow:Compiled the loaded model, but the compiled metrics have yet to be built. `model.compile_metrics` will be empty until you train or evaluate the model.\n"
          ]
        },
        {
          "output_type": "stream",
          "name": "stdout",
          "text": [
            "1/1 [==============================] - 0s 15ms/step\n",
            "********** TRAINING THE GAN **********\n",
            "7/7 [==============================] - 3s 415ms/step - d1_loss: 0.2080 - d2_loss: 0.2042 - g_loss: 2.7881\n"
          ]
        },
        {
          "output_type": "stream",
          "name": "stderr",
          "text": [
            "WARNING:tensorflow:Compiled the loaded model, but the compiled metrics have yet to be built. `model.compile_metrics` will be empty until you train or evaluate the model.\n",
            "WARNING:tensorflow:Compiled the loaded model, but the compiled metrics have yet to be built. `model.compile_metrics` will be empty until you train or evaluate the model.\n"
          ]
        },
        {
          "output_type": "stream",
          "name": "stdout",
          "text": [
            "1/1 [==============================] - 0s 18ms/step\n",
            "********** TRAINING THE GAN **********\n",
            "7/7 [==============================] - 3s 420ms/step - d1_loss: 0.2097 - d2_loss: 0.2040 - g_loss: 2.8289\n"
          ]
        },
        {
          "output_type": "stream",
          "name": "stderr",
          "text": [
            "WARNING:tensorflow:Compiled the loaded model, but the compiled metrics have yet to be built. `model.compile_metrics` will be empty until you train or evaluate the model.\n",
            "WARNING:tensorflow:Compiled the loaded model, but the compiled metrics have yet to be built. `model.compile_metrics` will be empty until you train or evaluate the model.\n"
          ]
        },
        {
          "output_type": "stream",
          "name": "stdout",
          "text": [
            "1/1 [==============================] - 0s 16ms/step\n",
            "********** TRAINING THE GAN **********\n",
            "7/7 [==============================] - 3s 420ms/step - d1_loss: 0.2075 - d2_loss: 0.2022 - g_loss: 2.7945\n"
          ]
        },
        {
          "output_type": "stream",
          "name": "stderr",
          "text": [
            "WARNING:tensorflow:Compiled the loaded model, but the compiled metrics have yet to be built. `model.compile_metrics` will be empty until you train or evaluate the model.\n",
            "WARNING:tensorflow:Compiled the loaded model, but the compiled metrics have yet to be built. `model.compile_metrics` will be empty until you train or evaluate the model.\n"
          ]
        },
        {
          "output_type": "stream",
          "name": "stdout",
          "text": [
            "1/1 [==============================] - 0s 15ms/step\n",
            "********** TRAINING THE GAN **********\n",
            "7/7 [==============================] - 3s 417ms/step - d1_loss: 0.2068 - d2_loss: 0.2019 - g_loss: 2.8012\n"
          ]
        },
        {
          "output_type": "stream",
          "name": "stderr",
          "text": [
            "WARNING:tensorflow:Compiled the loaded model, but the compiled metrics have yet to be built. `model.compile_metrics` will be empty until you train or evaluate the model.\n",
            "WARNING:tensorflow:Compiled the loaded model, but the compiled metrics have yet to be built. `model.compile_metrics` will be empty until you train or evaluate the model.\n"
          ]
        },
        {
          "output_type": "stream",
          "name": "stdout",
          "text": [
            "1/1 [==============================] - 0s 17ms/step\n",
            "********** TRAINING THE GAN **********\n",
            "7/7 [==============================] - 3s 414ms/step - d1_loss: 0.2109 - d2_loss: 0.2041 - g_loss: 2.7796\n"
          ]
        },
        {
          "output_type": "stream",
          "name": "stderr",
          "text": [
            "WARNING:tensorflow:Compiled the loaded model, but the compiled metrics have yet to be built. `model.compile_metrics` will be empty until you train or evaluate the model.\n",
            "WARNING:tensorflow:Compiled the loaded model, but the compiled metrics have yet to be built. `model.compile_metrics` will be empty until you train or evaluate the model.\n"
          ]
        },
        {
          "output_type": "stream",
          "name": "stdout",
          "text": [
            "1/1 [==============================] - 0s 15ms/step\n",
            "********** TRAINING THE GAN **********\n",
            "7/7 [==============================] - 3s 412ms/step - d1_loss: 0.2133 - d2_loss: 0.2039 - g_loss: 2.8122\n"
          ]
        },
        {
          "output_type": "stream",
          "name": "stderr",
          "text": [
            "WARNING:tensorflow:Compiled the loaded model, but the compiled metrics have yet to be built. `model.compile_metrics` will be empty until you train or evaluate the model.\n",
            "WARNING:tensorflow:Compiled the loaded model, but the compiled metrics have yet to be built. `model.compile_metrics` will be empty until you train or evaluate the model.\n"
          ]
        },
        {
          "output_type": "stream",
          "name": "stdout",
          "text": [
            "1/1 [==============================] - 0s 16ms/step\n",
            "********** TRAINING THE GAN **********\n",
            "7/7 [==============================] - 3s 413ms/step - d1_loss: 0.2053 - d2_loss: 0.2032 - g_loss: 2.8476\n"
          ]
        },
        {
          "output_type": "stream",
          "name": "stderr",
          "text": [
            "WARNING:tensorflow:Compiled the loaded model, but the compiled metrics have yet to be built. `model.compile_metrics` will be empty until you train or evaluate the model.\n",
            "WARNING:tensorflow:Compiled the loaded model, but the compiled metrics have yet to be built. `model.compile_metrics` will be empty until you train or evaluate the model.\n"
          ]
        },
        {
          "output_type": "stream",
          "name": "stdout",
          "text": [
            "1/1 [==============================] - 0s 16ms/step\n",
            "********** TRAINING THE GAN **********\n",
            "7/7 [==============================] - 3s 410ms/step - d1_loss: 0.2083 - d2_loss: 0.2036 - g_loss: 2.8475\n"
          ]
        },
        {
          "output_type": "stream",
          "name": "stderr",
          "text": [
            "WARNING:tensorflow:Compiled the loaded model, but the compiled metrics have yet to be built. `model.compile_metrics` will be empty until you train or evaluate the model.\n",
            "WARNING:tensorflow:Compiled the loaded model, but the compiled metrics have yet to be built. `model.compile_metrics` will be empty until you train or evaluate the model.\n"
          ]
        },
        {
          "output_type": "stream",
          "name": "stdout",
          "text": [
            "1/1 [==============================] - 0s 15ms/step\n",
            "********** TRAINING THE GAN **********\n",
            "7/7 [==============================] - 3s 411ms/step - d1_loss: 0.2105 - d2_loss: 0.2029 - g_loss: 2.8121\n"
          ]
        },
        {
          "output_type": "stream",
          "name": "stderr",
          "text": [
            "WARNING:tensorflow:Compiled the loaded model, but the compiled metrics have yet to be built. `model.compile_metrics` will be empty until you train or evaluate the model.\n",
            "WARNING:tensorflow:Compiled the loaded model, but the compiled metrics have yet to be built. `model.compile_metrics` will be empty until you train or evaluate the model.\n"
          ]
        },
        {
          "output_type": "stream",
          "name": "stdout",
          "text": [
            "1/1 [==============================] - 0s 15ms/step\n",
            "********** TRAINING THE GAN **********\n",
            "7/7 [==============================] - 3s 412ms/step - d1_loss: 0.2033 - d2_loss: 0.2029 - g_loss: 2.8904\n"
          ]
        },
        {
          "output_type": "stream",
          "name": "stderr",
          "text": [
            "WARNING:tensorflow:Compiled the loaded model, but the compiled metrics have yet to be built. `model.compile_metrics` will be empty until you train or evaluate the model.\n",
            "WARNING:tensorflow:Compiled the loaded model, but the compiled metrics have yet to be built. `model.compile_metrics` will be empty until you train or evaluate the model.\n"
          ]
        },
        {
          "output_type": "stream",
          "name": "stdout",
          "text": [
            "1/1 [==============================] - 0s 18ms/step\n",
            "********** TRAINING THE GAN **********\n",
            "7/7 [==============================] - 3s 415ms/step - d1_loss: 0.2061 - d2_loss: 0.2041 - g_loss: 2.8621\n"
          ]
        },
        {
          "output_type": "stream",
          "name": "stderr",
          "text": [
            "WARNING:tensorflow:Compiled the loaded model, but the compiled metrics have yet to be built. `model.compile_metrics` will be empty until you train or evaluate the model.\n",
            "WARNING:tensorflow:Compiled the loaded model, but the compiled metrics have yet to be built. `model.compile_metrics` will be empty until you train or evaluate the model.\n"
          ]
        },
        {
          "output_type": "stream",
          "name": "stdout",
          "text": [
            "1/1 [==============================] - 0s 15ms/step\n",
            "********** TRAINING THE GAN **********\n",
            "7/7 [==============================] - 3s 413ms/step - d1_loss: 0.2048 - d2_loss: 0.2042 - g_loss: 2.8547\n"
          ]
        },
        {
          "output_type": "stream",
          "name": "stderr",
          "text": [
            "WARNING:tensorflow:Compiled the loaded model, but the compiled metrics have yet to be built. `model.compile_metrics` will be empty until you train or evaluate the model.\n",
            "WARNING:tensorflow:Compiled the loaded model, but the compiled metrics have yet to be built. `model.compile_metrics` will be empty until you train or evaluate the model.\n"
          ]
        },
        {
          "output_type": "stream",
          "name": "stdout",
          "text": [
            "1/1 [==============================] - 0s 17ms/step\n",
            "********** TRAINING THE GAN **********\n",
            "7/7 [==============================] - 3s 411ms/step - d1_loss: 0.2061 - d2_loss: 0.2063 - g_loss: 2.9818\n"
          ]
        },
        {
          "output_type": "stream",
          "name": "stderr",
          "text": [
            "WARNING:tensorflow:Compiled the loaded model, but the compiled metrics have yet to be built. `model.compile_metrics` will be empty until you train or evaluate the model.\n",
            "WARNING:tensorflow:Compiled the loaded model, but the compiled metrics have yet to be built. `model.compile_metrics` will be empty until you train or evaluate the model.\n"
          ]
        },
        {
          "output_type": "stream",
          "name": "stdout",
          "text": [
            "1/1 [==============================] - 0s 16ms/step\n",
            "********** TRAINING THE GAN **********\n",
            "7/7 [==============================] - 3s 415ms/step - d1_loss: 0.2055 - d2_loss: 0.2078 - g_loss: 3.0018\n"
          ]
        },
        {
          "output_type": "stream",
          "name": "stderr",
          "text": [
            "WARNING:tensorflow:Compiled the loaded model, but the compiled metrics have yet to be built. `model.compile_metrics` will be empty until you train or evaluate the model.\n",
            "WARNING:tensorflow:Compiled the loaded model, but the compiled metrics have yet to be built. `model.compile_metrics` will be empty until you train or evaluate the model.\n"
          ]
        },
        {
          "output_type": "stream",
          "name": "stdout",
          "text": [
            "1/1 [==============================] - 0s 17ms/step\n",
            "********** TRAINING THE GAN **********\n",
            "7/7 [==============================] - 3s 413ms/step - d1_loss: 0.2051 - d2_loss: 0.2037 - g_loss: 3.0610\n"
          ]
        },
        {
          "output_type": "stream",
          "name": "stderr",
          "text": [
            "WARNING:tensorflow:Compiled the loaded model, but the compiled metrics have yet to be built. `model.compile_metrics` will be empty until you train or evaluate the model.\n",
            "WARNING:tensorflow:Compiled the loaded model, but the compiled metrics have yet to be built. `model.compile_metrics` will be empty until you train or evaluate the model.\n"
          ]
        },
        {
          "output_type": "stream",
          "name": "stdout",
          "text": [
            "1/1 [==============================] - 0s 17ms/step\n",
            "********** TRAINING THE GAN **********\n",
            "7/7 [==============================] - 3s 415ms/step - d1_loss: 0.2061 - d2_loss: 0.2040 - g_loss: 2.9380\n"
          ]
        },
        {
          "output_type": "stream",
          "name": "stderr",
          "text": [
            "WARNING:tensorflow:Compiled the loaded model, but the compiled metrics have yet to be built. `model.compile_metrics` will be empty until you train or evaluate the model.\n",
            "WARNING:tensorflow:Compiled the loaded model, but the compiled metrics have yet to be built. `model.compile_metrics` will be empty until you train or evaluate the model.\n"
          ]
        },
        {
          "output_type": "stream",
          "name": "stdout",
          "text": [
            "1/1 [==============================] - 0s 17ms/step\n",
            "********** TRAINING THE GAN **********\n",
            "7/7 [==============================] - 3s 422ms/step - d1_loss: 0.2064 - d2_loss: 0.2106 - g_loss: 2.8997\n"
          ]
        },
        {
          "output_type": "stream",
          "name": "stderr",
          "text": [
            "WARNING:tensorflow:Compiled the loaded model, but the compiled metrics have yet to be built. `model.compile_metrics` will be empty until you train or evaluate the model.\n",
            "WARNING:tensorflow:Compiled the loaded model, but the compiled metrics have yet to be built. `model.compile_metrics` will be empty until you train or evaluate the model.\n"
          ]
        },
        {
          "output_type": "stream",
          "name": "stdout",
          "text": [
            "1/1 [==============================] - 0s 16ms/step\n",
            "********** TRAINING THE GAN **********\n",
            "7/7 [==============================] - 3s 419ms/step - d1_loss: 0.2057 - d2_loss: 0.2048 - g_loss: 3.0210\n"
          ]
        },
        {
          "output_type": "stream",
          "name": "stderr",
          "text": [
            "WARNING:tensorflow:Compiled the loaded model, but the compiled metrics have yet to be built. `model.compile_metrics` will be empty until you train or evaluate the model.\n",
            "WARNING:tensorflow:Compiled the loaded model, but the compiled metrics have yet to be built. `model.compile_metrics` will be empty until you train or evaluate the model.\n"
          ]
        },
        {
          "output_type": "stream",
          "name": "stdout",
          "text": [
            "1/1 [==============================] - 0s 18ms/step\n",
            "********** TRAINING THE GAN **********\n",
            "7/7 [==============================] - 3s 420ms/step - d1_loss: 0.2078 - d2_loss: 0.2038 - g_loss: 2.9332\n"
          ]
        },
        {
          "output_type": "stream",
          "name": "stderr",
          "text": [
            "WARNING:tensorflow:Compiled the loaded model, but the compiled metrics have yet to be built. `model.compile_metrics` will be empty until you train or evaluate the model.\n",
            "WARNING:tensorflow:Compiled the loaded model, but the compiled metrics have yet to be built. `model.compile_metrics` will be empty until you train or evaluate the model.\n"
          ]
        },
        {
          "output_type": "stream",
          "name": "stdout",
          "text": [
            "1/1 [==============================] - 0s 15ms/step\n",
            "********** TRAINING THE GAN **********\n",
            "7/7 [==============================] - 3s 414ms/step - d1_loss: 0.2052 - d2_loss: 0.2021 - g_loss: 2.9367\n"
          ]
        },
        {
          "output_type": "stream",
          "name": "stderr",
          "text": [
            "WARNING:tensorflow:Compiled the loaded model, but the compiled metrics have yet to be built. `model.compile_metrics` will be empty until you train or evaluate the model.\n",
            "WARNING:tensorflow:Compiled the loaded model, but the compiled metrics have yet to be built. `model.compile_metrics` will be empty until you train or evaluate the model.\n"
          ]
        },
        {
          "output_type": "stream",
          "name": "stdout",
          "text": [
            "1/1 [==============================] - 0s 16ms/step\n",
            "********** TRAINING THE GAN **********\n",
            "7/7 [==============================] - 3s 412ms/step - d1_loss: 0.2055 - d2_loss: 0.2016 - g_loss: 2.8842\n"
          ]
        },
        {
          "output_type": "stream",
          "name": "stderr",
          "text": [
            "WARNING:tensorflow:Compiled the loaded model, but the compiled metrics have yet to be built. `model.compile_metrics` will be empty until you train or evaluate the model.\n",
            "WARNING:tensorflow:Compiled the loaded model, but the compiled metrics have yet to be built. `model.compile_metrics` will be empty until you train or evaluate the model.\n"
          ]
        },
        {
          "output_type": "stream",
          "name": "stdout",
          "text": [
            "1/1 [==============================] - 0s 17ms/step\n",
            "********** TRAINING THE GAN **********\n",
            "7/7 [==============================] - 3s 410ms/step - d1_loss: 0.2055 - d2_loss: 0.2053 - g_loss: 2.7972\n"
          ]
        },
        {
          "output_type": "stream",
          "name": "stderr",
          "text": [
            "WARNING:tensorflow:Compiled the loaded model, but the compiled metrics have yet to be built. `model.compile_metrics` will be empty until you train or evaluate the model.\n",
            "WARNING:tensorflow:Compiled the loaded model, but the compiled metrics have yet to be built. `model.compile_metrics` will be empty until you train or evaluate the model.\n"
          ]
        },
        {
          "output_type": "stream",
          "name": "stdout",
          "text": [
            "1/1 [==============================] - 0s 16ms/step\n",
            "********** TRAINING THE GAN **********\n",
            "7/7 [==============================] - 3s 413ms/step - d1_loss: 0.2049 - d2_loss: 0.2015 - g_loss: 2.9151\n"
          ]
        },
        {
          "output_type": "stream",
          "name": "stderr",
          "text": [
            "WARNING:tensorflow:Compiled the loaded model, but the compiled metrics have yet to be built. `model.compile_metrics` will be empty until you train or evaluate the model.\n",
            "WARNING:tensorflow:Compiled the loaded model, but the compiled metrics have yet to be built. `model.compile_metrics` will be empty until you train or evaluate the model.\n"
          ]
        },
        {
          "output_type": "stream",
          "name": "stdout",
          "text": [
            "1/1 [==============================] - 0s 15ms/step\n",
            "********** TRAINING THE GAN **********\n",
            "7/7 [==============================] - 3s 410ms/step - d1_loss: 0.2087 - d2_loss: 0.2040 - g_loss: 2.7551\n"
          ]
        },
        {
          "output_type": "stream",
          "name": "stderr",
          "text": [
            "WARNING:tensorflow:Compiled the loaded model, but the compiled metrics have yet to be built. `model.compile_metrics` will be empty until you train or evaluate the model.\n",
            "WARNING:tensorflow:Compiled the loaded model, but the compiled metrics have yet to be built. `model.compile_metrics` will be empty until you train or evaluate the model.\n"
          ]
        },
        {
          "output_type": "stream",
          "name": "stdout",
          "text": [
            "1/1 [==============================] - 0s 15ms/step\n",
            "********** TRAINING THE GAN **********\n",
            "7/7 [==============================] - 3s 414ms/step - d1_loss: 0.2072 - d2_loss: 0.2030 - g_loss: 2.8559\n"
          ]
        },
        {
          "output_type": "stream",
          "name": "stderr",
          "text": [
            "WARNING:tensorflow:Compiled the loaded model, but the compiled metrics have yet to be built. `model.compile_metrics` will be empty until you train or evaluate the model.\n",
            "WARNING:tensorflow:Compiled the loaded model, but the compiled metrics have yet to be built. `model.compile_metrics` will be empty until you train or evaluate the model.\n"
          ]
        },
        {
          "output_type": "stream",
          "name": "stdout",
          "text": [
            "1/1 [==============================] - 0s 17ms/step\n",
            "********** TRAINING THE GAN **********\n",
            "7/7 [==============================] - 3s 414ms/step - d1_loss: 0.2121 - d2_loss: 0.2104 - g_loss: 2.7741\n"
          ]
        },
        {
          "output_type": "stream",
          "name": "stderr",
          "text": [
            "WARNING:tensorflow:Compiled the loaded model, but the compiled metrics have yet to be built. `model.compile_metrics` will be empty until you train or evaluate the model.\n",
            "WARNING:tensorflow:Compiled the loaded model, but the compiled metrics have yet to be built. `model.compile_metrics` will be empty until you train or evaluate the model.\n"
          ]
        },
        {
          "output_type": "stream",
          "name": "stdout",
          "text": [
            "1/1 [==============================] - 0s 16ms/step\n",
            "********** TRAINING THE GAN **********\n",
            "7/7 [==============================] - 3s 417ms/step - d1_loss: 0.2071 - d2_loss: 0.2036 - g_loss: 2.7813\n"
          ]
        },
        {
          "output_type": "stream",
          "name": "stderr",
          "text": [
            "WARNING:tensorflow:Compiled the loaded model, but the compiled metrics have yet to be built. `model.compile_metrics` will be empty until you train or evaluate the model.\n",
            "WARNING:tensorflow:Compiled the loaded model, but the compiled metrics have yet to be built. `model.compile_metrics` will be empty until you train or evaluate the model.\n"
          ]
        },
        {
          "output_type": "stream",
          "name": "stdout",
          "text": [
            "1/1 [==============================] - 0s 17ms/step\n",
            "********** TRAINING THE GAN **********\n",
            "7/7 [==============================] - 3s 416ms/step - d1_loss: 0.2068 - d2_loss: 0.2021 - g_loss: 2.8095\n"
          ]
        },
        {
          "output_type": "stream",
          "name": "stderr",
          "text": [
            "WARNING:tensorflow:Compiled the loaded model, but the compiled metrics have yet to be built. `model.compile_metrics` will be empty until you train or evaluate the model.\n",
            "WARNING:tensorflow:Compiled the loaded model, but the compiled metrics have yet to be built. `model.compile_metrics` will be empty until you train or evaluate the model.\n"
          ]
        },
        {
          "output_type": "stream",
          "name": "stdout",
          "text": [
            "1/1 [==============================] - 0s 15ms/step\n",
            "********** TRAINING THE GAN **********\n",
            "7/7 [==============================] - 3s 413ms/step - d1_loss: 0.2034 - d2_loss: 0.2014 - g_loss: 2.9102\n"
          ]
        },
        {
          "output_type": "stream",
          "name": "stderr",
          "text": [
            "WARNING:tensorflow:Compiled the loaded model, but the compiled metrics have yet to be built. `model.compile_metrics` will be empty until you train or evaluate the model.\n",
            "WARNING:tensorflow:Compiled the loaded model, but the compiled metrics have yet to be built. `model.compile_metrics` will be empty until you train or evaluate the model.\n"
          ]
        },
        {
          "output_type": "stream",
          "name": "stdout",
          "text": [
            "1/1 [==============================] - 0s 15ms/step\n",
            "********** TRAINING THE GAN **********\n",
            "7/7 [==============================] - 3s 415ms/step - d1_loss: 0.2043 - d2_loss: 0.2027 - g_loss: 2.8713\n"
          ]
        },
        {
          "output_type": "stream",
          "name": "stderr",
          "text": [
            "WARNING:tensorflow:Compiled the loaded model, but the compiled metrics have yet to be built. `model.compile_metrics` will be empty until you train or evaluate the model.\n",
            "WARNING:tensorflow:Compiled the loaded model, but the compiled metrics have yet to be built. `model.compile_metrics` will be empty until you train or evaluate the model.\n"
          ]
        },
        {
          "output_type": "stream",
          "name": "stdout",
          "text": [
            "1/1 [==============================] - 0s 16ms/step\n",
            "********** TRAINING THE GAN **********\n",
            "7/7 [==============================] - 3s 415ms/step - d1_loss: 0.2052 - d2_loss: 0.2091 - g_loss: 2.9474\n"
          ]
        },
        {
          "output_type": "stream",
          "name": "stderr",
          "text": [
            "WARNING:tensorflow:Compiled the loaded model, but the compiled metrics have yet to be built. `model.compile_metrics` will be empty until you train or evaluate the model.\n",
            "WARNING:tensorflow:Compiled the loaded model, but the compiled metrics have yet to be built. `model.compile_metrics` will be empty until you train or evaluate the model.\n"
          ]
        },
        {
          "output_type": "stream",
          "name": "stdout",
          "text": [
            "1/1 [==============================] - 0s 18ms/step\n",
            "********** TRAINING THE GAN **********\n",
            "7/7 [==============================] - 3s 417ms/step - d1_loss: 0.2054 - d2_loss: 0.2041 - g_loss: 2.7874\n"
          ]
        },
        {
          "output_type": "stream",
          "name": "stderr",
          "text": [
            "WARNING:tensorflow:Compiled the loaded model, but the compiled metrics have yet to be built. `model.compile_metrics` will be empty until you train or evaluate the model.\n",
            "WARNING:tensorflow:Compiled the loaded model, but the compiled metrics have yet to be built. `model.compile_metrics` will be empty until you train or evaluate the model.\n"
          ]
        },
        {
          "output_type": "stream",
          "name": "stdout",
          "text": [
            "1/1 [==============================] - 0s 17ms/step\n",
            "********** TRAINING THE GAN **********\n",
            "7/7 [==============================] - 3s 416ms/step - d1_loss: 0.2072 - d2_loss: 0.2133 - g_loss: 2.8447\n"
          ]
        },
        {
          "output_type": "stream",
          "name": "stderr",
          "text": [
            "WARNING:tensorflow:Compiled the loaded model, but the compiled metrics have yet to be built. `model.compile_metrics` will be empty until you train or evaluate the model.\n",
            "WARNING:tensorflow:Compiled the loaded model, but the compiled metrics have yet to be built. `model.compile_metrics` will be empty until you train or evaluate the model.\n"
          ]
        },
        {
          "output_type": "stream",
          "name": "stdout",
          "text": [
            "1/1 [==============================] - 0s 16ms/step\n",
            "********** TRAINING THE GAN **********\n",
            "7/7 [==============================] - 3s 416ms/step - d1_loss: 0.2053 - d2_loss: 0.2014 - g_loss: 2.8787\n"
          ]
        },
        {
          "output_type": "stream",
          "name": "stderr",
          "text": [
            "WARNING:tensorflow:Compiled the loaded model, but the compiled metrics have yet to be built. `model.compile_metrics` will be empty until you train or evaluate the model.\n",
            "WARNING:tensorflow:Compiled the loaded model, but the compiled metrics have yet to be built. `model.compile_metrics` will be empty until you train or evaluate the model.\n"
          ]
        },
        {
          "output_type": "stream",
          "name": "stdout",
          "text": [
            "1/1 [==============================] - 0s 15ms/step\n",
            "********** TRAINING THE GAN **********\n",
            "7/7 [==============================] - 3s 416ms/step - d1_loss: 0.2031 - d2_loss: 0.2037 - g_loss: 2.8884\n"
          ]
        },
        {
          "output_type": "stream",
          "name": "stderr",
          "text": [
            "WARNING:tensorflow:Compiled the loaded model, but the compiled metrics have yet to be built. `model.compile_metrics` will be empty until you train or evaluate the model.\n",
            "WARNING:tensorflow:Compiled the loaded model, but the compiled metrics have yet to be built. `model.compile_metrics` will be empty until you train or evaluate the model.\n"
          ]
        },
        {
          "output_type": "stream",
          "name": "stdout",
          "text": [
            "1/1 [==============================] - 0s 17ms/step\n",
            "********** TRAINING THE GAN **********\n",
            "7/7 [==============================] - 3s 413ms/step - d1_loss: 0.2071 - d2_loss: 0.2047 - g_loss: 2.7889\n"
          ]
        },
        {
          "output_type": "stream",
          "name": "stderr",
          "text": [
            "WARNING:tensorflow:Compiled the loaded model, but the compiled metrics have yet to be built. `model.compile_metrics` will be empty until you train or evaluate the model.\n",
            "WARNING:tensorflow:Compiled the loaded model, but the compiled metrics have yet to be built. `model.compile_metrics` will be empty until you train or evaluate the model.\n"
          ]
        },
        {
          "output_type": "stream",
          "name": "stdout",
          "text": [
            "1/1 [==============================] - 0s 17ms/step\n",
            "********** TRAINING THE GAN **********\n",
            "7/7 [==============================] - 3s 411ms/step - d1_loss: 0.2041 - d2_loss: 0.2012 - g_loss: 2.7982\n"
          ]
        },
        {
          "output_type": "stream",
          "name": "stderr",
          "text": [
            "WARNING:tensorflow:Compiled the loaded model, but the compiled metrics have yet to be built. `model.compile_metrics` will be empty until you train or evaluate the model.\n",
            "WARNING:tensorflow:Compiled the loaded model, but the compiled metrics have yet to be built. `model.compile_metrics` will be empty until you train or evaluate the model.\n"
          ]
        },
        {
          "output_type": "stream",
          "name": "stdout",
          "text": [
            "1/1 [==============================] - 0s 15ms/step\n",
            "********** TRAINING THE GAN **********\n",
            "7/7 [==============================] - 3s 413ms/step - d1_loss: 0.2052 - d2_loss: 0.2039 - g_loss: 2.8595\n"
          ]
        },
        {
          "output_type": "stream",
          "name": "stderr",
          "text": [
            "WARNING:tensorflow:Compiled the loaded model, but the compiled metrics have yet to be built. `model.compile_metrics` will be empty until you train or evaluate the model.\n",
            "WARNING:tensorflow:Compiled the loaded model, but the compiled metrics have yet to be built. `model.compile_metrics` will be empty until you train or evaluate the model.\n"
          ]
        },
        {
          "output_type": "stream",
          "name": "stdout",
          "text": [
            "1/1 [==============================] - 0s 18ms/step\n",
            "********** TRAINING THE GAN **********\n",
            "7/7 [==============================] - 3s 415ms/step - d1_loss: 0.2057 - d2_loss: 0.2036 - g_loss: 2.9056\n"
          ]
        },
        {
          "output_type": "stream",
          "name": "stderr",
          "text": [
            "WARNING:tensorflow:Compiled the loaded model, but the compiled metrics have yet to be built. `model.compile_metrics` will be empty until you train or evaluate the model.\n",
            "WARNING:tensorflow:Compiled the loaded model, but the compiled metrics have yet to be built. `model.compile_metrics` will be empty until you train or evaluate the model.\n"
          ]
        },
        {
          "output_type": "stream",
          "name": "stdout",
          "text": [
            "1/1 [==============================] - 0s 15ms/step\n",
            "********** TRAINING THE GAN **********\n",
            "7/7 [==============================] - 3s 414ms/step - d1_loss: 0.2045 - d2_loss: 0.2046 - g_loss: 2.9108\n"
          ]
        },
        {
          "output_type": "stream",
          "name": "stderr",
          "text": [
            "WARNING:tensorflow:Compiled the loaded model, but the compiled metrics have yet to be built. `model.compile_metrics` will be empty until you train or evaluate the model.\n",
            "WARNING:tensorflow:Compiled the loaded model, but the compiled metrics have yet to be built. `model.compile_metrics` will be empty until you train or evaluate the model.\n"
          ]
        },
        {
          "output_type": "stream",
          "name": "stdout",
          "text": [
            "1/1 [==============================] - 0s 20ms/step\n",
            "********** TRAINING THE GAN **********\n",
            "7/7 [==============================] - 3s 414ms/step - d1_loss: 0.2070 - d2_loss: 0.2051 - g_loss: 2.9257\n"
          ]
        },
        {
          "output_type": "stream",
          "name": "stderr",
          "text": [
            "WARNING:tensorflow:Compiled the loaded model, but the compiled metrics have yet to be built. `model.compile_metrics` will be empty until you train or evaluate the model.\n",
            "WARNING:tensorflow:Compiled the loaded model, but the compiled metrics have yet to be built. `model.compile_metrics` will be empty until you train or evaluate the model.\n"
          ]
        },
        {
          "output_type": "stream",
          "name": "stdout",
          "text": [
            "1/1 [==============================] - 0s 15ms/step\n",
            "********** TRAINING THE GAN **********\n",
            "7/7 [==============================] - 3s 414ms/step - d1_loss: 0.2067 - d2_loss: 0.2014 - g_loss: 2.8219\n"
          ]
        },
        {
          "output_type": "stream",
          "name": "stderr",
          "text": [
            "WARNING:tensorflow:Compiled the loaded model, but the compiled metrics have yet to be built. `model.compile_metrics` will be empty until you train or evaluate the model.\n",
            "WARNING:tensorflow:Compiled the loaded model, but the compiled metrics have yet to be built. `model.compile_metrics` will be empty until you train or evaluate the model.\n"
          ]
        },
        {
          "output_type": "stream",
          "name": "stdout",
          "text": [
            "1/1 [==============================] - 0s 18ms/step\n",
            "********** TRAINING THE GAN **********\n",
            "7/7 [==============================] - 3s 415ms/step - d1_loss: 0.2018 - d2_loss: 0.2004 - g_loss: 2.9207\n"
          ]
        },
        {
          "output_type": "stream",
          "name": "stderr",
          "text": [
            "WARNING:tensorflow:Compiled the loaded model, but the compiled metrics have yet to be built. `model.compile_metrics` will be empty until you train or evaluate the model.\n",
            "WARNING:tensorflow:Compiled the loaded model, but the compiled metrics have yet to be built. `model.compile_metrics` will be empty until you train or evaluate the model.\n"
          ]
        },
        {
          "output_type": "stream",
          "name": "stdout",
          "text": [
            "1/1 [==============================] - 0s 18ms/step\n",
            "********** TRAINING THE GAN **********\n",
            "7/7 [==============================] - 3s 415ms/step - d1_loss: 0.2041 - d2_loss: 0.2049 - g_loss: 2.9236\n"
          ]
        },
        {
          "output_type": "stream",
          "name": "stderr",
          "text": [
            "WARNING:tensorflow:Compiled the loaded model, but the compiled metrics have yet to be built. `model.compile_metrics` will be empty until you train or evaluate the model.\n",
            "WARNING:tensorflow:Compiled the loaded model, but the compiled metrics have yet to be built. `model.compile_metrics` will be empty until you train or evaluate the model.\n"
          ]
        },
        {
          "output_type": "stream",
          "name": "stdout",
          "text": [
            "1/1 [==============================] - 0s 15ms/step\n",
            "********** TRAINING THE GAN **********\n",
            "7/7 [==============================] - 3s 417ms/step - d1_loss: 0.2049 - d2_loss: 0.2032 - g_loss: 2.8670\n"
          ]
        },
        {
          "output_type": "stream",
          "name": "stderr",
          "text": [
            "WARNING:tensorflow:Compiled the loaded model, but the compiled metrics have yet to be built. `model.compile_metrics` will be empty until you train or evaluate the model.\n",
            "WARNING:tensorflow:Compiled the loaded model, but the compiled metrics have yet to be built. `model.compile_metrics` will be empty until you train or evaluate the model.\n"
          ]
        },
        {
          "output_type": "stream",
          "name": "stdout",
          "text": [
            "1/1 [==============================] - 0s 19ms/step\n",
            "********** TRAINING THE GAN **********\n",
            "7/7 [==============================] - 3s 416ms/step - d1_loss: 0.2067 - d2_loss: 0.2028 - g_loss: 2.8488\n"
          ]
        },
        {
          "output_type": "stream",
          "name": "stderr",
          "text": [
            "WARNING:tensorflow:Compiled the loaded model, but the compiled metrics have yet to be built. `model.compile_metrics` will be empty until you train or evaluate the model.\n",
            "WARNING:tensorflow:Compiled the loaded model, but the compiled metrics have yet to be built. `model.compile_metrics` will be empty until you train or evaluate the model.\n"
          ]
        },
        {
          "output_type": "stream",
          "name": "stdout",
          "text": [
            "1/1 [==============================] - 0s 16ms/step\n",
            "********** TRAINING THE GAN **********\n",
            "7/7 [==============================] - 3s 415ms/step - d1_loss: 0.2051 - d2_loss: 0.2011 - g_loss: 2.9461\n"
          ]
        },
        {
          "output_type": "stream",
          "name": "stderr",
          "text": [
            "WARNING:tensorflow:Compiled the loaded model, but the compiled metrics have yet to be built. `model.compile_metrics` will be empty until you train or evaluate the model.\n",
            "WARNING:tensorflow:Compiled the loaded model, but the compiled metrics have yet to be built. `model.compile_metrics` will be empty until you train or evaluate the model.\n"
          ]
        },
        {
          "output_type": "stream",
          "name": "stdout",
          "text": [
            "1/1 [==============================] - 0s 16ms/step\n",
            "********** TRAINING THE GAN **********\n",
            "7/7 [==============================] - 3s 416ms/step - d1_loss: 0.2041 - d2_loss: 0.2022 - g_loss: 2.9387\n"
          ]
        },
        {
          "output_type": "stream",
          "name": "stderr",
          "text": [
            "WARNING:tensorflow:Compiled the loaded model, but the compiled metrics have yet to be built. `model.compile_metrics` will be empty until you train or evaluate the model.\n",
            "WARNING:tensorflow:Compiled the loaded model, but the compiled metrics have yet to be built. `model.compile_metrics` will be empty until you train or evaluate the model.\n"
          ]
        },
        {
          "output_type": "stream",
          "name": "stdout",
          "text": [
            "1/1 [==============================] - 0s 18ms/step\n",
            "********** TRAINING THE GAN **********\n",
            "7/7 [==============================] - 3s 411ms/step - d1_loss: 0.2056 - d2_loss: 0.2045 - g_loss: 2.8928\n"
          ]
        },
        {
          "output_type": "stream",
          "name": "stderr",
          "text": [
            "WARNING:tensorflow:Compiled the loaded model, but the compiled metrics have yet to be built. `model.compile_metrics` will be empty until you train or evaluate the model.\n",
            "WARNING:tensorflow:Compiled the loaded model, but the compiled metrics have yet to be built. `model.compile_metrics` will be empty until you train or evaluate the model.\n"
          ]
        },
        {
          "output_type": "stream",
          "name": "stdout",
          "text": [
            "1/1 [==============================] - 0s 17ms/step\n",
            "********** TRAINING THE GAN **********\n",
            "7/7 [==============================] - 3s 410ms/step - d1_loss: 0.2048 - d2_loss: 0.2041 - g_loss: 2.8202\n"
          ]
        },
        {
          "output_type": "stream",
          "name": "stderr",
          "text": [
            "WARNING:tensorflow:Compiled the loaded model, but the compiled metrics have yet to be built. `model.compile_metrics` will be empty until you train or evaluate the model.\n",
            "WARNING:tensorflow:Compiled the loaded model, but the compiled metrics have yet to be built. `model.compile_metrics` will be empty until you train or evaluate the model.\n"
          ]
        },
        {
          "output_type": "stream",
          "name": "stdout",
          "text": [
            "1/1 [==============================] - 0s 15ms/step\n",
            "********** TRAINING THE GAN **********\n",
            "7/7 [==============================] - 3s 409ms/step - d1_loss: 0.2042 - d2_loss: 0.2033 - g_loss: 2.8260\n"
          ]
        },
        {
          "output_type": "stream",
          "name": "stderr",
          "text": [
            "WARNING:tensorflow:Compiled the loaded model, but the compiled metrics have yet to be built. `model.compile_metrics` will be empty until you train or evaluate the model.\n",
            "WARNING:tensorflow:Compiled the loaded model, but the compiled metrics have yet to be built. `model.compile_metrics` will be empty until you train or evaluate the model.\n"
          ]
        },
        {
          "output_type": "stream",
          "name": "stdout",
          "text": [
            "1/1 [==============================] - 0s 15ms/step\n",
            "********** TRAINING THE GAN **********\n",
            "7/7 [==============================] - 3s 412ms/step - d1_loss: 0.2044 - d2_loss: 0.2032 - g_loss: 2.9129\n"
          ]
        },
        {
          "output_type": "stream",
          "name": "stderr",
          "text": [
            "WARNING:tensorflow:Compiled the loaded model, but the compiled metrics have yet to be built. `model.compile_metrics` will be empty until you train or evaluate the model.\n",
            "WARNING:tensorflow:Compiled the loaded model, but the compiled metrics have yet to be built. `model.compile_metrics` will be empty until you train or evaluate the model.\n"
          ]
        },
        {
          "output_type": "stream",
          "name": "stdout",
          "text": [
            "1/1 [==============================] - 0s 17ms/step\n",
            "********** TRAINING THE GAN **********\n",
            "7/7 [==============================] - 3s 416ms/step - d1_loss: 0.2059 - d2_loss: 0.2021 - g_loss: 2.8066\n"
          ]
        },
        {
          "output_type": "stream",
          "name": "stderr",
          "text": [
            "WARNING:tensorflow:Compiled the loaded model, but the compiled metrics have yet to be built. `model.compile_metrics` will be empty until you train or evaluate the model.\n",
            "WARNING:tensorflow:Compiled the loaded model, but the compiled metrics have yet to be built. `model.compile_metrics` will be empty until you train or evaluate the model.\n"
          ]
        },
        {
          "output_type": "stream",
          "name": "stdout",
          "text": [
            "1/1 [==============================] - 0s 16ms/step\n",
            "********** TRAINING THE GAN **********\n",
            "7/7 [==============================] - 3s 416ms/step - d1_loss: 0.2074 - d2_loss: 0.2051 - g_loss: 2.9297\n"
          ]
        },
        {
          "output_type": "stream",
          "name": "stderr",
          "text": [
            "WARNING:tensorflow:Compiled the loaded model, but the compiled metrics have yet to be built. `model.compile_metrics` will be empty until you train or evaluate the model.\n",
            "WARNING:tensorflow:Compiled the loaded model, but the compiled metrics have yet to be built. `model.compile_metrics` will be empty until you train or evaluate the model.\n"
          ]
        },
        {
          "output_type": "stream",
          "name": "stdout",
          "text": [
            "1/1 [==============================] - 0s 23ms/step\n",
            "********** TRAINING THE GAN **********\n",
            "7/7 [==============================] - 3s 415ms/step - d1_loss: 0.2038 - d2_loss: 0.2018 - g_loss: 2.9384\n"
          ]
        },
        {
          "output_type": "stream",
          "name": "stderr",
          "text": [
            "WARNING:tensorflow:Compiled the loaded model, but the compiled metrics have yet to be built. `model.compile_metrics` will be empty until you train or evaluate the model.\n",
            "WARNING:tensorflow:Compiled the loaded model, but the compiled metrics have yet to be built. `model.compile_metrics` will be empty until you train or evaluate the model.\n"
          ]
        },
        {
          "output_type": "stream",
          "name": "stdout",
          "text": [
            "1/1 [==============================] - 0s 18ms/step\n",
            "********** TRAINING THE GAN **********\n",
            "7/7 [==============================] - 3s 418ms/step - d1_loss: 0.2052 - d2_loss: 0.2018 - g_loss: 2.9477\n"
          ]
        },
        {
          "output_type": "stream",
          "name": "stderr",
          "text": [
            "WARNING:tensorflow:Compiled the loaded model, but the compiled metrics have yet to be built. `model.compile_metrics` will be empty until you train or evaluate the model.\n",
            "WARNING:tensorflow:Compiled the loaded model, but the compiled metrics have yet to be built. `model.compile_metrics` will be empty until you train or evaluate the model.\n"
          ]
        },
        {
          "output_type": "stream",
          "name": "stdout",
          "text": [
            "1/1 [==============================] - 0s 15ms/step\n",
            "********** TRAINING THE GAN **********\n",
            "7/7 [==============================] - 3s 413ms/step - d1_loss: 0.2048 - d2_loss: 0.2064 - g_loss: 2.9559\n"
          ]
        },
        {
          "output_type": "stream",
          "name": "stderr",
          "text": [
            "WARNING:tensorflow:Compiled the loaded model, but the compiled metrics have yet to be built. `model.compile_metrics` will be empty until you train or evaluate the model.\n",
            "WARNING:tensorflow:Compiled the loaded model, but the compiled metrics have yet to be built. `model.compile_metrics` will be empty until you train or evaluate the model.\n"
          ]
        },
        {
          "output_type": "stream",
          "name": "stdout",
          "text": [
            "1/1 [==============================] - 0s 18ms/step\n",
            "********** TRAINING THE GAN **********\n",
            "7/7 [==============================] - 3s 415ms/step - d1_loss: 0.2040 - d2_loss: 0.2022 - g_loss: 2.9803\n"
          ]
        },
        {
          "output_type": "stream",
          "name": "stderr",
          "text": [
            "WARNING:tensorflow:Compiled the loaded model, but the compiled metrics have yet to be built. `model.compile_metrics` will be empty until you train or evaluate the model.\n",
            "WARNING:tensorflow:Compiled the loaded model, but the compiled metrics have yet to be built. `model.compile_metrics` will be empty until you train or evaluate the model.\n"
          ]
        },
        {
          "output_type": "stream",
          "name": "stdout",
          "text": [
            "1/1 [==============================] - 0s 18ms/step\n",
            "********** TRAINING THE GAN **********\n",
            "7/7 [==============================] - 3s 410ms/step - d1_loss: 0.2046 - d2_loss: 0.2007 - g_loss: 3.1793\n"
          ]
        },
        {
          "output_type": "stream",
          "name": "stderr",
          "text": [
            "WARNING:tensorflow:Compiled the loaded model, but the compiled metrics have yet to be built. `model.compile_metrics` will be empty until you train or evaluate the model.\n",
            "WARNING:tensorflow:Compiled the loaded model, but the compiled metrics have yet to be built. `model.compile_metrics` will be empty until you train or evaluate the model.\n"
          ]
        },
        {
          "output_type": "stream",
          "name": "stdout",
          "text": [
            "1/1 [==============================] - 0s 15ms/step\n",
            "********** TRAINING THE GAN **********\n",
            "7/7 [==============================] - 3s 415ms/step - d1_loss: 0.2043 - d2_loss: 0.2035 - g_loss: 3.0005\n"
          ]
        },
        {
          "output_type": "stream",
          "name": "stderr",
          "text": [
            "WARNING:tensorflow:Compiled the loaded model, but the compiled metrics have yet to be built. `model.compile_metrics` will be empty until you train or evaluate the model.\n",
            "WARNING:tensorflow:Compiled the loaded model, but the compiled metrics have yet to be built. `model.compile_metrics` will be empty until you train or evaluate the model.\n"
          ]
        },
        {
          "output_type": "stream",
          "name": "stdout",
          "text": [
            "1/1 [==============================] - 0s 15ms/step\n",
            "********** TRAINING THE GAN **********\n",
            "7/7 [==============================] - 3s 414ms/step - d1_loss: 0.2035 - d2_loss: 0.2025 - g_loss: 2.9295\n"
          ]
        },
        {
          "output_type": "stream",
          "name": "stderr",
          "text": [
            "WARNING:tensorflow:Compiled the loaded model, but the compiled metrics have yet to be built. `model.compile_metrics` will be empty until you train or evaluate the model.\n",
            "WARNING:tensorflow:Compiled the loaded model, but the compiled metrics have yet to be built. `model.compile_metrics` will be empty until you train or evaluate the model.\n"
          ]
        },
        {
          "output_type": "stream",
          "name": "stdout",
          "text": [
            "1/1 [==============================] - 0s 21ms/step\n",
            "********** TRAINING THE GAN **********\n",
            "7/7 [==============================] - 3s 414ms/step - d1_loss: 0.2069 - d2_loss: 0.2027 - g_loss: 2.7784\n"
          ]
        },
        {
          "output_type": "stream",
          "name": "stderr",
          "text": [
            "WARNING:tensorflow:Compiled the loaded model, but the compiled metrics have yet to be built. `model.compile_metrics` will be empty until you train or evaluate the model.\n",
            "WARNING:tensorflow:Compiled the loaded model, but the compiled metrics have yet to be built. `model.compile_metrics` will be empty until you train or evaluate the model.\n"
          ]
        },
        {
          "output_type": "stream",
          "name": "stdout",
          "text": [
            "1/1 [==============================] - 0s 15ms/step\n",
            "********** TRAINING THE GAN **********\n",
            "7/7 [==============================] - 3s 415ms/step - d1_loss: 0.2054 - d2_loss: 0.2034 - g_loss: 2.7529\n"
          ]
        },
        {
          "output_type": "stream",
          "name": "stderr",
          "text": [
            "WARNING:tensorflow:Compiled the loaded model, but the compiled metrics have yet to be built. `model.compile_metrics` will be empty until you train or evaluate the model.\n",
            "WARNING:tensorflow:Compiled the loaded model, but the compiled metrics have yet to be built. `model.compile_metrics` will be empty until you train or evaluate the model.\n"
          ]
        },
        {
          "output_type": "stream",
          "name": "stdout",
          "text": [
            "1/1 [==============================] - 0s 18ms/step\n",
            "********** TRAINING THE GAN **********\n",
            "7/7 [==============================] - 3s 419ms/step - d1_loss: 0.2040 - d2_loss: 0.2025 - g_loss: 2.8398\n"
          ]
        },
        {
          "output_type": "stream",
          "name": "stderr",
          "text": [
            "WARNING:tensorflow:Compiled the loaded model, but the compiled metrics have yet to be built. `model.compile_metrics` will be empty until you train or evaluate the model.\n",
            "WARNING:tensorflow:Compiled the loaded model, but the compiled metrics have yet to be built. `model.compile_metrics` will be empty until you train or evaluate the model.\n"
          ]
        },
        {
          "output_type": "stream",
          "name": "stdout",
          "text": [
            "1/1 [==============================] - 0s 15ms/step\n",
            "********** TRAINING THE GAN **********\n",
            "7/7 [==============================] - 3s 416ms/step - d1_loss: 0.2092 - d2_loss: 0.2055 - g_loss: 2.7886\n"
          ]
        },
        {
          "output_type": "stream",
          "name": "stderr",
          "text": [
            "WARNING:tensorflow:Compiled the loaded model, but the compiled metrics have yet to be built. `model.compile_metrics` will be empty until you train or evaluate the model.\n",
            "WARNING:tensorflow:Compiled the loaded model, but the compiled metrics have yet to be built. `model.compile_metrics` will be empty until you train or evaluate the model.\n"
          ]
        },
        {
          "output_type": "stream",
          "name": "stdout",
          "text": [
            "1/1 [==============================] - 0s 15ms/step\n",
            "********** TRAINING THE GAN **********\n",
            "7/7 [==============================] - 3s 412ms/step - d1_loss: 0.2069 - d2_loss: 0.2026 - g_loss: 2.7504\n"
          ]
        },
        {
          "output_type": "stream",
          "name": "stderr",
          "text": [
            "WARNING:tensorflow:Compiled the loaded model, but the compiled metrics have yet to be built. `model.compile_metrics` will be empty until you train or evaluate the model.\n",
            "WARNING:tensorflow:Compiled the loaded model, but the compiled metrics have yet to be built. `model.compile_metrics` will be empty until you train or evaluate the model.\n"
          ]
        },
        {
          "output_type": "stream",
          "name": "stdout",
          "text": [
            "1/1 [==============================] - 0s 15ms/step\n",
            "********** TRAINING THE GAN **********\n",
            "7/7 [==============================] - 3s 412ms/step - d1_loss: 0.2104 - d2_loss: 0.2063 - g_loss: 2.6953\n"
          ]
        },
        {
          "output_type": "stream",
          "name": "stderr",
          "text": [
            "WARNING:tensorflow:Compiled the loaded model, but the compiled metrics have yet to be built. `model.compile_metrics` will be empty until you train or evaluate the model.\n",
            "WARNING:tensorflow:Compiled the loaded model, but the compiled metrics have yet to be built. `model.compile_metrics` will be empty until you train or evaluate the model.\n"
          ]
        },
        {
          "output_type": "stream",
          "name": "stdout",
          "text": [
            "1/1 [==============================] - 0s 17ms/step\n",
            "********** TRAINING THE GAN **********\n",
            "7/7 [==============================] - 3s 412ms/step - d1_loss: 0.2047 - d2_loss: 0.2012 - g_loss: 2.8863\n"
          ]
        },
        {
          "output_type": "stream",
          "name": "stderr",
          "text": [
            "WARNING:tensorflow:Compiled the loaded model, but the compiled metrics have yet to be built. `model.compile_metrics` will be empty until you train or evaluate the model.\n",
            "WARNING:tensorflow:Compiled the loaded model, but the compiled metrics have yet to be built. `model.compile_metrics` will be empty until you train or evaluate the model.\n"
          ]
        },
        {
          "output_type": "stream",
          "name": "stdout",
          "text": [
            "1/1 [==============================] - 0s 17ms/step\n",
            "********** TRAINING THE GAN **********\n",
            "7/7 [==============================] - 3s 416ms/step - d1_loss: 0.2045 - d2_loss: 0.2016 - g_loss: 3.1133\n"
          ]
        },
        {
          "output_type": "stream",
          "name": "stderr",
          "text": [
            "WARNING:tensorflow:Compiled the loaded model, but the compiled metrics have yet to be built. `model.compile_metrics` will be empty until you train or evaluate the model.\n",
            "WARNING:tensorflow:Compiled the loaded model, but the compiled metrics have yet to be built. `model.compile_metrics` will be empty until you train or evaluate the model.\n"
          ]
        },
        {
          "output_type": "stream",
          "name": "stdout",
          "text": [
            "1/1 [==============================] - 0s 17ms/step\n",
            "********** TRAINING THE GAN **********\n",
            "7/7 [==============================] - 3s 412ms/step - d1_loss: 0.2078 - d2_loss: 0.2042 - g_loss: 2.9427\n"
          ]
        },
        {
          "output_type": "stream",
          "name": "stderr",
          "text": [
            "WARNING:tensorflow:Compiled the loaded model, but the compiled metrics have yet to be built. `model.compile_metrics` will be empty until you train or evaluate the model.\n",
            "WARNING:tensorflow:Compiled the loaded model, but the compiled metrics have yet to be built. `model.compile_metrics` will be empty until you train or evaluate the model.\n"
          ]
        },
        {
          "output_type": "stream",
          "name": "stdout",
          "text": [
            "1/1 [==============================] - 0s 19ms/step\n",
            "********** TRAINING THE GAN **********\n",
            "7/7 [==============================] - 3s 414ms/step - d1_loss: 0.2037 - d2_loss: 0.2018 - g_loss: 2.8799\n"
          ]
        },
        {
          "output_type": "stream",
          "name": "stderr",
          "text": [
            "WARNING:tensorflow:Compiled the loaded model, but the compiled metrics have yet to be built. `model.compile_metrics` will be empty until you train or evaluate the model.\n",
            "WARNING:tensorflow:Compiled the loaded model, but the compiled metrics have yet to be built. `model.compile_metrics` will be empty until you train or evaluate the model.\n"
          ]
        },
        {
          "output_type": "stream",
          "name": "stdout",
          "text": [
            "1/1 [==============================] - 0s 15ms/step\n",
            "********** TRAINING THE GAN **********\n",
            "7/7 [==============================] - 3s 411ms/step - d1_loss: 0.2040 - d2_loss: 0.2025 - g_loss: 2.9382\n"
          ]
        },
        {
          "output_type": "stream",
          "name": "stderr",
          "text": [
            "WARNING:tensorflow:Compiled the loaded model, but the compiled metrics have yet to be built. `model.compile_metrics` will be empty until you train or evaluate the model.\n",
            "WARNING:tensorflow:Compiled the loaded model, but the compiled metrics have yet to be built. `model.compile_metrics` will be empty until you train or evaluate the model.\n"
          ]
        },
        {
          "output_type": "stream",
          "name": "stdout",
          "text": [
            "1/1 [==============================] - 0s 15ms/step\n",
            "********** TRAINING THE GAN **********\n",
            "7/7 [==============================] - 3s 409ms/step - d1_loss: 0.2039 - d2_loss: 0.2020 - g_loss: 2.9702\n"
          ]
        },
        {
          "output_type": "stream",
          "name": "stderr",
          "text": [
            "WARNING:tensorflow:Compiled the loaded model, but the compiled metrics have yet to be built. `model.compile_metrics` will be empty until you train or evaluate the model.\n",
            "WARNING:tensorflow:Compiled the loaded model, but the compiled metrics have yet to be built. `model.compile_metrics` will be empty until you train or evaluate the model.\n"
          ]
        },
        {
          "output_type": "stream",
          "name": "stdout",
          "text": [
            "1/1 [==============================] - 0s 18ms/step\n",
            "********** TRAINING THE GAN **********\n",
            "7/7 [==============================] - 3s 410ms/step - d1_loss: 0.2064 - d2_loss: 0.2053 - g_loss: 2.8866\n"
          ]
        },
        {
          "output_type": "stream",
          "name": "stderr",
          "text": [
            "WARNING:tensorflow:Compiled the loaded model, but the compiled metrics have yet to be built. `model.compile_metrics` will be empty until you train or evaluate the model.\n",
            "WARNING:tensorflow:Compiled the loaded model, but the compiled metrics have yet to be built. `model.compile_metrics` will be empty until you train or evaluate the model.\n"
          ]
        },
        {
          "output_type": "stream",
          "name": "stdout",
          "text": [
            "1/1 [==============================] - 0s 16ms/step\n",
            "********** TRAINING THE GAN **********\n",
            "7/7 [==============================] - 3s 412ms/step - d1_loss: 0.2038 - d2_loss: 0.2012 - g_loss: 2.9261\n"
          ]
        },
        {
          "output_type": "stream",
          "name": "stderr",
          "text": [
            "WARNING:tensorflow:Compiled the loaded model, but the compiled metrics have yet to be built. `model.compile_metrics` will be empty until you train or evaluate the model.\n",
            "WARNING:tensorflow:Compiled the loaded model, but the compiled metrics have yet to be built. `model.compile_metrics` will be empty until you train or evaluate the model.\n"
          ]
        },
        {
          "output_type": "stream",
          "name": "stdout",
          "text": [
            "1/1 [==============================] - 0s 16ms/step\n",
            "********** TRAINING THE GAN **********\n",
            "7/7 [==============================] - 3s 415ms/step - d1_loss: 0.2033 - d2_loss: 0.2011 - g_loss: 2.8859\n"
          ]
        },
        {
          "output_type": "stream",
          "name": "stderr",
          "text": [
            "WARNING:tensorflow:Compiled the loaded model, but the compiled metrics have yet to be built. `model.compile_metrics` will be empty until you train or evaluate the model.\n",
            "WARNING:tensorflow:Compiled the loaded model, but the compiled metrics have yet to be built. `model.compile_metrics` will be empty until you train or evaluate the model.\n"
          ]
        },
        {
          "output_type": "stream",
          "name": "stdout",
          "text": [
            "1/1 [==============================] - 0s 16ms/step\n",
            "********** TRAINING THE GAN **********\n",
            "7/7 [==============================] - 3s 417ms/step - d1_loss: 0.2037 - d2_loss: 0.2051 - g_loss: 2.9316\n"
          ]
        },
        {
          "output_type": "stream",
          "name": "stderr",
          "text": [
            "WARNING:tensorflow:Compiled the loaded model, but the compiled metrics have yet to be built. `model.compile_metrics` will be empty until you train or evaluate the model.\n",
            "WARNING:tensorflow:Compiled the loaded model, but the compiled metrics have yet to be built. `model.compile_metrics` will be empty until you train or evaluate the model.\n"
          ]
        },
        {
          "output_type": "stream",
          "name": "stdout",
          "text": [
            "1/1 [==============================] - 0s 16ms/step\n",
            "********** TRAINING THE GAN **********\n",
            "7/7 [==============================] - 3s 418ms/step - d1_loss: 0.2076 - d2_loss: 0.2085 - g_loss: 2.7070\n"
          ]
        },
        {
          "output_type": "stream",
          "name": "stderr",
          "text": [
            "WARNING:tensorflow:Compiled the loaded model, but the compiled metrics have yet to be built. `model.compile_metrics` will be empty until you train or evaluate the model.\n",
            "WARNING:tensorflow:Compiled the loaded model, but the compiled metrics have yet to be built. `model.compile_metrics` will be empty until you train or evaluate the model.\n"
          ]
        },
        {
          "output_type": "stream",
          "name": "stdout",
          "text": [
            "1/1 [==============================] - 0s 18ms/step\n",
            "********** TRAINING THE GAN **********\n",
            "7/7 [==============================] - 3s 423ms/step - d1_loss: 0.2027 - d2_loss: 0.2002 - g_loss: 2.8752\n"
          ]
        },
        {
          "output_type": "stream",
          "name": "stderr",
          "text": [
            "WARNING:tensorflow:Compiled the loaded model, but the compiled metrics have yet to be built. `model.compile_metrics` will be empty until you train or evaluate the model.\n",
            "WARNING:tensorflow:Compiled the loaded model, but the compiled metrics have yet to be built. `model.compile_metrics` will be empty until you train or evaluate the model.\n"
          ]
        },
        {
          "output_type": "stream",
          "name": "stdout",
          "text": [
            "1/1 [==============================] - 0s 19ms/step\n",
            "********** TRAINING THE GAN **********\n",
            "7/7 [==============================] - 3s 424ms/step - d1_loss: 0.2034 - d2_loss: 0.2055 - g_loss: 2.9568\n"
          ]
        },
        {
          "output_type": "stream",
          "name": "stderr",
          "text": [
            "WARNING:tensorflow:Compiled the loaded model, but the compiled metrics have yet to be built. `model.compile_metrics` will be empty until you train or evaluate the model.\n",
            "WARNING:tensorflow:Compiled the loaded model, but the compiled metrics have yet to be built. `model.compile_metrics` will be empty until you train or evaluate the model.\n"
          ]
        },
        {
          "output_type": "stream",
          "name": "stdout",
          "text": [
            "1/1 [==============================] - 0s 17ms/step\n",
            "********** TRAINING THE GAN **********\n",
            "7/7 [==============================] - 3s 425ms/step - d1_loss: 0.2040 - d2_loss: 0.2025 - g_loss: 3.0095\n"
          ]
        },
        {
          "output_type": "stream",
          "name": "stderr",
          "text": [
            "WARNING:tensorflow:Compiled the loaded model, but the compiled metrics have yet to be built. `model.compile_metrics` will be empty until you train or evaluate the model.\n",
            "WARNING:tensorflow:Compiled the loaded model, but the compiled metrics have yet to be built. `model.compile_metrics` will be empty until you train or evaluate the model.\n"
          ]
        },
        {
          "output_type": "stream",
          "name": "stdout",
          "text": [
            "1/1 [==============================] - 0s 18ms/step\n",
            "********** TRAINING THE GAN **********\n",
            "7/7 [==============================] - 3s 424ms/step - d1_loss: 0.2035 - d2_loss: 0.2027 - g_loss: 3.0538\n"
          ]
        },
        {
          "output_type": "stream",
          "name": "stderr",
          "text": [
            "WARNING:tensorflow:Compiled the loaded model, but the compiled metrics have yet to be built. `model.compile_metrics` will be empty until you train or evaluate the model.\n",
            "WARNING:tensorflow:Compiled the loaded model, but the compiled metrics have yet to be built. `model.compile_metrics` will be empty until you train or evaluate the model.\n"
          ]
        },
        {
          "output_type": "stream",
          "name": "stdout",
          "text": [
            "1/1 [==============================] - 0s 23ms/step\n",
            "********** TRAINING THE GAN **********\n",
            "7/7 [==============================] - 3s 424ms/step - d1_loss: 0.2057 - d2_loss: 0.2060 - g_loss: 2.8822\n"
          ]
        },
        {
          "output_type": "stream",
          "name": "stderr",
          "text": [
            "WARNING:tensorflow:Compiled the loaded model, but the compiled metrics have yet to be built. `model.compile_metrics` will be empty until you train or evaluate the model.\n",
            "WARNING:tensorflow:Compiled the loaded model, but the compiled metrics have yet to be built. `model.compile_metrics` will be empty until you train or evaluate the model.\n"
          ]
        },
        {
          "output_type": "stream",
          "name": "stdout",
          "text": [
            "1/1 [==============================] - 0s 20ms/step\n",
            "********** TRAINING THE GAN **********\n",
            "7/7 [==============================] - 3s 420ms/step - d1_loss: 0.2068 - d2_loss: 0.2053 - g_loss: 2.8339\n"
          ]
        },
        {
          "output_type": "stream",
          "name": "stderr",
          "text": [
            "WARNING:tensorflow:Compiled the loaded model, but the compiled metrics have yet to be built. `model.compile_metrics` will be empty until you train or evaluate the model.\n",
            "WARNING:tensorflow:Compiled the loaded model, but the compiled metrics have yet to be built. `model.compile_metrics` will be empty until you train or evaluate the model.\n"
          ]
        },
        {
          "output_type": "stream",
          "name": "stdout",
          "text": [
            "1/1 [==============================] - 0s 16ms/step\n",
            "********** TRAINING THE GAN **********\n",
            "7/7 [==============================] - 3s 414ms/step - d1_loss: 0.2032 - d2_loss: 0.2014 - g_loss: 2.8946\n"
          ]
        },
        {
          "output_type": "stream",
          "name": "stderr",
          "text": [
            "WARNING:tensorflow:Compiled the loaded model, but the compiled metrics have yet to be built. `model.compile_metrics` will be empty until you train or evaluate the model.\n",
            "WARNING:tensorflow:Compiled the loaded model, but the compiled metrics have yet to be built. `model.compile_metrics` will be empty until you train or evaluate the model.\n"
          ]
        },
        {
          "output_type": "stream",
          "name": "stdout",
          "text": [
            "1/1 [==============================] - 0s 16ms/step\n",
            "********** TRAINING THE GAN **********\n",
            "7/7 [==============================] - 3s 414ms/step - d1_loss: 0.2031 - d2_loss: 0.2015 - g_loss: 2.9443\n"
          ]
        },
        {
          "output_type": "stream",
          "name": "stderr",
          "text": [
            "WARNING:tensorflow:Compiled the loaded model, but the compiled metrics have yet to be built. `model.compile_metrics` will be empty until you train or evaluate the model.\n",
            "WARNING:tensorflow:Compiled the loaded model, but the compiled metrics have yet to be built. `model.compile_metrics` will be empty until you train or evaluate the model.\n"
          ]
        },
        {
          "output_type": "stream",
          "name": "stdout",
          "text": [
            "1/1 [==============================] - 0s 15ms/step\n",
            "********** TRAINING THE GAN **********\n",
            "7/7 [==============================] - 3s 407ms/step - d1_loss: 0.2031 - d2_loss: 0.2029 - g_loss: 2.8644\n"
          ]
        },
        {
          "output_type": "stream",
          "name": "stderr",
          "text": [
            "WARNING:tensorflow:Compiled the loaded model, but the compiled metrics have yet to be built. `model.compile_metrics` will be empty until you train or evaluate the model.\n",
            "WARNING:tensorflow:Compiled the loaded model, but the compiled metrics have yet to be built. `model.compile_metrics` will be empty until you train or evaluate the model.\n"
          ]
        },
        {
          "output_type": "stream",
          "name": "stdout",
          "text": [
            "1/1 [==============================] - 0s 17ms/step\n",
            "********** TRAINING THE GAN **********\n",
            "7/7 [==============================] - 3s 408ms/step - d1_loss: 0.2056 - d2_loss: 0.2026 - g_loss: 2.8570\n"
          ]
        },
        {
          "output_type": "stream",
          "name": "stderr",
          "text": [
            "WARNING:tensorflow:Compiled the loaded model, but the compiled metrics have yet to be built. `model.compile_metrics` will be empty until you train or evaluate the model.\n",
            "WARNING:tensorflow:Compiled the loaded model, but the compiled metrics have yet to be built. `model.compile_metrics` will be empty until you train or evaluate the model.\n"
          ]
        },
        {
          "output_type": "stream",
          "name": "stdout",
          "text": [
            "1/1 [==============================] - 0s 16ms/step\n",
            "********** TRAINING THE GAN **********\n",
            "7/7 [==============================] - 3s 406ms/step - d1_loss: 0.2038 - d2_loss: 0.2025 - g_loss: 2.9928\n"
          ]
        },
        {
          "output_type": "stream",
          "name": "stderr",
          "text": [
            "WARNING:tensorflow:Compiled the loaded model, but the compiled metrics have yet to be built. `model.compile_metrics` will be empty until you train or evaluate the model.\n",
            "WARNING:tensorflow:Compiled the loaded model, but the compiled metrics have yet to be built. `model.compile_metrics` will be empty until you train or evaluate the model.\n"
          ]
        },
        {
          "output_type": "stream",
          "name": "stdout",
          "text": [
            "1/1 [==============================] - 0s 15ms/step\n",
            "********** TRAINING THE GAN **********\n",
            "7/7 [==============================] - 3s 406ms/step - d1_loss: 0.2035 - d2_loss: 0.2041 - g_loss: 2.9241\n"
          ]
        },
        {
          "output_type": "stream",
          "name": "stderr",
          "text": [
            "WARNING:tensorflow:Compiled the loaded model, but the compiled metrics have yet to be built. `model.compile_metrics` will be empty until you train or evaluate the model.\n",
            "WARNING:tensorflow:Compiled the loaded model, but the compiled metrics have yet to be built. `model.compile_metrics` will be empty until you train or evaluate the model.\n"
          ]
        },
        {
          "output_type": "stream",
          "name": "stdout",
          "text": [
            "1/1 [==============================] - 0s 15ms/step\n",
            "********** TRAINING THE GAN **********\n",
            "7/7 [==============================] - 3s 406ms/step - d1_loss: 0.2081 - d2_loss: 0.2049 - g_loss: 2.7764\n"
          ]
        },
        {
          "output_type": "stream",
          "name": "stderr",
          "text": [
            "WARNING:tensorflow:Compiled the loaded model, but the compiled metrics have yet to be built. `model.compile_metrics` will be empty until you train or evaluate the model.\n",
            "WARNING:tensorflow:Compiled the loaded model, but the compiled metrics have yet to be built. `model.compile_metrics` will be empty until you train or evaluate the model.\n"
          ]
        },
        {
          "output_type": "stream",
          "name": "stdout",
          "text": [
            "1/1 [==============================] - 0s 18ms/step\n",
            "********** TRAINING THE GAN **********\n",
            "7/7 [==============================] - 3s 409ms/step - d1_loss: 0.2047 - d2_loss: 0.2017 - g_loss: 2.8479\n"
          ]
        },
        {
          "output_type": "stream",
          "name": "stderr",
          "text": [
            "WARNING:tensorflow:Compiled the loaded model, but the compiled metrics have yet to be built. `model.compile_metrics` will be empty until you train or evaluate the model.\n",
            "WARNING:tensorflow:Compiled the loaded model, but the compiled metrics have yet to be built. `model.compile_metrics` will be empty until you train or evaluate the model.\n"
          ]
        },
        {
          "output_type": "stream",
          "name": "stdout",
          "text": [
            "1/1 [==============================] - 0s 21ms/step\n",
            "********** TRAINING THE GAN **********\n",
            "7/7 [==============================] - 3s 412ms/step - d1_loss: 0.2034 - d2_loss: 0.2021 - g_loss: 2.9235\n"
          ]
        },
        {
          "output_type": "stream",
          "name": "stderr",
          "text": [
            "WARNING:tensorflow:Compiled the loaded model, but the compiled metrics have yet to be built. `model.compile_metrics` will be empty until you train or evaluate the model.\n",
            "WARNING:tensorflow:Compiled the loaded model, but the compiled metrics have yet to be built. `model.compile_metrics` will be empty until you train or evaluate the model.\n"
          ]
        },
        {
          "output_type": "stream",
          "name": "stdout",
          "text": [
            "1/1 [==============================] - 0s 17ms/step\n",
            "********** TRAINING THE GAN **********\n",
            "7/7 [==============================] - 3s 416ms/step - d1_loss: 0.2045 - d2_loss: 0.2095 - g_loss: 2.8222\n"
          ]
        },
        {
          "output_type": "stream",
          "name": "stderr",
          "text": [
            "WARNING:tensorflow:Compiled the loaded model, but the compiled metrics have yet to be built. `model.compile_metrics` will be empty until you train or evaluate the model.\n",
            "WARNING:tensorflow:Compiled the loaded model, but the compiled metrics have yet to be built. `model.compile_metrics` will be empty until you train or evaluate the model.\n"
          ]
        },
        {
          "output_type": "stream",
          "name": "stdout",
          "text": [
            "1/1 [==============================] - 0s 25ms/step\n",
            "********** TRAINING THE GAN **********\n",
            "7/7 [==============================] - 3s 417ms/step - d1_loss: 28.3181 - d2_loss: 1.3636 - g_loss: 4.4324\n"
          ]
        },
        {
          "output_type": "stream",
          "name": "stderr",
          "text": [
            "WARNING:tensorflow:Compiled the loaded model, but the compiled metrics have yet to be built. `model.compile_metrics` will be empty until you train or evaluate the model.\n",
            "WARNING:tensorflow:Compiled the loaded model, but the compiled metrics have yet to be built. `model.compile_metrics` will be empty until you train or evaluate the model.\n"
          ]
        },
        {
          "output_type": "stream",
          "name": "stdout",
          "text": [
            "1/1 [==============================] - 0s 15ms/step\n",
            "********** TRAINING THE GAN **********\n",
            "7/7 [==============================] - 3s 417ms/step - d1_loss: 1.3095 - d2_loss: 1.7937 - g_loss: 17.1852\n"
          ]
        },
        {
          "output_type": "stream",
          "name": "stderr",
          "text": [
            "WARNING:tensorflow:Compiled the loaded model, but the compiled metrics have yet to be built. `model.compile_metrics` will be empty until you train or evaluate the model.\n",
            "WARNING:tensorflow:Compiled the loaded model, but the compiled metrics have yet to be built. `model.compile_metrics` will be empty until you train or evaluate the model.\n"
          ]
        },
        {
          "output_type": "stream",
          "name": "stdout",
          "text": [
            "1/1 [==============================] - 0s 31ms/step\n",
            "********** TRAINING THE GAN **********\n",
            "7/7 [==============================] - 3s 415ms/step - d1_loss: 0.3362 - d2_loss: 0.4568 - g_loss: 4.6655\n"
          ]
        },
        {
          "output_type": "stream",
          "name": "stderr",
          "text": [
            "WARNING:tensorflow:Compiled the loaded model, but the compiled metrics have yet to be built. `model.compile_metrics` will be empty until you train or evaluate the model.\n",
            "WARNING:tensorflow:Compiled the loaded model, but the compiled metrics have yet to be built. `model.compile_metrics` will be empty until you train or evaluate the model.\n"
          ]
        },
        {
          "output_type": "stream",
          "name": "stdout",
          "text": [
            "1/1 [==============================] - 0s 15ms/step\n",
            "********** TRAINING THE GAN **********\n",
            "7/7 [==============================] - 3s 416ms/step - d1_loss: 0.2004 - d2_loss: 0.2603 - g_loss: 2.8864\n"
          ]
        },
        {
          "output_type": "stream",
          "name": "stderr",
          "text": [
            "WARNING:tensorflow:Compiled the loaded model, but the compiled metrics have yet to be built. `model.compile_metrics` will be empty until you train or evaluate the model.\n",
            "WARNING:tensorflow:Compiled the loaded model, but the compiled metrics have yet to be built. `model.compile_metrics` will be empty until you train or evaluate the model.\n"
          ]
        },
        {
          "output_type": "stream",
          "name": "stdout",
          "text": [
            "1/1 [==============================] - 0s 17ms/step\n",
            "********** TRAINING THE GAN **********\n",
            "7/7 [==============================] - 3s 417ms/step - d1_loss: 0.1987 - d2_loss: 0.2418 - g_loss: 2.8974\n"
          ]
        },
        {
          "output_type": "stream",
          "name": "stderr",
          "text": [
            "WARNING:tensorflow:Compiled the loaded model, but the compiled metrics have yet to be built. `model.compile_metrics` will be empty until you train or evaluate the model.\n",
            "WARNING:tensorflow:Compiled the loaded model, but the compiled metrics have yet to be built. `model.compile_metrics` will be empty until you train or evaluate the model.\n"
          ]
        },
        {
          "output_type": "stream",
          "name": "stdout",
          "text": [
            "1/1 [==============================] - 0s 15ms/step\n",
            "********** TRAINING THE GAN **********\n",
            "7/7 [==============================] - 3s 415ms/step - d1_loss: 0.1987 - d2_loss: 0.2309 - g_loss: 2.8828\n"
          ]
        },
        {
          "output_type": "stream",
          "name": "stderr",
          "text": [
            "WARNING:tensorflow:Compiled the loaded model, but the compiled metrics have yet to be built. `model.compile_metrics` will be empty until you train or evaluate the model.\n",
            "WARNING:tensorflow:Compiled the loaded model, but the compiled metrics have yet to be built. `model.compile_metrics` will be empty until you train or evaluate the model.\n"
          ]
        },
        {
          "output_type": "stream",
          "name": "stdout",
          "text": [
            "1/1 [==============================] - 0s 20ms/step\n",
            "********** TRAINING THE GAN **********\n",
            "7/7 [==============================] - 3s 415ms/step - d1_loss: 0.1987 - d2_loss: 0.2249 - g_loss: 2.9265\n"
          ]
        },
        {
          "output_type": "stream",
          "name": "stderr",
          "text": [
            "WARNING:tensorflow:Compiled the loaded model, but the compiled metrics have yet to be built. `model.compile_metrics` will be empty until you train or evaluate the model.\n",
            "WARNING:tensorflow:Compiled the loaded model, but the compiled metrics have yet to be built. `model.compile_metrics` will be empty until you train or evaluate the model.\n"
          ]
        },
        {
          "output_type": "stream",
          "name": "stdout",
          "text": [
            "1/1 [==============================] - 0s 16ms/step\n",
            "********** TRAINING THE GAN **********\n",
            "7/7 [==============================] - 3s 414ms/step - d1_loss: 0.1991 - d2_loss: 0.2212 - g_loss: 2.9736\n"
          ]
        },
        {
          "output_type": "stream",
          "name": "stderr",
          "text": [
            "WARNING:tensorflow:Compiled the loaded model, but the compiled metrics have yet to be built. `model.compile_metrics` will be empty until you train or evaluate the model.\n",
            "WARNING:tensorflow:Compiled the loaded model, but the compiled metrics have yet to be built. `model.compile_metrics` will be empty until you train or evaluate the model.\n"
          ]
        },
        {
          "output_type": "stream",
          "name": "stdout",
          "text": [
            "1/1 [==============================] - 0s 16ms/step\n",
            "********** TRAINING THE GAN **********\n",
            "7/7 [==============================] - 3s 408ms/step - d1_loss: 0.1988 - d2_loss: 0.2169 - g_loss: 2.9073\n"
          ]
        },
        {
          "output_type": "stream",
          "name": "stderr",
          "text": [
            "WARNING:tensorflow:Compiled the loaded model, but the compiled metrics have yet to be built. `model.compile_metrics` will be empty until you train or evaluate the model.\n",
            "WARNING:tensorflow:Compiled the loaded model, but the compiled metrics have yet to be built. `model.compile_metrics` will be empty until you train or evaluate the model.\n"
          ]
        },
        {
          "output_type": "stream",
          "name": "stdout",
          "text": [
            "1/1 [==============================] - 0s 18ms/step\n",
            "********** TRAINING THE GAN **********\n",
            "7/7 [==============================] - 3s 406ms/step - d1_loss: 0.1988 - d2_loss: 0.2135 - g_loss: 2.9354\n"
          ]
        },
        {
          "output_type": "stream",
          "name": "stderr",
          "text": [
            "WARNING:tensorflow:Compiled the loaded model, but the compiled metrics have yet to be built. `model.compile_metrics` will be empty until you train or evaluate the model.\n",
            "WARNING:tensorflow:Compiled the loaded model, but the compiled metrics have yet to be built. `model.compile_metrics` will be empty until you train or evaluate the model.\n"
          ]
        },
        {
          "output_type": "stream",
          "name": "stdout",
          "text": [
            "1/1 [==============================] - 0s 20ms/step\n",
            "********** TRAINING THE GAN **********\n",
            "7/7 [==============================] - 3s 404ms/step - d1_loss: 0.1986 - d2_loss: 0.2127 - g_loss: 2.8910\n"
          ]
        },
        {
          "output_type": "stream",
          "name": "stderr",
          "text": [
            "WARNING:tensorflow:Compiled the loaded model, but the compiled metrics have yet to be built. `model.compile_metrics` will be empty until you train or evaluate the model.\n",
            "WARNING:tensorflow:Compiled the loaded model, but the compiled metrics have yet to be built. `model.compile_metrics` will be empty until you train or evaluate the model.\n"
          ]
        },
        {
          "output_type": "stream",
          "name": "stdout",
          "text": [
            "1/1 [==============================] - 0s 22ms/step\n",
            "********** TRAINING THE GAN **********\n",
            "7/7 [==============================] - 3s 406ms/step - d1_loss: 0.1987 - d2_loss: 0.2101 - g_loss: 2.9301\n"
          ]
        },
        {
          "output_type": "stream",
          "name": "stderr",
          "text": [
            "WARNING:tensorflow:Compiled the loaded model, but the compiled metrics have yet to be built. `model.compile_metrics` will be empty until you train or evaluate the model.\n",
            "WARNING:tensorflow:Compiled the loaded model, but the compiled metrics have yet to be built. `model.compile_metrics` will be empty until you train or evaluate the model.\n"
          ]
        },
        {
          "output_type": "stream",
          "name": "stdout",
          "text": [
            "1/1 [==============================] - 0s 17ms/step\n",
            "********** TRAINING THE GAN **********\n",
            "7/7 [==============================] - 3s 404ms/step - d1_loss: 0.1989 - d2_loss: 0.2097 - g_loss: 2.9577\n"
          ]
        },
        {
          "output_type": "stream",
          "name": "stderr",
          "text": [
            "WARNING:tensorflow:Compiled the loaded model, but the compiled metrics have yet to be built. `model.compile_metrics` will be empty until you train or evaluate the model.\n",
            "WARNING:tensorflow:Compiled the loaded model, but the compiled metrics have yet to be built. `model.compile_metrics` will be empty until you train or evaluate the model.\n"
          ]
        },
        {
          "output_type": "stream",
          "name": "stdout",
          "text": [
            "1/1 [==============================] - 0s 19ms/step\n",
            "********** TRAINING THE GAN **********\n",
            "7/7 [==============================] - 3s 402ms/step - d1_loss: 0.1987 - d2_loss: 0.2087 - g_loss: 2.9273\n"
          ]
        },
        {
          "output_type": "stream",
          "name": "stderr",
          "text": [
            "WARNING:tensorflow:Compiled the loaded model, but the compiled metrics have yet to be built. `model.compile_metrics` will be empty until you train or evaluate the model.\n",
            "WARNING:tensorflow:Compiled the loaded model, but the compiled metrics have yet to be built. `model.compile_metrics` will be empty until you train or evaluate the model.\n"
          ]
        },
        {
          "output_type": "stream",
          "name": "stdout",
          "text": [
            "1/1 [==============================] - 0s 18ms/step\n",
            "********** TRAINING THE GAN **********\n",
            "7/7 [==============================] - 3s 407ms/step - d1_loss: 0.1987 - d2_loss: 0.2073 - g_loss: 2.9157\n"
          ]
        },
        {
          "output_type": "stream",
          "name": "stderr",
          "text": [
            "WARNING:tensorflow:Compiled the loaded model, but the compiled metrics have yet to be built. `model.compile_metrics` will be empty until you train or evaluate the model.\n",
            "WARNING:tensorflow:Compiled the loaded model, but the compiled metrics have yet to be built. `model.compile_metrics` will be empty until you train or evaluate the model.\n"
          ]
        },
        {
          "output_type": "stream",
          "name": "stdout",
          "text": [
            "1/1 [==============================] - 0s 15ms/step\n",
            "********** TRAINING THE GAN **********\n",
            "7/7 [==============================] - 3s 407ms/step - d1_loss: 0.1986 - d2_loss: 0.2071 - g_loss: 2.9182\n"
          ]
        },
        {
          "output_type": "stream",
          "name": "stderr",
          "text": [
            "WARNING:tensorflow:Compiled the loaded model, but the compiled metrics have yet to be built. `model.compile_metrics` will be empty until you train or evaluate the model.\n",
            "WARNING:tensorflow:Compiled the loaded model, but the compiled metrics have yet to be built. `model.compile_metrics` will be empty until you train or evaluate the model.\n"
          ]
        },
        {
          "output_type": "stream",
          "name": "stdout",
          "text": [
            "1/1 [==============================] - 0s 22ms/step\n",
            "********** TRAINING THE GAN **********\n",
            "7/7 [==============================] - 3s 410ms/step - d1_loss: 0.1989 - d2_loss: 0.2062 - g_loss: 2.9658\n"
          ]
        },
        {
          "output_type": "stream",
          "name": "stderr",
          "text": [
            "WARNING:tensorflow:Compiled the loaded model, but the compiled metrics have yet to be built. `model.compile_metrics` will be empty until you train or evaluate the model.\n",
            "WARNING:tensorflow:Compiled the loaded model, but the compiled metrics have yet to be built. `model.compile_metrics` will be empty until you train or evaluate the model.\n"
          ]
        },
        {
          "output_type": "stream",
          "name": "stdout",
          "text": [
            "1/1 [==============================] - 0s 20ms/step\n",
            "********** TRAINING THE GAN **********\n",
            "7/7 [==============================] - 3s 413ms/step - d1_loss: 0.1989 - d2_loss: 0.2055 - g_loss: 2.9727\n"
          ]
        },
        {
          "output_type": "stream",
          "name": "stderr",
          "text": [
            "WARNING:tensorflow:Compiled the loaded model, but the compiled metrics have yet to be built. `model.compile_metrics` will be empty until you train or evaluate the model.\n",
            "WARNING:tensorflow:Compiled the loaded model, but the compiled metrics have yet to be built. `model.compile_metrics` will be empty until you train or evaluate the model.\n"
          ]
        },
        {
          "output_type": "stream",
          "name": "stdout",
          "text": [
            "1/1 [==============================] - 0s 15ms/step\n",
            "********** TRAINING THE GAN **********\n",
            "7/7 [==============================] - 3s 416ms/step - d1_loss: 0.1988 - d2_loss: 0.2048 - g_loss: 2.9612\n"
          ]
        },
        {
          "output_type": "stream",
          "name": "stderr",
          "text": [
            "WARNING:tensorflow:Compiled the loaded model, but the compiled metrics have yet to be built. `model.compile_metrics` will be empty until you train or evaluate the model.\n",
            "WARNING:tensorflow:Compiled the loaded model, but the compiled metrics have yet to be built. `model.compile_metrics` will be empty until you train or evaluate the model.\n"
          ]
        },
        {
          "output_type": "stream",
          "name": "stdout",
          "text": [
            "1/1 [==============================] - 0s 16ms/step\n",
            "********** TRAINING THE GAN **********\n",
            "7/7 [==============================] - 3s 415ms/step - d1_loss: 0.1996 - d2_loss: 0.2043 - g_loss: 3.0784\n"
          ]
        },
        {
          "output_type": "stream",
          "name": "stderr",
          "text": [
            "WARNING:tensorflow:Compiled the loaded model, but the compiled metrics have yet to be built. `model.compile_metrics` will be empty until you train or evaluate the model.\n",
            "WARNING:tensorflow:Compiled the loaded model, but the compiled metrics have yet to be built. `model.compile_metrics` will be empty until you train or evaluate the model.\n"
          ]
        },
        {
          "output_type": "stream",
          "name": "stdout",
          "text": [
            "1/1 [==============================] - 0s 18ms/step\n",
            "********** TRAINING THE GAN **********\n",
            "7/7 [==============================] - 3s 416ms/step - d1_loss: 0.1992 - d2_loss: 0.2039 - g_loss: 3.0107\n"
          ]
        },
        {
          "output_type": "stream",
          "name": "stderr",
          "text": [
            "WARNING:tensorflow:Compiled the loaded model, but the compiled metrics have yet to be built. `model.compile_metrics` will be empty until you train or evaluate the model.\n",
            "WARNING:tensorflow:Compiled the loaded model, but the compiled metrics have yet to be built. `model.compile_metrics` will be empty until you train or evaluate the model.\n"
          ]
        },
        {
          "output_type": "stream",
          "name": "stdout",
          "text": [
            "1/1 [==============================] - 0s 19ms/step\n",
            "********** TRAINING THE GAN **********\n",
            "7/7 [==============================] - 3s 416ms/step - d1_loss: 0.1989 - d2_loss: 0.2034 - g_loss: 2.9731\n"
          ]
        },
        {
          "output_type": "stream",
          "name": "stderr",
          "text": [
            "WARNING:tensorflow:Compiled the loaded model, but the compiled metrics have yet to be built. `model.compile_metrics` will be empty until you train or evaluate the model.\n",
            "WARNING:tensorflow:Compiled the loaded model, but the compiled metrics have yet to be built. `model.compile_metrics` will be empty until you train or evaluate the model.\n"
          ]
        },
        {
          "output_type": "stream",
          "name": "stdout",
          "text": [
            "1/1 [==============================] - 0s 15ms/step\n",
            "********** TRAINING THE GAN **********\n",
            "7/7 [==============================] - 3s 415ms/step - d1_loss: 0.1991 - d2_loss: 0.2032 - g_loss: 2.9940\n"
          ]
        },
        {
          "output_type": "stream",
          "name": "stderr",
          "text": [
            "WARNING:tensorflow:Compiled the loaded model, but the compiled metrics have yet to be built. `model.compile_metrics` will be empty until you train or evaluate the model.\n",
            "WARNING:tensorflow:Compiled the loaded model, but the compiled metrics have yet to be built. `model.compile_metrics` will be empty until you train or evaluate the model.\n"
          ]
        },
        {
          "output_type": "stream",
          "name": "stdout",
          "text": [
            "1/1 [==============================] - 0s 17ms/step\n",
            "********** TRAINING THE GAN **********\n",
            "7/7 [==============================] - 3s 414ms/step - d1_loss: 0.1994 - d2_loss: 0.2028 - g_loss: 3.0640\n"
          ]
        },
        {
          "output_type": "stream",
          "name": "stderr",
          "text": [
            "WARNING:tensorflow:Compiled the loaded model, but the compiled metrics have yet to be built. `model.compile_metrics` will be empty until you train or evaluate the model.\n",
            "WARNING:tensorflow:Compiled the loaded model, but the compiled metrics have yet to be built. `model.compile_metrics` will be empty until you train or evaluate the model.\n"
          ]
        },
        {
          "output_type": "stream",
          "name": "stdout",
          "text": [
            "1/1 [==============================] - 0s 17ms/step\n",
            "********** TRAINING THE GAN **********\n",
            "7/7 [==============================] - 3s 406ms/step - d1_loss: 0.1999 - d2_loss: 0.2026 - g_loss: 3.1043\n"
          ]
        },
        {
          "output_type": "stream",
          "name": "stderr",
          "text": [
            "WARNING:tensorflow:Compiled the loaded model, but the compiled metrics have yet to be built. `model.compile_metrics` will be empty until you train or evaluate the model.\n",
            "WARNING:tensorflow:Compiled the loaded model, but the compiled metrics have yet to be built. `model.compile_metrics` will be empty until you train or evaluate the model.\n"
          ]
        },
        {
          "output_type": "stream",
          "name": "stdout",
          "text": [
            "1/1 [==============================] - 0s 17ms/step\n",
            "********** TRAINING THE GAN **********\n",
            "7/7 [==============================] - 3s 406ms/step - d1_loss: 0.1997 - d2_loss: 0.2020 - g_loss: 3.0892\n"
          ]
        },
        {
          "output_type": "stream",
          "name": "stderr",
          "text": [
            "WARNING:tensorflow:Compiled the loaded model, but the compiled metrics have yet to be built. `model.compile_metrics` will be empty until you train or evaluate the model.\n",
            "WARNING:tensorflow:Compiled the loaded model, but the compiled metrics have yet to be built. `model.compile_metrics` will be empty until you train or evaluate the model.\n"
          ]
        },
        {
          "output_type": "stream",
          "name": "stdout",
          "text": [
            "1/1 [==============================] - 0s 15ms/step\n",
            "********** TRAINING THE GAN **********\n",
            "7/7 [==============================] - 3s 405ms/step - d1_loss: 0.1996 - d2_loss: 0.2023 - g_loss: 3.0671\n"
          ]
        },
        {
          "output_type": "stream",
          "name": "stderr",
          "text": [
            "WARNING:tensorflow:Compiled the loaded model, but the compiled metrics have yet to be built. `model.compile_metrics` will be empty until you train or evaluate the model.\n",
            "WARNING:tensorflow:Compiled the loaded model, but the compiled metrics have yet to be built. `model.compile_metrics` will be empty until you train or evaluate the model.\n"
          ]
        },
        {
          "output_type": "stream",
          "name": "stdout",
          "text": [
            "1/1 [==============================] - 0s 18ms/step\n",
            "********** TRAINING THE GAN **********\n",
            "7/7 [==============================] - 3s 408ms/step - d1_loss: 0.1999 - d2_loss: 0.2021 - g_loss: 3.1217\n"
          ]
        },
        {
          "output_type": "stream",
          "name": "stderr",
          "text": [
            "WARNING:tensorflow:Compiled the loaded model, but the compiled metrics have yet to be built. `model.compile_metrics` will be empty until you train or evaluate the model.\n",
            "WARNING:tensorflow:Compiled the loaded model, but the compiled metrics have yet to be built. `model.compile_metrics` will be empty until you train or evaluate the model.\n"
          ]
        },
        {
          "output_type": "stream",
          "name": "stdout",
          "text": [
            "1/1 [==============================] - 0s 18ms/step\n",
            "********** TRAINING THE GAN **********\n",
            "7/7 [==============================] - 3s 406ms/step - d1_loss: 0.1996 - d2_loss: 0.2019 - g_loss: 3.0764\n"
          ]
        },
        {
          "output_type": "stream",
          "name": "stderr",
          "text": [
            "WARNING:tensorflow:Compiled the loaded model, but the compiled metrics have yet to be built. `model.compile_metrics` will be empty until you train or evaluate the model.\n",
            "WARNING:tensorflow:Compiled the loaded model, but the compiled metrics have yet to be built. `model.compile_metrics` will be empty until you train or evaluate the model.\n"
          ]
        },
        {
          "output_type": "stream",
          "name": "stdout",
          "text": [
            "1/1 [==============================] - 0s 16ms/step\n",
            "********** TRAINING THE GAN **********\n",
            "7/7 [==============================] - 3s 405ms/step - d1_loss: 0.1997 - d2_loss: 0.2013 - g_loss: 3.0856\n"
          ]
        },
        {
          "output_type": "stream",
          "name": "stderr",
          "text": [
            "WARNING:tensorflow:Compiled the loaded model, but the compiled metrics have yet to be built. `model.compile_metrics` will be empty until you train or evaluate the model.\n",
            "WARNING:tensorflow:Compiled the loaded model, but the compiled metrics have yet to be built. `model.compile_metrics` will be empty until you train or evaluate the model.\n"
          ]
        },
        {
          "output_type": "stream",
          "name": "stdout",
          "text": [
            "1/1 [==============================] - 0s 16ms/step\n",
            "********** TRAINING THE GAN **********\n",
            "7/7 [==============================] - 3s 408ms/step - d1_loss: 0.1995 - d2_loss: 0.2014 - g_loss: 3.0619\n"
          ]
        },
        {
          "output_type": "stream",
          "name": "stderr",
          "text": [
            "WARNING:tensorflow:Compiled the loaded model, but the compiled metrics have yet to be built. `model.compile_metrics` will be empty until you train or evaluate the model.\n",
            "WARNING:tensorflow:Compiled the loaded model, but the compiled metrics have yet to be built. `model.compile_metrics` will be empty until you train or evaluate the model.\n"
          ]
        },
        {
          "output_type": "stream",
          "name": "stdout",
          "text": [
            "1/1 [==============================] - 0s 15ms/step\n",
            "********** TRAINING THE GAN **********\n",
            "7/7 [==============================] - 3s 406ms/step - d1_loss: 0.1995 - d2_loss: 0.2012 - g_loss: 3.0594\n"
          ]
        },
        {
          "output_type": "stream",
          "name": "stderr",
          "text": [
            "WARNING:tensorflow:Compiled the loaded model, but the compiled metrics have yet to be built. `model.compile_metrics` will be empty until you train or evaluate the model.\n",
            "WARNING:tensorflow:Compiled the loaded model, but the compiled metrics have yet to be built. `model.compile_metrics` will be empty until you train or evaluate the model.\n"
          ]
        },
        {
          "output_type": "stream",
          "name": "stdout",
          "text": [
            "1/1 [==============================] - 0s 15ms/step\n",
            "********** TRAINING THE GAN **********\n",
            "7/7 [==============================] - 3s 409ms/step - d1_loss: 0.1995 - d2_loss: 0.2010 - g_loss: 3.0576\n"
          ]
        },
        {
          "output_type": "stream",
          "name": "stderr",
          "text": [
            "WARNING:tensorflow:Compiled the loaded model, but the compiled metrics have yet to be built. `model.compile_metrics` will be empty until you train or evaluate the model.\n",
            "WARNING:tensorflow:Compiled the loaded model, but the compiled metrics have yet to be built. `model.compile_metrics` will be empty until you train or evaluate the model.\n"
          ]
        },
        {
          "output_type": "stream",
          "name": "stdout",
          "text": [
            "1/1 [==============================] - 0s 17ms/step\n",
            "********** TRAINING THE GAN **********\n",
            "7/7 [==============================] - 3s 411ms/step - d1_loss: 0.1995 - d2_loss: 0.2010 - g_loss: 3.0580\n"
          ]
        },
        {
          "output_type": "stream",
          "name": "stderr",
          "text": [
            "WARNING:tensorflow:Compiled the loaded model, but the compiled metrics have yet to be built. `model.compile_metrics` will be empty until you train or evaluate the model.\n",
            "WARNING:tensorflow:Compiled the loaded model, but the compiled metrics have yet to be built. `model.compile_metrics` will be empty until you train or evaluate the model.\n"
          ]
        },
        {
          "output_type": "stream",
          "name": "stdout",
          "text": [
            "1/1 [==============================] - 0s 16ms/step\n",
            "********** TRAINING THE GAN **********\n",
            "7/7 [==============================] - 3s 416ms/step - d1_loss: 0.1996 - d2_loss: 0.2012 - g_loss: 3.0733\n"
          ]
        },
        {
          "output_type": "stream",
          "name": "stderr",
          "text": [
            "WARNING:tensorflow:Compiled the loaded model, but the compiled metrics have yet to be built. `model.compile_metrics` will be empty until you train or evaluate the model.\n",
            "WARNING:tensorflow:Compiled the loaded model, but the compiled metrics have yet to be built. `model.compile_metrics` will be empty until you train or evaluate the model.\n"
          ]
        },
        {
          "output_type": "stream",
          "name": "stdout",
          "text": [
            "1/1 [==============================] - 0s 16ms/step\n",
            "********** TRAINING THE GAN **********\n",
            "7/7 [==============================] - 3s 418ms/step - d1_loss: 0.1998 - d2_loss: 0.2007 - g_loss: 3.1057\n"
          ]
        },
        {
          "output_type": "stream",
          "name": "stderr",
          "text": [
            "WARNING:tensorflow:Compiled the loaded model, but the compiled metrics have yet to be built. `model.compile_metrics` will be empty until you train or evaluate the model.\n",
            "WARNING:tensorflow:Compiled the loaded model, but the compiled metrics have yet to be built. `model.compile_metrics` will be empty until you train or evaluate the model.\n"
          ]
        },
        {
          "output_type": "stream",
          "name": "stdout",
          "text": [
            "1/1 [==============================] - 0s 16ms/step\n",
            "********** TRAINING THE GAN **********\n",
            "7/7 [==============================] - 3s 418ms/step - d1_loss: 0.1990 - d2_loss: 0.2007 - g_loss: 2.9850\n"
          ]
        },
        {
          "output_type": "stream",
          "name": "stderr",
          "text": [
            "WARNING:tensorflow:Compiled the loaded model, but the compiled metrics have yet to be built. `model.compile_metrics` will be empty until you train or evaluate the model.\n",
            "WARNING:tensorflow:Compiled the loaded model, but the compiled metrics have yet to be built. `model.compile_metrics` will be empty until you train or evaluate the model.\n"
          ]
        },
        {
          "output_type": "stream",
          "name": "stdout",
          "text": [
            "1/1 [==============================] - 0s 22ms/step\n",
            "********** TRAINING THE GAN **********\n",
            "7/7 [==============================] - 3s 419ms/step - d1_loss: 0.1986 - d2_loss: 0.2003 - g_loss: 2.8925\n"
          ]
        },
        {
          "output_type": "stream",
          "name": "stderr",
          "text": [
            "WARNING:tensorflow:Compiled the loaded model, but the compiled metrics have yet to be built. `model.compile_metrics` will be empty until you train or evaluate the model.\n",
            "WARNING:tensorflow:Compiled the loaded model, but the compiled metrics have yet to be built. `model.compile_metrics` will be empty until you train or evaluate the model.\n"
          ]
        },
        {
          "output_type": "stream",
          "name": "stdout",
          "text": [
            "1/1 [==============================] - 0s 17ms/step\n",
            "********** TRAINING THE GAN **********\n",
            "7/7 [==============================] - 3s 415ms/step - d1_loss: 0.1991 - d2_loss: 0.2003 - g_loss: 2.7198\n"
          ]
        },
        {
          "output_type": "stream",
          "name": "stderr",
          "text": [
            "WARNING:tensorflow:Compiled the loaded model, but the compiled metrics have yet to be built. `model.compile_metrics` will be empty until you train or evaluate the model.\n",
            "WARNING:tensorflow:Compiled the loaded model, but the compiled metrics have yet to be built. `model.compile_metrics` will be empty until you train or evaluate the model.\n"
          ]
        },
        {
          "output_type": "stream",
          "name": "stdout",
          "text": [
            "1/1 [==============================] - 0s 28ms/step\n",
            "********** TRAINING THE GAN **********\n",
            "7/7 [==============================] - 3s 413ms/step - d1_loss: 0.1988 - d2_loss: 0.2017 - g_loss: 2.7924\n"
          ]
        },
        {
          "output_type": "stream",
          "name": "stderr",
          "text": [
            "WARNING:tensorflow:Compiled the loaded model, but the compiled metrics have yet to be built. `model.compile_metrics` will be empty until you train or evaluate the model.\n",
            "WARNING:tensorflow:Compiled the loaded model, but the compiled metrics have yet to be built. `model.compile_metrics` will be empty until you train or evaluate the model.\n"
          ]
        },
        {
          "output_type": "stream",
          "name": "stdout",
          "text": [
            "1/1 [==============================] - 0s 16ms/step\n",
            "********** TRAINING THE GAN **********\n",
            "7/7 [==============================] - 3s 411ms/step - d1_loss: 0.2000 - d2_loss: 0.2002 - g_loss: 3.1149\n"
          ]
        },
        {
          "output_type": "stream",
          "name": "stderr",
          "text": [
            "WARNING:tensorflow:Compiled the loaded model, but the compiled metrics have yet to be built. `model.compile_metrics` will be empty until you train or evaluate the model.\n",
            "WARNING:tensorflow:Compiled the loaded model, but the compiled metrics have yet to be built. `model.compile_metrics` will be empty until you train or evaluate the model.\n"
          ]
        },
        {
          "output_type": "stream",
          "name": "stdout",
          "text": [
            "1/1 [==============================] - 0s 16ms/step\n",
            "********** TRAINING THE GAN **********\n",
            "7/7 [==============================] - 3s 408ms/step - d1_loss: 0.2012 - d2_loss: 0.2020 - g_loss: 3.2384\n"
          ]
        },
        {
          "output_type": "stream",
          "name": "stderr",
          "text": [
            "WARNING:tensorflow:Compiled the loaded model, but the compiled metrics have yet to be built. `model.compile_metrics` will be empty until you train or evaluate the model.\n",
            "WARNING:tensorflow:Compiled the loaded model, but the compiled metrics have yet to be built. `model.compile_metrics` will be empty until you train or evaluate the model.\n"
          ]
        },
        {
          "output_type": "stream",
          "name": "stdout",
          "text": [
            "1/1 [==============================] - 0s 15ms/step\n",
            "********** TRAINING THE GAN **********\n",
            "7/7 [==============================] - 3s 404ms/step - d1_loss: 0.2000 - d2_loss: 0.2005 - g_loss: 3.1188\n"
          ]
        },
        {
          "output_type": "stream",
          "name": "stderr",
          "text": [
            "WARNING:tensorflow:Compiled the loaded model, but the compiled metrics have yet to be built. `model.compile_metrics` will be empty until you train or evaluate the model.\n",
            "WARNING:tensorflow:Compiled the loaded model, but the compiled metrics have yet to be built. `model.compile_metrics` will be empty until you train or evaluate the model.\n"
          ]
        },
        {
          "output_type": "stream",
          "name": "stdout",
          "text": [
            "1/1 [==============================] - 0s 15ms/step\n",
            "********** TRAINING THE GAN **********\n",
            "7/7 [==============================] - 3s 404ms/step - d1_loss: 0.1991 - d2_loss: 0.2006 - g_loss: 2.9980\n"
          ]
        },
        {
          "output_type": "stream",
          "name": "stderr",
          "text": [
            "WARNING:tensorflow:Compiled the loaded model, but the compiled metrics have yet to be built. `model.compile_metrics` will be empty until you train or evaluate the model.\n",
            "WARNING:tensorflow:Compiled the loaded model, but the compiled metrics have yet to be built. `model.compile_metrics` will be empty until you train or evaluate the model.\n"
          ]
        },
        {
          "output_type": "stream",
          "name": "stdout",
          "text": [
            "1/1 [==============================] - 0s 15ms/step\n",
            "********** TRAINING THE GAN **********\n",
            "7/7 [==============================] - 3s 404ms/step - d1_loss: 0.1987 - d2_loss: 0.2001 - g_loss: 2.8929\n"
          ]
        },
        {
          "output_type": "stream",
          "name": "stderr",
          "text": [
            "WARNING:tensorflow:Compiled the loaded model, but the compiled metrics have yet to be built. `model.compile_metrics` will be empty until you train or evaluate the model.\n",
            "WARNING:tensorflow:Compiled the loaded model, but the compiled metrics have yet to be built. `model.compile_metrics` will be empty until you train or evaluate the model.\n"
          ]
        },
        {
          "output_type": "stream",
          "name": "stdout",
          "text": [
            "1/1 [==============================] - 0s 17ms/step\n",
            "********** TRAINING THE GAN **********\n",
            "7/7 [==============================] - 3s 408ms/step - d1_loss: 0.2000 - d2_loss: 0.2011 - g_loss: 2.6584\n"
          ]
        },
        {
          "output_type": "stream",
          "name": "stderr",
          "text": [
            "WARNING:tensorflow:Compiled the loaded model, but the compiled metrics have yet to be built. `model.compile_metrics` will be empty until you train or evaluate the model.\n",
            "WARNING:tensorflow:Compiled the loaded model, but the compiled metrics have yet to be built. `model.compile_metrics` will be empty until you train or evaluate the model.\n"
          ]
        },
        {
          "output_type": "stream",
          "name": "stdout",
          "text": [
            "1/1 [==============================] - 0s 17ms/step\n",
            "********** TRAINING THE GAN **********\n",
            "7/7 [==============================] - 3s 409ms/step - d1_loss: 0.2009 - d2_loss: 0.2031 - g_loss: 2.6426\n"
          ]
        },
        {
          "output_type": "stream",
          "name": "stderr",
          "text": [
            "WARNING:tensorflow:Compiled the loaded model, but the compiled metrics have yet to be built. `model.compile_metrics` will be empty until you train or evaluate the model.\n",
            "WARNING:tensorflow:Compiled the loaded model, but the compiled metrics have yet to be built. `model.compile_metrics` will be empty until you train or evaluate the model.\n"
          ]
        },
        {
          "output_type": "stream",
          "name": "stdout",
          "text": [
            "1/1 [==============================] - 0s 16ms/step\n",
            "********** TRAINING THE GAN **********\n",
            "7/7 [==============================] - 3s 409ms/step - d1_loss: 0.1988 - d2_loss: 0.2004 - g_loss: 2.8999\n"
          ]
        },
        {
          "output_type": "stream",
          "name": "stderr",
          "text": [
            "WARNING:tensorflow:Compiled the loaded model, but the compiled metrics have yet to be built. `model.compile_metrics` will be empty until you train or evaluate the model.\n",
            "WARNING:tensorflow:Compiled the loaded model, but the compiled metrics have yet to be built. `model.compile_metrics` will be empty until you train or evaluate the model.\n"
          ]
        },
        {
          "output_type": "stream",
          "name": "stdout",
          "text": [
            "1/1 [==============================] - 0s 20ms/step\n",
            "********** TRAINING THE GAN **********\n",
            "7/7 [==============================] - 3s 412ms/step - d1_loss: 0.2001 - d2_loss: 0.2014 - g_loss: 3.1224\n"
          ]
        },
        {
          "output_type": "stream",
          "name": "stderr",
          "text": [
            "WARNING:tensorflow:Compiled the loaded model, but the compiled metrics have yet to be built. `model.compile_metrics` will be empty until you train or evaluate the model.\n",
            "WARNING:tensorflow:Compiled the loaded model, but the compiled metrics have yet to be built. `model.compile_metrics` will be empty until you train or evaluate the model.\n"
          ]
        },
        {
          "output_type": "stream",
          "name": "stdout",
          "text": [
            "1/1 [==============================] - 0s 16ms/step\n",
            "********** TRAINING THE GAN **********\n",
            "7/7 [==============================] - 3s 415ms/step - d1_loss: 0.2000 - d2_loss: 0.2002 - g_loss: 3.1210\n"
          ]
        },
        {
          "output_type": "stream",
          "name": "stderr",
          "text": [
            "WARNING:tensorflow:Compiled the loaded model, but the compiled metrics have yet to be built. `model.compile_metrics` will be empty until you train or evaluate the model.\n",
            "WARNING:tensorflow:Compiled the loaded model, but the compiled metrics have yet to be built. `model.compile_metrics` will be empty until you train or evaluate the model.\n"
          ]
        },
        {
          "output_type": "stream",
          "name": "stdout",
          "text": [
            "1/1 [==============================] - 0s 16ms/step\n",
            "********** TRAINING THE GAN **********\n",
            "7/7 [==============================] - 3s 415ms/step - d1_loss: 0.1996 - d2_loss: 0.2011 - g_loss: 3.0511\n"
          ]
        },
        {
          "output_type": "stream",
          "name": "stderr",
          "text": [
            "WARNING:tensorflow:Compiled the loaded model, but the compiled metrics have yet to be built. `model.compile_metrics` will be empty until you train or evaluate the model.\n",
            "WARNING:tensorflow:Compiled the loaded model, but the compiled metrics have yet to be built. `model.compile_metrics` will be empty until you train or evaluate the model.\n"
          ]
        },
        {
          "output_type": "stream",
          "name": "stdout",
          "text": [
            "1/1 [==============================] - 0s 17ms/step\n",
            "********** TRAINING THE GAN **********\n",
            "7/7 [==============================] - 3s 404ms/step - d1_loss: 0.1985 - d2_loss: 0.1994 - g_loss: 2.8346\n"
          ]
        },
        {
          "output_type": "stream",
          "name": "stderr",
          "text": [
            "WARNING:tensorflow:Compiled the loaded model, but the compiled metrics have yet to be built. `model.compile_metrics` will be empty until you train or evaluate the model.\n",
            "WARNING:tensorflow:Compiled the loaded model, but the compiled metrics have yet to be built. `model.compile_metrics` will be empty until you train or evaluate the model.\n"
          ]
        },
        {
          "output_type": "stream",
          "name": "stdout",
          "text": [
            "1/1 [==============================] - 0s 16ms/step\n",
            "********** TRAINING THE GAN **********\n",
            "7/7 [==============================] - 3s 406ms/step - d1_loss: 0.1993 - d2_loss: 0.2000 - g_loss: 3.0324\n"
          ]
        },
        {
          "output_type": "stream",
          "name": "stderr",
          "text": [
            "WARNING:tensorflow:Compiled the loaded model, but the compiled metrics have yet to be built. `model.compile_metrics` will be empty until you train or evaluate the model.\n",
            "WARNING:tensorflow:Compiled the loaded model, but the compiled metrics have yet to be built. `model.compile_metrics` will be empty until you train or evaluate the model.\n"
          ]
        },
        {
          "output_type": "stream",
          "name": "stdout",
          "text": [
            "1/1 [==============================] - 0s 16ms/step\n",
            "********** TRAINING THE GAN **********\n",
            "7/7 [==============================] - 3s 405ms/step - d1_loss: 0.1995 - d2_loss: 0.2008 - g_loss: 3.0570\n"
          ]
        },
        {
          "output_type": "stream",
          "name": "stderr",
          "text": [
            "WARNING:tensorflow:Compiled the loaded model, but the compiled metrics have yet to be built. `model.compile_metrics` will be empty until you train or evaluate the model.\n",
            "WARNING:tensorflow:Compiled the loaded model, but the compiled metrics have yet to be built. `model.compile_metrics` will be empty until you train or evaluate the model.\n"
          ]
        },
        {
          "output_type": "stream",
          "name": "stdout",
          "text": [
            "1/1 [==============================] - 0s 17ms/step\n",
            "********** TRAINING THE GAN **********\n",
            "7/7 [==============================] - 3s 409ms/step - d1_loss: 0.2008 - d2_loss: 0.2006 - g_loss: 3.2243\n"
          ]
        },
        {
          "output_type": "stream",
          "name": "stderr",
          "text": [
            "WARNING:tensorflow:Compiled the loaded model, but the compiled metrics have yet to be built. `model.compile_metrics` will be empty until you train or evaluate the model.\n",
            "WARNING:tensorflow:Compiled the loaded model, but the compiled metrics have yet to be built. `model.compile_metrics` will be empty until you train or evaluate the model.\n"
          ]
        },
        {
          "output_type": "stream",
          "name": "stdout",
          "text": [
            "1/1 [==============================] - 0s 18ms/step\n",
            "********** TRAINING THE GAN **********\n",
            "7/7 [==============================] - 3s 411ms/step - d1_loss: 0.2000 - d2_loss: 0.2002 - g_loss: 3.1013\n"
          ]
        },
        {
          "output_type": "stream",
          "name": "stderr",
          "text": [
            "WARNING:tensorflow:Compiled the loaded model, but the compiled metrics have yet to be built. `model.compile_metrics` will be empty until you train or evaluate the model.\n",
            "WARNING:tensorflow:Compiled the loaded model, but the compiled metrics have yet to be built. `model.compile_metrics` will be empty until you train or evaluate the model.\n"
          ]
        },
        {
          "output_type": "stream",
          "name": "stdout",
          "text": [
            "1/1 [==============================] - 0s 19ms/step\n",
            "********** TRAINING THE GAN **********\n",
            "7/7 [==============================] - 3s 413ms/step - d1_loss: 0.1989 - d2_loss: 0.1998 - g_loss: 2.9049\n"
          ]
        },
        {
          "output_type": "stream",
          "name": "stderr",
          "text": [
            "WARNING:tensorflow:Compiled the loaded model, but the compiled metrics have yet to be built. `model.compile_metrics` will be empty until you train or evaluate the model.\n",
            "WARNING:tensorflow:Compiled the loaded model, but the compiled metrics have yet to be built. `model.compile_metrics` will be empty until you train or evaluate the model.\n"
          ]
        },
        {
          "output_type": "stream",
          "name": "stdout",
          "text": [
            "1/1 [==============================] - 0s 20ms/step\n",
            "********** TRAINING THE GAN **********\n",
            "7/7 [==============================] - 3s 415ms/step - d1_loss: 0.1998 - d2_loss: 0.1996 - g_loss: 2.6695\n"
          ]
        },
        {
          "output_type": "stream",
          "name": "stderr",
          "text": [
            "WARNING:tensorflow:Compiled the loaded model, but the compiled metrics have yet to be built. `model.compile_metrics` will be empty until you train or evaluate the model.\n",
            "WARNING:tensorflow:Compiled the loaded model, but the compiled metrics have yet to be built. `model.compile_metrics` will be empty until you train or evaluate the model.\n"
          ]
        },
        {
          "output_type": "stream",
          "name": "stdout",
          "text": [
            "1/1 [==============================] - 0s 15ms/step\n",
            "********** TRAINING THE GAN **********\n",
            "7/7 [==============================] - 3s 415ms/step - d1_loss: 0.1996 - d2_loss: 0.2011 - g_loss: 2.6915\n"
          ]
        },
        {
          "output_type": "stream",
          "name": "stderr",
          "text": [
            "WARNING:tensorflow:Compiled the loaded model, but the compiled metrics have yet to be built. `model.compile_metrics` will be empty until you train or evaluate the model.\n",
            "WARNING:tensorflow:Compiled the loaded model, but the compiled metrics have yet to be built. `model.compile_metrics` will be empty until you train or evaluate the model.\n"
          ]
        },
        {
          "output_type": "stream",
          "name": "stdout",
          "text": [
            "1/1 [==============================] - 0s 16ms/step\n",
            "********** TRAINING THE GAN **********\n",
            "7/7 [==============================] - 3s 416ms/step - d1_loss: 0.1987 - d2_loss: 0.2006 - g_loss: 2.8034\n"
          ]
        },
        {
          "output_type": "stream",
          "name": "stderr",
          "text": [
            "WARNING:tensorflow:Compiled the loaded model, but the compiled metrics have yet to be built. `model.compile_metrics` will be empty until you train or evaluate the model.\n",
            "WARNING:tensorflow:Compiled the loaded model, but the compiled metrics have yet to be built. `model.compile_metrics` will be empty until you train or evaluate the model.\n"
          ]
        },
        {
          "output_type": "stream",
          "name": "stdout",
          "text": [
            "1/1 [==============================] - 0s 17ms/step\n",
            "********** TRAINING THE GAN **********\n",
            "7/7 [==============================] - 3s 410ms/step - d1_loss: 0.2008 - d2_loss: 0.2000 - g_loss: 3.2086\n"
          ]
        },
        {
          "output_type": "stream",
          "name": "stderr",
          "text": [
            "WARNING:tensorflow:Compiled the loaded model, but the compiled metrics have yet to be built. `model.compile_metrics` will be empty until you train or evaluate the model.\n",
            "WARNING:tensorflow:Compiled the loaded model, but the compiled metrics have yet to be built. `model.compile_metrics` will be empty until you train or evaluate the model.\n"
          ]
        },
        {
          "output_type": "stream",
          "name": "stdout",
          "text": [
            "1/1 [==============================] - 0s 18ms/step\n",
            "********** TRAINING THE GAN **********\n",
            "7/7 [==============================] - 3s 411ms/step - d1_loss: 0.1989 - d2_loss: 0.2015 - g_loss: 2.9374\n"
          ]
        },
        {
          "output_type": "stream",
          "name": "stderr",
          "text": [
            "WARNING:tensorflow:Compiled the loaded model, but the compiled metrics have yet to be built. `model.compile_metrics` will be empty until you train or evaluate the model.\n",
            "WARNING:tensorflow:Compiled the loaded model, but the compiled metrics have yet to be built. `model.compile_metrics` will be empty until you train or evaluate the model.\n"
          ]
        },
        {
          "output_type": "stream",
          "name": "stdout",
          "text": [
            "1/1 [==============================] - 0s 15ms/step\n",
            "********** TRAINING THE GAN **********\n",
            "7/7 [==============================] - 3s 409ms/step - d1_loss: 0.1988 - d2_loss: 0.1998 - g_loss: 2.8726\n"
          ]
        },
        {
          "output_type": "stream",
          "name": "stderr",
          "text": [
            "WARNING:tensorflow:Compiled the loaded model, but the compiled metrics have yet to be built. `model.compile_metrics` will be empty until you train or evaluate the model.\n",
            "WARNING:tensorflow:Compiled the loaded model, but the compiled metrics have yet to be built. `model.compile_metrics` will be empty until you train or evaluate the model.\n"
          ]
        },
        {
          "output_type": "stream",
          "name": "stdout",
          "text": [
            "1/1 [==============================] - 0s 24ms/step\n",
            "********** TRAINING THE GAN **********\n",
            "7/7 [==============================] - 3s 411ms/step - d1_loss: 0.1999 - d2_loss: 0.2003 - g_loss: 3.1032\n"
          ]
        },
        {
          "output_type": "stream",
          "name": "stderr",
          "text": [
            "WARNING:tensorflow:Compiled the loaded model, but the compiled metrics have yet to be built. `model.compile_metrics` will be empty until you train or evaluate the model.\n",
            "WARNING:tensorflow:Compiled the loaded model, but the compiled metrics have yet to be built. `model.compile_metrics` will be empty until you train or evaluate the model.\n"
          ]
        },
        {
          "output_type": "stream",
          "name": "stdout",
          "text": [
            "1/1 [==============================] - 0s 16ms/step\n",
            "********** TRAINING THE GAN **********\n",
            "7/7 [==============================] - 3s 411ms/step - d1_loss: 0.1994 - d2_loss: 0.1999 - g_loss: 2.7331\n"
          ]
        },
        {
          "output_type": "stream",
          "name": "stderr",
          "text": [
            "WARNING:tensorflow:Compiled the loaded model, but the compiled metrics have yet to be built. `model.compile_metrics` will be empty until you train or evaluate the model.\n",
            "WARNING:tensorflow:Compiled the loaded model, but the compiled metrics have yet to be built. `model.compile_metrics` will be empty until you train or evaluate the model.\n"
          ]
        },
        {
          "output_type": "stream",
          "name": "stdout",
          "text": [
            "1/1 [==============================] - 0s 22ms/step\n",
            "********** TRAINING THE GAN **********\n",
            "7/7 [==============================] - 3s 411ms/step - d1_loss: 0.1991 - d2_loss: 0.2012 - g_loss: 2.7829\n"
          ]
        },
        {
          "output_type": "stream",
          "name": "stderr",
          "text": [
            "WARNING:tensorflow:Compiled the loaded model, but the compiled metrics have yet to be built. `model.compile_metrics` will be empty until you train or evaluate the model.\n",
            "WARNING:tensorflow:Compiled the loaded model, but the compiled metrics have yet to be built. `model.compile_metrics` will be empty until you train or evaluate the model.\n"
          ]
        },
        {
          "output_type": "stream",
          "name": "stdout",
          "text": [
            "1/1 [==============================] - 0s 17ms/step\n",
            "********** TRAINING THE GAN **********\n",
            "7/7 [==============================] - 3s 410ms/step - d1_loss: 0.1991 - d2_loss: 0.1993 - g_loss: 2.9966\n"
          ]
        },
        {
          "output_type": "stream",
          "name": "stderr",
          "text": [
            "WARNING:tensorflow:Compiled the loaded model, but the compiled metrics have yet to be built. `model.compile_metrics` will be empty until you train or evaluate the model.\n",
            "WARNING:tensorflow:Compiled the loaded model, but the compiled metrics have yet to be built. `model.compile_metrics` will be empty until you train or evaluate the model.\n"
          ]
        },
        {
          "output_type": "stream",
          "name": "stdout",
          "text": [
            "1/1 [==============================] - 0s 17ms/step\n",
            "********** TRAINING THE GAN **********\n",
            "7/7 [==============================] - 3s 407ms/step - d1_loss: 0.1991 - d2_loss: 0.2006 - g_loss: 2.9782\n"
          ]
        },
        {
          "output_type": "stream",
          "name": "stderr",
          "text": [
            "WARNING:tensorflow:Compiled the loaded model, but the compiled metrics have yet to be built. `model.compile_metrics` will be empty until you train or evaluate the model.\n",
            "WARNING:tensorflow:Compiled the loaded model, but the compiled metrics have yet to be built. `model.compile_metrics` will be empty until you train or evaluate the model.\n"
          ]
        },
        {
          "output_type": "stream",
          "name": "stdout",
          "text": [
            "1/1 [==============================] - 0s 16ms/step\n",
            "********** TRAINING THE GAN **********\n",
            "7/7 [==============================] - 3s 406ms/step - d1_loss: 0.1991 - d2_loss: 0.1998 - g_loss: 2.7691\n"
          ]
        },
        {
          "output_type": "stream",
          "name": "stderr",
          "text": [
            "WARNING:tensorflow:Compiled the loaded model, but the compiled metrics have yet to be built. `model.compile_metrics` will be empty until you train or evaluate the model.\n",
            "WARNING:tensorflow:Compiled the loaded model, but the compiled metrics have yet to be built. `model.compile_metrics` will be empty until you train or evaluate the model.\n"
          ]
        },
        {
          "output_type": "stream",
          "name": "stdout",
          "text": [
            "1/1 [==============================] - 0s 16ms/step\n",
            "********** TRAINING THE GAN **********\n",
            "7/7 [==============================] - 3s 407ms/step - d1_loss: 0.2013 - d2_loss: 0.2004 - g_loss: 3.2243\n"
          ]
        },
        {
          "output_type": "stream",
          "name": "stderr",
          "text": [
            "WARNING:tensorflow:Compiled the loaded model, but the compiled metrics have yet to be built. `model.compile_metrics` will be empty until you train or evaluate the model.\n",
            "WARNING:tensorflow:Compiled the loaded model, but the compiled metrics have yet to be built. `model.compile_metrics` will be empty until you train or evaluate the model.\n"
          ]
        },
        {
          "output_type": "stream",
          "name": "stdout",
          "text": [
            "1/1 [==============================] - 0s 18ms/step\n",
            "********** TRAINING THE GAN **********\n",
            "7/7 [==============================] - 3s 408ms/step - d1_loss: 0.2012 - d2_loss: 0.2005 - g_loss: 3.1249\n"
          ]
        },
        {
          "output_type": "stream",
          "name": "stderr",
          "text": [
            "WARNING:tensorflow:Compiled the loaded model, but the compiled metrics have yet to be built. `model.compile_metrics` will be empty until you train or evaluate the model.\n",
            "WARNING:tensorflow:Compiled the loaded model, but the compiled metrics have yet to be built. `model.compile_metrics` will be empty until you train or evaluate the model.\n"
          ]
        },
        {
          "output_type": "stream",
          "name": "stdout",
          "text": [
            "1/1 [==============================] - 0s 16ms/step\n",
            "********** TRAINING THE GAN **********\n",
            "7/7 [==============================] - 3s 408ms/step - d1_loss: 0.2003 - d2_loss: 0.1991 - g_loss: 2.8218\n"
          ]
        },
        {
          "output_type": "stream",
          "name": "stderr",
          "text": [
            "WARNING:tensorflow:Compiled the loaded model, but the compiled metrics have yet to be built. `model.compile_metrics` will be empty until you train or evaluate the model.\n",
            "WARNING:tensorflow:Compiled the loaded model, but the compiled metrics have yet to be built. `model.compile_metrics` will be empty until you train or evaluate the model.\n"
          ]
        },
        {
          "output_type": "stream",
          "name": "stdout",
          "text": [
            "1/1 [==============================] - 0s 16ms/step\n",
            "********** TRAINING THE GAN **********\n",
            "7/7 [==============================] - 3s 411ms/step - d1_loss: 0.2047 - d2_loss: 0.2014 - g_loss: 2.6341\n"
          ]
        },
        {
          "output_type": "stream",
          "name": "stderr",
          "text": [
            "WARNING:tensorflow:Compiled the loaded model, but the compiled metrics have yet to be built. `model.compile_metrics` will be empty until you train or evaluate the model.\n",
            "WARNING:tensorflow:Compiled the loaded model, but the compiled metrics have yet to be built. `model.compile_metrics` will be empty until you train or evaluate the model.\n"
          ]
        },
        {
          "output_type": "stream",
          "name": "stdout",
          "text": [
            "1/1 [==============================] - 0s 30ms/step\n",
            "********** TRAINING THE GAN **********\n",
            "7/7 [==============================] - 3s 413ms/step - d1_loss: 0.2042 - d2_loss: 0.2020 - g_loss: 2.6838\n"
          ]
        },
        {
          "output_type": "stream",
          "name": "stderr",
          "text": [
            "WARNING:tensorflow:Compiled the loaded model, but the compiled metrics have yet to be built. `model.compile_metrics` will be empty until you train or evaluate the model.\n",
            "WARNING:tensorflow:Compiled the loaded model, but the compiled metrics have yet to be built. `model.compile_metrics` will be empty until you train or evaluate the model.\n"
          ]
        },
        {
          "output_type": "stream",
          "name": "stdout",
          "text": [
            "1/1 [==============================] - 0s 18ms/step\n",
            "********** TRAINING THE GAN **********\n",
            "7/7 [==============================] - 3s 413ms/step - d1_loss: 0.3225 - d2_loss: 0.3483 - g_loss: 3.8080\n"
          ]
        },
        {
          "output_type": "stream",
          "name": "stderr",
          "text": [
            "WARNING:tensorflow:Compiled the loaded model, but the compiled metrics have yet to be built. `model.compile_metrics` will be empty until you train or evaluate the model.\n",
            "WARNING:tensorflow:Compiled the loaded model, but the compiled metrics have yet to be built. `model.compile_metrics` will be empty until you train or evaluate the model.\n"
          ]
        },
        {
          "output_type": "stream",
          "name": "stdout",
          "text": [
            "1/1 [==============================] - 0s 15ms/step\n",
            "********** TRAINING THE GAN **********\n",
            "7/7 [==============================] - 3s 415ms/step - d1_loss: 0.2477 - d2_loss: 0.2934 - g_loss: 2.4978\n"
          ]
        },
        {
          "output_type": "stream",
          "name": "stderr",
          "text": [
            "WARNING:tensorflow:Compiled the loaded model, but the compiled metrics have yet to be built. `model.compile_metrics` will be empty until you train or evaluate the model.\n",
            "WARNING:tensorflow:Compiled the loaded model, but the compiled metrics have yet to be built. `model.compile_metrics` will be empty until you train or evaluate the model.\n"
          ]
        },
        {
          "output_type": "stream",
          "name": "stdout",
          "text": [
            "1/1 [==============================] - 0s 15ms/step\n",
            "********** TRAINING THE GAN **********\n",
            "7/7 [==============================] - 3s 414ms/step - d1_loss: 0.2528 - d2_loss: 0.2655 - g_loss: 2.9077\n"
          ]
        },
        {
          "output_type": "stream",
          "name": "stderr",
          "text": [
            "WARNING:tensorflow:Compiled the loaded model, but the compiled metrics have yet to be built. `model.compile_metrics` will be empty until you train or evaluate the model.\n",
            "WARNING:tensorflow:Compiled the loaded model, but the compiled metrics have yet to be built. `model.compile_metrics` will be empty until you train or evaluate the model.\n"
          ]
        },
        {
          "output_type": "stream",
          "name": "stdout",
          "text": [
            "1/1 [==============================] - 0s 18ms/step\n",
            "********** TRAINING THE GAN **********\n",
            "7/7 [==============================] - 3s 416ms/step - d1_loss: 0.2360 - d2_loss: 0.2351 - g_loss: 3.2407\n"
          ]
        },
        {
          "output_type": "stream",
          "name": "stderr",
          "text": [
            "WARNING:tensorflow:Compiled the loaded model, but the compiled metrics have yet to be built. `model.compile_metrics` will be empty until you train or evaluate the model.\n",
            "WARNING:tensorflow:Compiled the loaded model, but the compiled metrics have yet to be built. `model.compile_metrics` will be empty until you train or evaluate the model.\n"
          ]
        },
        {
          "output_type": "stream",
          "name": "stdout",
          "text": [
            "1/1 [==============================] - 0s 17ms/step\n",
            "********** TRAINING THE GAN **********\n",
            "7/7 [==============================] - 3s 418ms/step - d1_loss: 0.2288 - d2_loss: 0.2263 - g_loss: 3.0163\n"
          ]
        },
        {
          "output_type": "stream",
          "name": "stderr",
          "text": [
            "WARNING:tensorflow:Compiled the loaded model, but the compiled metrics have yet to be built. `model.compile_metrics` will be empty until you train or evaluate the model.\n",
            "WARNING:tensorflow:Compiled the loaded model, but the compiled metrics have yet to be built. `model.compile_metrics` will be empty until you train or evaluate the model.\n"
          ]
        },
        {
          "output_type": "stream",
          "name": "stdout",
          "text": [
            "1/1 [==============================] - 0s 23ms/step\n",
            "********** TRAINING THE GAN **********\n",
            "7/7 [==============================] - 3s 420ms/step - d1_loss: 0.2182 - d2_loss: 0.2224 - g_loss: 3.0902\n"
          ]
        },
        {
          "output_type": "stream",
          "name": "stderr",
          "text": [
            "WARNING:tensorflow:Compiled the loaded model, but the compiled metrics have yet to be built. `model.compile_metrics` will be empty until you train or evaluate the model.\n",
            "WARNING:tensorflow:Compiled the loaded model, but the compiled metrics have yet to be built. `model.compile_metrics` will be empty until you train or evaluate the model.\n"
          ]
        },
        {
          "output_type": "stream",
          "name": "stdout",
          "text": [
            "1/1 [==============================] - 0s 17ms/step\n",
            "********** TRAINING THE GAN **********\n",
            "7/7 [==============================] - 3s 419ms/step - d1_loss: 0.2141 - d2_loss: 0.2217 - g_loss: 3.1830\n"
          ]
        },
        {
          "output_type": "stream",
          "name": "stderr",
          "text": [
            "WARNING:tensorflow:Compiled the loaded model, but the compiled metrics have yet to be built. `model.compile_metrics` will be empty until you train or evaluate the model.\n",
            "WARNING:tensorflow:Compiled the loaded model, but the compiled metrics have yet to be built. `model.compile_metrics` will be empty until you train or evaluate the model.\n"
          ]
        },
        {
          "output_type": "stream",
          "name": "stdout",
          "text": [
            "1/1 [==============================] - 0s 19ms/step\n",
            "********** TRAINING THE GAN **********\n",
            "7/7 [==============================] - 3s 415ms/step - d1_loss: 0.2057 - d2_loss: 0.2162 - g_loss: 3.1550\n"
          ]
        },
        {
          "output_type": "stream",
          "name": "stderr",
          "text": [
            "WARNING:tensorflow:Compiled the loaded model, but the compiled metrics have yet to be built. `model.compile_metrics` will be empty until you train or evaluate the model.\n",
            "WARNING:tensorflow:Compiled the loaded model, but the compiled metrics have yet to be built. `model.compile_metrics` will be empty until you train or evaluate the model.\n"
          ]
        },
        {
          "output_type": "stream",
          "name": "stdout",
          "text": [
            "1/1 [==============================] - 0s 15ms/step\n",
            "********** TRAINING THE GAN **********\n",
            "7/7 [==============================] - 3s 414ms/step - d1_loss: 0.2101 - d2_loss: 0.2231 - g_loss: 3.3108\n"
          ]
        },
        {
          "output_type": "stream",
          "name": "stderr",
          "text": [
            "WARNING:tensorflow:Compiled the loaded model, but the compiled metrics have yet to be built. `model.compile_metrics` will be empty until you train or evaluate the model.\n",
            "WARNING:tensorflow:Compiled the loaded model, but the compiled metrics have yet to be built. `model.compile_metrics` will be empty until you train or evaluate the model.\n"
          ]
        },
        {
          "output_type": "stream",
          "name": "stdout",
          "text": [
            "1/1 [==============================] - 0s 16ms/step\n",
            "********** TRAINING THE GAN **********\n",
            "7/7 [==============================] - 3s 414ms/step - d1_loss: 0.2068 - d2_loss: 0.2364 - g_loss: 3.1898\n"
          ]
        },
        {
          "output_type": "stream",
          "name": "stderr",
          "text": [
            "WARNING:tensorflow:Compiled the loaded model, but the compiled metrics have yet to be built. `model.compile_metrics` will be empty until you train or evaluate the model.\n",
            "WARNING:tensorflow:Compiled the loaded model, but the compiled metrics have yet to be built. `model.compile_metrics` will be empty until you train or evaluate the model.\n"
          ]
        },
        {
          "output_type": "stream",
          "name": "stdout",
          "text": [
            "1/1 [==============================] - 0s 19ms/step\n",
            "********** TRAINING THE GAN **********\n",
            "7/7 [==============================] - 3s 412ms/step - d1_loss: 0.2047 - d2_loss: 0.2168 - g_loss: 3.1393\n"
          ]
        },
        {
          "output_type": "stream",
          "name": "stderr",
          "text": [
            "WARNING:tensorflow:Compiled the loaded model, but the compiled metrics have yet to be built. `model.compile_metrics` will be empty until you train or evaluate the model.\n",
            "WARNING:tensorflow:Compiled the loaded model, but the compiled metrics have yet to be built. `model.compile_metrics` will be empty until you train or evaluate the model.\n"
          ]
        },
        {
          "output_type": "stream",
          "name": "stdout",
          "text": [
            "1/1 [==============================] - 0s 15ms/step\n",
            "********** TRAINING THE GAN **********\n",
            "7/7 [==============================] - 3s 412ms/step - d1_loss: 0.2123 - d2_loss: 0.2110 - g_loss: 3.2783\n"
          ]
        },
        {
          "output_type": "stream",
          "name": "stderr",
          "text": [
            "WARNING:tensorflow:Compiled the loaded model, but the compiled metrics have yet to be built. `model.compile_metrics` will be empty until you train or evaluate the model.\n",
            "WARNING:tensorflow:Compiled the loaded model, but the compiled metrics have yet to be built. `model.compile_metrics` will be empty until you train or evaluate the model.\n"
          ]
        },
        {
          "output_type": "stream",
          "name": "stdout",
          "text": [
            "1/1 [==============================] - 0s 21ms/step\n",
            "********** TRAINING THE GAN **********\n",
            "7/7 [==============================] - 3s 414ms/step - d1_loss: 0.2232 - d2_loss: 0.2215 - g_loss: 3.3774\n"
          ]
        },
        {
          "output_type": "stream",
          "name": "stderr",
          "text": [
            "WARNING:tensorflow:Compiled the loaded model, but the compiled metrics have yet to be built. `model.compile_metrics` will be empty until you train or evaluate the model.\n",
            "WARNING:tensorflow:Compiled the loaded model, but the compiled metrics have yet to be built. `model.compile_metrics` will be empty until you train or evaluate the model.\n"
          ]
        },
        {
          "output_type": "stream",
          "name": "stdout",
          "text": [
            "1/1 [==============================] - 0s 26ms/step\n",
            "********** TRAINING THE GAN **********\n",
            "7/7 [==============================] - 3s 412ms/step - d1_loss: 0.2117 - d2_loss: 0.2165 - g_loss: 3.1755\n"
          ]
        },
        {
          "output_type": "stream",
          "name": "stderr",
          "text": [
            "WARNING:tensorflow:Compiled the loaded model, but the compiled metrics have yet to be built. `model.compile_metrics` will be empty until you train or evaluate the model.\n",
            "WARNING:tensorflow:Compiled the loaded model, but the compiled metrics have yet to be built. `model.compile_metrics` will be empty until you train or evaluate the model.\n"
          ]
        },
        {
          "output_type": "stream",
          "name": "stdout",
          "text": [
            "1/1 [==============================] - 0s 16ms/step\n",
            "********** TRAINING THE GAN **********\n",
            "7/7 [==============================] - 3s 411ms/step - d1_loss: 0.2144 - d2_loss: 0.2124 - g_loss: 3.1256\n"
          ]
        },
        {
          "output_type": "stream",
          "name": "stderr",
          "text": [
            "WARNING:tensorflow:Compiled the loaded model, but the compiled metrics have yet to be built. `model.compile_metrics` will be empty until you train or evaluate the model.\n",
            "WARNING:tensorflow:Compiled the loaded model, but the compiled metrics have yet to be built. `model.compile_metrics` will be empty until you train or evaluate the model.\n"
          ]
        },
        {
          "output_type": "stream",
          "name": "stdout",
          "text": [
            "1/1 [==============================] - 0s 19ms/step\n",
            "********** TRAINING THE GAN **********\n",
            "7/7 [==============================] - 3s 412ms/step - d1_loss: 0.2136 - d2_loss: 0.2087 - g_loss: 3.0853\n"
          ]
        },
        {
          "output_type": "stream",
          "name": "stderr",
          "text": [
            "WARNING:tensorflow:Compiled the loaded model, but the compiled metrics have yet to be built. `model.compile_metrics` will be empty until you train or evaluate the model.\n",
            "WARNING:tensorflow:Compiled the loaded model, but the compiled metrics have yet to be built. `model.compile_metrics` will be empty until you train or evaluate the model.\n"
          ]
        },
        {
          "output_type": "stream",
          "name": "stdout",
          "text": [
            "1/1 [==============================] - 0s 16ms/step\n",
            "********** TRAINING THE GAN **********\n",
            "7/7 [==============================] - 3s 415ms/step - d1_loss: 0.2157 - d2_loss: 0.2160 - g_loss: 3.1607\n"
          ]
        },
        {
          "output_type": "stream",
          "name": "stderr",
          "text": [
            "WARNING:tensorflow:Compiled the loaded model, but the compiled metrics have yet to be built. `model.compile_metrics` will be empty until you train or evaluate the model.\n",
            "WARNING:tensorflow:Compiled the loaded model, but the compiled metrics have yet to be built. `model.compile_metrics` will be empty until you train or evaluate the model.\n"
          ]
        },
        {
          "output_type": "stream",
          "name": "stdout",
          "text": [
            "1/1 [==============================] - 0s 16ms/step\n",
            "********** TRAINING THE GAN **********\n",
            "7/7 [==============================] - 3s 414ms/step - d1_loss: 0.2153 - d2_loss: 0.2500 - g_loss: 3.0790\n"
          ]
        },
        {
          "output_type": "stream",
          "name": "stderr",
          "text": [
            "WARNING:tensorflow:Compiled the loaded model, but the compiled metrics have yet to be built. `model.compile_metrics` will be empty until you train or evaluate the model.\n",
            "WARNING:tensorflow:Compiled the loaded model, but the compiled metrics have yet to be built. `model.compile_metrics` will be empty until you train or evaluate the model.\n"
          ]
        },
        {
          "output_type": "stream",
          "name": "stdout",
          "text": [
            "1/1 [==============================] - 0s 16ms/step\n",
            "********** TRAINING THE GAN **********\n",
            "7/7 [==============================] - 3s 418ms/step - d1_loss: 0.2279 - d2_loss: 0.2170 - g_loss: 3.4869\n"
          ]
        },
        {
          "output_type": "stream",
          "name": "stderr",
          "text": [
            "WARNING:tensorflow:Compiled the loaded model, but the compiled metrics have yet to be built. `model.compile_metrics` will be empty until you train or evaluate the model.\n",
            "WARNING:tensorflow:Compiled the loaded model, but the compiled metrics have yet to be built. `model.compile_metrics` will be empty until you train or evaluate the model.\n"
          ]
        },
        {
          "output_type": "stream",
          "name": "stdout",
          "text": [
            "1/1 [==============================] - 0s 16ms/step\n",
            "********** TRAINING THE GAN **********\n",
            "7/7 [==============================] - 3s 422ms/step - d1_loss: 0.2133 - d2_loss: 0.2080 - g_loss: 3.1694\n"
          ]
        },
        {
          "output_type": "stream",
          "name": "stderr",
          "text": [
            "WARNING:tensorflow:Compiled the loaded model, but the compiled metrics have yet to be built. `model.compile_metrics` will be empty until you train or evaluate the model.\n",
            "WARNING:tensorflow:Compiled the loaded model, but the compiled metrics have yet to be built. `model.compile_metrics` will be empty until you train or evaluate the model.\n"
          ]
        },
        {
          "output_type": "stream",
          "name": "stdout",
          "text": [
            "1/1 [==============================] - 0s 17ms/step\n",
            "********** TRAINING THE GAN **********\n",
            "7/7 [==============================] - 3s 422ms/step - d1_loss: 0.2141 - d2_loss: 0.2086 - g_loss: 3.1147\n"
          ]
        },
        {
          "output_type": "stream",
          "name": "stderr",
          "text": [
            "WARNING:tensorflow:Compiled the loaded model, but the compiled metrics have yet to be built. `model.compile_metrics` will be empty until you train or evaluate the model.\n",
            "WARNING:tensorflow:Compiled the loaded model, but the compiled metrics have yet to be built. `model.compile_metrics` will be empty until you train or evaluate the model.\n"
          ]
        },
        {
          "output_type": "stream",
          "name": "stdout",
          "text": [
            "1/1 [==============================] - 0s 16ms/step\n",
            "********** TRAINING THE GAN **********\n",
            "7/7 [==============================] - 3s 414ms/step - d1_loss: 0.2199 - d2_loss: 0.2089 - g_loss: 3.1720\n"
          ]
        },
        {
          "output_type": "stream",
          "name": "stderr",
          "text": [
            "WARNING:tensorflow:Compiled the loaded model, but the compiled metrics have yet to be built. `model.compile_metrics` will be empty until you train or evaluate the model.\n",
            "WARNING:tensorflow:Compiled the loaded model, but the compiled metrics have yet to be built. `model.compile_metrics` will be empty until you train or evaluate the model.\n"
          ]
        },
        {
          "output_type": "stream",
          "name": "stdout",
          "text": [
            "1/1 [==============================] - 0s 16ms/step\n",
            "********** TRAINING THE GAN **********\n",
            "7/7 [==============================] - 3s 415ms/step - d1_loss: 0.2198 - d2_loss: 0.2080 - g_loss: 3.1664\n"
          ]
        },
        {
          "output_type": "stream",
          "name": "stderr",
          "text": [
            "WARNING:tensorflow:Compiled the loaded model, but the compiled metrics have yet to be built. `model.compile_metrics` will be empty until you train or evaluate the model.\n",
            "WARNING:tensorflow:Compiled the loaded model, but the compiled metrics have yet to be built. `model.compile_metrics` will be empty until you train or evaluate the model.\n"
          ]
        },
        {
          "output_type": "stream",
          "name": "stdout",
          "text": [
            "1/1 [==============================] - 0s 18ms/step\n",
            "********** TRAINING THE GAN **********\n",
            "7/7 [==============================] - 3s 415ms/step - d1_loss: 0.2223 - d2_loss: 0.2073 - g_loss: 3.0955\n"
          ]
        },
        {
          "output_type": "stream",
          "name": "stderr",
          "text": [
            "WARNING:tensorflow:Compiled the loaded model, but the compiled metrics have yet to be built. `model.compile_metrics` will be empty until you train or evaluate the model.\n",
            "WARNING:tensorflow:Compiled the loaded model, but the compiled metrics have yet to be built. `model.compile_metrics` will be empty until you train or evaluate the model.\n"
          ]
        },
        {
          "output_type": "stream",
          "name": "stdout",
          "text": [
            "1/1 [==============================] - 0s 18ms/step\n",
            "********** TRAINING THE GAN **********\n",
            "7/7 [==============================] - 3s 415ms/step - d1_loss: 0.2129 - d2_loss: 0.2071 - g_loss: 3.0603\n"
          ]
        },
        {
          "output_type": "stream",
          "name": "stderr",
          "text": [
            "WARNING:tensorflow:Compiled the loaded model, but the compiled metrics have yet to be built. `model.compile_metrics` will be empty until you train or evaluate the model.\n",
            "WARNING:tensorflow:Compiled the loaded model, but the compiled metrics have yet to be built. `model.compile_metrics` will be empty until you train or evaluate the model.\n"
          ]
        },
        {
          "output_type": "stream",
          "name": "stdout",
          "text": [
            "1/1 [==============================] - 0s 16ms/step\n",
            "********** TRAINING THE GAN **********\n",
            "7/7 [==============================] - 3s 411ms/step - d1_loss: 0.2149 - d2_loss: 0.2082 - g_loss: 2.9694\n"
          ]
        },
        {
          "output_type": "stream",
          "name": "stderr",
          "text": [
            "WARNING:tensorflow:Compiled the loaded model, but the compiled metrics have yet to be built. `model.compile_metrics` will be empty until you train or evaluate the model.\n",
            "WARNING:tensorflow:Compiled the loaded model, but the compiled metrics have yet to be built. `model.compile_metrics` will be empty until you train or evaluate the model.\n"
          ]
        },
        {
          "output_type": "stream",
          "name": "stdout",
          "text": [
            "1/1 [==============================] - 0s 15ms/step\n",
            "********** TRAINING THE GAN **********\n",
            "7/7 [==============================] - 3s 411ms/step - d1_loss: 0.2221 - d2_loss: 0.2079 - g_loss: 3.0108\n"
          ]
        },
        {
          "output_type": "stream",
          "name": "stderr",
          "text": [
            "WARNING:tensorflow:Compiled the loaded model, but the compiled metrics have yet to be built. `model.compile_metrics` will be empty until you train or evaluate the model.\n",
            "WARNING:tensorflow:Compiled the loaded model, but the compiled metrics have yet to be built. `model.compile_metrics` will be empty until you train or evaluate the model.\n"
          ]
        },
        {
          "output_type": "stream",
          "name": "stdout",
          "text": [
            "1/1 [==============================] - 0s 23ms/step\n",
            "********** TRAINING THE GAN **********\n",
            "7/7 [==============================] - 3s 411ms/step - d1_loss: 0.2200 - d2_loss: 0.2093 - g_loss: 3.1867\n"
          ]
        },
        {
          "output_type": "stream",
          "name": "stderr",
          "text": [
            "WARNING:tensorflow:Compiled the loaded model, but the compiled metrics have yet to be built. `model.compile_metrics` will be empty until you train or evaluate the model.\n",
            "WARNING:tensorflow:Compiled the loaded model, but the compiled metrics have yet to be built. `model.compile_metrics` will be empty until you train or evaluate the model.\n"
          ]
        },
        {
          "output_type": "stream",
          "name": "stdout",
          "text": [
            "1/1 [==============================] - 0s 18ms/step\n",
            "********** TRAINING THE GAN **********\n",
            "7/7 [==============================] - 3s 410ms/step - d1_loss: 0.2106 - d2_loss: 0.2141 - g_loss: 2.8776\n"
          ]
        },
        {
          "output_type": "stream",
          "name": "stderr",
          "text": [
            "WARNING:tensorflow:Compiled the loaded model, but the compiled metrics have yet to be built. `model.compile_metrics` will be empty until you train or evaluate the model.\n",
            "WARNING:tensorflow:Compiled the loaded model, but the compiled metrics have yet to be built. `model.compile_metrics` will be empty until you train or evaluate the model.\n"
          ]
        },
        {
          "output_type": "stream",
          "name": "stdout",
          "text": [
            "1/1 [==============================] - 0s 16ms/step\n",
            "********** TRAINING THE GAN **********\n",
            "7/7 [==============================] - 3s 416ms/step - d1_loss: 0.2241 - d2_loss: 0.2092 - g_loss: 3.2308\n"
          ]
        },
        {
          "output_type": "stream",
          "name": "stderr",
          "text": [
            "WARNING:tensorflow:Compiled the loaded model, but the compiled metrics have yet to be built. `model.compile_metrics` will be empty until you train or evaluate the model.\n",
            "WARNING:tensorflow:Compiled the loaded model, but the compiled metrics have yet to be built. `model.compile_metrics` will be empty until you train or evaluate the model.\n"
          ]
        },
        {
          "output_type": "stream",
          "name": "stdout",
          "text": [
            "1/1 [==============================] - 0s 16ms/step\n",
            "********** TRAINING THE GAN **********\n",
            "7/7 [==============================] - 3s 415ms/step - d1_loss: 0.2190 - d2_loss: 0.2097 - g_loss: 3.0569\n"
          ]
        },
        {
          "output_type": "stream",
          "name": "stderr",
          "text": [
            "WARNING:tensorflow:Compiled the loaded model, but the compiled metrics have yet to be built. `model.compile_metrics` will be empty until you train or evaluate the model.\n",
            "WARNING:tensorflow:Compiled the loaded model, but the compiled metrics have yet to be built. `model.compile_metrics` will be empty until you train or evaluate the model.\n"
          ]
        },
        {
          "output_type": "stream",
          "name": "stdout",
          "text": [
            "1/1 [==============================] - 0s 17ms/step\n",
            "********** TRAINING THE GAN **********\n",
            "7/7 [==============================] - 3s 417ms/step - d1_loss: 0.2143 - d2_loss: 0.2070 - g_loss: 3.0320\n"
          ]
        },
        {
          "output_type": "stream",
          "name": "stderr",
          "text": [
            "WARNING:tensorflow:Compiled the loaded model, but the compiled metrics have yet to be built. `model.compile_metrics` will be empty until you train or evaluate the model.\n",
            "WARNING:tensorflow:Compiled the loaded model, but the compiled metrics have yet to be built. `model.compile_metrics` will be empty until you train or evaluate the model.\n"
          ]
        },
        {
          "output_type": "stream",
          "name": "stdout",
          "text": [
            "1/1 [==============================] - 0s 18ms/step\n",
            "********** TRAINING THE GAN **********\n",
            "7/7 [==============================] - 3s 420ms/step - d1_loss: 0.2133 - d2_loss: 0.2070 - g_loss: 3.0092\n"
          ]
        },
        {
          "output_type": "stream",
          "name": "stderr",
          "text": [
            "WARNING:tensorflow:Compiled the loaded model, but the compiled metrics have yet to be built. `model.compile_metrics` will be empty until you train or evaluate the model.\n",
            "WARNING:tensorflow:Compiled the loaded model, but the compiled metrics have yet to be built. `model.compile_metrics` will be empty until you train or evaluate the model.\n"
          ]
        },
        {
          "output_type": "stream",
          "name": "stdout",
          "text": [
            "1/1 [==============================] - 0s 18ms/step\n",
            "********** TRAINING THE GAN **********\n",
            "7/7 [==============================] - 3s 415ms/step - d1_loss: 0.2173 - d2_loss: 0.2063 - g_loss: 2.9256\n"
          ]
        },
        {
          "output_type": "stream",
          "name": "stderr",
          "text": [
            "WARNING:tensorflow:Compiled the loaded model, but the compiled metrics have yet to be built. `model.compile_metrics` will be empty until you train or evaluate the model.\n",
            "WARNING:tensorflow:Compiled the loaded model, but the compiled metrics have yet to be built. `model.compile_metrics` will be empty until you train or evaluate the model.\n"
          ]
        },
        {
          "output_type": "stream",
          "name": "stdout",
          "text": [
            "1/1 [==============================] - 0s 15ms/step\n",
            "********** TRAINING THE GAN **********\n",
            "7/7 [==============================] - 3s 416ms/step - d1_loss: 0.2155 - d2_loss: 0.2061 - g_loss: 2.9858\n"
          ]
        },
        {
          "output_type": "stream",
          "name": "stderr",
          "text": [
            "WARNING:tensorflow:Compiled the loaded model, but the compiled metrics have yet to be built. `model.compile_metrics` will be empty until you train or evaluate the model.\n",
            "WARNING:tensorflow:Compiled the loaded model, but the compiled metrics have yet to be built. `model.compile_metrics` will be empty until you train or evaluate the model.\n"
          ]
        },
        {
          "output_type": "stream",
          "name": "stdout",
          "text": [
            "1/1 [==============================] - 0s 18ms/step\n",
            "********** TRAINING THE GAN **********\n",
            "7/7 [==============================] - 3s 415ms/step - d1_loss: 0.2182 - d2_loss: 0.2065 - g_loss: 3.0116\n"
          ]
        },
        {
          "output_type": "stream",
          "name": "stderr",
          "text": [
            "WARNING:tensorflow:Compiled the loaded model, but the compiled metrics have yet to be built. `model.compile_metrics` will be empty until you train or evaluate the model.\n",
            "WARNING:tensorflow:Compiled the loaded model, but the compiled metrics have yet to be built. `model.compile_metrics` will be empty until you train or evaluate the model.\n"
          ]
        },
        {
          "output_type": "stream",
          "name": "stdout",
          "text": [
            "1/1 [==============================] - 0s 16ms/step\n",
            "********** TRAINING THE GAN **********\n",
            "7/7 [==============================] - 3s 415ms/step - d1_loss: 0.2285 - d2_loss: 0.2122 - g_loss: 3.1047\n"
          ]
        },
        {
          "output_type": "stream",
          "name": "stderr",
          "text": [
            "WARNING:tensorflow:Compiled the loaded model, but the compiled metrics have yet to be built. `model.compile_metrics` will be empty until you train or evaluate the model.\n",
            "WARNING:tensorflow:Compiled the loaded model, but the compiled metrics have yet to be built. `model.compile_metrics` will be empty until you train or evaluate the model.\n"
          ]
        },
        {
          "output_type": "stream",
          "name": "stdout",
          "text": [
            "1/1 [==============================] - 0s 16ms/step\n",
            "********** TRAINING THE GAN **********\n",
            "7/7 [==============================] - 3s 414ms/step - d1_loss: 0.2167 - d2_loss: 0.2078 - g_loss: 2.9718\n"
          ]
        },
        {
          "output_type": "stream",
          "name": "stderr",
          "text": [
            "WARNING:tensorflow:Compiled the loaded model, but the compiled metrics have yet to be built. `model.compile_metrics` will be empty until you train or evaluate the model.\n",
            "WARNING:tensorflow:Compiled the loaded model, but the compiled metrics have yet to be built. `model.compile_metrics` will be empty until you train or evaluate the model.\n"
          ]
        },
        {
          "output_type": "stream",
          "name": "stdout",
          "text": [
            "1/1 [==============================] - 0s 16ms/step\n",
            "********** TRAINING THE GAN **********\n",
            "7/7 [==============================] - 3s 413ms/step - d1_loss: 0.2177 - d2_loss: 0.2080 - g_loss: 2.9273\n"
          ]
        },
        {
          "output_type": "stream",
          "name": "stderr",
          "text": [
            "WARNING:tensorflow:Compiled the loaded model, but the compiled metrics have yet to be built. `model.compile_metrics` will be empty until you train or evaluate the model.\n",
            "WARNING:tensorflow:Compiled the loaded model, but the compiled metrics have yet to be built. `model.compile_metrics` will be empty until you train or evaluate the model.\n"
          ]
        },
        {
          "output_type": "stream",
          "name": "stdout",
          "text": [
            "1/1 [==============================] - 0s 17ms/step\n",
            "********** TRAINING THE GAN **********\n",
            "7/7 [==============================] - 3s 417ms/step - d1_loss: 0.2106 - d2_loss: 0.2079 - g_loss: 2.8559\n"
          ]
        },
        {
          "output_type": "stream",
          "name": "stderr",
          "text": [
            "WARNING:tensorflow:Compiled the loaded model, but the compiled metrics have yet to be built. `model.compile_metrics` will be empty until you train or evaluate the model.\n",
            "WARNING:tensorflow:Compiled the loaded model, but the compiled metrics have yet to be built. `model.compile_metrics` will be empty until you train or evaluate the model.\n"
          ]
        },
        {
          "output_type": "stream",
          "name": "stdout",
          "text": [
            "1/1 [==============================] - 0s 18ms/step\n",
            "********** TRAINING THE GAN **********\n",
            "7/7 [==============================] - 3s 417ms/step - d1_loss: 0.2143 - d2_loss: 0.2061 - g_loss: 2.8896\n"
          ]
        },
        {
          "output_type": "stream",
          "name": "stderr",
          "text": [
            "WARNING:tensorflow:Compiled the loaded model, but the compiled metrics have yet to be built. `model.compile_metrics` will be empty until you train or evaluate the model.\n",
            "WARNING:tensorflow:Compiled the loaded model, but the compiled metrics have yet to be built. `model.compile_metrics` will be empty until you train or evaluate the model.\n"
          ]
        },
        {
          "output_type": "stream",
          "name": "stdout",
          "text": [
            "1/1 [==============================] - 0s 19ms/step\n",
            "********** TRAINING THE GAN **********\n",
            "7/7 [==============================] - 3s 415ms/step - d1_loss: 0.2174 - d2_loss: 0.2103 - g_loss: 2.9315\n"
          ]
        },
        {
          "output_type": "stream",
          "name": "stderr",
          "text": [
            "WARNING:tensorflow:Compiled the loaded model, but the compiled metrics have yet to be built. `model.compile_metrics` will be empty until you train or evaluate the model.\n",
            "WARNING:tensorflow:Compiled the loaded model, but the compiled metrics have yet to be built. `model.compile_metrics` will be empty until you train or evaluate the model.\n"
          ]
        },
        {
          "output_type": "stream",
          "name": "stdout",
          "text": [
            "1/1 [==============================] - 0s 16ms/step\n",
            "********** TRAINING THE GAN **********\n",
            "7/7 [==============================] - 3s 414ms/step - d1_loss: 0.2143 - d2_loss: 0.2044 - g_loss: 2.9051\n"
          ]
        },
        {
          "output_type": "stream",
          "name": "stderr",
          "text": [
            "WARNING:tensorflow:Compiled the loaded model, but the compiled metrics have yet to be built. `model.compile_metrics` will be empty until you train or evaluate the model.\n",
            "WARNING:tensorflow:Compiled the loaded model, but the compiled metrics have yet to be built. `model.compile_metrics` will be empty until you train or evaluate the model.\n"
          ]
        },
        {
          "output_type": "stream",
          "name": "stdout",
          "text": [
            "1/1 [==============================] - 0s 16ms/step\n",
            "********** TRAINING THE GAN **********\n",
            "7/7 [==============================] - 3s 416ms/step - d1_loss: 0.2125 - d2_loss: 0.2062 - g_loss: 2.9250\n"
          ]
        },
        {
          "output_type": "stream",
          "name": "stderr",
          "text": [
            "WARNING:tensorflow:Compiled the loaded model, but the compiled metrics have yet to be built. `model.compile_metrics` will be empty until you train or evaluate the model.\n",
            "WARNING:tensorflow:Compiled the loaded model, but the compiled metrics have yet to be built. `model.compile_metrics` will be empty until you train or evaluate the model.\n"
          ]
        },
        {
          "output_type": "stream",
          "name": "stdout",
          "text": [
            "1/1 [==============================] - 0s 17ms/step\n",
            "********** TRAINING THE GAN **********\n",
            "7/7 [==============================] - 3s 419ms/step - d1_loss: 0.2252 - d2_loss: 0.2093 - g_loss: 3.0129\n"
          ]
        },
        {
          "output_type": "stream",
          "name": "stderr",
          "text": [
            "WARNING:tensorflow:Compiled the loaded model, but the compiled metrics have yet to be built. `model.compile_metrics` will be empty until you train or evaluate the model.\n",
            "WARNING:tensorflow:Compiled the loaded model, but the compiled metrics have yet to be built. `model.compile_metrics` will be empty until you train or evaluate the model.\n"
          ]
        },
        {
          "output_type": "stream",
          "name": "stdout",
          "text": [
            "1/1 [==============================] - 0s 15ms/step\n",
            "********** TRAINING THE GAN **********\n",
            "7/7 [==============================] - 3s 420ms/step - d1_loss: 0.2198 - d2_loss: 0.2076 - g_loss: 2.9230\n"
          ]
        },
        {
          "output_type": "stream",
          "name": "stderr",
          "text": [
            "WARNING:tensorflow:Compiled the loaded model, but the compiled metrics have yet to be built. `model.compile_metrics` will be empty until you train or evaluate the model.\n",
            "WARNING:tensorflow:Compiled the loaded model, but the compiled metrics have yet to be built. `model.compile_metrics` will be empty until you train or evaluate the model.\n"
          ]
        },
        {
          "output_type": "stream",
          "name": "stdout",
          "text": [
            "1/1 [==============================] - 0s 20ms/step\n",
            "********** TRAINING THE GAN **********\n",
            "7/7 [==============================] - 3s 418ms/step - d1_loss: 0.2103 - d2_loss: 0.2053 - g_loss: 2.8386\n"
          ]
        },
        {
          "output_type": "stream",
          "name": "stderr",
          "text": [
            "WARNING:tensorflow:Compiled the loaded model, but the compiled metrics have yet to be built. `model.compile_metrics` will be empty until you train or evaluate the model.\n",
            "WARNING:tensorflow:Compiled the loaded model, but the compiled metrics have yet to be built. `model.compile_metrics` will be empty until you train or evaluate the model.\n"
          ]
        },
        {
          "output_type": "stream",
          "name": "stdout",
          "text": [
            "1/1 [==============================] - 0s 16ms/step\n",
            "********** TRAINING THE GAN **********\n",
            "7/7 [==============================] - 4s 416ms/step - d1_loss: 0.2138 - d2_loss: 0.2073 - g_loss: 2.8589\n"
          ]
        },
        {
          "output_type": "stream",
          "name": "stderr",
          "text": [
            "WARNING:tensorflow:Compiled the loaded model, but the compiled metrics have yet to be built. `model.compile_metrics` will be empty until you train or evaluate the model.\n",
            "WARNING:tensorflow:Compiled the loaded model, but the compiled metrics have yet to be built. `model.compile_metrics` will be empty until you train or evaluate the model.\n"
          ]
        },
        {
          "output_type": "stream",
          "name": "stdout",
          "text": [
            "1/1 [==============================] - 0s 16ms/step\n",
            "********** TRAINING THE GAN **********\n",
            "7/7 [==============================] - 3s 411ms/step - d1_loss: 0.2134 - d2_loss: 0.2056 - g_loss: 2.8654\n"
          ]
        },
        {
          "output_type": "stream",
          "name": "stderr",
          "text": [
            "WARNING:tensorflow:Compiled the loaded model, but the compiled metrics have yet to be built. `model.compile_metrics` will be empty until you train or evaluate the model.\n",
            "WARNING:tensorflow:Compiled the loaded model, but the compiled metrics have yet to be built. `model.compile_metrics` will be empty until you train or evaluate the model.\n"
          ]
        },
        {
          "output_type": "stream",
          "name": "stdout",
          "text": [
            "1/1 [==============================] - 0s 16ms/step\n",
            "********** TRAINING THE GAN **********\n",
            "7/7 [==============================] - 3s 409ms/step - d1_loss: 0.2070 - d2_loss: 0.2068 - g_loss: 2.8831\n"
          ]
        },
        {
          "output_type": "stream",
          "name": "stderr",
          "text": [
            "WARNING:tensorflow:Compiled the loaded model, but the compiled metrics have yet to be built. `model.compile_metrics` will be empty until you train or evaluate the model.\n",
            "WARNING:tensorflow:Compiled the loaded model, but the compiled metrics have yet to be built. `model.compile_metrics` will be empty until you train or evaluate the model.\n"
          ]
        },
        {
          "output_type": "stream",
          "name": "stdout",
          "text": [
            "1/1 [==============================] - 0s 19ms/step\n",
            "********** TRAINING THE GAN **********\n",
            "7/7 [==============================] - 3s 411ms/step - d1_loss: 0.2091 - d2_loss: 0.2076 - g_loss: 2.9516\n"
          ]
        },
        {
          "output_type": "stream",
          "name": "stderr",
          "text": [
            "WARNING:tensorflow:Compiled the loaded model, but the compiled metrics have yet to be built. `model.compile_metrics` will be empty until you train or evaluate the model.\n",
            "WARNING:tensorflow:Compiled the loaded model, but the compiled metrics have yet to be built. `model.compile_metrics` will be empty until you train or evaluate the model.\n"
          ]
        },
        {
          "output_type": "stream",
          "name": "stdout",
          "text": [
            "1/1 [==============================] - 0s 15ms/step\n",
            "********** TRAINING THE GAN **********\n",
            "7/7 [==============================] - 3s 413ms/step - d1_loss: 0.2087 - d2_loss: 0.2079 - g_loss: 2.9449\n"
          ]
        },
        {
          "output_type": "stream",
          "name": "stderr",
          "text": [
            "WARNING:tensorflow:Compiled the loaded model, but the compiled metrics have yet to be built. `model.compile_metrics` will be empty until you train or evaluate the model.\n",
            "WARNING:tensorflow:Compiled the loaded model, but the compiled metrics have yet to be built. `model.compile_metrics` will be empty until you train or evaluate the model.\n"
          ]
        },
        {
          "output_type": "stream",
          "name": "stdout",
          "text": [
            "1/1 [==============================] - 0s 16ms/step\n",
            "********** TRAINING THE GAN **********\n",
            "7/7 [==============================] - 3s 415ms/step - d1_loss: 0.2140 - d2_loss: 0.2062 - g_loss: 2.9141\n"
          ]
        },
        {
          "output_type": "stream",
          "name": "stderr",
          "text": [
            "WARNING:tensorflow:Compiled the loaded model, but the compiled metrics have yet to be built. `model.compile_metrics` will be empty until you train or evaluate the model.\n",
            "WARNING:tensorflow:Compiled the loaded model, but the compiled metrics have yet to be built. `model.compile_metrics` will be empty until you train or evaluate the model.\n"
          ]
        },
        {
          "output_type": "stream",
          "name": "stdout",
          "text": [
            "1/1 [==============================] - 0s 17ms/step\n",
            "********** TRAINING THE GAN **********\n",
            "7/7 [==============================] - 3s 415ms/step - d1_loss: 0.2124 - d2_loss: 0.2055 - g_loss: 2.8540\n"
          ]
        },
        {
          "output_type": "stream",
          "name": "stderr",
          "text": [
            "WARNING:tensorflow:Compiled the loaded model, but the compiled metrics have yet to be built. `model.compile_metrics` will be empty until you train or evaluate the model.\n",
            "WARNING:tensorflow:Compiled the loaded model, but the compiled metrics have yet to be built. `model.compile_metrics` will be empty until you train or evaluate the model.\n"
          ]
        },
        {
          "output_type": "stream",
          "name": "stdout",
          "text": [
            "1/1 [==============================] - 0s 15ms/step\n",
            "********** TRAINING THE GAN **********\n",
            "7/7 [==============================] - 3s 417ms/step - d1_loss: 0.2109 - d2_loss: 0.2049 - g_loss: 2.8491\n"
          ]
        },
        {
          "output_type": "stream",
          "name": "stderr",
          "text": [
            "WARNING:tensorflow:Compiled the loaded model, but the compiled metrics have yet to be built. `model.compile_metrics` will be empty until you train or evaluate the model.\n",
            "WARNING:tensorflow:Compiled the loaded model, but the compiled metrics have yet to be built. `model.compile_metrics` will be empty until you train or evaluate the model.\n"
          ]
        },
        {
          "output_type": "stream",
          "name": "stdout",
          "text": [
            "1/1 [==============================] - 0s 17ms/step\n",
            "********** TRAINING THE GAN **********\n",
            "7/7 [==============================] - 3s 420ms/step - d1_loss: 0.2198 - d2_loss: 0.2082 - g_loss: 2.9237\n"
          ]
        },
        {
          "output_type": "stream",
          "name": "stderr",
          "text": [
            "WARNING:tensorflow:Compiled the loaded model, but the compiled metrics have yet to be built. `model.compile_metrics` will be empty until you train or evaluate the model.\n",
            "WARNING:tensorflow:Compiled the loaded model, but the compiled metrics have yet to be built. `model.compile_metrics` will be empty until you train or evaluate the model.\n"
          ]
        },
        {
          "output_type": "stream",
          "name": "stdout",
          "text": [
            "1/1 [==============================] - 0s 17ms/step\n",
            "********** TRAINING THE GAN **********\n",
            "7/7 [==============================] - 3s 418ms/step - d1_loss: 0.2274 - d2_loss: 0.2078 - g_loss: 2.8688\n"
          ]
        },
        {
          "output_type": "stream",
          "name": "stderr",
          "text": [
            "WARNING:tensorflow:Compiled the loaded model, but the compiled metrics have yet to be built. `model.compile_metrics` will be empty until you train or evaluate the model.\n",
            "WARNING:tensorflow:Compiled the loaded model, but the compiled metrics have yet to be built. `model.compile_metrics` will be empty until you train or evaluate the model.\n"
          ]
        },
        {
          "output_type": "stream",
          "name": "stdout",
          "text": [
            "1/1 [==============================] - 0s 18ms/step\n",
            "********** TRAINING THE GAN **********\n",
            "7/7 [==============================] - 3s 420ms/step - d1_loss: 0.2157 - d2_loss: 0.2038 - g_loss: 2.9035\n"
          ]
        },
        {
          "output_type": "stream",
          "name": "stderr",
          "text": [
            "WARNING:tensorflow:Compiled the loaded model, but the compiled metrics have yet to be built. `model.compile_metrics` will be empty until you train or evaluate the model.\n",
            "WARNING:tensorflow:Compiled the loaded model, but the compiled metrics have yet to be built. `model.compile_metrics` will be empty until you train or evaluate the model.\n"
          ]
        },
        {
          "output_type": "stream",
          "name": "stdout",
          "text": [
            "1/1 [==============================] - 0s 21ms/step\n",
            "********** TRAINING THE GAN **********\n",
            "7/7 [==============================] - 3s 416ms/step - d1_loss: 0.2125 - d2_loss: 0.2022 - g_loss: 2.7309\n"
          ]
        },
        {
          "output_type": "stream",
          "name": "stderr",
          "text": [
            "WARNING:tensorflow:Compiled the loaded model, but the compiled metrics have yet to be built. `model.compile_metrics` will be empty until you train or evaluate the model.\n",
            "WARNING:tensorflow:Compiled the loaded model, but the compiled metrics have yet to be built. `model.compile_metrics` will be empty until you train or evaluate the model.\n"
          ]
        },
        {
          "output_type": "stream",
          "name": "stdout",
          "text": [
            "1/1 [==============================] - 0s 24ms/step\n",
            "********** TRAINING THE GAN **********\n",
            "7/7 [==============================] - 3s 416ms/step - d1_loss: 0.2161 - d2_loss: 0.2036 - g_loss: 2.7303\n"
          ]
        },
        {
          "output_type": "stream",
          "name": "stderr",
          "text": [
            "WARNING:tensorflow:Compiled the loaded model, but the compiled metrics have yet to be built. `model.compile_metrics` will be empty until you train or evaluate the model.\n",
            "WARNING:tensorflow:Compiled the loaded model, but the compiled metrics have yet to be built. `model.compile_metrics` will be empty until you train or evaluate the model.\n"
          ]
        },
        {
          "output_type": "stream",
          "name": "stdout",
          "text": [
            "1/1 [==============================] - 0s 20ms/step\n",
            "********** TRAINING THE GAN **********\n",
            "7/7 [==============================] - 3s 419ms/step - d1_loss: 0.2287 - d2_loss: 0.2052 - g_loss: 2.7630\n"
          ]
        },
        {
          "output_type": "stream",
          "name": "stderr",
          "text": [
            "WARNING:tensorflow:Compiled the loaded model, but the compiled metrics have yet to be built. `model.compile_metrics` will be empty until you train or evaluate the model.\n",
            "WARNING:tensorflow:Compiled the loaded model, but the compiled metrics have yet to be built. `model.compile_metrics` will be empty until you train or evaluate the model.\n"
          ]
        },
        {
          "output_type": "stream",
          "name": "stdout",
          "text": [
            "1/1 [==============================] - 0s 16ms/step\n",
            "********** TRAINING THE GAN **********\n",
            "7/7 [==============================] - 3s 413ms/step - d1_loss: 0.2201 - d2_loss: 0.2039 - g_loss: 2.7804\n"
          ]
        },
        {
          "output_type": "stream",
          "name": "stderr",
          "text": [
            "WARNING:tensorflow:Compiled the loaded model, but the compiled metrics have yet to be built. `model.compile_metrics` will be empty until you train or evaluate the model.\n",
            "WARNING:tensorflow:Compiled the loaded model, but the compiled metrics have yet to be built. `model.compile_metrics` will be empty until you train or evaluate the model.\n"
          ]
        },
        {
          "output_type": "stream",
          "name": "stdout",
          "text": [
            "1/1 [==============================] - 0s 17ms/step\n",
            "********** TRAINING THE GAN **********\n",
            "7/7 [==============================] - 3s 414ms/step - d1_loss: 0.2232 - d2_loss: 0.2023 - g_loss: 2.7197\n"
          ]
        },
        {
          "output_type": "stream",
          "name": "stderr",
          "text": [
            "WARNING:tensorflow:Compiled the loaded model, but the compiled metrics have yet to be built. `model.compile_metrics` will be empty until you train or evaluate the model.\n",
            "WARNING:tensorflow:Compiled the loaded model, but the compiled metrics have yet to be built. `model.compile_metrics` will be empty until you train or evaluate the model.\n"
          ]
        },
        {
          "output_type": "stream",
          "name": "stdout",
          "text": [
            "1/1 [==============================] - 0s 15ms/step\n",
            "********** TRAINING THE GAN **********\n",
            "7/7 [==============================] - 3s 412ms/step - d1_loss: 0.2379 - d2_loss: 0.2041 - g_loss: 3.0864\n"
          ]
        },
        {
          "output_type": "stream",
          "name": "stderr",
          "text": [
            "WARNING:tensorflow:Compiled the loaded model, but the compiled metrics have yet to be built. `model.compile_metrics` will be empty until you train or evaluate the model.\n",
            "WARNING:tensorflow:Compiled the loaded model, but the compiled metrics have yet to be built. `model.compile_metrics` will be empty until you train or evaluate the model.\n"
          ]
        },
        {
          "output_type": "stream",
          "name": "stdout",
          "text": [
            "1/1 [==============================] - 0s 16ms/step\n",
            "********** TRAINING THE GAN **********\n",
            "7/7 [==============================] - 3s 410ms/step - d1_loss: 0.2172 - d2_loss: 0.2023 - g_loss: 2.9198\n"
          ]
        },
        {
          "output_type": "stream",
          "name": "stderr",
          "text": [
            "WARNING:tensorflow:Compiled the loaded model, but the compiled metrics have yet to be built. `model.compile_metrics` will be empty until you train or evaluate the model.\n",
            "WARNING:tensorflow:Compiled the loaded model, but the compiled metrics have yet to be built. `model.compile_metrics` will be empty until you train or evaluate the model.\n"
          ]
        },
        {
          "output_type": "stream",
          "name": "stdout",
          "text": [
            "1/1 [==============================] - 0s 16ms/step\n",
            "********** TRAINING THE GAN **********\n",
            "7/7 [==============================] - 3s 409ms/step - d1_loss: 0.2333 - d2_loss: 0.2035 - g_loss: 2.9773\n"
          ]
        },
        {
          "output_type": "stream",
          "name": "stderr",
          "text": [
            "WARNING:tensorflow:Compiled the loaded model, but the compiled metrics have yet to be built. `model.compile_metrics` will be empty until you train or evaluate the model.\n",
            "WARNING:tensorflow:Compiled the loaded model, but the compiled metrics have yet to be built. `model.compile_metrics` will be empty until you train or evaluate the model.\n"
          ]
        },
        {
          "output_type": "stream",
          "name": "stdout",
          "text": [
            "1/1 [==============================] - 0s 16ms/step\n",
            "********** TRAINING THE GAN **********\n",
            "7/7 [==============================] - 3s 411ms/step - d1_loss: 0.2259 - d2_loss: 0.2030 - g_loss: 2.8059\n"
          ]
        },
        {
          "output_type": "stream",
          "name": "stderr",
          "text": [
            "WARNING:tensorflow:Compiled the loaded model, but the compiled metrics have yet to be built. `model.compile_metrics` will be empty until you train or evaluate the model.\n",
            "WARNING:tensorflow:Compiled the loaded model, but the compiled metrics have yet to be built. `model.compile_metrics` will be empty until you train or evaluate the model.\n"
          ]
        },
        {
          "output_type": "stream",
          "name": "stdout",
          "text": [
            "1/1 [==============================] - 0s 18ms/step\n",
            "********** TRAINING THE GAN **********\n",
            "7/7 [==============================] - 3s 413ms/step - d1_loss: 0.2487 - d2_loss: 0.2100 - g_loss: 3.5124\n"
          ]
        },
        {
          "output_type": "stream",
          "name": "stderr",
          "text": [
            "WARNING:tensorflow:Compiled the loaded model, but the compiled metrics have yet to be built. `model.compile_metrics` will be empty until you train or evaluate the model.\n",
            "WARNING:tensorflow:Compiled the loaded model, but the compiled metrics have yet to be built. `model.compile_metrics` will be empty until you train or evaluate the model.\n"
          ]
        },
        {
          "output_type": "stream",
          "name": "stdout",
          "text": [
            "1/1 [==============================] - 0s 15ms/step\n",
            "********** TRAINING THE GAN **********\n",
            "7/7 [==============================] - 3s 415ms/step - d1_loss: 0.2189 - d2_loss: 0.2041 - g_loss: 2.9228\n"
          ]
        },
        {
          "output_type": "stream",
          "name": "stderr",
          "text": [
            "WARNING:tensorflow:Compiled the loaded model, but the compiled metrics have yet to be built. `model.compile_metrics` will be empty until you train or evaluate the model.\n",
            "WARNING:tensorflow:Compiled the loaded model, but the compiled metrics have yet to be built. `model.compile_metrics` will be empty until you train or evaluate the model.\n"
          ]
        },
        {
          "output_type": "stream",
          "name": "stdout",
          "text": [
            "1/1 [==============================] - 0s 15ms/step\n",
            "********** TRAINING THE GAN **********\n",
            "7/7 [==============================] - 3s 414ms/step - d1_loss: 0.2208 - d2_loss: 0.2016 - g_loss: 2.7708\n"
          ]
        },
        {
          "output_type": "stream",
          "name": "stderr",
          "text": [
            "WARNING:tensorflow:Compiled the loaded model, but the compiled metrics have yet to be built. `model.compile_metrics` will be empty until you train or evaluate the model.\n",
            "WARNING:tensorflow:Compiled the loaded model, but the compiled metrics have yet to be built. `model.compile_metrics` will be empty until you train or evaluate the model.\n"
          ]
        },
        {
          "output_type": "stream",
          "name": "stdout",
          "text": [
            "1/1 [==============================] - 0s 18ms/step\n",
            "********** TRAINING THE GAN **********\n",
            "7/7 [==============================] - 3s 411ms/step - d1_loss: 0.2183 - d2_loss: 0.2028 - g_loss: 2.7100\n"
          ]
        },
        {
          "output_type": "stream",
          "name": "stderr",
          "text": [
            "WARNING:tensorflow:Compiled the loaded model, but the compiled metrics have yet to be built. `model.compile_metrics` will be empty until you train or evaluate the model.\n",
            "WARNING:tensorflow:Compiled the loaded model, but the compiled metrics have yet to be built. `model.compile_metrics` will be empty until you train or evaluate the model.\n"
          ]
        },
        {
          "output_type": "stream",
          "name": "stdout",
          "text": [
            "1/1 [==============================] - 0s 19ms/step\n",
            "********** TRAINING THE GAN **********\n",
            "7/7 [==============================] - 3s 414ms/step - d1_loss: 0.2207 - d2_loss: 0.2014 - g_loss: 2.7461\n"
          ]
        },
        {
          "output_type": "stream",
          "name": "stderr",
          "text": [
            "WARNING:tensorflow:Compiled the loaded model, but the compiled metrics have yet to be built. `model.compile_metrics` will be empty until you train or evaluate the model.\n",
            "WARNING:tensorflow:Compiled the loaded model, but the compiled metrics have yet to be built. `model.compile_metrics` will be empty until you train or evaluate the model.\n"
          ]
        },
        {
          "output_type": "stream",
          "name": "stdout",
          "text": [
            "1/1 [==============================] - 0s 16ms/step\n",
            "********** TRAINING THE GAN **********\n",
            "7/7 [==============================] - 3s 415ms/step - d1_loss: 0.2364 - d2_loss: 0.2082 - g_loss: 2.9788\n"
          ]
        },
        {
          "output_type": "stream",
          "name": "stderr",
          "text": [
            "WARNING:tensorflow:Compiled the loaded model, but the compiled metrics have yet to be built. `model.compile_metrics` will be empty until you train or evaluate the model.\n",
            "WARNING:tensorflow:Compiled the loaded model, but the compiled metrics have yet to be built. `model.compile_metrics` will be empty until you train or evaluate the model.\n"
          ]
        },
        {
          "output_type": "stream",
          "name": "stdout",
          "text": [
            "1/1 [==============================] - 0s 17ms/step\n",
            "********** TRAINING THE GAN **********\n",
            "7/7 [==============================] - 3s 421ms/step - d1_loss: 0.2287 - d2_loss: 0.2058 - g_loss: 2.9524\n"
          ]
        },
        {
          "output_type": "stream",
          "name": "stderr",
          "text": [
            "WARNING:tensorflow:Compiled the loaded model, but the compiled metrics have yet to be built. `model.compile_metrics` will be empty until you train or evaluate the model.\n",
            "WARNING:tensorflow:Compiled the loaded model, but the compiled metrics have yet to be built. `model.compile_metrics` will be empty until you train or evaluate the model.\n"
          ]
        },
        {
          "output_type": "stream",
          "name": "stdout",
          "text": [
            "1/1 [==============================] - 0s 15ms/step\n",
            "********** TRAINING THE GAN **********\n",
            "7/7 [==============================] - 3s 423ms/step - d1_loss: 0.2250 - d2_loss: 0.2025 - g_loss: 2.7163\n"
          ]
        },
        {
          "output_type": "stream",
          "name": "stderr",
          "text": [
            "WARNING:tensorflow:Compiled the loaded model, but the compiled metrics have yet to be built. `model.compile_metrics` will be empty until you train or evaluate the model.\n",
            "WARNING:tensorflow:Compiled the loaded model, but the compiled metrics have yet to be built. `model.compile_metrics` will be empty until you train or evaluate the model.\n"
          ]
        },
        {
          "output_type": "stream",
          "name": "stdout",
          "text": [
            "1/1 [==============================] - 0s 35ms/step\n",
            "********** TRAINING THE GAN **********\n",
            "7/7 [==============================] - 3s 422ms/step - d1_loss: 0.2247 - d2_loss: 0.2029 - g_loss: 2.7790\n"
          ]
        },
        {
          "output_type": "stream",
          "name": "stderr",
          "text": [
            "WARNING:tensorflow:Compiled the loaded model, but the compiled metrics have yet to be built. `model.compile_metrics` will be empty until you train or evaluate the model.\n",
            "WARNING:tensorflow:Compiled the loaded model, but the compiled metrics have yet to be built. `model.compile_metrics` will be empty until you train or evaluate the model.\n"
          ]
        },
        {
          "output_type": "stream",
          "name": "stdout",
          "text": [
            "1/1 [==============================] - 0s 17ms/step\n",
            "********** TRAINING THE GAN **********\n",
            "7/7 [==============================] - 3s 426ms/step - d1_loss: 0.2277 - d2_loss: 0.2033 - g_loss: 2.8560\n"
          ]
        },
        {
          "output_type": "stream",
          "name": "stderr",
          "text": [
            "WARNING:tensorflow:Compiled the loaded model, but the compiled metrics have yet to be built. `model.compile_metrics` will be empty until you train or evaluate the model.\n",
            "WARNING:tensorflow:Compiled the loaded model, but the compiled metrics have yet to be built. `model.compile_metrics` will be empty until you train or evaluate the model.\n"
          ]
        },
        {
          "output_type": "stream",
          "name": "stdout",
          "text": [
            "1/1 [==============================] - 0s 16ms/step\n",
            "********** TRAINING THE GAN **********\n",
            "7/7 [==============================] - 3s 418ms/step - d1_loss: 0.2143 - d2_loss: 0.2006 - g_loss: 2.6714\n"
          ]
        },
        {
          "output_type": "stream",
          "name": "stderr",
          "text": [
            "WARNING:tensorflow:Compiled the loaded model, but the compiled metrics have yet to be built. `model.compile_metrics` will be empty until you train or evaluate the model.\n",
            "WARNING:tensorflow:Compiled the loaded model, but the compiled metrics have yet to be built. `model.compile_metrics` will be empty until you train or evaluate the model.\n"
          ]
        },
        {
          "output_type": "stream",
          "name": "stdout",
          "text": [
            "1/1 [==============================] - 0s 16ms/step\n",
            "********** TRAINING THE GAN **********\n",
            "7/7 [==============================] - 3s 416ms/step - d1_loss: 0.2118 - d2_loss: 0.2010 - g_loss: 2.6775\n"
          ]
        },
        {
          "output_type": "stream",
          "name": "stderr",
          "text": [
            "WARNING:tensorflow:Compiled the loaded model, but the compiled metrics have yet to be built. `model.compile_metrics` will be empty until you train or evaluate the model.\n",
            "WARNING:tensorflow:Compiled the loaded model, but the compiled metrics have yet to be built. `model.compile_metrics` will be empty until you train or evaluate the model.\n"
          ]
        },
        {
          "output_type": "stream",
          "name": "stdout",
          "text": [
            "1/1 [==============================] - 0s 18ms/step\n",
            "********** TRAINING THE GAN **********\n",
            "7/7 [==============================] - 3s 416ms/step - d1_loss: 0.2104 - d2_loss: 0.2014 - g_loss: 2.5798\n"
          ]
        },
        {
          "output_type": "stream",
          "name": "stderr",
          "text": [
            "WARNING:tensorflow:Compiled the loaded model, but the compiled metrics have yet to be built. `model.compile_metrics` will be empty until you train or evaluate the model.\n",
            "WARNING:tensorflow:Compiled the loaded model, but the compiled metrics have yet to be built. `model.compile_metrics` will be empty until you train or evaluate the model.\n"
          ]
        },
        {
          "output_type": "stream",
          "name": "stdout",
          "text": [
            "1/1 [==============================] - 0s 18ms/step\n",
            "********** TRAINING THE GAN **********\n",
            "7/7 [==============================] - 3s 415ms/step - d1_loss: 0.2127 - d2_loss: 0.2021 - g_loss: 2.6640\n"
          ]
        },
        {
          "output_type": "stream",
          "name": "stderr",
          "text": [
            "WARNING:tensorflow:Compiled the loaded model, but the compiled metrics have yet to be built. `model.compile_metrics` will be empty until you train or evaluate the model.\n",
            "WARNING:tensorflow:Compiled the loaded model, but the compiled metrics have yet to be built. `model.compile_metrics` will be empty until you train or evaluate the model.\n"
          ]
        },
        {
          "output_type": "stream",
          "name": "stdout",
          "text": [
            "1/1 [==============================] - 0s 23ms/step\n",
            "********** TRAINING THE GAN **********\n",
            "7/7 [==============================] - 3s 411ms/step - d1_loss: 0.2122 - d2_loss: 0.2030 - g_loss: 2.6907\n"
          ]
        },
        {
          "output_type": "stream",
          "name": "stderr",
          "text": [
            "WARNING:tensorflow:Compiled the loaded model, but the compiled metrics have yet to be built. `model.compile_metrics` will be empty until you train or evaluate the model.\n",
            "WARNING:tensorflow:Compiled the loaded model, but the compiled metrics have yet to be built. `model.compile_metrics` will be empty until you train or evaluate the model.\n"
          ]
        },
        {
          "output_type": "stream",
          "name": "stdout",
          "text": [
            "1/1 [==============================] - 0s 15ms/step\n",
            "********** TRAINING THE GAN **********\n",
            "7/7 [==============================] - 3s 407ms/step - d1_loss: 0.2106 - d2_loss: 0.2074 - g_loss: 2.7199\n"
          ]
        },
        {
          "output_type": "stream",
          "name": "stderr",
          "text": [
            "WARNING:tensorflow:Compiled the loaded model, but the compiled metrics have yet to be built. `model.compile_metrics` will be empty until you train or evaluate the model.\n",
            "WARNING:tensorflow:Compiled the loaded model, but the compiled metrics have yet to be built. `model.compile_metrics` will be empty until you train or evaluate the model.\n"
          ]
        },
        {
          "output_type": "stream",
          "name": "stdout",
          "text": [
            "1/1 [==============================] - 0s 15ms/step\n",
            "********** TRAINING THE GAN **********\n",
            "7/7 [==============================] - 3s 411ms/step - d1_loss: 0.2131 - d2_loss: 0.2074 - g_loss: 2.8275\n"
          ]
        },
        {
          "output_type": "stream",
          "name": "stderr",
          "text": [
            "WARNING:tensorflow:Compiled the loaded model, but the compiled metrics have yet to be built. `model.compile_metrics` will be empty until you train or evaluate the model.\n",
            "WARNING:tensorflow:Compiled the loaded model, but the compiled metrics have yet to be built. `model.compile_metrics` will be empty until you train or evaluate the model.\n"
          ]
        },
        {
          "output_type": "stream",
          "name": "stdout",
          "text": [
            "1/1 [==============================] - 0s 19ms/step\n",
            "********** TRAINING THE GAN **********\n",
            "7/7 [==============================] - 3s 408ms/step - d1_loss: 0.2117 - d2_loss: 0.2102 - g_loss: 2.8252\n"
          ]
        },
        {
          "output_type": "stream",
          "name": "stderr",
          "text": [
            "WARNING:tensorflow:Compiled the loaded model, but the compiled metrics have yet to be built. `model.compile_metrics` will be empty until you train or evaluate the model.\n",
            "WARNING:tensorflow:Compiled the loaded model, but the compiled metrics have yet to be built. `model.compile_metrics` will be empty until you train or evaluate the model.\n"
          ]
        },
        {
          "output_type": "stream",
          "name": "stdout",
          "text": [
            "1/1 [==============================] - 0s 17ms/step\n",
            "********** TRAINING THE GAN **********\n",
            "7/7 [==============================] - 3s 412ms/step - d1_loss: 0.2108 - d2_loss: 0.2041 - g_loss: 2.7994\n"
          ]
        },
        {
          "output_type": "stream",
          "name": "stderr",
          "text": [
            "WARNING:tensorflow:Compiled the loaded model, but the compiled metrics have yet to be built. `model.compile_metrics` will be empty until you train or evaluate the model.\n",
            "WARNING:tensorflow:Compiled the loaded model, but the compiled metrics have yet to be built. `model.compile_metrics` will be empty until you train or evaluate the model.\n"
          ]
        },
        {
          "output_type": "stream",
          "name": "stdout",
          "text": [
            "1/1 [==============================] - 0s 15ms/step\n",
            "********** TRAINING THE GAN **********\n",
            "7/7 [==============================] - 3s 411ms/step - d1_loss: 0.2197 - d2_loss: 0.2109 - g_loss: 2.9138\n"
          ]
        },
        {
          "output_type": "stream",
          "name": "stderr",
          "text": [
            "WARNING:tensorflow:Compiled the loaded model, but the compiled metrics have yet to be built. `model.compile_metrics` will be empty until you train or evaluate the model.\n",
            "WARNING:tensorflow:Compiled the loaded model, but the compiled metrics have yet to be built. `model.compile_metrics` will be empty until you train or evaluate the model.\n"
          ]
        },
        {
          "output_type": "stream",
          "name": "stdout",
          "text": [
            "1/1 [==============================] - 0s 16ms/step\n",
            "********** TRAINING THE GAN **********\n",
            "7/7 [==============================] - 3s 414ms/step - d1_loss: 0.2125 - d2_loss: 0.2025 - g_loss: 2.7111\n"
          ]
        },
        {
          "output_type": "stream",
          "name": "stderr",
          "text": [
            "WARNING:tensorflow:Compiled the loaded model, but the compiled metrics have yet to be built. `model.compile_metrics` will be empty until you train or evaluate the model.\n",
            "WARNING:tensorflow:Compiled the loaded model, but the compiled metrics have yet to be built. `model.compile_metrics` will be empty until you train or evaluate the model.\n"
          ]
        },
        {
          "output_type": "stream",
          "name": "stdout",
          "text": [
            "1/1 [==============================] - 0s 17ms/step\n",
            "********** TRAINING THE GAN **********\n",
            "7/7 [==============================] - 3s 415ms/step - d1_loss: 0.2120 - d2_loss: 0.2010 - g_loss: 2.6905\n"
          ]
        },
        {
          "output_type": "stream",
          "name": "stderr",
          "text": [
            "WARNING:tensorflow:Compiled the loaded model, but the compiled metrics have yet to be built. `model.compile_metrics` will be empty until you train or evaluate the model.\n",
            "WARNING:tensorflow:Compiled the loaded model, but the compiled metrics have yet to be built. `model.compile_metrics` will be empty until you train or evaluate the model.\n"
          ]
        },
        {
          "output_type": "stream",
          "name": "stdout",
          "text": [
            "1/1 [==============================] - 0s 16ms/step\n",
            "********** TRAINING THE GAN **********\n",
            "7/7 [==============================] - 3s 420ms/step - d1_loss: 0.2093 - d2_loss: 0.2006 - g_loss: 2.5908\n"
          ]
        },
        {
          "output_type": "stream",
          "name": "stderr",
          "text": [
            "WARNING:tensorflow:Compiled the loaded model, but the compiled metrics have yet to be built. `model.compile_metrics` will be empty until you train or evaluate the model.\n",
            "WARNING:tensorflow:Compiled the loaded model, but the compiled metrics have yet to be built. `model.compile_metrics` will be empty until you train or evaluate the model.\n"
          ]
        },
        {
          "output_type": "stream",
          "name": "stdout",
          "text": [
            "1/1 [==============================] - 0s 16ms/step\n",
            "********** TRAINING THE GAN **********\n",
            "7/7 [==============================] - 3s 421ms/step - d1_loss: 0.2100 - d2_loss: 0.2001 - g_loss: 2.6200\n"
          ]
        },
        {
          "output_type": "stream",
          "name": "stderr",
          "text": [
            "WARNING:tensorflow:Compiled the loaded model, but the compiled metrics have yet to be built. `model.compile_metrics` will be empty until you train or evaluate the model.\n",
            "WARNING:tensorflow:Compiled the loaded model, but the compiled metrics have yet to be built. `model.compile_metrics` will be empty until you train or evaluate the model.\n"
          ]
        },
        {
          "output_type": "stream",
          "name": "stdout",
          "text": [
            "1/1 [==============================] - 0s 17ms/step\n",
            "********** TRAINING THE GAN **********\n",
            "7/7 [==============================] - 3s 422ms/step - d1_loss: 0.2107 - d2_loss: 0.2005 - g_loss: 2.6847\n"
          ]
        },
        {
          "output_type": "stream",
          "name": "stderr",
          "text": [
            "WARNING:tensorflow:Compiled the loaded model, but the compiled metrics have yet to be built. `model.compile_metrics` will be empty until you train or evaluate the model.\n",
            "WARNING:tensorflow:Compiled the loaded model, but the compiled metrics have yet to be built. `model.compile_metrics` will be empty until you train or evaluate the model.\n"
          ]
        },
        {
          "output_type": "stream",
          "name": "stdout",
          "text": [
            "1/1 [==============================] - 0s 16ms/step\n",
            "********** TRAINING THE GAN **********\n",
            "7/7 [==============================] - 3s 424ms/step - d1_loss: 0.2072 - d2_loss: 0.2002 - g_loss: 2.6667\n"
          ]
        },
        {
          "output_type": "stream",
          "name": "stderr",
          "text": [
            "WARNING:tensorflow:Compiled the loaded model, but the compiled metrics have yet to be built. `model.compile_metrics` will be empty until you train or evaluate the model.\n",
            "WARNING:tensorflow:Compiled the loaded model, but the compiled metrics have yet to be built. `model.compile_metrics` will be empty until you train or evaluate the model.\n"
          ]
        },
        {
          "output_type": "stream",
          "name": "stdout",
          "text": [
            "1/1 [==============================] - 0s 15ms/step\n",
            "********** TRAINING THE GAN **********\n",
            "7/7 [==============================] - 3s 420ms/step - d1_loss: 0.2083 - d2_loss: 0.2016 - g_loss: 2.6700\n"
          ]
        },
        {
          "output_type": "stream",
          "name": "stderr",
          "text": [
            "WARNING:tensorflow:Compiled the loaded model, but the compiled metrics have yet to be built. `model.compile_metrics` will be empty until you train or evaluate the model.\n",
            "WARNING:tensorflow:Compiled the loaded model, but the compiled metrics have yet to be built. `model.compile_metrics` will be empty until you train or evaluate the model.\n"
          ]
        },
        {
          "output_type": "stream",
          "name": "stdout",
          "text": [
            "1/1 [==============================] - 0s 16ms/step\n",
            "********** TRAINING THE GAN **********\n",
            "7/7 [==============================] - 3s 414ms/step - d1_loss: 0.2062 - d2_loss: 0.2012 - g_loss: 2.6756\n"
          ]
        },
        {
          "output_type": "stream",
          "name": "stderr",
          "text": [
            "WARNING:tensorflow:Compiled the loaded model, but the compiled metrics have yet to be built. `model.compile_metrics` will be empty until you train or evaluate the model.\n",
            "WARNING:tensorflow:Compiled the loaded model, but the compiled metrics have yet to be built. `model.compile_metrics` will be empty until you train or evaluate the model.\n"
          ]
        },
        {
          "output_type": "stream",
          "name": "stdout",
          "text": [
            "1/1 [==============================] - 0s 16ms/step\n",
            "********** TRAINING THE GAN **********\n",
            "7/7 [==============================] - 3s 414ms/step - d1_loss: 0.2055 - d2_loss: 0.2027 - g_loss: 2.6753\n"
          ]
        },
        {
          "output_type": "stream",
          "name": "stderr",
          "text": [
            "WARNING:tensorflow:Compiled the loaded model, but the compiled metrics have yet to be built. `model.compile_metrics` will be empty until you train or evaluate the model.\n",
            "WARNING:tensorflow:Compiled the loaded model, but the compiled metrics have yet to be built. `model.compile_metrics` will be empty until you train or evaluate the model.\n"
          ]
        },
        {
          "output_type": "stream",
          "name": "stdout",
          "text": [
            "1/1 [==============================] - 0s 17ms/step\n",
            "********** TRAINING THE GAN **********\n",
            "7/7 [==============================] - 3s 412ms/step - d1_loss: 0.2054 - d2_loss: 0.2024 - g_loss: 2.7043\n"
          ]
        },
        {
          "output_type": "stream",
          "name": "stderr",
          "text": [
            "WARNING:tensorflow:Compiled the loaded model, but the compiled metrics have yet to be built. `model.compile_metrics` will be empty until you train or evaluate the model.\n",
            "WARNING:tensorflow:Compiled the loaded model, but the compiled metrics have yet to be built. `model.compile_metrics` will be empty until you train or evaluate the model.\n"
          ]
        },
        {
          "output_type": "stream",
          "name": "stdout",
          "text": [
            "1/1 [==============================] - 0s 18ms/step\n",
            "********** TRAINING THE GAN **********\n",
            "7/7 [==============================] - 3s 412ms/step - d1_loss: 0.2043 - d2_loss: 0.2025 - g_loss: 2.7090\n"
          ]
        },
        {
          "output_type": "stream",
          "name": "stderr",
          "text": [
            "WARNING:tensorflow:Compiled the loaded model, but the compiled metrics have yet to be built. `model.compile_metrics` will be empty until you train or evaluate the model.\n",
            "WARNING:tensorflow:Compiled the loaded model, but the compiled metrics have yet to be built. `model.compile_metrics` will be empty until you train or evaluate the model.\n"
          ]
        },
        {
          "output_type": "stream",
          "name": "stdout",
          "text": [
            "1/1 [==============================] - 0s 25ms/step\n",
            "********** TRAINING THE GAN **********\n",
            "7/7 [==============================] - 3s 410ms/step - d1_loss: 0.2046 - d2_loss: 0.2036 - g_loss: 2.6875\n"
          ]
        },
        {
          "output_type": "stream",
          "name": "stderr",
          "text": [
            "WARNING:tensorflow:Compiled the loaded model, but the compiled metrics have yet to be built. `model.compile_metrics` will be empty until you train or evaluate the model.\n",
            "WARNING:tensorflow:Compiled the loaded model, but the compiled metrics have yet to be built. `model.compile_metrics` will be empty until you train or evaluate the model.\n"
          ]
        },
        {
          "output_type": "stream",
          "name": "stdout",
          "text": [
            "1/1 [==============================] - 0s 16ms/step\n",
            "********** TRAINING THE GAN **********\n",
            "7/7 [==============================] - 3s 410ms/step - d1_loss: 0.2034 - d2_loss: 0.2018 - g_loss: 2.6902\n"
          ]
        },
        {
          "output_type": "stream",
          "name": "stderr",
          "text": [
            "WARNING:tensorflow:Compiled the loaded model, but the compiled metrics have yet to be built. `model.compile_metrics` will be empty until you train or evaluate the model.\n",
            "WARNING:tensorflow:Compiled the loaded model, but the compiled metrics have yet to be built. `model.compile_metrics` will be empty until you train or evaluate the model.\n"
          ]
        },
        {
          "output_type": "stream",
          "name": "stdout",
          "text": [
            "1/1 [==============================] - 0s 17ms/step\n",
            "********** TRAINING THE GAN **********\n",
            "7/7 [==============================] - 3s 412ms/step - d1_loss: 0.2037 - d2_loss: 0.2022 - g_loss: 2.6806\n"
          ]
        },
        {
          "output_type": "stream",
          "name": "stderr",
          "text": [
            "WARNING:tensorflow:Compiled the loaded model, but the compiled metrics have yet to be built. `model.compile_metrics` will be empty until you train or evaluate the model.\n",
            "WARNING:tensorflow:Compiled the loaded model, but the compiled metrics have yet to be built. `model.compile_metrics` will be empty until you train or evaluate the model.\n"
          ]
        },
        {
          "output_type": "stream",
          "name": "stdout",
          "text": [
            "1/1 [==============================] - 0s 16ms/step\n",
            "********** TRAINING THE GAN **********\n",
            "7/7 [==============================] - 3s 415ms/step - d1_loss: 0.2079 - d2_loss: 0.2029 - g_loss: 2.6460\n"
          ]
        },
        {
          "output_type": "stream",
          "name": "stderr",
          "text": [
            "WARNING:tensorflow:Compiled the loaded model, but the compiled metrics have yet to be built. `model.compile_metrics` will be empty until you train or evaluate the model.\n",
            "WARNING:tensorflow:Compiled the loaded model, but the compiled metrics have yet to be built. `model.compile_metrics` will be empty until you train or evaluate the model.\n"
          ]
        },
        {
          "output_type": "stream",
          "name": "stdout",
          "text": [
            "1/1 [==============================] - 0s 16ms/step\n",
            "********** TRAINING THE GAN **********\n",
            "7/7 [==============================] - 3s 415ms/step - d1_loss: 0.2085 - d2_loss: 0.2041 - g_loss: 2.6397\n"
          ]
        },
        {
          "output_type": "stream",
          "name": "stderr",
          "text": [
            "WARNING:tensorflow:Compiled the loaded model, but the compiled metrics have yet to be built. `model.compile_metrics` will be empty until you train or evaluate the model.\n",
            "WARNING:tensorflow:Compiled the loaded model, but the compiled metrics have yet to be built. `model.compile_metrics` will be empty until you train or evaluate the model.\n"
          ]
        },
        {
          "output_type": "stream",
          "name": "stdout",
          "text": [
            "1/1 [==============================] - 0s 16ms/step\n",
            "********** TRAINING THE GAN **********\n",
            "7/7 [==============================] - 3s 414ms/step - d1_loss: 0.2185 - d2_loss: 0.2028 - g_loss: 2.6230\n"
          ]
        },
        {
          "output_type": "stream",
          "name": "stderr",
          "text": [
            "WARNING:tensorflow:Compiled the loaded model, but the compiled metrics have yet to be built. `model.compile_metrics` will be empty until you train or evaluate the model.\n",
            "WARNING:tensorflow:Compiled the loaded model, but the compiled metrics have yet to be built. `model.compile_metrics` will be empty until you train or evaluate the model.\n"
          ]
        },
        {
          "output_type": "stream",
          "name": "stdout",
          "text": [
            "1/1 [==============================] - 0s 16ms/step\n",
            "********** TRAINING THE GAN **********\n",
            "7/7 [==============================] - 3s 413ms/step - d1_loss: 0.2152 - d2_loss: 0.2021 - g_loss: 2.6107\n"
          ]
        },
        {
          "output_type": "stream",
          "name": "stderr",
          "text": [
            "WARNING:tensorflow:Compiled the loaded model, but the compiled metrics have yet to be built. `model.compile_metrics` will be empty until you train or evaluate the model.\n",
            "WARNING:tensorflow:Compiled the loaded model, but the compiled metrics have yet to be built. `model.compile_metrics` will be empty until you train or evaluate the model.\n"
          ]
        },
        {
          "output_type": "stream",
          "name": "stdout",
          "text": [
            "1/1 [==============================] - 0s 15ms/step\n",
            "********** TRAINING THE GAN **********\n",
            "7/7 [==============================] - 3s 414ms/step - d1_loss: 0.2149 - d2_loss: 0.2031 - g_loss: 2.6222\n"
          ]
        },
        {
          "output_type": "stream",
          "name": "stderr",
          "text": [
            "WARNING:tensorflow:Compiled the loaded model, but the compiled metrics have yet to be built. `model.compile_metrics` will be empty until you train or evaluate the model.\n",
            "WARNING:tensorflow:Compiled the loaded model, but the compiled metrics have yet to be built. `model.compile_metrics` will be empty until you train or evaluate the model.\n"
          ]
        },
        {
          "output_type": "stream",
          "name": "stdout",
          "text": [
            "1/1 [==============================] - 0s 15ms/step\n",
            "********** TRAINING THE GAN **********\n",
            "7/7 [==============================] - 3s 415ms/step - d1_loss: 0.2124 - d2_loss: 0.2019 - g_loss: 2.6277\n"
          ]
        },
        {
          "output_type": "stream",
          "name": "stderr",
          "text": [
            "WARNING:tensorflow:Compiled the loaded model, but the compiled metrics have yet to be built. `model.compile_metrics` will be empty until you train or evaluate the model.\n",
            "WARNING:tensorflow:Compiled the loaded model, but the compiled metrics have yet to be built. `model.compile_metrics` will be empty until you train or evaluate the model.\n"
          ]
        },
        {
          "output_type": "stream",
          "name": "stdout",
          "text": [
            "1/1 [==============================] - 0s 15ms/step\n",
            "********** TRAINING THE GAN **********\n",
            "7/7 [==============================] - 3s 413ms/step - d1_loss: 0.2113 - d2_loss: 0.2031 - g_loss: 2.6569\n"
          ]
        },
        {
          "output_type": "stream",
          "name": "stderr",
          "text": [
            "WARNING:tensorflow:Compiled the loaded model, but the compiled metrics have yet to be built. `model.compile_metrics` will be empty until you train or evaluate the model.\n",
            "WARNING:tensorflow:Compiled the loaded model, but the compiled metrics have yet to be built. `model.compile_metrics` will be empty until you train or evaluate the model.\n"
          ]
        },
        {
          "output_type": "stream",
          "name": "stdout",
          "text": [
            "1/1 [==============================] - 0s 15ms/step\n",
            "********** TRAINING THE GAN **********\n",
            "7/7 [==============================] - 3s 416ms/step - d1_loss: 0.2155 - d2_loss: 0.2051 - g_loss: 2.6556\n"
          ]
        },
        {
          "output_type": "stream",
          "name": "stderr",
          "text": [
            "WARNING:tensorflow:Compiled the loaded model, but the compiled metrics have yet to be built. `model.compile_metrics` will be empty until you train or evaluate the model.\n",
            "WARNING:tensorflow:Compiled the loaded model, but the compiled metrics have yet to be built. `model.compile_metrics` will be empty until you train or evaluate the model.\n"
          ]
        },
        {
          "output_type": "stream",
          "name": "stdout",
          "text": [
            "1/1 [==============================] - 0s 16ms/step\n",
            "********** TRAINING THE GAN **********\n",
            "7/7 [==============================] - 3s 416ms/step - d1_loss: 0.2110 - d2_loss: 0.2021 - g_loss: 2.6373\n"
          ]
        },
        {
          "output_type": "stream",
          "name": "stderr",
          "text": [
            "WARNING:tensorflow:Compiled the loaded model, but the compiled metrics have yet to be built. `model.compile_metrics` will be empty until you train or evaluate the model.\n",
            "WARNING:tensorflow:Compiled the loaded model, but the compiled metrics have yet to be built. `model.compile_metrics` will be empty until you train or evaluate the model.\n"
          ]
        },
        {
          "output_type": "stream",
          "name": "stdout",
          "text": [
            "1/1 [==============================] - 0s 17ms/step\n",
            "********** TRAINING THE GAN **********\n",
            "7/7 [==============================] - 3s 416ms/step - d1_loss: 0.2083 - d2_loss: 0.2018 - g_loss: 2.6493\n"
          ]
        },
        {
          "output_type": "stream",
          "name": "stderr",
          "text": [
            "WARNING:tensorflow:Compiled the loaded model, but the compiled metrics have yet to be built. `model.compile_metrics` will be empty until you train or evaluate the model.\n",
            "WARNING:tensorflow:Compiled the loaded model, but the compiled metrics have yet to be built. `model.compile_metrics` will be empty until you train or evaluate the model.\n"
          ]
        },
        {
          "output_type": "stream",
          "name": "stdout",
          "text": [
            "1/1 [==============================] - 0s 15ms/step\n",
            "********** TRAINING THE GAN **********\n",
            "7/7 [==============================] - 3s 416ms/step - d1_loss: 0.2078 - d2_loss: 0.2015 - g_loss: 2.6651\n"
          ]
        },
        {
          "output_type": "stream",
          "name": "stderr",
          "text": [
            "WARNING:tensorflow:Compiled the loaded model, but the compiled metrics have yet to be built. `model.compile_metrics` will be empty until you train or evaluate the model.\n",
            "WARNING:tensorflow:Compiled the loaded model, but the compiled metrics have yet to be built. `model.compile_metrics` will be empty until you train or evaluate the model.\n"
          ]
        },
        {
          "output_type": "stream",
          "name": "stdout",
          "text": [
            "1/1 [==============================] - 0s 20ms/step\n",
            "********** TRAINING THE GAN **********\n",
            "7/7 [==============================] - 3s 417ms/step - d1_loss: 0.2089 - d2_loss: 0.2019 - g_loss: 2.6677\n"
          ]
        },
        {
          "output_type": "stream",
          "name": "stderr",
          "text": [
            "WARNING:tensorflow:Compiled the loaded model, but the compiled metrics have yet to be built. `model.compile_metrics` will be empty until you train or evaluate the model.\n",
            "WARNING:tensorflow:Compiled the loaded model, but the compiled metrics have yet to be built. `model.compile_metrics` will be empty until you train or evaluate the model.\n"
          ]
        },
        {
          "output_type": "stream",
          "name": "stdout",
          "text": [
            "1/1 [==============================] - 0s 19ms/step\n",
            "********** TRAINING THE GAN **********\n",
            "7/7 [==============================] - 3s 421ms/step - d1_loss: 0.2102 - d2_loss: 0.2034 - g_loss: 2.6523\n"
          ]
        },
        {
          "output_type": "stream",
          "name": "stderr",
          "text": [
            "WARNING:tensorflow:Compiled the loaded model, but the compiled metrics have yet to be built. `model.compile_metrics` will be empty until you train or evaluate the model.\n",
            "WARNING:tensorflow:Compiled the loaded model, but the compiled metrics have yet to be built. `model.compile_metrics` will be empty until you train or evaluate the model.\n"
          ]
        },
        {
          "output_type": "stream",
          "name": "stdout",
          "text": [
            "1/1 [==============================] - 0s 19ms/step\n",
            "********** TRAINING THE GAN **********\n",
            "7/7 [==============================] - 3s 416ms/step - d1_loss: 0.2085 - d2_loss: 0.2014 - g_loss: 2.6643\n"
          ]
        },
        {
          "output_type": "stream",
          "name": "stderr",
          "text": [
            "WARNING:tensorflow:Compiled the loaded model, but the compiled metrics have yet to be built. `model.compile_metrics` will be empty until you train or evaluate the model.\n",
            "WARNING:tensorflow:Compiled the loaded model, but the compiled metrics have yet to be built. `model.compile_metrics` will be empty until you train or evaluate the model.\n"
          ]
        },
        {
          "output_type": "stream",
          "name": "stdout",
          "text": [
            "1/1 [==============================] - 0s 16ms/step\n",
            "********** TRAINING THE GAN **********\n",
            "7/7 [==============================] - 3s 416ms/step - d1_loss: 0.2089 - d2_loss: 0.2024 - g_loss: 2.6732\n"
          ]
        },
        {
          "output_type": "stream",
          "name": "stderr",
          "text": [
            "WARNING:tensorflow:Compiled the loaded model, but the compiled metrics have yet to be built. `model.compile_metrics` will be empty until you train or evaluate the model.\n",
            "WARNING:tensorflow:Compiled the loaded model, but the compiled metrics have yet to be built. `model.compile_metrics` will be empty until you train or evaluate the model.\n"
          ]
        },
        {
          "output_type": "stream",
          "name": "stdout",
          "text": [
            "1/1 [==============================] - 0s 16ms/step\n",
            "********** TRAINING THE GAN **********\n",
            "7/7 [==============================] - 3s 415ms/step - d1_loss: 0.2087 - d2_loss: 0.2016 - g_loss: 2.6474\n"
          ]
        },
        {
          "output_type": "stream",
          "name": "stderr",
          "text": [
            "WARNING:tensorflow:Compiled the loaded model, but the compiled metrics have yet to be built. `model.compile_metrics` will be empty until you train or evaluate the model.\n",
            "WARNING:tensorflow:Compiled the loaded model, but the compiled metrics have yet to be built. `model.compile_metrics` will be empty until you train or evaluate the model.\n"
          ]
        },
        {
          "output_type": "stream",
          "name": "stdout",
          "text": [
            "1/1 [==============================] - 0s 19ms/step\n",
            "********** TRAINING THE GAN **********\n",
            "7/7 [==============================] - 3s 417ms/step - d1_loss: 0.2069 - d2_loss: 0.2014 - g_loss: 2.6619\n"
          ]
        },
        {
          "output_type": "stream",
          "name": "stderr",
          "text": [
            "WARNING:tensorflow:Compiled the loaded model, but the compiled metrics have yet to be built. `model.compile_metrics` will be empty until you train or evaluate the model.\n",
            "WARNING:tensorflow:Compiled the loaded model, but the compiled metrics have yet to be built. `model.compile_metrics` will be empty until you train or evaluate the model.\n"
          ]
        },
        {
          "output_type": "stream",
          "name": "stdout",
          "text": [
            "1/1 [==============================] - 0s 16ms/step\n",
            "********** TRAINING THE GAN **********\n",
            "7/7 [==============================] - 3s 416ms/step - d1_loss: 0.2288 - d2_loss: 0.2364 - g_loss: 2.8058\n"
          ]
        },
        {
          "output_type": "stream",
          "name": "stderr",
          "text": [
            "WARNING:tensorflow:Compiled the loaded model, but the compiled metrics have yet to be built. `model.compile_metrics` will be empty until you train or evaluate the model.\n",
            "WARNING:tensorflow:Compiled the loaded model, but the compiled metrics have yet to be built. `model.compile_metrics` will be empty until you train or evaluate the model.\n"
          ]
        },
        {
          "output_type": "stream",
          "name": "stdout",
          "text": [
            "1/1 [==============================] - 0s 15ms/step\n",
            "********** TRAINING THE GAN **********\n",
            "7/7 [==============================] - 3s 410ms/step - d1_loss: 0.2052 - d2_loss: 0.2034 - g_loss: 2.7714\n"
          ]
        },
        {
          "output_type": "stream",
          "name": "stderr",
          "text": [
            "WARNING:tensorflow:Compiled the loaded model, but the compiled metrics have yet to be built. `model.compile_metrics` will be empty until you train or evaluate the model.\n",
            "WARNING:tensorflow:Compiled the loaded model, but the compiled metrics have yet to be built. `model.compile_metrics` will be empty until you train or evaluate the model.\n"
          ]
        },
        {
          "output_type": "stream",
          "name": "stdout",
          "text": [
            "1/1 [==============================] - 0s 16ms/step\n",
            "********** TRAINING THE GAN **********\n",
            "7/7 [==============================] - 3s 411ms/step - d1_loss: 0.2108 - d2_loss: 0.2014 - g_loss: 2.9375\n"
          ]
        },
        {
          "output_type": "stream",
          "name": "stderr",
          "text": [
            "WARNING:tensorflow:Compiled the loaded model, but the compiled metrics have yet to be built. `model.compile_metrics` will be empty until you train or evaluate the model.\n",
            "WARNING:tensorflow:Compiled the loaded model, but the compiled metrics have yet to be built. `model.compile_metrics` will be empty until you train or evaluate the model.\n"
          ]
        },
        {
          "output_type": "stream",
          "name": "stdout",
          "text": [
            "1/1 [==============================] - 0s 16ms/step\n",
            "********** TRAINING THE GAN **********\n",
            "7/7 [==============================] - 3s 406ms/step - d1_loss: 0.2080 - d2_loss: 0.2005 - g_loss: 2.7301\n"
          ]
        },
        {
          "output_type": "stream",
          "name": "stderr",
          "text": [
            "WARNING:tensorflow:Compiled the loaded model, but the compiled metrics have yet to be built. `model.compile_metrics` will be empty until you train or evaluate the model.\n",
            "WARNING:tensorflow:Compiled the loaded model, but the compiled metrics have yet to be built. `model.compile_metrics` will be empty until you train or evaluate the model.\n"
          ]
        },
        {
          "output_type": "stream",
          "name": "stdout",
          "text": [
            "1/1 [==============================] - 0s 20ms/step\n",
            "********** TRAINING THE GAN **********\n",
            "7/7 [==============================] - 3s 408ms/step - d1_loss: 0.2109 - d2_loss: 0.2005 - g_loss: 2.6994\n"
          ]
        },
        {
          "output_type": "stream",
          "name": "stderr",
          "text": [
            "WARNING:tensorflow:Compiled the loaded model, but the compiled metrics have yet to be built. `model.compile_metrics` will be empty until you train or evaluate the model.\n",
            "WARNING:tensorflow:Compiled the loaded model, but the compiled metrics have yet to be built. `model.compile_metrics` will be empty until you train or evaluate the model.\n"
          ]
        },
        {
          "output_type": "stream",
          "name": "stdout",
          "text": [
            "1/1 [==============================] - 0s 16ms/step\n",
            "********** TRAINING THE GAN **********\n",
            "7/7 [==============================] - 3s 411ms/step - d1_loss: 0.2076 - d2_loss: 0.2007 - g_loss: 2.6478\n"
          ]
        },
        {
          "output_type": "stream",
          "name": "stderr",
          "text": [
            "WARNING:tensorflow:Compiled the loaded model, but the compiled metrics have yet to be built. `model.compile_metrics` will be empty until you train or evaluate the model.\n",
            "WARNING:tensorflow:Compiled the loaded model, but the compiled metrics have yet to be built. `model.compile_metrics` will be empty until you train or evaluate the model.\n"
          ]
        },
        {
          "output_type": "stream",
          "name": "stdout",
          "text": [
            "1/1 [==============================] - 0s 19ms/step\n",
            "********** TRAINING THE GAN **********\n",
            "7/7 [==============================] - 3s 414ms/step - d1_loss: 0.2076 - d2_loss: 0.2012 - g_loss: 2.6935\n"
          ]
        },
        {
          "output_type": "stream",
          "name": "stderr",
          "text": [
            "WARNING:tensorflow:Compiled the loaded model, but the compiled metrics have yet to be built. `model.compile_metrics` will be empty until you train or evaluate the model.\n",
            "WARNING:tensorflow:Compiled the loaded model, but the compiled metrics have yet to be built. `model.compile_metrics` will be empty until you train or evaluate the model.\n"
          ]
        },
        {
          "output_type": "stream",
          "name": "stdout",
          "text": [
            "1/1 [==============================] - 0s 20ms/step\n",
            "********** TRAINING THE GAN **********\n",
            "7/7 [==============================] - 3s 414ms/step - d1_loss: 0.2048 - d2_loss: 0.2005 - g_loss: 2.7058\n"
          ]
        },
        {
          "output_type": "stream",
          "name": "stderr",
          "text": [
            "WARNING:tensorflow:Compiled the loaded model, but the compiled metrics have yet to be built. `model.compile_metrics` will be empty until you train or evaluate the model.\n",
            "WARNING:tensorflow:Compiled the loaded model, but the compiled metrics have yet to be built. `model.compile_metrics` will be empty until you train or evaluate the model.\n"
          ]
        },
        {
          "output_type": "stream",
          "name": "stdout",
          "text": [
            "1/1 [==============================] - 0s 16ms/step\n",
            "********** TRAINING THE GAN **********\n",
            "7/7 [==============================] - 3s 417ms/step - d1_loss: 0.2025 - d2_loss: 0.2005 - g_loss: 2.7016\n"
          ]
        },
        {
          "output_type": "stream",
          "name": "stderr",
          "text": [
            "WARNING:tensorflow:Compiled the loaded model, but the compiled metrics have yet to be built. `model.compile_metrics` will be empty until you train or evaluate the model.\n",
            "WARNING:tensorflow:Compiled the loaded model, but the compiled metrics have yet to be built. `model.compile_metrics` will be empty until you train or evaluate the model.\n"
          ]
        },
        {
          "output_type": "stream",
          "name": "stdout",
          "text": [
            "1/1 [==============================] - 0s 15ms/step\n",
            "********** TRAINING THE GAN **********\n",
            "7/7 [==============================] - 3s 416ms/step - d1_loss: 0.8101 - d2_loss: 1.1965 - g_loss: 2.8240\n"
          ]
        },
        {
          "output_type": "stream",
          "name": "stderr",
          "text": [
            "WARNING:tensorflow:Compiled the loaded model, but the compiled metrics have yet to be built. `model.compile_metrics` will be empty until you train or evaluate the model.\n",
            "WARNING:tensorflow:Compiled the loaded model, but the compiled metrics have yet to be built. `model.compile_metrics` will be empty until you train or evaluate the model.\n"
          ]
        },
        {
          "output_type": "stream",
          "name": "stdout",
          "text": [
            "1/1 [==============================] - 0s 16ms/step\n",
            "********** TRAINING THE GAN **********\n",
            "7/7 [==============================] - 3s 421ms/step - d1_loss: 1.5833 - d2_loss: 4.5023 - g_loss: 10.5674\n"
          ]
        },
        {
          "output_type": "stream",
          "name": "stderr",
          "text": [
            "WARNING:tensorflow:Compiled the loaded model, but the compiled metrics have yet to be built. `model.compile_metrics` will be empty until you train or evaluate the model.\n",
            "WARNING:tensorflow:Compiled the loaded model, but the compiled metrics have yet to be built. `model.compile_metrics` will be empty until you train or evaluate the model.\n"
          ]
        },
        {
          "output_type": "stream",
          "name": "stdout",
          "text": [
            "1/1 [==============================] - 0s 18ms/step\n",
            "********** TRAINING THE GAN **********\n",
            "7/7 [==============================] - 3s 416ms/step - d1_loss: 0.6778 - d2_loss: 1.2031 - g_loss: 9.6597\n"
          ]
        },
        {
          "output_type": "stream",
          "name": "stderr",
          "text": [
            "WARNING:tensorflow:Compiled the loaded model, but the compiled metrics have yet to be built. `model.compile_metrics` will be empty until you train or evaluate the model.\n",
            "WARNING:tensorflow:Compiled the loaded model, but the compiled metrics have yet to be built. `model.compile_metrics` will be empty until you train or evaluate the model.\n"
          ]
        },
        {
          "output_type": "stream",
          "name": "stdout",
          "text": [
            "1/1 [==============================] - 0s 17ms/step\n",
            "********** TRAINING THE GAN **********\n",
            "7/7 [==============================] - 3s 415ms/step - d1_loss: 0.2639 - d2_loss: 0.4456 - g_loss: 4.4571\n"
          ]
        },
        {
          "output_type": "stream",
          "name": "stderr",
          "text": [
            "WARNING:tensorflow:Compiled the loaded model, but the compiled metrics have yet to be built. `model.compile_metrics` will be empty until you train or evaluate the model.\n",
            "WARNING:tensorflow:Compiled the loaded model, but the compiled metrics have yet to be built. `model.compile_metrics` will be empty until you train or evaluate the model.\n"
          ]
        },
        {
          "output_type": "stream",
          "name": "stdout",
          "text": [
            "1/1 [==============================] - 0s 18ms/step\n",
            "********** TRAINING THE GAN **********\n",
            "7/7 [==============================] - 3s 412ms/step - d1_loss: 0.2284 - d2_loss: 0.3584 - g_loss: 3.7802\n"
          ]
        },
        {
          "output_type": "stream",
          "name": "stderr",
          "text": [
            "WARNING:tensorflow:Compiled the loaded model, but the compiled metrics have yet to be built. `model.compile_metrics` will be empty until you train or evaluate the model.\n",
            "WARNING:tensorflow:Compiled the loaded model, but the compiled metrics have yet to be built. `model.compile_metrics` will be empty until you train or evaluate the model.\n"
          ]
        },
        {
          "output_type": "stream",
          "name": "stdout",
          "text": [
            "1/1 [==============================] - 0s 17ms/step\n",
            "********** TRAINING THE GAN **********\n",
            "7/7 [==============================] - 3s 412ms/step - d1_loss: 0.2838 - d2_loss: 0.4988 - g_loss: 4.1571\n"
          ]
        },
        {
          "output_type": "stream",
          "name": "stderr",
          "text": [
            "WARNING:tensorflow:Compiled the loaded model, but the compiled metrics have yet to be built. `model.compile_metrics` will be empty until you train or evaluate the model.\n",
            "WARNING:tensorflow:Compiled the loaded model, but the compiled metrics have yet to be built. `model.compile_metrics` will be empty until you train or evaluate the model.\n"
          ]
        },
        {
          "output_type": "stream",
          "name": "stdout",
          "text": [
            "1/1 [==============================] - 0s 20ms/step\n",
            "********** TRAINING THE GAN **********\n",
            "7/7 [==============================] - 3s 415ms/step - d1_loss: 0.3304 - d2_loss: 0.7401 - g_loss: 4.4551\n"
          ]
        },
        {
          "output_type": "stream",
          "name": "stderr",
          "text": [
            "WARNING:tensorflow:Compiled the loaded model, but the compiled metrics have yet to be built. `model.compile_metrics` will be empty until you train or evaluate the model.\n",
            "WARNING:tensorflow:Compiled the loaded model, but the compiled metrics have yet to be built. `model.compile_metrics` will be empty until you train or evaluate the model.\n"
          ]
        },
        {
          "output_type": "stream",
          "name": "stdout",
          "text": [
            "1/1 [==============================] - 0s 18ms/step\n",
            "********** TRAINING THE GAN **********\n",
            "7/7 [==============================] - 3s 415ms/step - d1_loss: 0.2218 - d2_loss: 0.3693 - g_loss: 3.2440\n"
          ]
        },
        {
          "output_type": "stream",
          "name": "stderr",
          "text": [
            "WARNING:tensorflow:Compiled the loaded model, but the compiled metrics have yet to be built. `model.compile_metrics` will be empty until you train or evaluate the model.\n",
            "WARNING:tensorflow:Compiled the loaded model, but the compiled metrics have yet to be built. `model.compile_metrics` will be empty until you train or evaluate the model.\n"
          ]
        },
        {
          "output_type": "stream",
          "name": "stdout",
          "text": [
            "1/1 [==============================] - 0s 16ms/step\n",
            "********** TRAINING THE GAN **********\n",
            "7/7 [==============================] - 3s 414ms/step - d1_loss: 0.2118 - d2_loss: 0.3644 - g_loss: 3.2646\n"
          ]
        },
        {
          "output_type": "stream",
          "name": "stderr",
          "text": [
            "WARNING:tensorflow:Compiled the loaded model, but the compiled metrics have yet to be built. `model.compile_metrics` will be empty until you train or evaluate the model.\n",
            "WARNING:tensorflow:Compiled the loaded model, but the compiled metrics have yet to be built. `model.compile_metrics` will be empty until you train or evaluate the model.\n"
          ]
        },
        {
          "output_type": "stream",
          "name": "stdout",
          "text": [
            "1/1 [==============================] - 0s 17ms/step\n",
            "********** TRAINING THE GAN **********\n",
            "7/7 [==============================] - 3s 414ms/step - d1_loss: 0.2309 - d2_loss: 0.3224 - g_loss: 3.3003\n"
          ]
        },
        {
          "output_type": "stream",
          "name": "stderr",
          "text": [
            "WARNING:tensorflow:Compiled the loaded model, but the compiled metrics have yet to be built. `model.compile_metrics` will be empty until you train or evaluate the model.\n",
            "WARNING:tensorflow:Compiled the loaded model, but the compiled metrics have yet to be built. `model.compile_metrics` will be empty until you train or evaluate the model.\n"
          ]
        },
        {
          "output_type": "stream",
          "name": "stdout",
          "text": [
            "1/1 [==============================] - 0s 17ms/step\n",
            "********** TRAINING THE GAN **********\n",
            "7/7 [==============================] - 3s 416ms/step - d1_loss: 0.2166 - d2_loss: 0.3176 - g_loss: 2.4983\n"
          ]
        },
        {
          "output_type": "stream",
          "name": "stderr",
          "text": [
            "WARNING:tensorflow:Compiled the loaded model, but the compiled metrics have yet to be built. `model.compile_metrics` will be empty until you train or evaluate the model.\n",
            "WARNING:tensorflow:Compiled the loaded model, but the compiled metrics have yet to be built. `model.compile_metrics` will be empty until you train or evaluate the model.\n"
          ]
        },
        {
          "output_type": "stream",
          "name": "stdout",
          "text": [
            "1/1 [==============================] - 0s 17ms/step\n",
            "********** TRAINING THE GAN **********\n",
            "7/7 [==============================] - 3s 415ms/step - d1_loss: 0.2166 - d2_loss: 0.3074 - g_loss: 2.8722\n"
          ]
        },
        {
          "output_type": "stream",
          "name": "stderr",
          "text": [
            "WARNING:tensorflow:Compiled the loaded model, but the compiled metrics have yet to be built. `model.compile_metrics` will be empty until you train or evaluate the model.\n",
            "WARNING:tensorflow:Compiled the loaded model, but the compiled metrics have yet to be built. `model.compile_metrics` will be empty until you train or evaluate the model.\n"
          ]
        },
        {
          "output_type": "stream",
          "name": "stdout",
          "text": [
            "1/1 [==============================] - 0s 16ms/step\n",
            "********** TRAINING THE GAN **********\n",
            "7/7 [==============================] - 3s 413ms/step - d1_loss: 0.2140 - d2_loss: 0.3416 - g_loss: 2.4607\n"
          ]
        },
        {
          "output_type": "stream",
          "name": "stderr",
          "text": [
            "WARNING:tensorflow:Compiled the loaded model, but the compiled metrics have yet to be built. `model.compile_metrics` will be empty until you train or evaluate the model.\n",
            "WARNING:tensorflow:Compiled the loaded model, but the compiled metrics have yet to be built. `model.compile_metrics` will be empty until you train or evaluate the model.\n"
          ]
        },
        {
          "output_type": "stream",
          "name": "stdout",
          "text": [
            "1/1 [==============================] - 0s 16ms/step\n",
            "********** TRAINING THE GAN **********\n",
            "7/7 [==============================] - 3s 417ms/step - d1_loss: 0.2111 - d2_loss: 0.3196 - g_loss: 2.5303\n"
          ]
        },
        {
          "output_type": "stream",
          "name": "stderr",
          "text": [
            "WARNING:tensorflow:Compiled the loaded model, but the compiled metrics have yet to be built. `model.compile_metrics` will be empty until you train or evaluate the model.\n",
            "WARNING:tensorflow:Compiled the loaded model, but the compiled metrics have yet to be built. `model.compile_metrics` will be empty until you train or evaluate the model.\n"
          ]
        },
        {
          "output_type": "stream",
          "name": "stdout",
          "text": [
            "1/1 [==============================] - 0s 15ms/step\n",
            "********** TRAINING THE GAN **********\n",
            "7/7 [==============================] - 3s 416ms/step - d1_loss: 0.2242 - d2_loss: 0.3903 - g_loss: 3.1617\n"
          ]
        },
        {
          "output_type": "stream",
          "name": "stderr",
          "text": [
            "WARNING:tensorflow:Compiled the loaded model, but the compiled metrics have yet to be built. `model.compile_metrics` will be empty until you train or evaluate the model.\n",
            "WARNING:tensorflow:Compiled the loaded model, but the compiled metrics have yet to be built. `model.compile_metrics` will be empty until you train or evaluate the model.\n"
          ]
        },
        {
          "output_type": "stream",
          "name": "stdout",
          "text": [
            "1/1 [==============================] - 0s 25ms/step\n",
            "********** TRAINING THE GAN **********\n",
            "7/7 [==============================] - 3s 415ms/step - d1_loss: 0.2034 - d2_loss: 0.3021 - g_loss: 2.9299\n"
          ]
        },
        {
          "output_type": "stream",
          "name": "stderr",
          "text": [
            "WARNING:tensorflow:Compiled the loaded model, but the compiled metrics have yet to be built. `model.compile_metrics` will be empty until you train or evaluate the model.\n",
            "WARNING:tensorflow:Compiled the loaded model, but the compiled metrics have yet to be built. `model.compile_metrics` will be empty until you train or evaluate the model.\n"
          ]
        },
        {
          "output_type": "stream",
          "name": "stdout",
          "text": [
            "1/1 [==============================] - 0s 18ms/step\n",
            "********** TRAINING THE GAN **********\n",
            "7/7 [==============================] - 3s 417ms/step - d1_loss: 0.2163 - d2_loss: 0.3086 - g_loss: 2.9400\n"
          ]
        },
        {
          "output_type": "stream",
          "name": "stderr",
          "text": [
            "WARNING:tensorflow:Compiled the loaded model, but the compiled metrics have yet to be built. `model.compile_metrics` will be empty until you train or evaluate the model.\n",
            "WARNING:tensorflow:Compiled the loaded model, but the compiled metrics have yet to be built. `model.compile_metrics` will be empty until you train or evaluate the model.\n"
          ]
        },
        {
          "output_type": "stream",
          "name": "stdout",
          "text": [
            "1/1 [==============================] - 0s 15ms/step\n",
            "********** TRAINING THE GAN **********\n",
            "7/7 [==============================] - 3s 416ms/step - d1_loss: 0.2054 - d2_loss: 0.2729 - g_loss: 2.7730\n"
          ]
        },
        {
          "output_type": "stream",
          "name": "stderr",
          "text": [
            "WARNING:tensorflow:Compiled the loaded model, but the compiled metrics have yet to be built. `model.compile_metrics` will be empty until you train or evaluate the model.\n",
            "WARNING:tensorflow:Compiled the loaded model, but the compiled metrics have yet to be built. `model.compile_metrics` will be empty until you train or evaluate the model.\n"
          ]
        },
        {
          "output_type": "stream",
          "name": "stdout",
          "text": [
            "1/1 [==============================] - 0s 16ms/step\n",
            "********** TRAINING THE GAN **********\n",
            "7/7 [==============================] - 3s 412ms/step - d1_loss: 0.2310 - d2_loss: 0.2644 - g_loss: 3.7666\n"
          ]
        },
        {
          "output_type": "stream",
          "name": "stderr",
          "text": [
            "WARNING:tensorflow:Compiled the loaded model, but the compiled metrics have yet to be built. `model.compile_metrics` will be empty until you train or evaluate the model.\n",
            "WARNING:tensorflow:Compiled the loaded model, but the compiled metrics have yet to be built. `model.compile_metrics` will be empty until you train or evaluate the model.\n"
          ]
        },
        {
          "output_type": "stream",
          "name": "stdout",
          "text": [
            "1/1 [==============================] - 0s 15ms/step\n",
            "********** TRAINING THE GAN **********\n",
            "7/7 [==============================] - 3s 411ms/step - d1_loss: 0.2071 - d2_loss: 0.2780 - g_loss: 2.9417\n"
          ]
        },
        {
          "output_type": "stream",
          "name": "stderr",
          "text": [
            "WARNING:tensorflow:Compiled the loaded model, but the compiled metrics have yet to be built. `model.compile_metrics` will be empty until you train or evaluate the model.\n",
            "WARNING:tensorflow:Compiled the loaded model, but the compiled metrics have yet to be built. `model.compile_metrics` will be empty until you train or evaluate the model.\n"
          ]
        },
        {
          "output_type": "stream",
          "name": "stdout",
          "text": [
            "1/1 [==============================] - 0s 16ms/step\n",
            "********** TRAINING THE GAN **********\n",
            "7/7 [==============================] - 3s 411ms/step - d1_loss: 0.2141 - d2_loss: 0.2571 - g_loss: 3.3383\n"
          ]
        },
        {
          "output_type": "stream",
          "name": "stderr",
          "text": [
            "WARNING:tensorflow:Compiled the loaded model, but the compiled metrics have yet to be built. `model.compile_metrics` will be empty until you train or evaluate the model.\n",
            "WARNING:tensorflow:Compiled the loaded model, but the compiled metrics have yet to be built. `model.compile_metrics` will be empty until you train or evaluate the model.\n"
          ]
        },
        {
          "output_type": "stream",
          "name": "stdout",
          "text": [
            "1/1 [==============================] - 0s 17ms/step\n",
            "********** TRAINING THE GAN **********\n",
            "7/7 [==============================] - 3s 416ms/step - d1_loss: 0.2057 - d2_loss: 0.2571 - g_loss: 3.1046\n"
          ]
        },
        {
          "output_type": "stream",
          "name": "stderr",
          "text": [
            "WARNING:tensorflow:Compiled the loaded model, but the compiled metrics have yet to be built. `model.compile_metrics` will be empty until you train or evaluate the model.\n",
            "WARNING:tensorflow:Compiled the loaded model, but the compiled metrics have yet to be built. `model.compile_metrics` will be empty until you train or evaluate the model.\n"
          ]
        },
        {
          "output_type": "stream",
          "name": "stdout",
          "text": [
            "1/1 [==============================] - 0s 15ms/step\n",
            "********** TRAINING THE GAN **********\n",
            "7/7 [==============================] - 3s 410ms/step - d1_loss: 0.2295 - d2_loss: 0.2775 - g_loss: 3.3598\n"
          ]
        },
        {
          "output_type": "stream",
          "name": "stderr",
          "text": [
            "WARNING:tensorflow:Compiled the loaded model, but the compiled metrics have yet to be built. `model.compile_metrics` will be empty until you train or evaluate the model.\n",
            "WARNING:tensorflow:Compiled the loaded model, but the compiled metrics have yet to be built. `model.compile_metrics` will be empty until you train or evaluate the model.\n"
          ]
        },
        {
          "output_type": "stream",
          "name": "stdout",
          "text": [
            "1/1 [==============================] - 0s 16ms/step\n",
            "********** TRAINING THE GAN **********\n",
            "7/7 [==============================] - 3s 411ms/step - d1_loss: 0.2153 - d2_loss: 0.2670 - g_loss: 2.7549\n"
          ]
        },
        {
          "output_type": "stream",
          "name": "stderr",
          "text": [
            "WARNING:tensorflow:Compiled the loaded model, but the compiled metrics have yet to be built. `model.compile_metrics` will be empty until you train or evaluate the model.\n",
            "WARNING:tensorflow:Compiled the loaded model, but the compiled metrics have yet to be built. `model.compile_metrics` will be empty until you train or evaluate the model.\n"
          ]
        },
        {
          "output_type": "stream",
          "name": "stdout",
          "text": [
            "1/1 [==============================] - 0s 16ms/step\n",
            "********** TRAINING THE GAN **********\n",
            "7/7 [==============================] - 3s 414ms/step - d1_loss: 0.2240 - d2_loss: 0.2604 - g_loss: 2.6299\n"
          ]
        },
        {
          "output_type": "stream",
          "name": "stderr",
          "text": [
            "WARNING:tensorflow:Compiled the loaded model, but the compiled metrics have yet to be built. `model.compile_metrics` will be empty until you train or evaluate the model.\n",
            "WARNING:tensorflow:Compiled the loaded model, but the compiled metrics have yet to be built. `model.compile_metrics` will be empty until you train or evaluate the model.\n"
          ]
        },
        {
          "output_type": "stream",
          "name": "stdout",
          "text": [
            "1/1 [==============================] - 0s 17ms/step\n",
            "********** TRAINING THE GAN **********\n",
            "7/7 [==============================] - 3s 413ms/step - d1_loss: 0.2312 - d2_loss: 0.2735 - g_loss: 2.5691\n"
          ]
        },
        {
          "output_type": "stream",
          "name": "stderr",
          "text": [
            "WARNING:tensorflow:Compiled the loaded model, but the compiled metrics have yet to be built. `model.compile_metrics` will be empty until you train or evaluate the model.\n",
            "WARNING:tensorflow:Compiled the loaded model, but the compiled metrics have yet to be built. `model.compile_metrics` will be empty until you train or evaluate the model.\n"
          ]
        },
        {
          "output_type": "stream",
          "name": "stdout",
          "text": [
            "1/1 [==============================] - 0s 15ms/step\n",
            "********** TRAINING THE GAN **********\n",
            "7/7 [==============================] - 3s 414ms/step - d1_loss: 0.2228 - d2_loss: 0.2652 - g_loss: 2.5745\n"
          ]
        },
        {
          "output_type": "stream",
          "name": "stderr",
          "text": [
            "WARNING:tensorflow:Compiled the loaded model, but the compiled metrics have yet to be built. `model.compile_metrics` will be empty until you train or evaluate the model.\n",
            "WARNING:tensorflow:Compiled the loaded model, but the compiled metrics have yet to be built. `model.compile_metrics` will be empty until you train or evaluate the model.\n"
          ]
        },
        {
          "output_type": "stream",
          "name": "stdout",
          "text": [
            "1/1 [==============================] - 0s 18ms/step\n",
            "********** TRAINING THE GAN **********\n",
            "7/7 [==============================] - 3s 416ms/step - d1_loss: 0.2199 - d2_loss: 0.2484 - g_loss: 2.9113\n"
          ]
        },
        {
          "output_type": "stream",
          "name": "stderr",
          "text": [
            "WARNING:tensorflow:Compiled the loaded model, but the compiled metrics have yet to be built. `model.compile_metrics` will be empty until you train or evaluate the model.\n",
            "WARNING:tensorflow:Compiled the loaded model, but the compiled metrics have yet to be built. `model.compile_metrics` will be empty until you train or evaluate the model.\n"
          ]
        },
        {
          "output_type": "stream",
          "name": "stdout",
          "text": [
            "1/1 [==============================] - 0s 26ms/step\n",
            "********** TRAINING THE GAN **********\n",
            "7/7 [==============================] - 3s 415ms/step - d1_loss: 0.2220 - d2_loss: 0.2513 - g_loss: 2.6576\n"
          ]
        },
        {
          "output_type": "stream",
          "name": "stderr",
          "text": [
            "WARNING:tensorflow:Compiled the loaded model, but the compiled metrics have yet to be built. `model.compile_metrics` will be empty until you train or evaluate the model.\n",
            "WARNING:tensorflow:Compiled the loaded model, but the compiled metrics have yet to be built. `model.compile_metrics` will be empty until you train or evaluate the model.\n"
          ]
        },
        {
          "output_type": "stream",
          "name": "stdout",
          "text": [
            "1/1 [==============================] - 0s 18ms/step\n",
            "********** TRAINING THE GAN **********\n",
            "7/7 [==============================] - 3s 415ms/step - d1_loss: 0.2239 - d2_loss: 0.2435 - g_loss: 2.5600\n"
          ]
        },
        {
          "output_type": "stream",
          "name": "stderr",
          "text": [
            "WARNING:tensorflow:Compiled the loaded model, but the compiled metrics have yet to be built. `model.compile_metrics` will be empty until you train or evaluate the model.\n",
            "WARNING:tensorflow:Compiled the loaded model, but the compiled metrics have yet to be built. `model.compile_metrics` will be empty until you train or evaluate the model.\n"
          ]
        },
        {
          "output_type": "stream",
          "name": "stdout",
          "text": [
            "1/1 [==============================] - 0s 16ms/step\n",
            "********** TRAINING THE GAN **********\n",
            "7/7 [==============================] - 3s 417ms/step - d1_loss: 0.2170 - d2_loss: 0.2708 - g_loss: 2.7878\n"
          ]
        },
        {
          "output_type": "stream",
          "name": "stderr",
          "text": [
            "WARNING:tensorflow:Compiled the loaded model, but the compiled metrics have yet to be built. `model.compile_metrics` will be empty until you train or evaluate the model.\n",
            "WARNING:tensorflow:Compiled the loaded model, but the compiled metrics have yet to be built. `model.compile_metrics` will be empty until you train or evaluate the model.\n"
          ]
        },
        {
          "output_type": "stream",
          "name": "stdout",
          "text": [
            "1/1 [==============================] - 0s 17ms/step\n",
            "********** TRAINING THE GAN **********\n",
            "7/7 [==============================] - 3s 417ms/step - d1_loss: 0.2237 - d2_loss: 0.2516 - g_loss: 2.8571\n"
          ]
        },
        {
          "output_type": "stream",
          "name": "stderr",
          "text": [
            "WARNING:tensorflow:Compiled the loaded model, but the compiled metrics have yet to be built. `model.compile_metrics` will be empty until you train or evaluate the model.\n",
            "WARNING:tensorflow:Compiled the loaded model, but the compiled metrics have yet to be built. `model.compile_metrics` will be empty until you train or evaluate the model.\n"
          ]
        },
        {
          "output_type": "stream",
          "name": "stdout",
          "text": [
            "1/1 [==============================] - 0s 15ms/step\n",
            "********** TRAINING THE GAN **********\n",
            "7/7 [==============================] - 3s 417ms/step - d1_loss: 0.2315 - d2_loss: 0.2348 - g_loss: 2.7331\n"
          ]
        },
        {
          "output_type": "stream",
          "name": "stderr",
          "text": [
            "WARNING:tensorflow:Compiled the loaded model, but the compiled metrics have yet to be built. `model.compile_metrics` will be empty until you train or evaluate the model.\n",
            "WARNING:tensorflow:Compiled the loaded model, but the compiled metrics have yet to be built. `model.compile_metrics` will be empty until you train or evaluate the model.\n"
          ]
        },
        {
          "output_type": "stream",
          "name": "stdout",
          "text": [
            "1/1 [==============================] - 0s 15ms/step\n",
            "********** TRAINING THE GAN **********\n",
            "7/7 [==============================] - 3s 416ms/step - d1_loss: 0.2210 - d2_loss: 0.2357 - g_loss: 2.8066\n"
          ]
        },
        {
          "output_type": "stream",
          "name": "stderr",
          "text": [
            "WARNING:tensorflow:Compiled the loaded model, but the compiled metrics have yet to be built. `model.compile_metrics` will be empty until you train or evaluate the model.\n",
            "WARNING:tensorflow:Compiled the loaded model, but the compiled metrics have yet to be built. `model.compile_metrics` will be empty until you train or evaluate the model.\n"
          ]
        },
        {
          "output_type": "stream",
          "name": "stdout",
          "text": [
            "1/1 [==============================] - 0s 15ms/step\n",
            "********** TRAINING THE GAN **********\n",
            "7/7 [==============================] - 3s 415ms/step - d1_loss: 0.2222 - d2_loss: 0.2345 - g_loss: 2.7585\n"
          ]
        },
        {
          "output_type": "stream",
          "name": "stderr",
          "text": [
            "WARNING:tensorflow:Compiled the loaded model, but the compiled metrics have yet to be built. `model.compile_metrics` will be empty until you train or evaluate the model.\n",
            "WARNING:tensorflow:Compiled the loaded model, but the compiled metrics have yet to be built. `model.compile_metrics` will be empty until you train or evaluate the model.\n"
          ]
        },
        {
          "output_type": "stream",
          "name": "stdout",
          "text": [
            "1/1 [==============================] - 0s 17ms/step\n",
            "********** TRAINING THE GAN **********\n",
            "7/7 [==============================] - 3s 414ms/step - d1_loss: 0.2247 - d2_loss: 0.2453 - g_loss: 2.8053\n"
          ]
        },
        {
          "output_type": "stream",
          "name": "stderr",
          "text": [
            "WARNING:tensorflow:Compiled the loaded model, but the compiled metrics have yet to be built. `model.compile_metrics` will be empty until you train or evaluate the model.\n",
            "WARNING:tensorflow:Compiled the loaded model, but the compiled metrics have yet to be built. `model.compile_metrics` will be empty until you train or evaluate the model.\n"
          ]
        },
        {
          "output_type": "stream",
          "name": "stdout",
          "text": [
            "1/1 [==============================] - 0s 16ms/step\n",
            "********** TRAINING THE GAN **********\n",
            "7/7 [==============================] - 3s 415ms/step - d1_loss: 0.2221 - d2_loss: 0.2457 - g_loss: 2.6769\n"
          ]
        },
        {
          "output_type": "stream",
          "name": "stderr",
          "text": [
            "WARNING:tensorflow:Compiled the loaded model, but the compiled metrics have yet to be built. `model.compile_metrics` will be empty until you train or evaluate the model.\n",
            "WARNING:tensorflow:Compiled the loaded model, but the compiled metrics have yet to be built. `model.compile_metrics` will be empty until you train or evaluate the model.\n"
          ]
        },
        {
          "output_type": "stream",
          "name": "stdout",
          "text": [
            "1/1 [==============================] - 0s 26ms/step\n",
            "********** TRAINING THE GAN **********\n",
            "7/7 [==============================] - 3s 415ms/step - d1_loss: 0.2285 - d2_loss: 0.2390 - g_loss: 2.6409\n"
          ]
        },
        {
          "output_type": "stream",
          "name": "stderr",
          "text": [
            "WARNING:tensorflow:Compiled the loaded model, but the compiled metrics have yet to be built. `model.compile_metrics` will be empty until you train or evaluate the model.\n",
            "WARNING:tensorflow:Compiled the loaded model, but the compiled metrics have yet to be built. `model.compile_metrics` will be empty until you train or evaluate the model.\n"
          ]
        },
        {
          "output_type": "stream",
          "name": "stdout",
          "text": [
            "1/1 [==============================] - 0s 15ms/step\n",
            "********** TRAINING THE GAN **********\n",
            "7/7 [==============================] - 3s 413ms/step - d1_loss: 0.2275 - d2_loss: 0.2378 - g_loss: 2.7967\n"
          ]
        },
        {
          "output_type": "stream",
          "name": "stderr",
          "text": [
            "WARNING:tensorflow:Compiled the loaded model, but the compiled metrics have yet to be built. `model.compile_metrics` will be empty until you train or evaluate the model.\n",
            "WARNING:tensorflow:Compiled the loaded model, but the compiled metrics have yet to be built. `model.compile_metrics` will be empty until you train or evaluate the model.\n"
          ]
        },
        {
          "output_type": "stream",
          "name": "stdout",
          "text": [
            "1/1 [==============================] - 0s 17ms/step\n",
            "********** TRAINING THE GAN **********\n",
            "7/7 [==============================] - 3s 413ms/step - d1_loss: 0.2291 - d2_loss: 0.2276 - g_loss: 2.8765\n"
          ]
        },
        {
          "output_type": "stream",
          "name": "stderr",
          "text": [
            "WARNING:tensorflow:Compiled the loaded model, but the compiled metrics have yet to be built. `model.compile_metrics` will be empty until you train or evaluate the model.\n",
            "WARNING:tensorflow:Compiled the loaded model, but the compiled metrics have yet to be built. `model.compile_metrics` will be empty until you train or evaluate the model.\n"
          ]
        },
        {
          "output_type": "stream",
          "name": "stdout",
          "text": [
            "1/1 [==============================] - 0s 17ms/step\n",
            "********** TRAINING THE GAN **********\n",
            "7/7 [==============================] - 3s 420ms/step - d1_loss: 0.2293 - d2_loss: 0.2284 - g_loss: 2.8111\n"
          ]
        },
        {
          "output_type": "stream",
          "name": "stderr",
          "text": [
            "WARNING:tensorflow:Compiled the loaded model, but the compiled metrics have yet to be built. `model.compile_metrics` will be empty until you train or evaluate the model.\n",
            "WARNING:tensorflow:Compiled the loaded model, but the compiled metrics have yet to be built. `model.compile_metrics` will be empty until you train or evaluate the model.\n"
          ]
        },
        {
          "output_type": "stream",
          "name": "stdout",
          "text": [
            "1/1 [==============================] - 0s 16ms/step\n",
            "********** TRAINING THE GAN **********\n",
            "7/7 [==============================] - 3s 414ms/step - d1_loss: 0.2201 - d2_loss: 0.2256 - g_loss: 2.8593\n"
          ]
        },
        {
          "output_type": "stream",
          "name": "stderr",
          "text": [
            "WARNING:tensorflow:Compiled the loaded model, but the compiled metrics have yet to be built. `model.compile_metrics` will be empty until you train or evaluate the model.\n",
            "WARNING:tensorflow:Compiled the loaded model, but the compiled metrics have yet to be built. `model.compile_metrics` will be empty until you train or evaluate the model.\n"
          ]
        },
        {
          "output_type": "stream",
          "name": "stdout",
          "text": [
            "1/1 [==============================] - 0s 18ms/step\n",
            "********** TRAINING THE GAN **********\n",
            "7/7 [==============================] - 3s 414ms/step - d1_loss: 0.2170 - d2_loss: 0.2286 - g_loss: 2.7209\n"
          ]
        },
        {
          "output_type": "stream",
          "name": "stderr",
          "text": [
            "WARNING:tensorflow:Compiled the loaded model, but the compiled metrics have yet to be built. `model.compile_metrics` will be empty until you train or evaluate the model.\n",
            "WARNING:tensorflow:Compiled the loaded model, but the compiled metrics have yet to be built. `model.compile_metrics` will be empty until you train or evaluate the model.\n"
          ]
        },
        {
          "output_type": "stream",
          "name": "stdout",
          "text": [
            "1/1 [==============================] - 0s 19ms/step\n",
            "********** TRAINING THE GAN **********\n",
            "7/7 [==============================] - 3s 415ms/step - d1_loss: 0.2155 - d2_loss: 0.2255 - g_loss: 2.9001\n"
          ]
        },
        {
          "output_type": "stream",
          "name": "stderr",
          "text": [
            "WARNING:tensorflow:Compiled the loaded model, but the compiled metrics have yet to be built. `model.compile_metrics` will be empty until you train or evaluate the model.\n",
            "WARNING:tensorflow:Compiled the loaded model, but the compiled metrics have yet to be built. `model.compile_metrics` will be empty until you train or evaluate the model.\n"
          ]
        },
        {
          "output_type": "stream",
          "name": "stdout",
          "text": [
            "1/1 [==============================] - 0s 16ms/step\n",
            "********** TRAINING THE GAN **********\n",
            "7/7 [==============================] - 3s 416ms/step - d1_loss: 0.2133 - d2_loss: 0.2296 - g_loss: 2.9472\n"
          ]
        },
        {
          "output_type": "stream",
          "name": "stderr",
          "text": [
            "WARNING:tensorflow:Compiled the loaded model, but the compiled metrics have yet to be built. `model.compile_metrics` will be empty until you train or evaluate the model.\n",
            "WARNING:tensorflow:Compiled the loaded model, but the compiled metrics have yet to be built. `model.compile_metrics` will be empty until you train or evaluate the model.\n"
          ]
        },
        {
          "output_type": "stream",
          "name": "stdout",
          "text": [
            "1/1 [==============================] - 0s 18ms/step\n",
            "********** TRAINING THE GAN **********\n",
            "7/7 [==============================] - 3s 413ms/step - d1_loss: 0.2118 - d2_loss: 0.2207 - g_loss: 2.9995\n"
          ]
        },
        {
          "output_type": "stream",
          "name": "stderr",
          "text": [
            "WARNING:tensorflow:Compiled the loaded model, but the compiled metrics have yet to be built. `model.compile_metrics` will be empty until you train or evaluate the model.\n",
            "WARNING:tensorflow:Compiled the loaded model, but the compiled metrics have yet to be built. `model.compile_metrics` will be empty until you train or evaluate the model.\n"
          ]
        },
        {
          "output_type": "stream",
          "name": "stdout",
          "text": [
            "1/1 [==============================] - 0s 24ms/step\n",
            "********** TRAINING THE GAN **********\n",
            "7/7 [==============================] - 3s 415ms/step - d1_loss: 0.2097 - d2_loss: 0.2219 - g_loss: 2.9011\n"
          ]
        },
        {
          "output_type": "stream",
          "name": "stderr",
          "text": [
            "WARNING:tensorflow:Compiled the loaded model, but the compiled metrics have yet to be built. `model.compile_metrics` will be empty until you train or evaluate the model.\n",
            "WARNING:tensorflow:Compiled the loaded model, but the compiled metrics have yet to be built. `model.compile_metrics` will be empty until you train or evaluate the model.\n"
          ]
        },
        {
          "output_type": "stream",
          "name": "stdout",
          "text": [
            "1/1 [==============================] - 0s 17ms/step\n",
            "********** TRAINING THE GAN **********\n",
            "7/7 [==============================] - 3s 418ms/step - d1_loss: 0.2110 - d2_loss: 0.2206 - g_loss: 2.9782\n"
          ]
        },
        {
          "output_type": "stream",
          "name": "stderr",
          "text": [
            "WARNING:tensorflow:Compiled the loaded model, but the compiled metrics have yet to be built. `model.compile_metrics` will be empty until you train or evaluate the model.\n",
            "WARNING:tensorflow:Compiled the loaded model, but the compiled metrics have yet to be built. `model.compile_metrics` will be empty until you train or evaluate the model.\n"
          ]
        },
        {
          "output_type": "stream",
          "name": "stdout",
          "text": [
            "1/1 [==============================] - 0s 18ms/step\n",
            "********** TRAINING THE GAN **********\n",
            "7/7 [==============================] - 3s 420ms/step - d1_loss: 0.2117 - d2_loss: 0.2215 - g_loss: 2.9451\n"
          ]
        },
        {
          "output_type": "stream",
          "name": "stderr",
          "text": [
            "WARNING:tensorflow:Compiled the loaded model, but the compiled metrics have yet to be built. `model.compile_metrics` will be empty until you train or evaluate the model.\n",
            "WARNING:tensorflow:Compiled the loaded model, but the compiled metrics have yet to be built. `model.compile_metrics` will be empty until you train or evaluate the model.\n"
          ]
        },
        {
          "output_type": "stream",
          "name": "stdout",
          "text": [
            "1/1 [==============================] - 0s 15ms/step\n",
            "********** TRAINING THE GAN **********\n",
            "7/7 [==============================] - 3s 417ms/step - d1_loss: 0.2122 - d2_loss: 0.2193 - g_loss: 2.9452\n"
          ]
        },
        {
          "output_type": "stream",
          "name": "stderr",
          "text": [
            "WARNING:tensorflow:Compiled the loaded model, but the compiled metrics have yet to be built. `model.compile_metrics` will be empty until you train or evaluate the model.\n",
            "WARNING:tensorflow:Compiled the loaded model, but the compiled metrics have yet to be built. `model.compile_metrics` will be empty until you train or evaluate the model.\n"
          ]
        },
        {
          "output_type": "stream",
          "name": "stdout",
          "text": [
            "1/1 [==============================] - 0s 18ms/step\n",
            "********** TRAINING THE GAN **********\n",
            "7/7 [==============================] - 3s 420ms/step - d1_loss: 0.2158 - d2_loss: 0.2226 - g_loss: 3.1874\n"
          ]
        },
        {
          "output_type": "stream",
          "name": "stderr",
          "text": [
            "WARNING:tensorflow:Compiled the loaded model, but the compiled metrics have yet to be built. `model.compile_metrics` will be empty until you train or evaluate the model.\n",
            "WARNING:tensorflow:Compiled the loaded model, but the compiled metrics have yet to be built. `model.compile_metrics` will be empty until you train or evaluate the model.\n"
          ]
        },
        {
          "output_type": "stream",
          "name": "stdout",
          "text": [
            "1/1 [==============================] - 0s 20ms/step\n",
            "********** TRAINING THE GAN **********\n",
            "7/7 [==============================] - 3s 414ms/step - d1_loss: 0.2151 - d2_loss: 0.2248 - g_loss: 3.2164\n"
          ]
        },
        {
          "output_type": "stream",
          "name": "stderr",
          "text": [
            "WARNING:tensorflow:Compiled the loaded model, but the compiled metrics have yet to be built. `model.compile_metrics` will be empty until you train or evaluate the model.\n",
            "WARNING:tensorflow:Compiled the loaded model, but the compiled metrics have yet to be built. `model.compile_metrics` will be empty until you train or evaluate the model.\n"
          ]
        },
        {
          "output_type": "stream",
          "name": "stdout",
          "text": [
            "1/1 [==============================] - 0s 16ms/step\n",
            "********** TRAINING THE GAN **********\n",
            "7/7 [==============================] - 3s 415ms/step - d1_loss: 0.2100 - d2_loss: 0.2254 - g_loss: 3.0531\n"
          ]
        },
        {
          "output_type": "stream",
          "name": "stderr",
          "text": [
            "WARNING:tensorflow:Compiled the loaded model, but the compiled metrics have yet to be built. `model.compile_metrics` will be empty until you train or evaluate the model.\n",
            "WARNING:tensorflow:Compiled the loaded model, but the compiled metrics have yet to be built. `model.compile_metrics` will be empty until you train or evaluate the model.\n"
          ]
        },
        {
          "output_type": "stream",
          "name": "stdout",
          "text": [
            "1/1 [==============================] - 0s 18ms/step\n",
            "********** TRAINING THE GAN **********\n",
            "7/7 [==============================] - 3s 413ms/step - d1_loss: 0.2373 - d2_loss: 0.2343 - g_loss: 3.4201\n"
          ]
        },
        {
          "output_type": "stream",
          "name": "stderr",
          "text": [
            "WARNING:tensorflow:Compiled the loaded model, but the compiled metrics have yet to be built. `model.compile_metrics` will be empty until you train or evaluate the model.\n",
            "WARNING:tensorflow:Compiled the loaded model, but the compiled metrics have yet to be built. `model.compile_metrics` will be empty until you train or evaluate the model.\n"
          ]
        },
        {
          "output_type": "stream",
          "name": "stdout",
          "text": [
            "1/1 [==============================] - 0s 17ms/step\n",
            "********** TRAINING THE GAN **********\n",
            "7/7 [==============================] - 3s 415ms/step - d1_loss: 0.2092 - d2_loss: 0.2204 - g_loss: 3.0218\n"
          ]
        },
        {
          "output_type": "stream",
          "name": "stderr",
          "text": [
            "WARNING:tensorflow:Compiled the loaded model, but the compiled metrics have yet to be built. `model.compile_metrics` will be empty until you train or evaluate the model.\n",
            "WARNING:tensorflow:Compiled the loaded model, but the compiled metrics have yet to be built. `model.compile_metrics` will be empty until you train or evaluate the model.\n"
          ]
        },
        {
          "output_type": "stream",
          "name": "stdout",
          "text": [
            "1/1 [==============================] - 0s 21ms/step\n",
            "********** TRAINING THE GAN **********\n",
            "7/7 [==============================] - 3s 413ms/step - d1_loss: 0.2137 - d2_loss: 0.2310 - g_loss: 3.0696\n"
          ]
        },
        {
          "output_type": "stream",
          "name": "stderr",
          "text": [
            "WARNING:tensorflow:Compiled the loaded model, but the compiled metrics have yet to be built. `model.compile_metrics` will be empty until you train or evaluate the model.\n",
            "WARNING:tensorflow:Compiled the loaded model, but the compiled metrics have yet to be built. `model.compile_metrics` will be empty until you train or evaluate the model.\n"
          ]
        },
        {
          "output_type": "stream",
          "name": "stdout",
          "text": [
            "1/1 [==============================] - 0s 19ms/step\n",
            "********** TRAINING THE GAN **********\n",
            "7/7 [==============================] - 3s 416ms/step - d1_loss: 0.2455 - d2_loss: 0.2283 - g_loss: 3.5709\n"
          ]
        },
        {
          "output_type": "stream",
          "name": "stderr",
          "text": [
            "WARNING:tensorflow:Compiled the loaded model, but the compiled metrics have yet to be built. `model.compile_metrics` will be empty until you train or evaluate the model.\n",
            "WARNING:tensorflow:Compiled the loaded model, but the compiled metrics have yet to be built. `model.compile_metrics` will be empty until you train or evaluate the model.\n"
          ]
        },
        {
          "output_type": "stream",
          "name": "stdout",
          "text": [
            "1/1 [==============================] - 0s 20ms/step\n",
            "********** TRAINING THE GAN **********\n",
            "7/7 [==============================] - 3s 413ms/step - d1_loss: 0.2068 - d2_loss: 0.2236 - g_loss: 2.9090\n"
          ]
        },
        {
          "output_type": "stream",
          "name": "stderr",
          "text": [
            "WARNING:tensorflow:Compiled the loaded model, but the compiled metrics have yet to be built. `model.compile_metrics` will be empty until you train or evaluate the model.\n",
            "WARNING:tensorflow:Compiled the loaded model, but the compiled metrics have yet to be built. `model.compile_metrics` will be empty until you train or evaluate the model.\n"
          ]
        },
        {
          "output_type": "stream",
          "name": "stdout",
          "text": [
            "1/1 [==============================] - 0s 16ms/step\n",
            "********** TRAINING THE GAN **********\n",
            "7/7 [==============================] - 3s 404ms/step - d1_loss: 0.2228 - d2_loss: 0.2201 - g_loss: 3.1701\n"
          ]
        },
        {
          "output_type": "stream",
          "name": "stderr",
          "text": [
            "WARNING:tensorflow:Compiled the loaded model, but the compiled metrics have yet to be built. `model.compile_metrics` will be empty until you train or evaluate the model.\n",
            "WARNING:tensorflow:Compiled the loaded model, but the compiled metrics have yet to be built. `model.compile_metrics` will be empty until you train or evaluate the model.\n"
          ]
        },
        {
          "output_type": "stream",
          "name": "stdout",
          "text": [
            "1/1 [==============================] - 0s 17ms/step\n",
            "********** TRAINING THE GAN **********\n",
            "7/7 [==============================] - 3s 407ms/step - d1_loss: 0.2151 - d2_loss: 0.2187 - g_loss: 3.0198\n"
          ]
        },
        {
          "output_type": "stream",
          "name": "stderr",
          "text": [
            "WARNING:tensorflow:Compiled the loaded model, but the compiled metrics have yet to be built. `model.compile_metrics` will be empty until you train or evaluate the model.\n",
            "WARNING:tensorflow:Compiled the loaded model, but the compiled metrics have yet to be built. `model.compile_metrics` will be empty until you train or evaluate the model.\n"
          ]
        },
        {
          "output_type": "stream",
          "name": "stdout",
          "text": [
            "1/1 [==============================] - 0s 29ms/step\n",
            "********** TRAINING THE GAN **********\n",
            "7/7 [==============================] - 3s 413ms/step - d1_loss: 0.2166 - d2_loss: 0.2223 - g_loss: 3.0807\n"
          ]
        },
        {
          "output_type": "stream",
          "name": "stderr",
          "text": [
            "WARNING:tensorflow:Compiled the loaded model, but the compiled metrics have yet to be built. `model.compile_metrics` will be empty until you train or evaluate the model.\n",
            "WARNING:tensorflow:Compiled the loaded model, but the compiled metrics have yet to be built. `model.compile_metrics` will be empty until you train or evaluate the model.\n"
          ]
        },
        {
          "output_type": "stream",
          "name": "stdout",
          "text": [
            "1/1 [==============================] - 0s 28ms/step\n",
            "********** TRAINING THE GAN **********\n",
            "7/7 [==============================] - 3s 412ms/step - d1_loss: 0.2066 - d2_loss: 0.2188 - g_loss: 2.9634\n"
          ]
        },
        {
          "output_type": "stream",
          "name": "stderr",
          "text": [
            "WARNING:tensorflow:Compiled the loaded model, but the compiled metrics have yet to be built. `model.compile_metrics` will be empty until you train or evaluate the model.\n",
            "WARNING:tensorflow:Compiled the loaded model, but the compiled metrics have yet to be built. `model.compile_metrics` will be empty until you train or evaluate the model.\n"
          ]
        },
        {
          "output_type": "stream",
          "name": "stdout",
          "text": [
            "1/1 [==============================] - 0s 19ms/step\n",
            "********** TRAINING THE GAN **********\n",
            "7/7 [==============================] - 3s 416ms/step - d1_loss: 0.2077 - d2_loss: 0.2182 - g_loss: 2.9082\n"
          ]
        },
        {
          "output_type": "stream",
          "name": "stderr",
          "text": [
            "WARNING:tensorflow:Compiled the loaded model, but the compiled metrics have yet to be built. `model.compile_metrics` will be empty until you train or evaluate the model.\n",
            "WARNING:tensorflow:Compiled the loaded model, but the compiled metrics have yet to be built. `model.compile_metrics` will be empty until you train or evaluate the model.\n"
          ]
        },
        {
          "output_type": "stream",
          "name": "stdout",
          "text": [
            "1/1 [==============================] - 0s 22ms/step\n",
            "********** TRAINING THE GAN **********\n",
            "7/7 [==============================] - 3s 420ms/step - d1_loss: 0.2098 - d2_loss: 0.2168 - g_loss: 2.9281\n"
          ]
        },
        {
          "output_type": "stream",
          "name": "stderr",
          "text": [
            "WARNING:tensorflow:Compiled the loaded model, but the compiled metrics have yet to be built. `model.compile_metrics` will be empty until you train or evaluate the model.\n",
            "WARNING:tensorflow:Compiled the loaded model, but the compiled metrics have yet to be built. `model.compile_metrics` will be empty until you train or evaluate the model.\n"
          ]
        },
        {
          "output_type": "stream",
          "name": "stdout",
          "text": [
            "1/1 [==============================] - 0s 19ms/step\n",
            "********** TRAINING THE GAN **********\n",
            "7/7 [==============================] - 3s 421ms/step - d1_loss: 0.2125 - d2_loss: 0.2188 - g_loss: 3.0131\n"
          ]
        },
        {
          "output_type": "stream",
          "name": "stderr",
          "text": [
            "WARNING:tensorflow:Compiled the loaded model, but the compiled metrics have yet to be built. `model.compile_metrics` will be empty until you train or evaluate the model.\n",
            "WARNING:tensorflow:Compiled the loaded model, but the compiled metrics have yet to be built. `model.compile_metrics` will be empty until you train or evaluate the model.\n"
          ]
        },
        {
          "output_type": "stream",
          "name": "stdout",
          "text": [
            "1/1 [==============================] - 0s 17ms/step\n",
            "********** TRAINING THE GAN **********\n",
            "7/7 [==============================] - 3s 424ms/step - d1_loss: 0.2098 - d2_loss: 0.2130 - g_loss: 3.0900\n"
          ]
        },
        {
          "output_type": "stream",
          "name": "stderr",
          "text": [
            "WARNING:tensorflow:Compiled the loaded model, but the compiled metrics have yet to be built. `model.compile_metrics` will be empty until you train or evaluate the model.\n",
            "WARNING:tensorflow:Compiled the loaded model, but the compiled metrics have yet to be built. `model.compile_metrics` will be empty until you train or evaluate the model.\n"
          ]
        },
        {
          "output_type": "stream",
          "name": "stdout",
          "text": [
            "1/1 [==============================] - 0s 17ms/step\n",
            "********** TRAINING THE GAN **********\n",
            "7/7 [==============================] - 3s 422ms/step - d1_loss: 0.2098 - d2_loss: 0.2118 - g_loss: 3.0555\n"
          ]
        },
        {
          "output_type": "stream",
          "name": "stderr",
          "text": [
            "WARNING:tensorflow:Compiled the loaded model, but the compiled metrics have yet to be built. `model.compile_metrics` will be empty until you train or evaluate the model.\n",
            "WARNING:tensorflow:Compiled the loaded model, but the compiled metrics have yet to be built. `model.compile_metrics` will be empty until you train or evaluate the model.\n"
          ]
        },
        {
          "output_type": "stream",
          "name": "stdout",
          "text": [
            "1/1 [==============================] - 0s 20ms/step\n",
            "********** TRAINING THE GAN **********\n",
            "7/7 [==============================] - 3s 415ms/step - d1_loss: 0.2147 - d2_loss: 0.2146 - g_loss: 3.0692\n"
          ]
        },
        {
          "output_type": "stream",
          "name": "stderr",
          "text": [
            "WARNING:tensorflow:Compiled the loaded model, but the compiled metrics have yet to be built. `model.compile_metrics` will be empty until you train or evaluate the model.\n",
            "WARNING:tensorflow:Compiled the loaded model, but the compiled metrics have yet to be built. `model.compile_metrics` will be empty until you train or evaluate the model.\n"
          ]
        },
        {
          "output_type": "stream",
          "name": "stdout",
          "text": [
            "1/1 [==============================] - 0s 20ms/step\n",
            "********** TRAINING THE GAN **********\n",
            "7/7 [==============================] - 3s 419ms/step - d1_loss: 0.2173 - d2_loss: 0.2148 - g_loss: 2.9999\n"
          ]
        },
        {
          "output_type": "stream",
          "name": "stderr",
          "text": [
            "WARNING:tensorflow:Compiled the loaded model, but the compiled metrics have yet to be built. `model.compile_metrics` will be empty until you train or evaluate the model.\n",
            "WARNING:tensorflow:Compiled the loaded model, but the compiled metrics have yet to be built. `model.compile_metrics` will be empty until you train or evaluate the model.\n"
          ]
        },
        {
          "output_type": "stream",
          "name": "stdout",
          "text": [
            "1/1 [==============================] - 0s 20ms/step\n",
            "********** TRAINING THE GAN **********\n",
            "7/7 [==============================] - 3s 418ms/step - d1_loss: 0.2143 - d2_loss: 0.2126 - g_loss: 3.0014\n"
          ]
        },
        {
          "output_type": "stream",
          "name": "stderr",
          "text": [
            "WARNING:tensorflow:Compiled the loaded model, but the compiled metrics have yet to be built. `model.compile_metrics` will be empty until you train or evaluate the model.\n",
            "WARNING:tensorflow:Compiled the loaded model, but the compiled metrics have yet to be built. `model.compile_metrics` will be empty until you train or evaluate the model.\n"
          ]
        },
        {
          "output_type": "stream",
          "name": "stdout",
          "text": [
            "1/1 [==============================] - 0s 20ms/step\n",
            "********** TRAINING THE GAN **********\n",
            "7/7 [==============================] - 3s 416ms/step - d1_loss: 0.2124 - d2_loss: 0.2150 - g_loss: 3.0739\n"
          ]
        },
        {
          "output_type": "stream",
          "name": "stderr",
          "text": [
            "WARNING:tensorflow:Compiled the loaded model, but the compiled metrics have yet to be built. `model.compile_metrics` will be empty until you train or evaluate the model.\n",
            "WARNING:tensorflow:Compiled the loaded model, but the compiled metrics have yet to be built. `model.compile_metrics` will be empty until you train or evaluate the model.\n"
          ]
        },
        {
          "output_type": "stream",
          "name": "stdout",
          "text": [
            "1/1 [==============================] - 0s 18ms/step\n",
            "********** TRAINING THE GAN **********\n",
            "7/7 [==============================] - 3s 416ms/step - d1_loss: 0.2127 - d2_loss: 0.2136 - g_loss: 3.0432\n"
          ]
        },
        {
          "output_type": "stream",
          "name": "stderr",
          "text": [
            "WARNING:tensorflow:Compiled the loaded model, but the compiled metrics have yet to be built. `model.compile_metrics` will be empty until you train or evaluate the model.\n",
            "WARNING:tensorflow:Compiled the loaded model, but the compiled metrics have yet to be built. `model.compile_metrics` will be empty until you train or evaluate the model.\n"
          ]
        },
        {
          "output_type": "stream",
          "name": "stdout",
          "text": [
            "1/1 [==============================] - 0s 20ms/step\n",
            "********** TRAINING THE GAN **********\n",
            "7/7 [==============================] - 3s 413ms/step - d1_loss: 0.2127 - d2_loss: 0.2140 - g_loss: 2.9668\n"
          ]
        },
        {
          "output_type": "stream",
          "name": "stderr",
          "text": [
            "WARNING:tensorflow:Compiled the loaded model, but the compiled metrics have yet to be built. `model.compile_metrics` will be empty until you train or evaluate the model.\n",
            "WARNING:tensorflow:Compiled the loaded model, but the compiled metrics have yet to be built. `model.compile_metrics` will be empty until you train or evaluate the model.\n"
          ]
        },
        {
          "output_type": "stream",
          "name": "stdout",
          "text": [
            "1/1 [==============================] - 0s 26ms/step\n",
            "********** TRAINING THE GAN **********\n",
            "7/7 [==============================] - 3s 414ms/step - d1_loss: 0.2200 - d2_loss: 0.2118 - g_loss: 3.0358\n"
          ]
        },
        {
          "output_type": "stream",
          "name": "stderr",
          "text": [
            "WARNING:tensorflow:Compiled the loaded model, but the compiled metrics have yet to be built. `model.compile_metrics` will be empty until you train or evaluate the model.\n",
            "WARNING:tensorflow:Compiled the loaded model, but the compiled metrics have yet to be built. `model.compile_metrics` will be empty until you train or evaluate the model.\n"
          ]
        },
        {
          "output_type": "stream",
          "name": "stdout",
          "text": [
            "1/1 [==============================] - 0s 20ms/step\n",
            "********** TRAINING THE GAN **********\n",
            "7/7 [==============================] - 3s 413ms/step - d1_loss: 0.2276 - d2_loss: 0.2144 - g_loss: 3.1027\n"
          ]
        },
        {
          "output_type": "stream",
          "name": "stderr",
          "text": [
            "WARNING:tensorflow:Compiled the loaded model, but the compiled metrics have yet to be built. `model.compile_metrics` will be empty until you train or evaluate the model.\n",
            "WARNING:tensorflow:Compiled the loaded model, but the compiled metrics have yet to be built. `model.compile_metrics` will be empty until you train or evaluate the model.\n"
          ]
        },
        {
          "output_type": "stream",
          "name": "stdout",
          "text": [
            "1/1 [==============================] - 0s 21ms/step\n",
            "********** TRAINING THE GAN **********\n",
            "7/7 [==============================] - 3s 413ms/step - d1_loss: 0.2215 - d2_loss: 0.2168 - g_loss: 3.0662\n"
          ]
        },
        {
          "output_type": "stream",
          "name": "stderr",
          "text": [
            "WARNING:tensorflow:Compiled the loaded model, but the compiled metrics have yet to be built. `model.compile_metrics` will be empty until you train or evaluate the model.\n",
            "WARNING:tensorflow:Compiled the loaded model, but the compiled metrics have yet to be built. `model.compile_metrics` will be empty until you train or evaluate the model.\n"
          ]
        },
        {
          "output_type": "stream",
          "name": "stdout",
          "text": [
            "1/1 [==============================] - 0s 18ms/step\n",
            "********** TRAINING THE GAN **********\n",
            "7/7 [==============================] - 3s 408ms/step - d1_loss: 0.2268 - d2_loss: 0.2155 - g_loss: 3.0229\n"
          ]
        },
        {
          "output_type": "stream",
          "name": "stderr",
          "text": [
            "WARNING:tensorflow:Compiled the loaded model, but the compiled metrics have yet to be built. `model.compile_metrics` will be empty until you train or evaluate the model.\n",
            "WARNING:tensorflow:Compiled the loaded model, but the compiled metrics have yet to be built. `model.compile_metrics` will be empty until you train or evaluate the model.\n"
          ]
        },
        {
          "output_type": "stream",
          "name": "stdout",
          "text": [
            "1/1 [==============================] - 0s 17ms/step\n",
            "********** TRAINING THE GAN **********\n",
            "7/7 [==============================] - 3s 411ms/step - d1_loss: 0.2207 - d2_loss: 0.2113 - g_loss: 2.9122\n"
          ]
        },
        {
          "output_type": "stream",
          "name": "stderr",
          "text": [
            "WARNING:tensorflow:Compiled the loaded model, but the compiled metrics have yet to be built. `model.compile_metrics` will be empty until you train or evaluate the model.\n",
            "WARNING:tensorflow:Compiled the loaded model, but the compiled metrics have yet to be built. `model.compile_metrics` will be empty until you train or evaluate the model.\n"
          ]
        },
        {
          "output_type": "stream",
          "name": "stdout",
          "text": [
            "1/1 [==============================] - 0s 18ms/step\n",
            "********** TRAINING THE GAN **********\n",
            "7/7 [==============================] - 3s 410ms/step - d1_loss: 0.2168 - d2_loss: 0.2091 - g_loss: 2.9788\n"
          ]
        },
        {
          "output_type": "stream",
          "name": "stderr",
          "text": [
            "WARNING:tensorflow:Compiled the loaded model, but the compiled metrics have yet to be built. `model.compile_metrics` will be empty until you train or evaluate the model.\n",
            "WARNING:tensorflow:Compiled the loaded model, but the compiled metrics have yet to be built. `model.compile_metrics` will be empty until you train or evaluate the model.\n"
          ]
        },
        {
          "output_type": "stream",
          "name": "stdout",
          "text": [
            "1/1 [==============================] - 0s 22ms/step\n",
            "********** TRAINING THE GAN **********\n",
            "7/7 [==============================] - 3s 411ms/step - d1_loss: 0.2173 - d2_loss: 0.2151 - g_loss: 2.9503\n"
          ]
        },
        {
          "output_type": "stream",
          "name": "stderr",
          "text": [
            "WARNING:tensorflow:Compiled the loaded model, but the compiled metrics have yet to be built. `model.compile_metrics` will be empty until you train or evaluate the model.\n",
            "WARNING:tensorflow:Compiled the loaded model, but the compiled metrics have yet to be built. `model.compile_metrics` will be empty until you train or evaluate the model.\n"
          ]
        },
        {
          "output_type": "stream",
          "name": "stdout",
          "text": [
            "1/1 [==============================] - 0s 18ms/step\n",
            "********** TRAINING THE GAN **********\n",
            "7/7 [==============================] - 3s 409ms/step - d1_loss: 0.2150 - d2_loss: 0.2108 - g_loss: 2.9263\n"
          ]
        },
        {
          "output_type": "stream",
          "name": "stderr",
          "text": [
            "WARNING:tensorflow:Compiled the loaded model, but the compiled metrics have yet to be built. `model.compile_metrics` will be empty until you train or evaluate the model.\n",
            "WARNING:tensorflow:Compiled the loaded model, but the compiled metrics have yet to be built. `model.compile_metrics` will be empty until you train or evaluate the model.\n"
          ]
        },
        {
          "output_type": "stream",
          "name": "stdout",
          "text": [
            "1/1 [==============================] - 0s 17ms/step\n",
            "********** TRAINING THE GAN **********\n",
            "2/7 [=======>......................] - ETA: 2s - d1_loss: 0.2228 - d2_loss: 0.2151 - g_loss: 3.0211"
          ]
        },
        {
          "output_type": "error",
          "ename": "KeyboardInterrupt",
          "evalue": "ignored",
          "traceback": [
            "\u001b[0;31m---------------------------------------------------------------------------\u001b[0m",
            "\u001b[0;31mKeyboardInterrupt\u001b[0m                         Traceback (most recent call last)",
            "\u001b[0;32m<ipython-input-30-1948077440a8>\u001b[0m in \u001b[0;36m<module>\u001b[0;34m\u001b[0m\n\u001b[1;32m     62\u001b[0m \u001b[0;32mfor\u001b[0m \u001b[0mepoch\u001b[0m  \u001b[0;32min\u001b[0m \u001b[0mrange\u001b[0m\u001b[0;34m(\u001b[0m\u001b[0mEPOCHS\u001b[0m\u001b[0;34m)\u001b[0m\u001b[0;34m:\u001b[0m\u001b[0;34m\u001b[0m\u001b[0;34m\u001b[0m\u001b[0m\n\u001b[1;32m     63\u001b[0m   \u001b[0mprint\u001b[0m\u001b[0;34m(\u001b[0m\u001b[0;34m\"********** TRAINING THE GAN **********\"\u001b[0m\u001b[0;34m)\u001b[0m\u001b[0;34m\u001b[0m\u001b[0;34m\u001b[0m\u001b[0m\n\u001b[0;32m---> 64\u001b[0;31m   \u001b[0mgan\u001b[0m\u001b[0;34m.\u001b[0m\u001b[0mfit\u001b[0m\u001b[0;34m(\u001b[0m\u001b[0mimages_dataset\u001b[0m\u001b[0;34m,\u001b[0m \u001b[0mepochs\u001b[0m\u001b[0;34m=\u001b[0m\u001b[0;36m1\u001b[0m\u001b[0;34m)\u001b[0m\u001b[0;34m\u001b[0m\u001b[0;34m\u001b[0m\u001b[0m\n\u001b[0m\u001b[1;32m     65\u001b[0m   \u001b[0mgenerator_model\u001b[0m\u001b[0;34m.\u001b[0m\u001b[0msave\u001b[0m\u001b[0;34m(\u001b[0m\u001b[0;34m\"saved_model/generator.h5\"\u001b[0m\u001b[0;34m)\u001b[0m\u001b[0;34m\u001b[0m\u001b[0;34m\u001b[0m\u001b[0m\n\u001b[1;32m     66\u001b[0m   \u001b[0mdicriminator_model\u001b[0m\u001b[0;34m.\u001b[0m\u001b[0msave\u001b[0m\u001b[0;34m(\u001b[0m\u001b[0;34m\"saved_model/discriminator.h5\"\u001b[0m\u001b[0;34m)\u001b[0m\u001b[0;34m\u001b[0m\u001b[0;34m\u001b[0m\u001b[0m\n",
            "\u001b[0;32m/usr/local/lib/python3.7/dist-packages/keras/utils/traceback_utils.py\u001b[0m in \u001b[0;36merror_handler\u001b[0;34m(*args, **kwargs)\u001b[0m\n\u001b[1;32m     62\u001b[0m     \u001b[0mfiltered_tb\u001b[0m \u001b[0;34m=\u001b[0m \u001b[0;32mNone\u001b[0m\u001b[0;34m\u001b[0m\u001b[0;34m\u001b[0m\u001b[0m\n\u001b[1;32m     63\u001b[0m     \u001b[0;32mtry\u001b[0m\u001b[0;34m:\u001b[0m\u001b[0;34m\u001b[0m\u001b[0;34m\u001b[0m\u001b[0m\n\u001b[0;32m---> 64\u001b[0;31m       \u001b[0;32mreturn\u001b[0m \u001b[0mfn\u001b[0m\u001b[0;34m(\u001b[0m\u001b[0;34m*\u001b[0m\u001b[0margs\u001b[0m\u001b[0;34m,\u001b[0m \u001b[0;34m**\u001b[0m\u001b[0mkwargs\u001b[0m\u001b[0;34m)\u001b[0m\u001b[0;34m\u001b[0m\u001b[0;34m\u001b[0m\u001b[0m\n\u001b[0m\u001b[1;32m     65\u001b[0m     \u001b[0;32mexcept\u001b[0m \u001b[0mException\u001b[0m \u001b[0;32mas\u001b[0m \u001b[0me\u001b[0m\u001b[0;34m:\u001b[0m  \u001b[0;31m# pylint: disable=broad-except\u001b[0m\u001b[0;34m\u001b[0m\u001b[0;34m\u001b[0m\u001b[0m\n\u001b[1;32m     66\u001b[0m       \u001b[0mfiltered_tb\u001b[0m \u001b[0;34m=\u001b[0m \u001b[0m_process_traceback_frames\u001b[0m\u001b[0;34m(\u001b[0m\u001b[0me\u001b[0m\u001b[0;34m.\u001b[0m\u001b[0m__traceback__\u001b[0m\u001b[0;34m)\u001b[0m\u001b[0;34m\u001b[0m\u001b[0;34m\u001b[0m\u001b[0m\n",
            "\u001b[0;32m/usr/local/lib/python3.7/dist-packages/keras/engine/training.py\u001b[0m in \u001b[0;36mfit\u001b[0;34m(self, x, y, batch_size, epochs, verbose, callbacks, validation_split, validation_data, shuffle, class_weight, sample_weight, initial_epoch, steps_per_epoch, validation_steps, validation_batch_size, validation_freq, max_queue_size, workers, use_multiprocessing)\u001b[0m\n\u001b[1;32m   1407\u001b[0m                 _r=1):\n\u001b[1;32m   1408\u001b[0m               \u001b[0mcallbacks\u001b[0m\u001b[0;34m.\u001b[0m\u001b[0mon_train_batch_begin\u001b[0m\u001b[0;34m(\u001b[0m\u001b[0mstep\u001b[0m\u001b[0;34m)\u001b[0m\u001b[0;34m\u001b[0m\u001b[0;34m\u001b[0m\u001b[0m\n\u001b[0;32m-> 1409\u001b[0;31m               \u001b[0mtmp_logs\u001b[0m \u001b[0;34m=\u001b[0m \u001b[0mself\u001b[0m\u001b[0;34m.\u001b[0m\u001b[0mtrain_function\u001b[0m\u001b[0;34m(\u001b[0m\u001b[0miterator\u001b[0m\u001b[0;34m)\u001b[0m\u001b[0;34m\u001b[0m\u001b[0;34m\u001b[0m\u001b[0m\n\u001b[0m\u001b[1;32m   1410\u001b[0m               \u001b[0;32mif\u001b[0m \u001b[0mdata_handler\u001b[0m\u001b[0;34m.\u001b[0m\u001b[0mshould_sync\u001b[0m\u001b[0;34m:\u001b[0m\u001b[0;34m\u001b[0m\u001b[0;34m\u001b[0m\u001b[0m\n\u001b[1;32m   1411\u001b[0m                 \u001b[0mcontext\u001b[0m\u001b[0;34m.\u001b[0m\u001b[0masync_wait\u001b[0m\u001b[0;34m(\u001b[0m\u001b[0;34m)\u001b[0m\u001b[0;34m\u001b[0m\u001b[0;34m\u001b[0m\u001b[0m\n",
            "\u001b[0;32m/usr/local/lib/python3.7/dist-packages/tensorflow/python/util/traceback_utils.py\u001b[0m in \u001b[0;36merror_handler\u001b[0;34m(*args, **kwargs)\u001b[0m\n\u001b[1;32m    148\u001b[0m     \u001b[0mfiltered_tb\u001b[0m \u001b[0;34m=\u001b[0m \u001b[0;32mNone\u001b[0m\u001b[0;34m\u001b[0m\u001b[0;34m\u001b[0m\u001b[0m\n\u001b[1;32m    149\u001b[0m     \u001b[0;32mtry\u001b[0m\u001b[0;34m:\u001b[0m\u001b[0;34m\u001b[0m\u001b[0;34m\u001b[0m\u001b[0m\n\u001b[0;32m--> 150\u001b[0;31m       \u001b[0;32mreturn\u001b[0m \u001b[0mfn\u001b[0m\u001b[0;34m(\u001b[0m\u001b[0;34m*\u001b[0m\u001b[0margs\u001b[0m\u001b[0;34m,\u001b[0m \u001b[0;34m**\u001b[0m\u001b[0mkwargs\u001b[0m\u001b[0;34m)\u001b[0m\u001b[0;34m\u001b[0m\u001b[0;34m\u001b[0m\u001b[0m\n\u001b[0m\u001b[1;32m    151\u001b[0m     \u001b[0;32mexcept\u001b[0m \u001b[0mException\u001b[0m \u001b[0;32mas\u001b[0m \u001b[0me\u001b[0m\u001b[0;34m:\u001b[0m\u001b[0;34m\u001b[0m\u001b[0;34m\u001b[0m\u001b[0m\n\u001b[1;32m    152\u001b[0m       \u001b[0mfiltered_tb\u001b[0m \u001b[0;34m=\u001b[0m \u001b[0m_process_traceback_frames\u001b[0m\u001b[0;34m(\u001b[0m\u001b[0me\u001b[0m\u001b[0;34m.\u001b[0m\u001b[0m__traceback__\u001b[0m\u001b[0;34m)\u001b[0m\u001b[0;34m\u001b[0m\u001b[0;34m\u001b[0m\u001b[0m\n",
            "\u001b[0;32m/usr/local/lib/python3.7/dist-packages/tensorflow/python/eager/def_function.py\u001b[0m in \u001b[0;36m__call__\u001b[0;34m(self, *args, **kwds)\u001b[0m\n\u001b[1;32m    913\u001b[0m \u001b[0;34m\u001b[0m\u001b[0m\n\u001b[1;32m    914\u001b[0m       \u001b[0;32mwith\u001b[0m \u001b[0mOptionalXlaContext\u001b[0m\u001b[0;34m(\u001b[0m\u001b[0mself\u001b[0m\u001b[0;34m.\u001b[0m\u001b[0m_jit_compile\u001b[0m\u001b[0;34m)\u001b[0m\u001b[0;34m:\u001b[0m\u001b[0;34m\u001b[0m\u001b[0;34m\u001b[0m\u001b[0m\n\u001b[0;32m--> 915\u001b[0;31m         \u001b[0mresult\u001b[0m \u001b[0;34m=\u001b[0m \u001b[0mself\u001b[0m\u001b[0;34m.\u001b[0m\u001b[0m_call\u001b[0m\u001b[0;34m(\u001b[0m\u001b[0;34m*\u001b[0m\u001b[0margs\u001b[0m\u001b[0;34m,\u001b[0m \u001b[0;34m**\u001b[0m\u001b[0mkwds\u001b[0m\u001b[0;34m)\u001b[0m\u001b[0;34m\u001b[0m\u001b[0;34m\u001b[0m\u001b[0m\n\u001b[0m\u001b[1;32m    916\u001b[0m \u001b[0;34m\u001b[0m\u001b[0m\n\u001b[1;32m    917\u001b[0m       \u001b[0mnew_tracing_count\u001b[0m \u001b[0;34m=\u001b[0m \u001b[0mself\u001b[0m\u001b[0;34m.\u001b[0m\u001b[0mexperimental_get_tracing_count\u001b[0m\u001b[0;34m(\u001b[0m\u001b[0;34m)\u001b[0m\u001b[0;34m\u001b[0m\u001b[0;34m\u001b[0m\u001b[0m\n",
            "\u001b[0;32m/usr/local/lib/python3.7/dist-packages/tensorflow/python/eager/def_function.py\u001b[0m in \u001b[0;36m_call\u001b[0;34m(self, *args, **kwds)\u001b[0m\n\u001b[1;32m    945\u001b[0m       \u001b[0;31m# In this case we have created variables on the first call, so we run the\u001b[0m\u001b[0;34m\u001b[0m\u001b[0;34m\u001b[0m\u001b[0;34m\u001b[0m\u001b[0m\n\u001b[1;32m    946\u001b[0m       \u001b[0;31m# defunned version which is guaranteed to never create variables.\u001b[0m\u001b[0;34m\u001b[0m\u001b[0;34m\u001b[0m\u001b[0;34m\u001b[0m\u001b[0m\n\u001b[0;32m--> 947\u001b[0;31m       \u001b[0;32mreturn\u001b[0m \u001b[0mself\u001b[0m\u001b[0;34m.\u001b[0m\u001b[0m_stateless_fn\u001b[0m\u001b[0;34m(\u001b[0m\u001b[0;34m*\u001b[0m\u001b[0margs\u001b[0m\u001b[0;34m,\u001b[0m \u001b[0;34m**\u001b[0m\u001b[0mkwds\u001b[0m\u001b[0;34m)\u001b[0m  \u001b[0;31m# pylint: disable=not-callable\u001b[0m\u001b[0;34m\u001b[0m\u001b[0;34m\u001b[0m\u001b[0m\n\u001b[0m\u001b[1;32m    948\u001b[0m     \u001b[0;32melif\u001b[0m \u001b[0mself\u001b[0m\u001b[0;34m.\u001b[0m\u001b[0m_stateful_fn\u001b[0m \u001b[0;32mis\u001b[0m \u001b[0;32mnot\u001b[0m \u001b[0;32mNone\u001b[0m\u001b[0;34m:\u001b[0m\u001b[0;34m\u001b[0m\u001b[0;34m\u001b[0m\u001b[0m\n\u001b[1;32m    949\u001b[0m       \u001b[0;31m# Release the lock early so that multiple threads can perform the call\u001b[0m\u001b[0;34m\u001b[0m\u001b[0;34m\u001b[0m\u001b[0;34m\u001b[0m\u001b[0m\n",
            "\u001b[0;32m/usr/local/lib/python3.7/dist-packages/tensorflow/python/eager/function.py\u001b[0m in \u001b[0;36m__call__\u001b[0;34m(self, *args, **kwargs)\u001b[0m\n\u001b[1;32m   2452\u001b[0m        filtered_flat_args) = self._maybe_define_function(args, kwargs)\n\u001b[1;32m   2453\u001b[0m     return graph_function._call_flat(\n\u001b[0;32m-> 2454\u001b[0;31m         filtered_flat_args, captured_inputs=graph_function.captured_inputs)  # pylint: disable=protected-access\n\u001b[0m\u001b[1;32m   2455\u001b[0m \u001b[0;34m\u001b[0m\u001b[0m\n\u001b[1;32m   2456\u001b[0m   \u001b[0;34m@\u001b[0m\u001b[0mproperty\u001b[0m\u001b[0;34m\u001b[0m\u001b[0;34m\u001b[0m\u001b[0m\n",
            "\u001b[0;32m/usr/local/lib/python3.7/dist-packages/tensorflow/python/eager/function.py\u001b[0m in \u001b[0;36m_call_flat\u001b[0;34m(self, args, captured_inputs, cancellation_manager)\u001b[0m\n\u001b[1;32m   1859\u001b[0m       \u001b[0;31m# No tape is watching; skip to running the function.\u001b[0m\u001b[0;34m\u001b[0m\u001b[0;34m\u001b[0m\u001b[0;34m\u001b[0m\u001b[0m\n\u001b[1;32m   1860\u001b[0m       return self._build_call_outputs(self._inference_function.call(\n\u001b[0;32m-> 1861\u001b[0;31m           ctx, args, cancellation_manager=cancellation_manager))\n\u001b[0m\u001b[1;32m   1862\u001b[0m     forward_backward = self._select_forward_and_backward_functions(\n\u001b[1;32m   1863\u001b[0m         \u001b[0margs\u001b[0m\u001b[0;34m,\u001b[0m\u001b[0;34m\u001b[0m\u001b[0;34m\u001b[0m\u001b[0m\n",
            "\u001b[0;32m/usr/local/lib/python3.7/dist-packages/tensorflow/python/eager/function.py\u001b[0m in \u001b[0;36mcall\u001b[0;34m(self, ctx, args, cancellation_manager)\u001b[0m\n\u001b[1;32m    500\u001b[0m               \u001b[0minputs\u001b[0m\u001b[0;34m=\u001b[0m\u001b[0margs\u001b[0m\u001b[0;34m,\u001b[0m\u001b[0;34m\u001b[0m\u001b[0;34m\u001b[0m\u001b[0m\n\u001b[1;32m    501\u001b[0m               \u001b[0mattrs\u001b[0m\u001b[0;34m=\u001b[0m\u001b[0mattrs\u001b[0m\u001b[0;34m,\u001b[0m\u001b[0;34m\u001b[0m\u001b[0;34m\u001b[0m\u001b[0m\n\u001b[0;32m--> 502\u001b[0;31m               ctx=ctx)\n\u001b[0m\u001b[1;32m    503\u001b[0m         \u001b[0;32melse\u001b[0m\u001b[0;34m:\u001b[0m\u001b[0;34m\u001b[0m\u001b[0;34m\u001b[0m\u001b[0m\n\u001b[1;32m    504\u001b[0m           outputs = execute.execute_with_cancellation(\n",
            "\u001b[0;32m/usr/local/lib/python3.7/dist-packages/tensorflow/python/eager/execute.py\u001b[0m in \u001b[0;36mquick_execute\u001b[0;34m(op_name, num_outputs, inputs, attrs, ctx, name)\u001b[0m\n\u001b[1;32m     53\u001b[0m     \u001b[0mctx\u001b[0m\u001b[0;34m.\u001b[0m\u001b[0mensure_initialized\u001b[0m\u001b[0;34m(\u001b[0m\u001b[0;34m)\u001b[0m\u001b[0;34m\u001b[0m\u001b[0;34m\u001b[0m\u001b[0m\n\u001b[1;32m     54\u001b[0m     tensors = pywrap_tfe.TFE_Py_Execute(ctx._handle, device_name, op_name,\n\u001b[0;32m---> 55\u001b[0;31m                                         inputs, attrs, num_outputs)\n\u001b[0m\u001b[1;32m     56\u001b[0m   \u001b[0;32mexcept\u001b[0m \u001b[0mcore\u001b[0m\u001b[0;34m.\u001b[0m\u001b[0m_NotOkStatusException\u001b[0m \u001b[0;32mas\u001b[0m \u001b[0me\u001b[0m\u001b[0;34m:\u001b[0m\u001b[0;34m\u001b[0m\u001b[0;34m\u001b[0m\u001b[0m\n\u001b[1;32m     57\u001b[0m     \u001b[0;32mif\u001b[0m \u001b[0mname\u001b[0m \u001b[0;32mis\u001b[0m \u001b[0;32mnot\u001b[0m \u001b[0;32mNone\u001b[0m\u001b[0;34m:\u001b[0m\u001b[0;34m\u001b[0m\u001b[0;34m\u001b[0m\u001b[0m\n",
            "\u001b[0;31mKeyboardInterrupt\u001b[0m: "
          ]
        }
      ]
    },
    {
      "cell_type": "markdown",
      "source": [],
      "metadata": {
        "id": "8j46ttREEgj9"
      }
    }
  ]
}